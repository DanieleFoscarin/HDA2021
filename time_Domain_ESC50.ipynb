{
  "nbformat": 4,
  "nbformat_minor": 0,
  "metadata": {
    "colab": {
      "name": "time-Domain_ESC50",
      "provenance": [],
      "authorship_tag": "ABX9TyOyIVYhquS0OQeJpFP2i5cp",
      "include_colab_link": true
    },
    "kernelspec": {
      "name": "python3",
      "display_name": "Python 3"
    },
    "language_info": {
      "name": "python"
    }
  },
  "cells": [
    {
      "cell_type": "markdown",
      "metadata": {
        "id": "view-in-github",
        "colab_type": "text"
      },
      "source": [
        "<a href=\"https://colab.research.google.com/github/DanieleFoscarin/HDA2021/blob/main/time_Domain_ESC50.ipynb\" target=\"_parent\"><img src=\"https://colab.research.google.com/assets/colab-badge.svg\" alt=\"Open In Colab\"/></a>"
      ]
    },
    {
      "cell_type": "markdown",
      "metadata": {
        "id": "zAVG6h_GzS5x"
      },
      "source": [
        "* implement silence removal tool\n",
        "* understand mixup procedure\n",
        "* copy architecture from paper\n",
        "* understand width multiplier\n",
        "* how to implement sparsity training?\n",
        "* overlap between segments?\n",
        "\n",
        "profit"
      ]
    },
    {
      "cell_type": "code",
      "metadata": {
        "id": "BQjGUZ3UzM3J"
      },
      "source": [
        "from pathlib import Path\n",
        "from scipy.io import wavfile\n",
        "from IPython.display import Audio\n",
        "import pandas as pd\n",
        "import numpy as np\n",
        "from matplotlib import pyplot as plt \n",
        "import librosa\n",
        "from tqdm import tqdm, tqdm_notebook, notebook\n",
        "import gc\n",
        "import time \n",
        "import numba\n",
        "\n",
        "\n",
        "import tensorflow as tf\n",
        "from tensorflow.keras import layers\n",
        "from tensorflow.keras.utils import Sequence, SequenceEnqueuer   # try enquerer that uses parallelism\n",
        "from tensorflow import keras\n",
        "from tensorflow.keras.layers import BatchNormalization\n",
        "\n",
        "#import model \n",
        "from tensorflow.keras.applications.mobilenet_v2 import MobileNetV2"
      ],
      "execution_count": null,
      "outputs": []
    },
    {
      "cell_type": "code",
      "metadata": {
        "id": "0zf0Pq0N0WGp"
      },
      "source": [
        "!pip install livelossplot --quiet\n",
        "from livelossplot import PlotLossesKeras"
      ],
      "execution_count": null,
      "outputs": []
    },
    {
      "cell_type": "code",
      "metadata": {
        "id": "JgZZxGBj0YM_"
      },
      "source": [
        "! pip install optuna --quiet\n",
        "import optuna"
      ],
      "execution_count": null,
      "outputs": []
    },
    {
      "cell_type": "code",
      "metadata": {
        "id": "os9gS_6l0dKn"
      },
      "source": [
        ""
      ],
      "execution_count": null,
      "outputs": []
    },
    {
      "cell_type": "markdown",
      "metadata": {
        "id": "ej2eN-L_p4Nt"
      },
      "source": [
        "# Get Dataset"
      ]
    },
    {
      "cell_type": "code",
      "metadata": {
        "colab": {
          "base_uri": "https://localhost:8080/"
        },
        "id": "2sYgxpk9k3J-",
        "outputId": "4774f230-653f-406a-90e0-970dd70f49a3"
      },
      "source": [
        "# Clone the entire repo.\n",
        "!git clone https://github.com/karolpiczak/ESC-50.git\n"
      ],
      "execution_count": null,
      "outputs": [
        {
          "output_type": "stream",
          "text": [
            "Cloning into 'ESC-50'...\n",
            "remote: Enumerating objects: 4154, done.\u001b[K\n",
            "remote: Counting objects: 100% (18/18), done.\u001b[K\n",
            "remote: Compressing objects: 100% (18/18), done.\u001b[K\n",
            "remote: Total 4154 (delta 10), reused 0 (delta 0), pack-reused 4136\u001b[K\n",
            "Receiving objects: 100% (4154/4154), 878.78 MiB | 38.71 MiB/s, done.\n",
            "Resolving deltas: 100% (257/257), done.\n",
            "Checking out files: 100% (2011/2011), done.\n"
          ],
          "name": "stdout"
        }
      ]
    },
    {
      "cell_type": "code",
      "metadata": {
        "colab": {
          "base_uri": "https://localhost:8080/"
        },
        "id": "DIJgjnjhqbbl",
        "outputId": "8e29db41-bbb6-41cb-a2a6-bb8bb540a22a"
      },
      "source": [
        "ROOT = '/content/ESC-50/audio'\n",
        "\n",
        "audio_list = []\n",
        "for audio in Path(ROOT).iterdir():\n",
        "    try:\n",
        "        sr, this_sound = wavfile.read(audio)\n",
        "        audio_list.append(this_sound/32768)     #put in [-1,+1]\n",
        "    except:\n",
        "        print('cannot read ', str(audio))\n",
        "\n",
        "print(len(audio_list))\n",
        "\n",
        "print(np.shape(audio))\n",
        "# audio_arr = np.array(audio_list)\n",
        "# print(np.max(audio_arr), np.min(audio_arr))\n",
        "#need normalization? insiede Sequence\n",
        "\n"
      ],
      "execution_count": null,
      "outputs": [
        {
          "output_type": "stream",
          "text": [
            "2000\n",
            "()\n"
          ],
          "name": "stdout"
        }
      ]
    },
    {
      "cell_type": "code",
      "metadata": {
        "colab": {
          "base_uri": "https://localhost:8080/",
          "height": 456
        },
        "id": "TKGGth680BLt",
        "outputId": "e876e17e-ad96-4e9e-e0fd-336aab3da29b"
      },
      "source": [
        "data_info = pd.read_csv(\"/content/ESC-50/meta/esc50.csv\")\n",
        "category_dict = dict(zip(data_info['target'], data_info['category']))\n",
        "print(category_dict)\n",
        "data_info"
      ],
      "execution_count": null,
      "outputs": [
        {
          "output_type": "stream",
          "text": [
            "{0: 'dog', 14: 'chirping_birds', 36: 'vacuum_cleaner', 19: 'thunderstorm', 30: 'door_wood_knock', 34: 'can_opening', 9: 'crow', 22: 'clapping', 48: 'fireworks', 41: 'chainsaw', 47: 'airplane', 31: 'mouse_click', 17: 'pouring_water', 45: 'train', 8: 'sheep', 15: 'water_drops', 46: 'church_bells', 37: 'clock_alarm', 32: 'keyboard_typing', 16: 'wind', 25: 'footsteps', 4: 'frog', 3: 'cow', 27: 'brushing_teeth', 43: 'car_horn', 12: 'crackling_fire', 40: 'helicopter', 29: 'drinking_sipping', 10: 'rain', 7: 'insects', 26: 'laughing', 6: 'hen', 44: 'engine', 23: 'breathing', 20: 'crying_baby', 49: 'hand_saw', 24: 'coughing', 39: 'glass_breaking', 28: 'snoring', 18: 'toilet_flush', 2: 'pig', 35: 'washing_machine', 38: 'clock_tick', 21: 'sneezing', 1: 'rooster', 11: 'sea_waves', 42: 'siren', 5: 'cat', 33: 'door_wood_creaks', 13: 'crickets'}\n"
          ],
          "name": "stdout"
        },
        {
          "output_type": "execute_result",
          "data": {
            "text/html": [
              "<div>\n",
              "<style scoped>\n",
              "    .dataframe tbody tr th:only-of-type {\n",
              "        vertical-align: middle;\n",
              "    }\n",
              "\n",
              "    .dataframe tbody tr th {\n",
              "        vertical-align: top;\n",
              "    }\n",
              "\n",
              "    .dataframe thead th {\n",
              "        text-align: right;\n",
              "    }\n",
              "</style>\n",
              "<table border=\"1\" class=\"dataframe\">\n",
              "  <thead>\n",
              "    <tr style=\"text-align: right;\">\n",
              "      <th></th>\n",
              "      <th>filename</th>\n",
              "      <th>fold</th>\n",
              "      <th>target</th>\n",
              "      <th>category</th>\n",
              "      <th>esc10</th>\n",
              "      <th>src_file</th>\n",
              "      <th>take</th>\n",
              "    </tr>\n",
              "  </thead>\n",
              "  <tbody>\n",
              "    <tr>\n",
              "      <th>0</th>\n",
              "      <td>1-100032-A-0.wav</td>\n",
              "      <td>1</td>\n",
              "      <td>0</td>\n",
              "      <td>dog</td>\n",
              "      <td>True</td>\n",
              "      <td>100032</td>\n",
              "      <td>A</td>\n",
              "    </tr>\n",
              "    <tr>\n",
              "      <th>1</th>\n",
              "      <td>1-100038-A-14.wav</td>\n",
              "      <td>1</td>\n",
              "      <td>14</td>\n",
              "      <td>chirping_birds</td>\n",
              "      <td>False</td>\n",
              "      <td>100038</td>\n",
              "      <td>A</td>\n",
              "    </tr>\n",
              "    <tr>\n",
              "      <th>2</th>\n",
              "      <td>1-100210-A-36.wav</td>\n",
              "      <td>1</td>\n",
              "      <td>36</td>\n",
              "      <td>vacuum_cleaner</td>\n",
              "      <td>False</td>\n",
              "      <td>100210</td>\n",
              "      <td>A</td>\n",
              "    </tr>\n",
              "    <tr>\n",
              "      <th>3</th>\n",
              "      <td>1-100210-B-36.wav</td>\n",
              "      <td>1</td>\n",
              "      <td>36</td>\n",
              "      <td>vacuum_cleaner</td>\n",
              "      <td>False</td>\n",
              "      <td>100210</td>\n",
              "      <td>B</td>\n",
              "    </tr>\n",
              "    <tr>\n",
              "      <th>4</th>\n",
              "      <td>1-101296-A-19.wav</td>\n",
              "      <td>1</td>\n",
              "      <td>19</td>\n",
              "      <td>thunderstorm</td>\n",
              "      <td>False</td>\n",
              "      <td>101296</td>\n",
              "      <td>A</td>\n",
              "    </tr>\n",
              "    <tr>\n",
              "      <th>...</th>\n",
              "      <td>...</td>\n",
              "      <td>...</td>\n",
              "      <td>...</td>\n",
              "      <td>...</td>\n",
              "      <td>...</td>\n",
              "      <td>...</td>\n",
              "      <td>...</td>\n",
              "    </tr>\n",
              "    <tr>\n",
              "      <th>1995</th>\n",
              "      <td>5-263831-B-6.wav</td>\n",
              "      <td>5</td>\n",
              "      <td>6</td>\n",
              "      <td>hen</td>\n",
              "      <td>False</td>\n",
              "      <td>263831</td>\n",
              "      <td>B</td>\n",
              "    </tr>\n",
              "    <tr>\n",
              "      <th>1996</th>\n",
              "      <td>5-263902-A-36.wav</td>\n",
              "      <td>5</td>\n",
              "      <td>36</td>\n",
              "      <td>vacuum_cleaner</td>\n",
              "      <td>False</td>\n",
              "      <td>263902</td>\n",
              "      <td>A</td>\n",
              "    </tr>\n",
              "    <tr>\n",
              "      <th>1997</th>\n",
              "      <td>5-51149-A-25.wav</td>\n",
              "      <td>5</td>\n",
              "      <td>25</td>\n",
              "      <td>footsteps</td>\n",
              "      <td>False</td>\n",
              "      <td>51149</td>\n",
              "      <td>A</td>\n",
              "    </tr>\n",
              "    <tr>\n",
              "      <th>1998</th>\n",
              "      <td>5-61635-A-8.wav</td>\n",
              "      <td>5</td>\n",
              "      <td>8</td>\n",
              "      <td>sheep</td>\n",
              "      <td>False</td>\n",
              "      <td>61635</td>\n",
              "      <td>A</td>\n",
              "    </tr>\n",
              "    <tr>\n",
              "      <th>1999</th>\n",
              "      <td>5-9032-A-0.wav</td>\n",
              "      <td>5</td>\n",
              "      <td>0</td>\n",
              "      <td>dog</td>\n",
              "      <td>True</td>\n",
              "      <td>9032</td>\n",
              "      <td>A</td>\n",
              "    </tr>\n",
              "  </tbody>\n",
              "</table>\n",
              "<p>2000 rows × 7 columns</p>\n",
              "</div>"
            ],
            "text/plain": [
              "               filename  fold  target        category  esc10  src_file take\n",
              "0      1-100032-A-0.wav     1       0             dog   True    100032    A\n",
              "1     1-100038-A-14.wav     1      14  chirping_birds  False    100038    A\n",
              "2     1-100210-A-36.wav     1      36  vacuum_cleaner  False    100210    A\n",
              "3     1-100210-B-36.wav     1      36  vacuum_cleaner  False    100210    B\n",
              "4     1-101296-A-19.wav     1      19    thunderstorm  False    101296    A\n",
              "...                 ...   ...     ...             ...    ...       ...  ...\n",
              "1995   5-263831-B-6.wav     5       6             hen  False    263831    B\n",
              "1996  5-263902-A-36.wav     5      36  vacuum_cleaner  False    263902    A\n",
              "1997   5-51149-A-25.wav     5      25       footsteps  False     51149    A\n",
              "1998    5-61635-A-8.wav     5       8           sheep  False     61635    A\n",
              "1999     5-9032-A-0.wav     5       0             dog   True      9032    A\n",
              "\n",
              "[2000 rows x 7 columns]"
            ]
          },
          "metadata": {
            "tags": []
          },
          "execution_count": 5
        }
      ]
    },
    {
      "cell_type": "code",
      "metadata": {
        "id": "k10pAmlMz-TG"
      },
      "source": [
        "# colnames = ['filename','fold','target','category','esc10','src_file','take']\n",
        "# csv = pd.read_csv('/content/ESC-50/meta/esc50.csv', header=0)\n",
        "# label_list = csv.target.tolist()\n",
        "# fold_list = csv.fold.tolist()\n",
        "# category_list = csv.category.tolist()\n",
        "# name_list = csv.filename.tolist()\n",
        "\n",
        "# print(label_list)\n",
        "# print(fold_list)\n",
        "\n",
        "# label = np.float32(np.array(label_list))\n",
        "# fold = np.float32(np.array(fold_list))\n",
        "# class_dict = dict(zip(label_list, category_list))\n",
        "\n",
        "# print(class_dict)"
      ],
      "execution_count": null,
      "outputs": []
    },
    {
      "cell_type": "code",
      "metadata": {
        "id": "cGj55efIwE9n",
        "colab": {
          "base_uri": "https://localhost:8080/"
        },
        "outputId": "e8a70b0c-7d74-407d-d9d3-3d5a456b0a5b"
      },
      "source": [
        "print(audio_list[0])"
      ],
      "execution_count": null,
      "outputs": [
        {
          "output_type": "stream",
          "text": [
            "[-0.01263428 -0.00698853 -0.00015259 ...  0.03915405  0.03967285\n",
            "  0.03961182]\n"
          ],
          "name": "stdout"
        }
      ]
    }
  ]
}