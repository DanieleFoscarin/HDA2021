{
  "nbformat": 4,
  "nbformat_minor": 0,
  "metadata": {
    "colab": {
      "name": "Remake ESC50 classifier.ipynb",
      "provenance": [],
      "mount_file_id": "https://github.com/DanieleFoscarin/HDA2021/blob/yamnet/Remake_ESC50_classifier.ipynb",
      "authorship_tag": "ABX9TyOjAU7hSELMCvU+MiTNBwnt",
      "include_colab_link": true
    },
    "kernelspec": {
      "name": "python3",
      "display_name": "Python 3"
    },
    "accelerator": "GPU",
    "widgets": {
      "application/vnd.jupyter.widget-state+json": {
        "da7438fd84ed44668e52c0367597481a": {
          "model_module": "@jupyter-widgets/controls",
          "model_name": "HBoxModel",
          "state": {
            "_view_name": "HBoxView",
            "_dom_classes": [],
            "_model_name": "HBoxModel",
            "_view_module": "@jupyter-widgets/controls",
            "_model_module_version": "1.5.0",
            "_view_count": null,
            "_view_module_version": "1.5.0",
            "box_style": "",
            "layout": "IPY_MODEL_751c15c7e08b42108b078bfc77fbcfb7",
            "_model_module": "@jupyter-widgets/controls",
            "children": [
              "IPY_MODEL_877c33bc3a9043e5a8d35cde5672d2c5",
              "IPY_MODEL_cf2f33c06936407f8565532862a2a0d1"
            ]
          }
        },
        "751c15c7e08b42108b078bfc77fbcfb7": {
          "model_module": "@jupyter-widgets/base",
          "model_name": "LayoutModel",
          "state": {
            "_view_name": "LayoutView",
            "grid_template_rows": null,
            "right": null,
            "justify_content": null,
            "_view_module": "@jupyter-widgets/base",
            "overflow": null,
            "_model_module_version": "1.2.0",
            "_view_count": null,
            "flex_flow": null,
            "width": null,
            "min_width": null,
            "border": null,
            "align_items": null,
            "bottom": null,
            "_model_module": "@jupyter-widgets/base",
            "top": null,
            "grid_column": null,
            "overflow_y": null,
            "overflow_x": null,
            "grid_auto_flow": null,
            "grid_area": null,
            "grid_template_columns": null,
            "flex": null,
            "_model_name": "LayoutModel",
            "justify_items": null,
            "grid_row": null,
            "max_height": null,
            "align_content": null,
            "visibility": null,
            "align_self": null,
            "height": null,
            "min_height": null,
            "padding": null,
            "grid_auto_rows": null,
            "grid_gap": null,
            "max_width": null,
            "order": null,
            "_view_module_version": "1.2.0",
            "grid_template_areas": null,
            "object_position": null,
            "object_fit": null,
            "grid_auto_columns": null,
            "margin": null,
            "display": null,
            "left": null
          }
        },
        "877c33bc3a9043e5a8d35cde5672d2c5": {
          "model_module": "@jupyter-widgets/controls",
          "model_name": "FloatProgressModel",
          "state": {
            "_view_name": "ProgressView",
            "style": "IPY_MODEL_36605cd49c0a4c789b42637df8507638",
            "_dom_classes": [],
            "description": "100%",
            "_model_name": "FloatProgressModel",
            "bar_style": "success",
            "max": 2000,
            "_view_module": "@jupyter-widgets/controls",
            "_model_module_version": "1.5.0",
            "value": 2000,
            "_view_count": null,
            "_view_module_version": "1.5.0",
            "orientation": "horizontal",
            "min": 0,
            "description_tooltip": null,
            "_model_module": "@jupyter-widgets/controls",
            "layout": "IPY_MODEL_aa2baeee8d4b4d8f861304044fab6e7e"
          }
        },
        "cf2f33c06936407f8565532862a2a0d1": {
          "model_module": "@jupyter-widgets/controls",
          "model_name": "HTMLModel",
          "state": {
            "_view_name": "HTMLView",
            "style": "IPY_MODEL_c80226ee1d5b42b183e470656bb88ad9",
            "_dom_classes": [],
            "description": "",
            "_model_name": "HTMLModel",
            "placeholder": "​",
            "_view_module": "@jupyter-widgets/controls",
            "_model_module_version": "1.5.0",
            "value": " 2000/2000 [06:51&lt;00:00,  4.86it/s]",
            "_view_count": null,
            "_view_module_version": "1.5.0",
            "description_tooltip": null,
            "_model_module": "@jupyter-widgets/controls",
            "layout": "IPY_MODEL_aa2ac8e4a30345f18a1248dce67301a0"
          }
        },
        "36605cd49c0a4c789b42637df8507638": {
          "model_module": "@jupyter-widgets/controls",
          "model_name": "ProgressStyleModel",
          "state": {
            "_view_name": "StyleView",
            "_model_name": "ProgressStyleModel",
            "description_width": "initial",
            "_view_module": "@jupyter-widgets/base",
            "_model_module_version": "1.5.0",
            "_view_count": null,
            "_view_module_version": "1.2.0",
            "bar_color": null,
            "_model_module": "@jupyter-widgets/controls"
          }
        },
        "aa2baeee8d4b4d8f861304044fab6e7e": {
          "model_module": "@jupyter-widgets/base",
          "model_name": "LayoutModel",
          "state": {
            "_view_name": "LayoutView",
            "grid_template_rows": null,
            "right": null,
            "justify_content": null,
            "_view_module": "@jupyter-widgets/base",
            "overflow": null,
            "_model_module_version": "1.2.0",
            "_view_count": null,
            "flex_flow": null,
            "width": null,
            "min_width": null,
            "border": null,
            "align_items": null,
            "bottom": null,
            "_model_module": "@jupyter-widgets/base",
            "top": null,
            "grid_column": null,
            "overflow_y": null,
            "overflow_x": null,
            "grid_auto_flow": null,
            "grid_area": null,
            "grid_template_columns": null,
            "flex": null,
            "_model_name": "LayoutModel",
            "justify_items": null,
            "grid_row": null,
            "max_height": null,
            "align_content": null,
            "visibility": null,
            "align_self": null,
            "height": null,
            "min_height": null,
            "padding": null,
            "grid_auto_rows": null,
            "grid_gap": null,
            "max_width": null,
            "order": null,
            "_view_module_version": "1.2.0",
            "grid_template_areas": null,
            "object_position": null,
            "object_fit": null,
            "grid_auto_columns": null,
            "margin": null,
            "display": null,
            "left": null
          }
        },
        "c80226ee1d5b42b183e470656bb88ad9": {
          "model_module": "@jupyter-widgets/controls",
          "model_name": "DescriptionStyleModel",
          "state": {
            "_view_name": "StyleView",
            "_model_name": "DescriptionStyleModel",
            "description_width": "",
            "_view_module": "@jupyter-widgets/base",
            "_model_module_version": "1.5.0",
            "_view_count": null,
            "_view_module_version": "1.2.0",
            "_model_module": "@jupyter-widgets/controls"
          }
        },
        "aa2ac8e4a30345f18a1248dce67301a0": {
          "model_module": "@jupyter-widgets/base",
          "model_name": "LayoutModel",
          "state": {
            "_view_name": "LayoutView",
            "grid_template_rows": null,
            "right": null,
            "justify_content": null,
            "_view_module": "@jupyter-widgets/base",
            "overflow": null,
            "_model_module_version": "1.2.0",
            "_view_count": null,
            "flex_flow": null,
            "width": null,
            "min_width": null,
            "border": null,
            "align_items": null,
            "bottom": null,
            "_model_module": "@jupyter-widgets/base",
            "top": null,
            "grid_column": null,
            "overflow_y": null,
            "overflow_x": null,
            "grid_auto_flow": null,
            "grid_area": null,
            "grid_template_columns": null,
            "flex": null,
            "_model_name": "LayoutModel",
            "justify_items": null,
            "grid_row": null,
            "max_height": null,
            "align_content": null,
            "visibility": null,
            "align_self": null,
            "height": null,
            "min_height": null,
            "padding": null,
            "grid_auto_rows": null,
            "grid_gap": null,
            "max_width": null,
            "order": null,
            "_view_module_version": "1.2.0",
            "grid_template_areas": null,
            "object_position": null,
            "object_fit": null,
            "grid_auto_columns": null,
            "margin": null,
            "display": null,
            "left": null
          }
        },
        "cd5811a6006a4c36936a3fd7fe7af9c4": {
          "model_module": "@jupyter-widgets/controls",
          "model_name": "HBoxModel",
          "state": {
            "_view_name": "HBoxView",
            "_dom_classes": [],
            "_model_name": "HBoxModel",
            "_view_module": "@jupyter-widgets/controls",
            "_model_module_version": "1.5.0",
            "_view_count": null,
            "_view_module_version": "1.5.0",
            "box_style": "",
            "layout": "IPY_MODEL_594cbb65c83f4d768c7651381917dd98",
            "_model_module": "@jupyter-widgets/controls",
            "children": [
              "IPY_MODEL_b7e4e814d98c49239e5cf356807e093c",
              "IPY_MODEL_1c66c49f0975490f9de2cae26d0f58ad"
            ]
          }
        },
        "594cbb65c83f4d768c7651381917dd98": {
          "model_module": "@jupyter-widgets/base",
          "model_name": "LayoutModel",
          "state": {
            "_view_name": "LayoutView",
            "grid_template_rows": null,
            "right": null,
            "justify_content": null,
            "_view_module": "@jupyter-widgets/base",
            "overflow": null,
            "_model_module_version": "1.2.0",
            "_view_count": null,
            "flex_flow": null,
            "width": null,
            "min_width": null,
            "border": null,
            "align_items": null,
            "bottom": null,
            "_model_module": "@jupyter-widgets/base",
            "top": null,
            "grid_column": null,
            "overflow_y": null,
            "overflow_x": null,
            "grid_auto_flow": null,
            "grid_area": null,
            "grid_template_columns": null,
            "flex": null,
            "_model_name": "LayoutModel",
            "justify_items": null,
            "grid_row": null,
            "max_height": null,
            "align_content": null,
            "visibility": null,
            "align_self": null,
            "height": null,
            "min_height": null,
            "padding": null,
            "grid_auto_rows": null,
            "grid_gap": null,
            "max_width": null,
            "order": null,
            "_view_module_version": "1.2.0",
            "grid_template_areas": null,
            "object_position": null,
            "object_fit": null,
            "grid_auto_columns": null,
            "margin": null,
            "display": null,
            "left": null
          }
        },
        "b7e4e814d98c49239e5cf356807e093c": {
          "model_module": "@jupyter-widgets/controls",
          "model_name": "FloatProgressModel",
          "state": {
            "_view_name": "ProgressView",
            "style": "IPY_MODEL_9bc9d96f39854ae7a660e79f2c348f8c",
            "_dom_classes": [],
            "description": "100%",
            "_model_name": "FloatProgressModel",
            "bar_style": "success",
            "max": 2000,
            "_view_module": "@jupyter-widgets/controls",
            "_model_module_version": "1.5.0",
            "value": 2000,
            "_view_count": null,
            "_view_module_version": "1.5.0",
            "orientation": "horizontal",
            "min": 0,
            "description_tooltip": null,
            "_model_module": "@jupyter-widgets/controls",
            "layout": "IPY_MODEL_cd8d006cf6524693823da27110980008"
          }
        },
        "1c66c49f0975490f9de2cae26d0f58ad": {
          "model_module": "@jupyter-widgets/controls",
          "model_name": "HTMLModel",
          "state": {
            "_view_name": "HTMLView",
            "style": "IPY_MODEL_eddfe7dfa7844fcbbb573e6576a0c12d",
            "_dom_classes": [],
            "description": "",
            "_model_name": "HTMLModel",
            "placeholder": "​",
            "_view_module": "@jupyter-widgets/controls",
            "_model_module_version": "1.5.0",
            "value": " 2000/2000 [11:21&lt;00:00,  2.93it/s]",
            "_view_count": null,
            "_view_module_version": "1.5.0",
            "description_tooltip": null,
            "_model_module": "@jupyter-widgets/controls",
            "layout": "IPY_MODEL_8ffafc816f1543ad98c2736126702b66"
          }
        },
        "9bc9d96f39854ae7a660e79f2c348f8c": {
          "model_module": "@jupyter-widgets/controls",
          "model_name": "ProgressStyleModel",
          "state": {
            "_view_name": "StyleView",
            "_model_name": "ProgressStyleModel",
            "description_width": "initial",
            "_view_module": "@jupyter-widgets/base",
            "_model_module_version": "1.5.0",
            "_view_count": null,
            "_view_module_version": "1.2.0",
            "bar_color": null,
            "_model_module": "@jupyter-widgets/controls"
          }
        },
        "cd8d006cf6524693823da27110980008": {
          "model_module": "@jupyter-widgets/base",
          "model_name": "LayoutModel",
          "state": {
            "_view_name": "LayoutView",
            "grid_template_rows": null,
            "right": null,
            "justify_content": null,
            "_view_module": "@jupyter-widgets/base",
            "overflow": null,
            "_model_module_version": "1.2.0",
            "_view_count": null,
            "flex_flow": null,
            "width": null,
            "min_width": null,
            "border": null,
            "align_items": null,
            "bottom": null,
            "_model_module": "@jupyter-widgets/base",
            "top": null,
            "grid_column": null,
            "overflow_y": null,
            "overflow_x": null,
            "grid_auto_flow": null,
            "grid_area": null,
            "grid_template_columns": null,
            "flex": null,
            "_model_name": "LayoutModel",
            "justify_items": null,
            "grid_row": null,
            "max_height": null,
            "align_content": null,
            "visibility": null,
            "align_self": null,
            "height": null,
            "min_height": null,
            "padding": null,
            "grid_auto_rows": null,
            "grid_gap": null,
            "max_width": null,
            "order": null,
            "_view_module_version": "1.2.0",
            "grid_template_areas": null,
            "object_position": null,
            "object_fit": null,
            "grid_auto_columns": null,
            "margin": null,
            "display": null,
            "left": null
          }
        },
        "eddfe7dfa7844fcbbb573e6576a0c12d": {
          "model_module": "@jupyter-widgets/controls",
          "model_name": "DescriptionStyleModel",
          "state": {
            "_view_name": "StyleView",
            "_model_name": "DescriptionStyleModel",
            "description_width": "",
            "_view_module": "@jupyter-widgets/base",
            "_model_module_version": "1.5.0",
            "_view_count": null,
            "_view_module_version": "1.2.0",
            "_model_module": "@jupyter-widgets/controls"
          }
        },
        "8ffafc816f1543ad98c2736126702b66": {
          "model_module": "@jupyter-widgets/base",
          "model_name": "LayoutModel",
          "state": {
            "_view_name": "LayoutView",
            "grid_template_rows": null,
            "right": null,
            "justify_content": null,
            "_view_module": "@jupyter-widgets/base",
            "overflow": null,
            "_model_module_version": "1.2.0",
            "_view_count": null,
            "flex_flow": null,
            "width": null,
            "min_width": null,
            "border": null,
            "align_items": null,
            "bottom": null,
            "_model_module": "@jupyter-widgets/base",
            "top": null,
            "grid_column": null,
            "overflow_y": null,
            "overflow_x": null,
            "grid_auto_flow": null,
            "grid_area": null,
            "grid_template_columns": null,
            "flex": null,
            "_model_name": "LayoutModel",
            "justify_items": null,
            "grid_row": null,
            "max_height": null,
            "align_content": null,
            "visibility": null,
            "align_self": null,
            "height": null,
            "min_height": null,
            "padding": null,
            "grid_auto_rows": null,
            "grid_gap": null,
            "max_width": null,
            "order": null,
            "_view_module_version": "1.2.0",
            "grid_template_areas": null,
            "object_position": null,
            "object_fit": null,
            "grid_auto_columns": null,
            "margin": null,
            "display": null,
            "left": null
          }
        }
      }
    }
  },
  "cells": [
    {
      "cell_type": "markdown",
      "metadata": {
        "id": "view-in-github",
        "colab_type": "text"
      },
      "source": [
        "<a href=\"https://colab.research.google.com/github/DanieleFoscarin/HDA2021/blob/focus_MM/Remake_ESC50_classifier.ipynb\" target=\"_parent\"><img src=\"https://colab.research.google.com/assets/colab-badge.svg\" alt=\"Open In Colab\"/></a>"
      ]
    },
    {
      "cell_type": "markdown",
      "metadata": {
        "id": "4fzgZN3bTZ_f"
      },
      "source": [
        "reference YAMNet https://colab.research.google.com/github/tensorflow/docs/blob/master/site/en/tutorials/audio/transfer_learning_audio.ipynb#scrollTo=k2yleeev645r"
      ]
    },
    {
      "cell_type": "code",
      "metadata": {
        "id": "owTStArCqOyF"
      },
      "source": [
        "from pathlib import Path\n",
        "from scipy.io import wavfile\n",
        "from IPython.display import Audio\n",
        "import pandas as pd\n",
        "import numpy as np\n",
        "from matplotlib import pyplot as plt \n",
        "import librosa\n",
        "from tqdm import tqdm, tqdm_notebook, notebook\n",
        "import gc\n",
        "import time \n",
        "# import numba\n",
        "import os\n",
        "import scipy.fftpack\n",
        "import cv2\n",
        "import random\n",
        "from scipy.special import gamma\n",
        "\n",
        "\n",
        "import tensorflow as tf\n",
        "from tensorflow.keras import layers\n",
        "from tensorflow.keras.utils import Sequence, SequenceEnqueuer   # try enquerer that uses parallelism\n",
        "from tensorflow import keras\n",
        "\n",
        "import tensorflow_hub as hub\n",
        "\n",
        "#import model \n",
        "from tensorflow.keras.applications.mobilenet_v2 import MobileNetV2\n",
        "\n",
        "sr = 44100\n",
        "sr = 16000\n",
        "sr = 22050"
      ],
      "execution_count": 70,
      "outputs": []
    },
    {
      "cell_type": "code",
      "metadata": {
        "id": "os9gS_6l0dKn"
      },
      "source": [
        "! pip install icecream --quiet\n",
        "from icecream import ic"
      ],
      "execution_count": 10,
      "outputs": []
    },
    {
      "cell_type": "code",
      "metadata": {
        "id": "kNSUFeWy_KwY"
      },
      "source": [
        "! pip install samplerate --quiet\n",
        "import samplerate"
      ],
      "execution_count": 11,
      "outputs": []
    },
    {
      "cell_type": "code",
      "metadata": {
        "id": "QhlvC6fouj5l"
      },
      "source": [
        "! pip install optuna --quiet\n",
        "import optuna"
      ],
      "execution_count": 12,
      "outputs": []
    },
    {
      "cell_type": "code",
      "metadata": {
        "id": "1JlJ6V7C3PXj"
      },
      "source": [
        "!pip install livelossplot --quiet\n",
        "from livelossplot import PlotLossesKeras"
      ],
      "execution_count": 13,
      "outputs": []
    },
    {
      "cell_type": "code",
      "metadata": {
        "id": "L3Wly4mBeKZG"
      },
      "source": [
        "! pip install audiomentations --quiet\n",
        "import audiomentations as am"
      ],
      "execution_count": 14,
      "outputs": []
    },
    {
      "cell_type": "markdown",
      "metadata": {
        "id": "ej2eN-L_p4Nt"
      },
      "source": [
        "# Get Dataset"
      ]
    },
    {
      "cell_type": "code",
      "metadata": {
        "colab": {
          "base_uri": "https://localhost:8080/"
        },
        "id": "2sYgxpk9k3J-",
        "outputId": "36e3e04e-6e01-4438-c849-cbd0de26394d"
      },
      "source": [
        "# Clone the entire repo.\n",
        "!git clone https://github.com/karolpiczak/ESC-50.git\n"
      ],
      "execution_count": 15,
      "outputs": [
        {
          "output_type": "stream",
          "text": [
            "fatal: destination path 'ESC-50' already exists and is not an empty directory.\n"
          ],
          "name": "stdout"
        }
      ]
    },
    {
      "cell_type": "code",
      "metadata": {
        "colab": {
          "base_uri": "https://localhost:8080/",
          "height": 406
        },
        "id": "TKGGth680BLt",
        "outputId": "bddd6cb3-5b91-484b-c91a-f0ea0a56e749"
      },
      "source": [
        "ROOT = '/content/ESC-50/audio/'\n",
        "\n",
        "data_info = pd.read_csv(ROOT+\"../meta/esc50.csv\")\n",
        "\n",
        "#make a category dictionary\n",
        "category_dict = dict(zip(data_info['target'], data_info['category']))\n",
        "data_info"
      ],
      "execution_count": null,
      "outputs": [
        {
          "output_type": "execute_result",
          "data": {
            "text/html": [
              "<div>\n",
              "<style scoped>\n",
              "    .dataframe tbody tr th:only-of-type {\n",
              "        vertical-align: middle;\n",
              "    }\n",
              "\n",
              "    .dataframe tbody tr th {\n",
              "        vertical-align: top;\n",
              "    }\n",
              "\n",
              "    .dataframe thead th {\n",
              "        text-align: right;\n",
              "    }\n",
              "</style>\n",
              "<table border=\"1\" class=\"dataframe\">\n",
              "  <thead>\n",
              "    <tr style=\"text-align: right;\">\n",
              "      <th></th>\n",
              "      <th>filename</th>\n",
              "      <th>fold</th>\n",
              "      <th>target</th>\n",
              "      <th>category</th>\n",
              "      <th>esc10</th>\n",
              "      <th>src_file</th>\n",
              "      <th>take</th>\n",
              "    </tr>\n",
              "  </thead>\n",
              "  <tbody>\n",
              "    <tr>\n",
              "      <th>0</th>\n",
              "      <td>1-100032-A-0.wav</td>\n",
              "      <td>1</td>\n",
              "      <td>0</td>\n",
              "      <td>dog</td>\n",
              "      <td>True</td>\n",
              "      <td>100032</td>\n",
              "      <td>A</td>\n",
              "    </tr>\n",
              "    <tr>\n",
              "      <th>1</th>\n",
              "      <td>1-100038-A-14.wav</td>\n",
              "      <td>1</td>\n",
              "      <td>14</td>\n",
              "      <td>chirping_birds</td>\n",
              "      <td>False</td>\n",
              "      <td>100038</td>\n",
              "      <td>A</td>\n",
              "    </tr>\n",
              "    <tr>\n",
              "      <th>2</th>\n",
              "      <td>1-100210-A-36.wav</td>\n",
              "      <td>1</td>\n",
              "      <td>36</td>\n",
              "      <td>vacuum_cleaner</td>\n",
              "      <td>False</td>\n",
              "      <td>100210</td>\n",
              "      <td>A</td>\n",
              "    </tr>\n",
              "    <tr>\n",
              "      <th>3</th>\n",
              "      <td>1-100210-B-36.wav</td>\n",
              "      <td>1</td>\n",
              "      <td>36</td>\n",
              "      <td>vacuum_cleaner</td>\n",
              "      <td>False</td>\n",
              "      <td>100210</td>\n",
              "      <td>B</td>\n",
              "    </tr>\n",
              "    <tr>\n",
              "      <th>4</th>\n",
              "      <td>1-101296-A-19.wav</td>\n",
              "      <td>1</td>\n",
              "      <td>19</td>\n",
              "      <td>thunderstorm</td>\n",
              "      <td>False</td>\n",
              "      <td>101296</td>\n",
              "      <td>A</td>\n",
              "    </tr>\n",
              "    <tr>\n",
              "      <th>...</th>\n",
              "      <td>...</td>\n",
              "      <td>...</td>\n",
              "      <td>...</td>\n",
              "      <td>...</td>\n",
              "      <td>...</td>\n",
              "      <td>...</td>\n",
              "      <td>...</td>\n",
              "    </tr>\n",
              "    <tr>\n",
              "      <th>1995</th>\n",
              "      <td>5-263831-B-6.wav</td>\n",
              "      <td>5</td>\n",
              "      <td>6</td>\n",
              "      <td>hen</td>\n",
              "      <td>False</td>\n",
              "      <td>263831</td>\n",
              "      <td>B</td>\n",
              "    </tr>\n",
              "    <tr>\n",
              "      <th>1996</th>\n",
              "      <td>5-263902-A-36.wav</td>\n",
              "      <td>5</td>\n",
              "      <td>36</td>\n",
              "      <td>vacuum_cleaner</td>\n",
              "      <td>False</td>\n",
              "      <td>263902</td>\n",
              "      <td>A</td>\n",
              "    </tr>\n",
              "    <tr>\n",
              "      <th>1997</th>\n",
              "      <td>5-51149-A-25.wav</td>\n",
              "      <td>5</td>\n",
              "      <td>25</td>\n",
              "      <td>footsteps</td>\n",
              "      <td>False</td>\n",
              "      <td>51149</td>\n",
              "      <td>A</td>\n",
              "    </tr>\n",
              "    <tr>\n",
              "      <th>1998</th>\n",
              "      <td>5-61635-A-8.wav</td>\n",
              "      <td>5</td>\n",
              "      <td>8</td>\n",
              "      <td>sheep</td>\n",
              "      <td>False</td>\n",
              "      <td>61635</td>\n",
              "      <td>A</td>\n",
              "    </tr>\n",
              "    <tr>\n",
              "      <th>1999</th>\n",
              "      <td>5-9032-A-0.wav</td>\n",
              "      <td>5</td>\n",
              "      <td>0</td>\n",
              "      <td>dog</td>\n",
              "      <td>True</td>\n",
              "      <td>9032</td>\n",
              "      <td>A</td>\n",
              "    </tr>\n",
              "  </tbody>\n",
              "</table>\n",
              "<p>2000 rows × 7 columns</p>\n",
              "</div>"
            ],
            "text/plain": [
              "               filename  fold  target        category  esc10  src_file take\n",
              "0      1-100032-A-0.wav     1       0             dog   True    100032    A\n",
              "1     1-100038-A-14.wav     1      14  chirping_birds  False    100038    A\n",
              "2     1-100210-A-36.wav     1      36  vacuum_cleaner  False    100210    A\n",
              "3     1-100210-B-36.wav     1      36  vacuum_cleaner  False    100210    B\n",
              "4     1-101296-A-19.wav     1      19    thunderstorm  False    101296    A\n",
              "...                 ...   ...     ...             ...    ...       ...  ...\n",
              "1995   5-263831-B-6.wav     5       6             hen  False    263831    B\n",
              "1996  5-263902-A-36.wav     5      36  vacuum_cleaner  False    263902    A\n",
              "1997   5-51149-A-25.wav     5      25       footsteps  False     51149    A\n",
              "1998    5-61635-A-8.wav     5       8           sheep  False     61635    A\n",
              "1999     5-9032-A-0.wav     5       0             dog   True      9032    A\n",
              "\n",
              "[2000 rows x 7 columns]"
            ]
          },
          "metadata": {
            "tags": []
          },
          "execution_count": 8
        }
      ]
    },
    {
      "cell_type": "code",
      "metadata": {
        "colab": {
          "base_uri": "https://localhost:8080/",
          "height": 282
        },
        "id": "shU46DDMXQ6k",
        "outputId": "20ea11f7-9563-4377-bd4e-4ff85950a911"
      },
      "source": [
        "class AudioLoader():\n",
        "    def __init__(self, df, root, format1=False, downsample=True):\n",
        "        self.df = df\n",
        "        self.root = root\n",
        "        self.format1 = format1\n",
        "        self.downsample = downsample\n",
        "\n",
        "    def __len__(self):\n",
        "        return len(self.df)\n",
        "\n",
        "    def __getitem__(self, idx):\n",
        "        _, this_audio = wavfile.read(os.path.join(self.root, self.df['filename'][idx]))\n",
        "        if self.downsample:\n",
        "            this_audio = samplerate.resample(this_audio, 16000/44100, converter_type='sinc_fastest')\n",
        "        if self.format1:\n",
        "            this_audio = this_audio / 32768     # 2^15 = 32768\n",
        "        return this_audio\n",
        "\n",
        "    def get_info(self, idx, list=False):\n",
        "        if list:\n",
        "            out = self.df.iloc[idx].to_list()\n",
        "        else:\n",
        "            out = self.df.iloc[idx]\n",
        "        return out\n",
        "\n",
        "\n",
        "audio_loader = AudioLoader(data_info, ROOT, True)\n",
        "plt.plot(audio_loader[222])\n",
        "print(audio_loader.get_info(222)['category'])"
      ],
      "execution_count": 16,
      "outputs": [
        {
          "output_type": "stream",
          "text": [
            "insects\n"
          ],
          "name": "stdout"
        },
        {
          "output_type": "display_data",
          "data": {
            "image/png": "[encoded data removed]",
            "text/plain": [
              "<Figure size 432x288 with 1 Axes>"
            ]
          },
          "metadata": {
            "tags": [],
            "needs_background": "light"
          }
        }
      ]
    },
    {
      "cell_type": "markdown",
      "metadata": {
        "id": "wKucZdkLjagH"
      },
      "source": [
        "Make directories for preprocessed data"
      ]
    },
    {
      "cell_type": "code",
      "metadata": {
        "id": "7s_NDQPBXmsI"
      },
      "source": [
        "!mkdir -p feature_storage\n",
        "path_batch = \"/content/feature_storage/\"\n",
        "\n",
        "path_drive = '/content/drive/MyDrive/UNI_ICT/HDA/data/' \n",
        "\n",
        "!mkdir -p sandbox\n",
        "path_sandbox = \"/content/sandbox/\""
      ],
      "execution_count": null,
      "outputs": []
    },
    {
      "cell_type": "markdown",
      "metadata": {
        "id": "VDPVsPsKsdor"
      },
      "source": [
        "# Preprocessing functions"
      ]
    },
    {
      "cell_type": "markdown",
      "metadata": {
        "id": "f0GyUX7BXKA5"
      },
      "source": [
        "## Removing silence"
      ]
    },
    {
      "cell_type": "markdown",
      "metadata": {
        "id": "4RFf0vvi9Jgq"
      },
      "source": [
        "removing silence at the beginning or at the end of the audio clip"
      ]
    },
    {
      "cell_type": "code",
      "metadata": {
        "id": "Hsfe-JDj9FZb"
      },
      "source": [
        "def removeSilence(signal, fill_silence=False):\n",
        "    \"\"\"\n",
        "    Remove the leading and trailing zeros in an array,\n",
        "    Parameters:\n",
        "        signal: array,\n",
        "        fill_silence: boolean, if True it repeats the non zero part until the \n",
        "            size of the output array is the same as the input array\n",
        "    Return:\n",
        "        an array\n",
        "\n",
        "    \"\"\"\n",
        "    \n",
        "    trimmed = np.trim_zeros(signal)\n",
        "    if not fill_silence:\n",
        "        return trimmed\n",
        "    if fill_silence:\n",
        "        lt = len(trimmed)\n",
        "        ls = len(signal)\n",
        "        # ic(lt,ls)\n",
        "        if lt < ls:\n",
        "          trimmed = np.tile(trimmed, int(np.ceil(ls/lt)))\n",
        "          trimmed = trimmed[:ls]  \n",
        "        return trimmed\n"
      ],
      "execution_count": null,
      "outputs": []
    },
    {
      "cell_type": "markdown",
      "metadata": {
        "id": "BasNEAgvXW7b"
      },
      "source": [
        "## compute spectral features"
      ]
    },
    {
      "cell_type": "code",
      "metadata": {
        "colab": {
          "base_uri": "https://localhost:8080/",
          "height": 1000
        },
        "id": "drMHKn2jKlMB",
        "outputId": "be80a14c-d5af-40d3-9e17-ddd2c8812e7b"
      },
      "source": [
        "def features3(audio, sr):\n",
        "    def normalize01(data):\n",
        "        return (data - np.min(data)) / (np.max(data) - np.min(data))\n",
        "\n",
        "    def standardize(data):\n",
        "        return (data - np.mean(data))/np.std(data)\n",
        "\n",
        "    this_stft_o = librosa.amplitude_to_db(np.abs(librosa.stft(audio.astype('float32'), hop_length=int(sr*0.01))))\n",
        "\n",
        "    # spectral contrast\n",
        "    n_bands = 8\n",
        "    fmin = np.floor(sr/(2**n_bands))\n",
        "    this_cont = librosa.feature.spectral_contrast(S=this_stft_o, sr=sr, hop_length=int(sr*0.01), fmin=fmin, n_bands=n_bands) \n",
        "    this_cont = standardize(this_cont)\n",
        "\n",
        "    # rms feature\n",
        "    this_rms = librosa.feature.rms(audio, hop_length=int(sr*0.01))\n",
        "    this_rms = standardize(this_rms)\n",
        "    this_rms = np.transpose(this_rms, axes=[1,0])\n",
        "\n",
        "    # zero crossing rate feature\n",
        "    # this_zero = librosa.feature.zero_crossing_rate(audio, hop_length=(int(sr*0.01)))\n",
        "    this_zero = librosa.feature.spectral_centroid(audio, hop_length=(int(sr*0.01)))\n",
        "    this_zero = np.transpose(this_zero, axes=[1,0])\n",
        "    this_zero = standardize(this_zero)\n",
        "\n",
        "    # 16k resampled audio for feeding yamnet\n",
        "    audio = samplerate.resample(audio, 16000/22050, converter_type='sinc_fastest')\n",
        "\n",
        "    return normalize01(audio), this_rms, this_zero, this_cont\n",
        "\n",
        "\n",
        "# testing features\n",
        "audio, rms, zero, cont = features3(audio_loader[200], sr)\n",
        "\n",
        "# ic(np.shape(feat))\n",
        "ic(np.shape(rms), np.shape(zero))\n",
        "FRAMES = np.shape(rms)[0]\n",
        "ic(FRAMES)\n",
        "\n",
        "plt.figure()\n",
        "plt.plot(audio)\n",
        "\n",
        "plt.figure()\n",
        "plt.plot(rms)\n",
        "\n",
        "plt.figure()\n",
        "plt.plot(zero)\n",
        "\n",
        "plt.figure()\n",
        "plt.imshow(cont,  interpolation='nearest', aspect='auto', origin='lower' )\n",
        "\n",
        "ic(np.min(cont), np.max(cont))"
      ],
      "execution_count": null,
      "outputs": [
        {
          "output_type": "stream",
          "text": [
            "ic| np.shape(rms): (502, 1), np.shape(zero): (502, 1)\n",
            "ic| FRAMES: 502\n",
            "ic| np.min(cont): -0.679778445598859, np.max(cont): 1.8266499338443467\n"
          ],
          "name": "stderr"
        },
        {
          "output_type": "execute_result",
          "data": {
            "text/plain": [
              "(-0.679778445598859, 1.8266499338443467)"
            ]
          },
          "metadata": {
            "tags": []
          },
          "execution_count": 12
        },
        {
          "output_type": "display_data",
          "data": {
            "image/png": "[encoded data removed]",
            "text/plain": [
              "<Figure size 432x288 with 1 Axes>"
            ]
          },
          "metadata": {
            "tags": [],
            "needs_background": "light"
          }
        },
        {
          "output_type": "display_data",
          "data": {
            "image/png": "[encoded data removed]",
            "text/plain": [
              "<Figure size 432x288 with 1 Axes>"
            ]
          },
          "metadata": {
            "tags": [],
            "needs_background": "light"
          }
        },
        {
          "output_type": "display_data",
          "data": {
            "image/png": "[encoded data removed]",
            "text/plain": [
              "<Figure size 432x288 with 1 Axes>"
            ]
          },
          "metadata": {
            "tags": [],
            "needs_background": "light"
          }
        },
        {
          "output_type": "display_data",
          "data": {
            "image/png": "[encoded data removed]",
            "text/plain": [
              "<Figure size 432x288 with 1 Axes>"
            ]
          },
          "metadata": {
            "tags": [],
            "needs_background": "light"
          }
        }
      ]
    },
    {
      "cell_type": "markdown",
      "metadata": {
        "id": "6EV4rhWns9LM"
      },
      "source": [
        "Three in one feature extraction function"
      ]
    },
    {
      "cell_type": "code",
      "metadata": {
        "id": "63df07BhtCQE"
      },
      "source": [
        "def audio_aug2(y, sr=sr, low_ps=-3.5, high_ps=3.5, low_ts=0.8, high_ts=1):\n",
        "    '''It return a signal with random pitch shift ot time strecth '''\n",
        "\n",
        "    choice = int(np.random.randint(2))\n",
        "    if choice == 0:\n",
        "        step = np.random.uniform(low=low_ps, high=high_ps)\n",
        "        ya = librosa.effects.pitch_shift(y, sr=sr, n_steps=step)\n",
        "    elif choice == 1:\n",
        "        rate = np.random.uniform(low=low_ts, high=high_ts)\n",
        "        ya = librosa.effects.time_stretch(y, rate)\n",
        "\n",
        "    ya = ya[:y.shape[0]]\n",
        "    return ya\n",
        "\n",
        "def features_preprocessor(audio_loader, path, df, yamnet, augmentation=0):\n",
        "\n",
        "    augment = am.Compose([\n",
        "    am.AddGaussianNoise(min_amplitude=0.001, max_amplitude=0.015, p=0.5),\n",
        "    am.TimeStretch(min_rate=0.8, max_rate=1.2, p=0.5),\n",
        "    am.PitchShift(min_semitones=-4, max_semitones=4, p=0.5),\n",
        "    am.Shift(min_fraction=-0.5, max_fraction=0.5, p=0.5),])\n",
        "\n",
        "\n",
        "    if augmentation==0:\n",
        "        for i in notebook.tqdm(range(len(audio_loader))):\n",
        "            this_audio = audio_loader[i][:sr*5]\n",
        "            this_audio = removeSilence(this_audio, fill_silence=True)\n",
        "            yam_audio, this_rms, this_flat, this_cont = features3(this_audio, sr)\n",
        "            _, this_emb, _ = yamnet(yam_audio)\n",
        "            pack = np.array([this_emb, audio_loader.get_info(i)['fold'], audio_loader.get_info(i)['target'], this_rms, this_flat, this_cont], dtype= 'object')\n",
        "            np.save(os.path.join(path, audio_loader.get_info(i)['filename']+'_0'), pack)\n",
        "            # break\n",
        "\n",
        "    if augmentation > 0:\n",
        "        for i in notebook.tqdm(range(len(audio_loader))):\n",
        "            this_audio = audio_loader[i][:sr*5]\n",
        "            this_audio = removeSilence(this_audio, fill_silence=True)\n",
        "            for aug in range(augmentation):\n",
        "                \n",
        "                if aug == 0:\n",
        "                    # ic(aug, np.shape(this_audio))\n",
        "                    yam_audio, this_rms, this_flat, this_cont = features3(this_audio, sr)\n",
        "                    # ic(aug, np.shape(yam_audio))\n",
        "                    _, this_emb, _ = yamnet(yam_audio)\n",
        "                    pack = np.array([this_emb, audio_loader.get_info(i)['fold'], audio_loader.get_info(i)['target'], this_rms, this_flat, this_cont], dtype='object')\n",
        "                    np.save(os.path.join(path, audio_loader.get_info(i)['filename']+'_0'), pack)\n",
        "                else:\n",
        "                    aug_audio = augment(this_audio, sr)\n",
        "                    yam_audio, this_rms, this_flat, this_cont = features3(aug_audio, sr)\n",
        "                    _, this_emb, _ = yamnet(yam_audio)\n",
        "                    pack = np.array([this_emb, audio_loader.get_info(i)['fold'], audio_loader.get_info(i)['target'], this_rms, this_flat, this_cont], dtype='object')\n",
        "                    np.save(os.path.join(path, audio_loader.get_info(i)['filename']+'_'+str(aug)), pack)\n",
        "\n",
        "\n",
        "        "
      ],
      "execution_count": null,
      "outputs": []
    },
    {
      "cell_type": "markdown",
      "metadata": {
        "id": "2NwMQaMTls-Y"
      },
      "source": [
        "Offline creation of features dataset"
      ]
    },
    {
      "cell_type": "code",
      "metadata": {
        "colab": {
          "base_uri": "https://localhost:8080/",
          "height": 120,
          "referenced_widgets": [
            "da7438fd84ed44668e52c0367597481a",
            "751c15c7e08b42108b078bfc77fbcfb7",
            "877c33bc3a9043e5a8d35cde5672d2c5",
            "cf2f33c06936407f8565532862a2a0d1",
            "36605cd49c0a4c789b42637df8507638",
            "aa2baeee8d4b4d8f861304044fab6e7e",
            "c80226ee1d5b42b183e470656bb88ad9",
            "aa2ac8e4a30345f18a1248dce67301a0"
          ]
        },
        "id": "Vs889VeYx96U",
        "outputId": "c90019bf-a127-4875-a8d6-1e27906e13f8"
      },
      "source": [
        "ic(ROOT)\n",
        "# download ad set YAMNet pretrained model\n",
        "yamnet_model_handle = 'https://tfhub.dev/google/yamnet/1'\n",
        "yamnet_model = hub.load(yamnet_model_handle)\n",
        "\n",
        "audio_loader = AudioLoader(data_info, ROOT, format1=True)\n",
        "features_preprocessor(audio_loader, path_batch, data_info, yamnet_model, augmentation=0)"
      ],
      "execution_count": null,
      "outputs": [
        {
          "output_type": "stream",
          "text": [
            "ic| ROOT: '/content/ESC-50/audio/'\n"
          ],
          "name": "stderr"
        },
        {
          "output_type": "display_data",
          "data": {
            "application/vnd.jupyter.widget-view+json": {
              "model_id": "da7438fd84ed44668e52c0367597481a",
              "version_minor": 0,
              "version_major": 2
            },
            "text/plain": [
              "HBox(children=(FloatProgress(value=0.0, max=2000.0), HTML(value='')))"
            ]
          },
          "metadata": {
            "tags": []
          }
        },
        {
          "output_type": "stream",
          "text": [
            "/usr/local/lib/python3.7/dist-packages/ipykernel_launcher.py:6: RuntimeWarning: invalid value encountered in true_divide\n",
            "  \n"
          ],
          "name": "stderr"
        },
        {
          "output_type": "stream",
          "text": [
            "\n"
          ],
          "name": "stdout"
        }
      ]
    },
    {
      "cell_type": "code",
      "metadata": {
        "id": "aDAEvsroZph7"
      },
      "source": [
        "# copy to drive\n",
        "# ! cp -r /content/feature_storage /content/drive/MyDrive/UNI_ICT/HDA/data"
      ],
      "execution_count": null,
      "outputs": []
    },
    {
      "cell_type": "code",
      "metadata": {
        "id": "TKO4jmsXZ_uz"
      },
      "source": [
        "# copy from drive\n",
        "# ! cp -r /content/drive/MyDrive/UNI_ICT/HDA/data /content/feature_storage"
      ],
      "execution_count": null,
      "outputs": []
    },
    {
      "cell_type": "code",
      "metadata": {
        "id": "W05v8X33K5Gp"
      },
      "source": [
        "# ! rm -r /content/feature_storage\n",
        "# !mkdir -p feature_storage"
      ],
      "execution_count": null,
      "outputs": []
    },
    {
      "cell_type": "markdown",
      "metadata": {
        "id": "TXjXV7VhB_YD"
      },
      "source": [
        "test with reading feature packs"
      ]
    },
    {
      "cell_type": "code",
      "metadata": {
        "id": "grc9d9GDC7Eg"
      },
      "source": [
        "# this_pack = np.load(os.path.join(path_batch, this_fold_names[20]), allow_pickle=True)\n",
        "# this_feat = np.transpose(this_pack[0], [2,1,0])\n",
        "# print(category_dict[this_pack[1]])\n",
        "\n",
        "# ic(np.shape(this_feat))\n",
        "# plt.figure()\n",
        "# plt.imshow(this_feat, interpolation='nearest', aspect='auto')\n",
        "\n",
        "# plt.figure(figsize=(12,6))\n",
        "# plt.subplot(1,3,1)\n",
        "# plt.imshow(this_feat[:,:,0], interpolation='nearest', aspect='auto')\n",
        "# plt.subplot(1,3,2)\n",
        "# plt.imshow(this_feat[:,:,1], interpolation='nearest', aspect='auto')\n",
        "# plt.subplot(1,3,3)\n",
        "# plt.imshow(this_feat[:,:,2], interpolation='nearest', aspect='auto')"
      ],
      "execution_count": null,
      "outputs": []
    },
    {
      "cell_type": "markdown",
      "metadata": {
        "id": "4jSpBoJT8HE4"
      },
      "source": [
        "make alpha and prob schedule"
      ]
    },
    {
      "cell_type": "markdown",
      "metadata": {
        "id": "copCbfTtOn4u"
      },
      "source": [
        "make Sequence class"
      ]
    },
    {
      "cell_type": "code",
      "metadata": {
        "id": "VgEow3SjG4Mi"
      },
      "source": [
        "def to_onehot(y, classes=50):\n",
        "    y_oh = np.zeros((classes, 1))\n",
        "    y_oh[y] = 1\n",
        "    return y_oh\n",
        "\n",
        "def mix(a, b, l):\n",
        "    return l*a + (1-l)*b\n",
        "\n",
        "\n",
        "# TODO remove cropping\n",
        "class FeatureSequence(Sequence):\n",
        "    def __init__(self, names, path, batch_size, alpha_schedule, prob_schedule, crop=None, with_mixup=False, yam_only=False):\n",
        "        self.names = names\n",
        "        self.batch_size = batch_size\n",
        "        self.path = path\n",
        "        self.crop = crop\n",
        "        self.with_mixup = with_mixup\n",
        "        self.epoch = 0\n",
        "        self.alpha = 0.001\n",
        "        self.mix_prob = 1\n",
        "        self.alpha_schedule = alpha_schedule\n",
        "        self.prob_schedule = prob_schedule\n",
        "        self.yam_only = yam_only\n",
        "\n",
        "    def __len__(self):\n",
        "        return int(np.floor(len(self.names) / self.batch_size))\n",
        "\n",
        "    def on_epoch_end(self):\n",
        "        self.epoch += 1\n",
        "        if self.epoch < self.alpha_schedule.shape[0]:\n",
        "            self.alpha = self.alpha_schedule[self.epoch]\n",
        "        if self.epoch < self.prob_schedule.shape[0]:\n",
        "            self.mix_prob = self.prob_schedule[self.epoch]\n",
        "        \n",
        "        random.shuffle(self.names)\n",
        "\n",
        "    def __getitem__(self, idx):\n",
        "        batch_names = self.names[idx*self.batch_size:(idx + 1)*self.batch_size]\n",
        "\n",
        "        batch_feat = []\n",
        "        # batch_infered = []\n",
        "        batch_rms = []\n",
        "        batch_flat = []\n",
        "        batch_cont = []\n",
        "        batch_target = []\n",
        "        for name in batch_names:\n",
        "            this_pack = np.load(os.path.join(self.path, name), allow_pickle=True)\n",
        "            # NB fix the axes order from the preprocessor\n",
        "            this_feat = this_pack[0]\n",
        "            # this_feat = np.transpose(this_feat, [2,1,0])\n",
        "            this_target = to_onehot(this_pack[2])\n",
        "            this_rms = this_pack[3]\n",
        "            this_flat = this_pack[4]\n",
        "            this_cont = this_pack[5]\n",
        "            this_cont = np.transpose(this_cont, [1,0])\n",
        "            \n",
        "            if self.with_mixup and np.random.uniform(0,1)< self.mix_prob:\n",
        "                # load another random pack\n",
        "                rand_name = np.random.randint(0, len(self.names))\n",
        "                this_pack2 = np.load(os.path.join(self.path, self.names[rand_name]), allow_pickle=True)\n",
        "                this_feat2 = this_pack2[0]\n",
        "                # this_feat2 = np.transpose(this_feat2, [2,1,0])\n",
        "                this_rms2 = this_pack2[3]\n",
        "                this_flat2 = this_pack2[4]\n",
        "                this_cont2 = this_pack2[5]\n",
        "                this_cont2 = np.transpose(this_cont2, [1,0])\n",
        "                this_target2 = to_onehot(this_pack2[2])\n",
        "\n",
        "                # mix the samples\n",
        "                l = np.random.beta(self.alpha, self.alpha)\n",
        "                # if l < 0.5:\n",
        "                #     l += 0.5\n",
        "                this_feat = mix(this_feat, this_feat2, l)\n",
        "                this_rms = mix(this_rms, this_rms2, l)\n",
        "                this_flat = mix(this_flat, this_flat2, l)\n",
        "                this_cont = mix(this_cont, this_cont2, l)\n",
        "                # this_target = mix(this_target, this_target2, l)   #not mixing target for sample fusion\n",
        "\n",
        "            # ic(this_feat.shape)\n",
        "            # _, this_feat, _ = self.yamnet_model(this_feat)\n",
        "            # this_feat = this_feat.numpy()\n",
        "            batch_feat.append(this_feat)\n",
        "            # batch_infered.append(this_infered)\n",
        "            batch_rms.append(this_rms)\n",
        "            batch_flat.append(this_flat)\n",
        "            batch_cont.append(this_cont)\n",
        "            batch_target.append(this_target)\n",
        "\n",
        "        batch_infered = np.array(batch_feat)\n",
        "        # ic(batch_infered.shape, type(batch_infered))\n",
        "\n",
        "        # batch_infered = self.img_model(batch_feat)\n",
        "        batch_rms = np.array(batch_rms)\n",
        "        batch_flat = np.array(batch_flat)\n",
        "        batch_cont = np.array(batch_cont)\n",
        "        batch_target = np.array(batch_target)\n",
        "\n",
        "        # batch_input = [batch_infered, batch_rms, batch_flat]\n",
        "        # try taking out flat\n",
        "        if self.yam_only:\n",
        "            batch_input = batch_infered\n",
        "        else:\n",
        "            # batch_input = [batch_infered, batch_rms, batch_flat, batch_cont]\n",
        "            batch_input = [batch_infered, batch_rms, batch_flat]\n",
        "\n",
        "        return batch_input, batch_target\n",
        "\n",
        "\n",
        "\n",
        "\n",
        "# #test\n",
        "# batch_size = 50\n",
        "# fold = 2\n",
        "# this_fold_names = [x for x in feat_names if x[0]==str(fold) and x.endswith('0.npy')]\n",
        "# feature_sequence = FeatureSequence(this_fold_names, path_batch, batch_size, with_mixup=True)\n",
        "# b = feature_sequence\n",
        "# ic(len(b))\n",
        "# ic(len(b[0]))\n",
        "# ic(np.shape(b[0][0]))\n",
        "# ic(np.shape(b[0][1]))\n",
        "# ic(np.shape(b[0][2]))\n",
        "\n",
        "# plt.figure()\n",
        "# plt.imshow(b[0][2][0], interpolation='nearest', aspect='auto')"
      ],
      "execution_count": null,
      "outputs": []
    },
    {
      "cell_type": "markdown",
      "metadata": {
        "id": "9graehVvSO2B"
      },
      "source": [
        "# Offline input pipeline"
      ]
    },
    {
      "cell_type": "code",
      "metadata": {
        "id": "rBTi5-K9S5KH"
      },
      "source": [
        "class AudioLoader():\n",
        "    def __init__(self, df, root, format1=False, downsample=True):\n",
        "        self.df = df\n",
        "        self.root = root\n",
        "        self.format1 = format1\n",
        "        self.downsample = downsample\n",
        "\n",
        "    def __len__(self):\n",
        "        return len(self.df)\n",
        "\n",
        "    def __getitem__(self, idx):\n",
        "        _, this_audio = wavfile.read(os.path.join(self.root, self.df['filename'][idx]))\n",
        "        if self.downsample:\n",
        "            this_audio = samplerate.resample(this_audio, 16000/44100, converter_type='sinc_fastest')\n",
        "        if self.format1:\n",
        "            this_audio = this_audio / 32768     # 2^15 = 32768\n",
        "        return this_audio\n",
        "\n",
        "    def get_info(self, idx, list=False):\n",
        "        if list:\n",
        "            out = self.df.iloc[idx].to_list()\n",
        "        else:\n",
        "            out = self.df.iloc[idx]\n",
        "        return out\n",
        "\n",
        "\n",
        "def removeSilence(signal, fill_silence=False):\n",
        "    \"\"\"\n",
        "    Remove the leading and trailing zeros in an array,\n",
        "    Parameters:\n",
        "        signal: array,\n",
        "        fill_silence: boolean, if True it repeats the non zero part until the \n",
        "            size of the output array is the same as the input array\n",
        "    Return:\n",
        "        an array\n",
        "\n",
        "    \"\"\"\n",
        "    \n",
        "    trimmed = np.trim_zeros(signal)\n",
        "    if not fill_silence:\n",
        "        return trimmed\n",
        "    if fill_silence:\n",
        "        lt = len(trimmed)\n",
        "        ls = len(signal)\n",
        "        # ic(lt,ls)\n",
        "        if lt < ls:\n",
        "          trimmed = np.tile(trimmed, int(np.ceil(ls/lt)))\n",
        "          trimmed = trimmed[:ls]  \n",
        "        return trimmed\n",
        "\n",
        "\n",
        "def features_preprocessor(audio_loader, path, df, yamnet, augmentation=0):\n",
        "\n",
        "    augment = am.Compose([\n",
        "    am.AddGaussianNoise(min_amplitude=0.001, max_amplitude=0.015, p=0.5),\n",
        "    am.TimeStretch(min_rate=0.8, max_rate=1.2, p=0.5),\n",
        "    am.PitchShift(min_semitones=-4, max_semitones=4, p=0.5),\n",
        "    am.Shift(min_fraction=-0.5, max_fraction=0.5, p=0.5),])\n",
        "\n",
        "\n",
        "    if augmentation==0:\n",
        "        for i in notebook.tqdm(range(len(audio_loader))):\n",
        "            this_audio = audio_loader[i][:sr*5]\n",
        "            this_audio = removeSilence(this_audio, fill_silence=True)\n",
        "            _, this_emb, _ = yamnet(this_audio)\n",
        "            pack = np.array([this_emb, audio_loader.get_info(i)['fold'], audio_loader.get_info(i)['target']], dtype= 'object')\n",
        "            np.save(os.path.join(path, audio_loader.get_info(i)['filename']+'_0'), pack)\n",
        "            # break\n",
        "\n",
        "    if augmentation > 0:\n",
        "        for i in notebook.tqdm(range(len(audio_loader))):\n",
        "            this_audio = audio_loader[i][:sr*5]\n",
        "            this_audio = removeSilence(this_audio, fill_silence=True)\n",
        "            for aug in range(augmentation):\n",
        "                \n",
        "                if aug == 0:\n",
        "                    # ic(aug, np.shape(yam_audio))\n",
        "                    _, this_emb, _ = yamnet(this_audio)\n",
        "                    pack = np.array([this_emb, audio_loader.get_info(i)['fold'], audio_loader.get_info(i)['target']], dtype='object')\n",
        "                    np.save(os.path.join(path, audio_loader.get_info(i)['filename']+'_0'), pack)\n",
        "                else:\n",
        "                    aug_audio = augment(this_audio, sr)\n",
        "                    _, this_emb, _ = yamnet(this_audio)\n",
        "                    pack = np.array([this_emb, audio_loader.get_info(i)['fold'], audio_loader.get_info(i)['target']], dtype='object')\n",
        "                    np.save(os.path.join(path, audio_loader.get_info(i)['filename']+'_'+str(aug)), pack)\n",
        "\n",
        "\n",
        "        "
      ],
      "execution_count": 17,
      "outputs": []
    },
    {
      "cell_type": "code",
      "metadata": {
        "colab": {
          "base_uri": "https://localhost:8080/",
          "height": 83,
          "referenced_widgets": [
            "cd5811a6006a4c36936a3fd7fe7af9c4",
            "594cbb65c83f4d768c7651381917dd98",
            "b7e4e814d98c49239e5cf356807e093c",
            "1c66c49f0975490f9de2cae26d0f58ad",
            "9bc9d96f39854ae7a660e79f2c348f8c",
            "cd8d006cf6524693823da27110980008",
            "eddfe7dfa7844fcbbb573e6576a0c12d",
            "8ffafc816f1543ad98c2736126702b66"
          ]
        },
        "id": "uw1ZdIWTTYw9",
        "outputId": "e6dcdda7-8519-4490-fe73-7661c57969a4"
      },
      "source": [
        "ic(ROOT)\n",
        "\n",
        "!mkdir -p feature_storage\n",
        "path_batch = \"/content/feature_storage/\"\n",
        "\n",
        "# download ad set YAMNet pretrained model\n",
        "yamnet_model_handle = 'https://tfhub.dev/google/yamnet/1'\n",
        "yamnet_model = hub.load(yamnet_model_handle)\n",
        "\n",
        "audio_loader = AudioLoader(data_info, ROOT, format1=True)\n",
        "features_preprocessor(audio_loader, path_batch, data_info, yamnet_model, augmentation=0)"
      ],
      "execution_count": 18,
      "outputs": [
        {
          "output_type": "stream",
          "text": [
            "ic| ROOT: '/content/ESC-50/audio/'\n"
          ],
          "name": "stderr"
        },
        {
          "output_type": "display_data",
          "data": {
            "application/vnd.jupyter.widget-view+json": {
              "model_id": "cd5811a6006a4c36936a3fd7fe7af9c4",
              "version_minor": 0,
              "version_major": 2
            },
            "text/plain": [
              "HBox(children=(FloatProgress(value=0.0, max=2000.0), HTML(value='')))"
            ]
          },
          "metadata": {
            "tags": []
          }
        },
        {
          "output_type": "stream",
          "text": [
            "\n"
          ],
          "name": "stdout"
        }
      ]
    },
    {
      "cell_type": "code",
      "metadata": {
        "id": "SRe92c-mV7wX"
      },
      "source": [
        "def to_onehot(y, classes=50):\n",
        "    y_oh = np.zeros((classes, 1))\n",
        "    y_oh[y] = 1\n",
        "    return y_oh\n",
        "\n",
        "def mix(a, b, l):\n",
        "    return l*a + (1-l)*b\n",
        "\n",
        "\n",
        "class FeatureSequence(Sequence):\n",
        "    def __init__(self, names, path, batch_size, alpha_schedule, prob_schedule, with_mixup=False):\n",
        "        self.names = names\n",
        "        self.batch_size = batch_size\n",
        "        self.path = path\n",
        "        self.with_mixup = with_mixup\n",
        "        self.epoch = 0\n",
        "        self.alpha = [0.01, 0.01]\n",
        "        self.mix_prob = 1\n",
        "        self.alpha_schedule = alpha_schedule\n",
        "        self.prob_schedule = prob_schedule\n",
        "        # self.a = self.alpha_schedule[0,0]\n",
        "        # self.b = self.alpha_schedule[1,0]\n",
        "\n",
        "    def __len__(self):\n",
        "        return int(np.floor(len(self.names) / self.batch_size))\n",
        "\n",
        "    def on_epoch_end(self):\n",
        "        self.epoch += 1\n",
        "        if self.epoch < self.alpha_schedule.shape[1]:\n",
        "            self.alpha = self.alpha_schedule[:,self.epoch]\n",
        "        if self.epoch < self.prob_schedule.shape[0]:\n",
        "            self.mix_prob = self.prob_schedule[self.epoch]\n",
        "\n",
        "        print('deb deb', self.alpha[0], self.alpha[1])\n",
        "        random.shuffle(self.names)\n",
        "\n",
        "    def __getitem__(self, idx):\n",
        "        batch_names = self.names[idx*self.batch_size:(idx + 1)*self.batch_size]\n",
        "\n",
        "        batch_feat = []\n",
        "        # batch_infered = []\n",
        "        batch_target = []\n",
        "        for name in batch_names:\n",
        "            this_pack = np.load(os.path.join(self.path, name), allow_pickle=True)\n",
        "            # NB fix the axes order from the preprocessor\n",
        "            this_feat = this_pack[0]\n",
        "            # this_feat = np.transpose(this_feat, [2,1,0])\n",
        "            this_target = to_onehot(this_pack[2])\n",
        "            \n",
        "            if self.with_mixup and np.random.uniform(0,1) < self.mix_prob:\n",
        "            # if self.with_mixup:\n",
        "                # load another random pack\n",
        "                rand_name = np.random.randint(0, len(self.names))\n",
        "                this_pack2 = np.load(os.path.join(self.path, self.names[rand_name]), allow_pickle=True)\n",
        "                this_feat2 = this_pack2[0]\n",
        "                \n",
        "                this_target2 = to_onehot(this_pack2[2])\n",
        "\n",
        "                # mix the samples\n",
        "                l = np.random.beta(self.alpha[1], self.alpha[0])\n",
        "                # if l < 0.5:\n",
        "                #     l += 0.5\n",
        "                this_feat = mix(this_feat, this_feat2, l)\n",
        "                # if np.random.uniform(0,1) > self.mix_prob:\n",
        "                    # this_target = mix(this_target, this_target2, l)   #not mixing target for sample fusion\n",
        "\n",
        "            batch_feat.append(this_feat)\n",
        "            batch_target.append(this_target)\n",
        "\n",
        "        batch_infered = np.array(batch_feat)\n",
        "        # ic(batch_infered.shape, type(batch_infered))\n",
        "\n",
        "        batch_target = np.array(batch_target)\n",
        "        batch_input = batch_infered\n",
        "\n",
        "        return batch_input, batch_target\n"
      ],
      "execution_count": 89,
      "outputs": []
    },
    {
      "cell_type": "markdown",
      "metadata": {
        "id": "MN_AxOuHSFFU"
      },
      "source": [
        "# Online input pipeline"
      ]
    },
    {
      "cell_type": "markdown",
      "metadata": {
        "id": "0Xu8nTu2SgeZ"
      },
      "source": [
        "# Using only transfer learning and no mixed features"
      ]
    },
    {
      "cell_type": "code",
      "metadata": {
        "colab": {
          "base_uri": "https://localhost:8080/",
          "height": 530
        },
        "id": "Gg0-MPObCZA2",
        "outputId": "249bdf9b-046a-4dda-9163-c9d59489557b"
      },
      "source": [
        "epoch = 200\n",
        "alpha_schedule = np.zeros((2,epoch))\n",
        "alpha_start = 0.001\n",
        "alpha_end = 0.5\n",
        "alpha_schedule[:,0] = 0.001\n",
        "alpha_schedule[:,0:30] = np.linspace(alpha_start, alpha_end, 30)\n",
        "alpha_schedule[:,30:] = alpha_end\n",
        "# alpha_schedule[0,30:] = np.linspace(alpha_end, 0.001, 170)*np.exp(-np.linspace(0,10, 170))\n",
        "alpha_schedule[0,30:] = alpha_end*np.exp(-np.linspace(0,4, 170))\n",
        "alpha_schedule[1,30:] = np.linspace(alpha_end, 1, 170)\n",
        "plt.figure()\n",
        "plt.plot(alpha_schedule[0])\n",
        "plt.plot(alpha_schedule[1])\n",
        "\n",
        "prob_schedule = np.ones((epoch,))\n",
        "# prob_start = 1\n",
        "# prob_end = 0.6\n",
        "# prob_mid = 0.6\n",
        "# prob_schedule[30:100] = np.linspace(prob_start, prob_end, 70)\n",
        "# prob_schedule[100:] = prob_end\n",
        "# # prob_schedule[150] = np.linspace(prob_mid, prob_end, 50)\n",
        "\n",
        "plt.figure()\n",
        "plt.plot(prob_schedule)"
      ],
      "execution_count": 85,
      "outputs": [
        {
          "output_type": "execute_result",
          "data": {
            "text/plain": [
              "[<matplotlib.lines.Line2D at 0x7fb8f1c578d0>]"
            ]
          },
          "metadata": {
            "tags": []
          },
          "execution_count": 85
        },
        {
          "output_type": "display_data",
          "data": {
            "image/png": "[encoded data removed]",
            "text/plain": [
              "<Figure size 432x288 with 1 Axes>"
            ]
          },
          "metadata": {
            "tags": [],
            "needs_background": "light"
          }
        },
        {
          "output_type": "display_data",
          "data": {
            "image/png": "[encoded data removed]",
            "text/plain": [
              "<Figure size 432x288 with 1 Axes>"
            ]
          },
          "metadata": {
            "tags": [],
            "needs_background": "light"
          }
        }
      ]
    },
    {
      "cell_type": "code",
      "metadata": {
        "id": "v_5f0d6tmywW",
        "colab": {
          "base_uri": "https://localhost:8080/"
        },
        "outputId": "a592e0b4-157e-4546-bbe9-d946aeb20798"
      },
      "source": [
        "def make_tfYAMNet(dense1=100, dense2=100, dense3=50):\n",
        "    act = 'relu'\n",
        "\n",
        "    input_inf = layers.Input(shape=(,1024))\n",
        "    \n",
        "\n",
        "    inf = layers.GlobalAveragePooling1D()(input_inf)\n",
        "    # # inf = layers.Flatten()(input_inf)\n",
        "    # inf = tf.expand_dims(inf, axis=-1)\n",
        "    # inf = layers.Conv1D(100, 1, padding='same', activation='relu')(inf)\n",
        "    # inf = layers.Conv1D(100, 1, padding='same', activation='relu')(inf)\n",
        "    # inf = layers.Conv1D(50, 1, padding='same', activation='relu')(inf)\n",
        "    # z = layers.GlobalAveragePooling1D()(inf)\n",
        "\n",
        "\n",
        "    # z = layers.concatenate([inf,rms,cont], axis=1)\n",
        "    z = layers.Flatten()(inf)\n",
        "    z = layers.Dense(dense1, activation='relu',)(z)\n",
        "    z = layers.Dense(dense2, activation='relu',)(z)\n",
        "    z = layers.Dense(dense3, activation='relu',)(z)\n",
        "    # z = layers.BatchNormalization()(z)\n",
        "    z = layers.Dense(50, activation='softmax', name='out_total')(z)\n",
        "\n",
        "    \n",
        "    model = keras.Model(inputs=input_inf, outputs=z)\n",
        "    # model = keras.Model(inputs=[input_inf, input_rms, input_flat], outputs=z)\n",
        "    model.compile(optimizer=tf.keras.optimizers.Adam(learning_rate=0.001), \n",
        "      loss = tf.keras.losses.categorical_crossentropy, \n",
        "      metrics=['accuracy'])\n",
        "    return model\n",
        "\n",
        "tfyam_net = make_tfYAMNet()\n",
        "tfyam_net.summary()"
      ],
      "execution_count": 23,
      "outputs": [
        {
          "output_type": "stream",
          "text": [
            "Model: \"model\"\n",
            "_________________________________________________________________\n",
            "Layer (type)                 Output Shape              Param #   \n",
            "=================================================================\n",
            "input_1 (InputLayer)         [(None, None, 1024)]      0         \n",
            "_________________________________________________________________\n",
            "global_average_pooling1d (Gl (None, 1024)              0         \n",
            "_________________________________________________________________\n",
            "flatten (Flatten)            (None, 1024)              0         \n",
            "_________________________________________________________________\n",
            "dense (Dense)                (None, 100)               102500    \n",
            "_________________________________________________________________\n",
            "dense_1 (Dense)              (None, 100)               10100     \n",
            "_________________________________________________________________\n",
            "dense_2 (Dense)              (None, 50)                5050      \n",
            "_________________________________________________________________\n",
            "out_total (Dense)            (None, 50)                2550      \n",
            "=================================================================\n",
            "Total params: 120,200\n",
            "Trainable params: 120,200\n",
            "Non-trainable params: 0\n",
            "_________________________________________________________________\n"
          ],
          "name": "stdout"
        }
      ]
    },
    {
      "cell_type": "code",
      "metadata": {
        "id": "M_ekvUYBS0R8",
        "colab": {
          "base_uri": "https://localhost:8080/",
          "height": 721
        },
        "outputId": "3c123c14-9083-423a-b8f5-2952d4151376"
      },
      "source": [
        "SOURCE = path_batch\n",
        "\n",
        "batch_size = 64\n",
        "epochs = 125\n",
        "\n",
        "fold = 4\n",
        "# feat_names  = os.listdir(path_drive)\n",
        "feat_names  = os.listdir(SOURCE)\n",
        "ic(len(feat_names))\n",
        "\n",
        "# not using augmentated samples here\n",
        "# val_names = [x for x in feat_names if x[0]==str(fold) and x.endswith('0.npy')]\n",
        "# train_names = [x for x in feat_names if x[0]!=str(fold) and (x.endswith('0.npy'))]\n",
        "\n",
        "val_names = [x for x in feat_names if x[0]==str(fold) and x.endswith('0.npy')]\n",
        "train_names = [x for x in feat_names if x[0]!=str(fold)]\n",
        "ic(len(train_names))\n",
        "ic(len(val_names))\n",
        "\n",
        "train_dataloader = FeatureSequence(train_names, SOURCE, batch_size, alpha_schedule, prob_schedule, with_mixup=True)\n",
        "val_dataloader = FeatureSequence(val_names, SOURCE, batch_size, alpha_schedule, prob_schedule, with_mixup=False)\n",
        "\n",
        "\n",
        "ic(len(train_dataloader))\n",
        "ic(len(val_dataloader))\n",
        "\n",
        "model_checkpoint_dir = '/content/drive/MyDrive/UNI_ICT/HDA/best_model'\n",
        "model_checkpoint_file = os.path.join(model_checkpoint_dir, 'best_model_fold_'+str(fold))\n",
        "model_checkpoint_callback = tf.keras.callbacks.ModelCheckpoint(\n",
        "    filepath=model_checkpoint_file,\n",
        "    save_weights_only=True,\n",
        "    monitor='val_accuracy',\n",
        "    mode='max',\n",
        "    save_best_only=True)\n",
        "\n",
        "reduce_lr = tf.keras.callbacks.ReduceLROnPlateau(monitor='val_loss', factor=0.2,\n",
        "                              patience=5, min_lr=0.0001)\n",
        "\n",
        "\n",
        "tfyam_net = make_tfYAMNet(dense1=50, dense2=50, dense3=50)\n",
        "# Model training\n",
        "history = tfyam_net.fit(train_dataloader, \n",
        "                    epochs=epochs,\n",
        "                    callbacks=[PlotLossesKeras(), \n",
        "                               reduce_lr,\n",
        "                               model_checkpoint_callback,\n",
        "                               ],\n",
        "                    validation_data = val_dataloader,\n",
        "                    verbose=1)\n",
        "# load the best model checkpoint\n",
        "tfyam_net.load_weights(model_checkpoint_file)\n",
        "best_acc = max(history.history['val_accuracy'])\n",
        "print(best_acc)"
      ],
      "execution_count": 95,
      "outputs": [
        {
          "output_type": "display_data",
          "data": {
            "image/png": "[encoded data removed]",
            "text/plain": [
              "<Figure size 864x576 with 2 Axes>"
            ]
          },
          "metadata": {
            "tags": [],
            "needs_background": "light"
          }
        },
        {
          "output_type": "stream",
          "text": [
            "accuracy\n",
            "\ttraining         \t (min:    0.043, max:    0.929, cur:    0.929)\n",
            "\tvalidation       \t (min:    0.161, max:    0.891, cur:    0.888)\n",
            "Loss\n",
            "\ttraining         \t (min:    0.405, max:    3.883, cur:    0.405)\n",
            "\tvalidation       \t (min:    0.440, max:    3.727, cur:    0.441)\n",
            "deb deb 0.05277762797695529 0.7810650887573964\n",
            "0.890625\n"
          ],
          "name": "stdout"
        }
      ]
    },
    {
      "cell_type": "code",
      "metadata": {
        "id": "Zgznh-Ri0eW_",
        "outputId": "bf413789-2401-4e99-dfd6-82f6a8f2bcbe",
        "colab": {
          "base_uri": "https://localhost:8080/"
        }
      },
      "source": [
        "best_acc = max(history.history['val_accuracy'])\n",
        "print(best_acc)"
      ],
      "execution_count": 93,
      "outputs": [
        {
          "output_type": "stream",
          "text": [
            "0.9036458134651184\n"
          ],
          "name": "stdout"
        }
      ]
    },
    {
      "cell_type": "code",
      "metadata": {
        "colab": {
          "base_uri": "https://localhost:8080/",
          "height": 350
        },
        "id": "vDnzzfuVkQct",
        "outputId": "66751f43-5175-4fd6-8d08-0cfb41ce3d98"
      },
      "source": [
        "def beta_density(x, a,b):\n",
        "    B = (gamma(a)*gamma(b))/gamma(a+b)\n",
        "    return ((x**(a-1))*(1-x)**(b-1))/B\n",
        "\n",
        "# def check_beta(a,b):\n",
        "a = 0.01\n",
        "b = 1\n",
        "v = np.linspace(0,1, num=100)\n",
        "beta = beta_density(v, a, b)\n",
        "plt.figure()\n",
        "plt.plot(beta)"
      ],
      "execution_count": 73,
      "outputs": [
        {
          "output_type": "stream",
          "text": [
            "/usr/local/lib/python3.7/dist-packages/ipykernel_launcher.py:3: RuntimeWarning:\n",
            "\n",
            "divide by zero encountered in power\n",
            "\n"
          ],
          "name": "stderr"
        },
        {
          "output_type": "execute_result",
          "data": {
            "text/plain": [
              "[<matplotlib.lines.Line2D at 0x7fb8f2a7c290>]"
            ]
          },
          "metadata": {
            "tags": []
          },
          "execution_count": 73
        },
        {
          "output_type": "display_data",
          "data": {
            "image/png": "[encoded data removed]",
            "text/plain": [
              "<Figure size 432x288 with 1 Axes>"
            ]
          },
          "metadata": {
            "tags": [],
            "needs_background": "light"
          }
        }
      ]
    },
    {
      "cell_type": "code",
      "metadata": {
        "id": "uRPwvmfQp157"
      },
      "source": [
        ""
      ],
      "execution_count": null,
      "outputs": []
    }
  ]
}