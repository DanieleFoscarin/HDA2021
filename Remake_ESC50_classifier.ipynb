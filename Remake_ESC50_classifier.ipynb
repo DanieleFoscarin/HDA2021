{
  "nbformat": 4,
  "nbformat_minor": 0,
  "metadata": {
    "colab": {
      "name": "Remake ESC50 classifier.ipynb",
      "provenance": [],
      "toc_visible": true,
      "mount_file_id": "https://github.com/DanieleFoscarin/HDA2021/blob/main/Remake_ESC50_classifier.ipynb",
      "authorship_tag": "ABX9TyMX6QFZCIrTYAsL4fMrKYbF",
      "include_colab_link": true
    },
    "kernelspec": {
      "name": "python3",
      "display_name": "Python 3"
    },
    "accelerator": "GPU",
    "widgets": {
      "application/vnd.jupyter.widget-state+json": {
        "2a299d7b62854621a26c4215d4126cf1": {
          "model_module": "@jupyter-widgets/controls",
          "model_name": "HBoxModel",
          "state": {
            "_view_name": "HBoxView",
            "_dom_classes": [],
            "_model_name": "HBoxModel",
            "_view_module": "@jupyter-widgets/controls",
            "_model_module_version": "1.5.0",
            "_view_count": null,
            "_view_module_version": "1.5.0",
            "box_style": "",
            "layout": "IPY_MODEL_e9e4b25f6e824be484f52c39cd9b5a06",
            "_model_module": "@jupyter-widgets/controls",
            "children": [
              "IPY_MODEL_84120de88f564ee6b6ac383e8f81037e",
              "IPY_MODEL_6d9107d9a9a04bcf803e9d38f8cfda50"
            ]
          }
        },
        "e9e4b25f6e824be484f52c39cd9b5a06": {
          "model_module": "@jupyter-widgets/base",
          "model_name": "LayoutModel",
          "state": {
            "_view_name": "LayoutView",
            "grid_template_rows": null,
            "right": null,
            "justify_content": null,
            "_view_module": "@jupyter-widgets/base",
            "overflow": null,
            "_model_module_version": "1.2.0",
            "_view_count": null,
            "flex_flow": null,
            "width": null,
            "min_width": null,
            "border": null,
            "align_items": null,
            "bottom": null,
            "_model_module": "@jupyter-widgets/base",
            "top": null,
            "grid_column": null,
            "overflow_y": null,
            "overflow_x": null,
            "grid_auto_flow": null,
            "grid_area": null,
            "grid_template_columns": null,
            "flex": null,
            "_model_name": "LayoutModel",
            "justify_items": null,
            "grid_row": null,
            "max_height": null,
            "align_content": null,
            "visibility": null,
            "align_self": null,
            "height": null,
            "min_height": null,
            "padding": null,
            "grid_auto_rows": null,
            "grid_gap": null,
            "max_width": null,
            "order": null,
            "_view_module_version": "1.2.0",
            "grid_template_areas": null,
            "object_position": null,
            "object_fit": null,
            "grid_auto_columns": null,
            "margin": null,
            "display": null,
            "left": null
          }
        },
        "84120de88f564ee6b6ac383e8f81037e": {
          "model_module": "@jupyter-widgets/controls",
          "model_name": "FloatProgressModel",
          "state": {
            "_view_name": "ProgressView",
            "style": "IPY_MODEL_f9430137b784433a8f55d1368852acab",
            "_dom_classes": [],
            "description": "100%",
            "_model_name": "FloatProgressModel",
            "bar_style": "success",
            "max": 2000,
            "_view_module": "@jupyter-widgets/controls",
            "_model_module_version": "1.5.0",
            "value": 2000,
            "_view_count": null,
            "_view_module_version": "1.5.0",
            "orientation": "horizontal",
            "min": 0,
            "description_tooltip": null,
            "_model_module": "@jupyter-widgets/controls",
            "layout": "IPY_MODEL_db75c2d5359f4ed8a0f0b73ceda40bf1"
          }
        },
        "6d9107d9a9a04bcf803e9d38f8cfda50": {
          "model_module": "@jupyter-widgets/controls",
          "model_name": "HTMLModel",
          "state": {
            "_view_name": "HTMLView",
            "style": "IPY_MODEL_93331db19a1148bdb5471c6a3e463bb3",
            "_dom_classes": [],
            "description": "",
            "_model_name": "HTMLModel",
            "placeholder": "​",
            "_view_module": "@jupyter-widgets/controls",
            "_model_module_version": "1.5.0",
            "value": " 2000/2000 [22:40&lt;00:00,  1.47it/s]",
            "_view_count": null,
            "_view_module_version": "1.5.0",
            "description_tooltip": null,
            "_model_module": "@jupyter-widgets/controls",
            "layout": "IPY_MODEL_a2a201eb73594814bb4e7848503d7754"
          }
        },
        "f9430137b784433a8f55d1368852acab": {
          "model_module": "@jupyter-widgets/controls",
          "model_name": "ProgressStyleModel",
          "state": {
            "_view_name": "StyleView",
            "_model_name": "ProgressStyleModel",
            "description_width": "initial",
            "_view_module": "@jupyter-widgets/base",
            "_model_module_version": "1.5.0",
            "_view_count": null,
            "_view_module_version": "1.2.0",
            "bar_color": null,
            "_model_module": "@jupyter-widgets/controls"
          }
        },
        "db75c2d5359f4ed8a0f0b73ceda40bf1": {
          "model_module": "@jupyter-widgets/base",
          "model_name": "LayoutModel",
          "state": {
            "_view_name": "LayoutView",
            "grid_template_rows": null,
            "right": null,
            "justify_content": null,
            "_view_module": "@jupyter-widgets/base",
            "overflow": null,
            "_model_module_version": "1.2.0",
            "_view_count": null,
            "flex_flow": null,
            "width": null,
            "min_width": null,
            "border": null,
            "align_items": null,
            "bottom": null,
            "_model_module": "@jupyter-widgets/base",
            "top": null,
            "grid_column": null,
            "overflow_y": null,
            "overflow_x": null,
            "grid_auto_flow": null,
            "grid_area": null,
            "grid_template_columns": null,
            "flex": null,
            "_model_name": "LayoutModel",
            "justify_items": null,
            "grid_row": null,
            "max_height": null,
            "align_content": null,
            "visibility": null,
            "align_self": null,
            "height": null,
            "min_height": null,
            "padding": null,
            "grid_auto_rows": null,
            "grid_gap": null,
            "max_width": null,
            "order": null,
            "_view_module_version": "1.2.0",
            "grid_template_areas": null,
            "object_position": null,
            "object_fit": null,
            "grid_auto_columns": null,
            "margin": null,
            "display": null,
            "left": null
          }
        },
        "93331db19a1148bdb5471c6a3e463bb3": {
          "model_module": "@jupyter-widgets/controls",
          "model_name": "DescriptionStyleModel",
          "state": {
            "_view_name": "StyleView",
            "_model_name": "DescriptionStyleModel",
            "description_width": "",
            "_view_module": "@jupyter-widgets/base",
            "_model_module_version": "1.5.0",
            "_view_count": null,
            "_view_module_version": "1.2.0",
            "_model_module": "@jupyter-widgets/controls"
          }
        },
        "a2a201eb73594814bb4e7848503d7754": {
          "model_module": "@jupyter-widgets/base",
          "model_name": "LayoutModel",
          "state": {
            "_view_name": "LayoutView",
            "grid_template_rows": null,
            "right": null,
            "justify_content": null,
            "_view_module": "@jupyter-widgets/base",
            "overflow": null,
            "_model_module_version": "1.2.0",
            "_view_count": null,
            "flex_flow": null,
            "width": null,
            "min_width": null,
            "border": null,
            "align_items": null,
            "bottom": null,
            "_model_module": "@jupyter-widgets/base",
            "top": null,
            "grid_column": null,
            "overflow_y": null,
            "overflow_x": null,
            "grid_auto_flow": null,
            "grid_area": null,
            "grid_template_columns": null,
            "flex": null,
            "_model_name": "LayoutModel",
            "justify_items": null,
            "grid_row": null,
            "max_height": null,
            "align_content": null,
            "visibility": null,
            "align_self": null,
            "height": null,
            "min_height": null,
            "padding": null,
            "grid_auto_rows": null,
            "grid_gap": null,
            "max_width": null,
            "order": null,
            "_view_module_version": "1.2.0",
            "grid_template_areas": null,
            "object_position": null,
            "object_fit": null,
            "grid_auto_columns": null,
            "margin": null,
            "display": null,
            "left": null
          }
        }
      }
    }
  },
  "cells": [
    {
      "cell_type": "markdown",
      "metadata": {
        "id": "view-in-github",
        "colab_type": "text"
      },
      "source": [
        "<a href=\"https://colab.research.google.com/github/DanieleFoscarin/HDA2021/blob/main/Remake_ESC50_classifier.ipynb\" target=\"_parent\"><img src=\"https://colab.research.google.com/assets/colab-badge.svg\" alt=\"Open In Colab\"/></a>"
      ]
    },
    {
      "cell_type": "markdown",
      "metadata": {
        "id": "A-HHzLIXZY17"
      },
      "source": [
        "Fine tuning reference https://www.kaggle.com/sgcuber24/fine-tune-mobilenet-v2\n",
        "\n",
        "Model choice reference https://towardsdatascience.com/how-to-choose-the-best-keras-pre-trained-model-for-image-classification-b850ca4428d4"
      ]
    },
    {
      "cell_type": "code",
      "metadata": {
        "id": "iiWyliJiBzaE",
        "colab": {
          "base_uri": "https://localhost:8080/"
        },
        "outputId": "93efd1c0-8d48-4204-c9f7-e7e2bc7b371a"
      },
      "source": [
        "# TODO change chromagram with gammatone\n",
        "\n",
        "# ! pip install git+https://github.com/detly/gammatone.git --quiet\n",
        "# import gammatone"
      ],
      "execution_count": null,
      "outputs": [
        {
          "output_type": "stream",
          "text": [
            "  Building wheel for Gammatone (setup.py) ... \u001b[?25l\u001b[?25hdone\n"
          ],
          "name": "stdout"
        }
      ]
    },
    {
      "cell_type": "code",
      "metadata": {
        "id": "4LHBeu3ccRWI"
      },
      "source": [
        "# ! pip install brian2hears --quiet\n",
        "# import brian2 as b2\n",
        "# import brian2hears as b2h"
      ],
      "execution_count": null,
      "outputs": []
    },
    {
      "cell_type": "code",
      "metadata": {
        "id": "os9gS_6l0dKn"
      },
      "source": [
        "! pip install icecream --quiet\n",
        "from icecream import ic"
      ],
      "execution_count": 1,
      "outputs": []
    },
    {
      "cell_type": "code",
      "metadata": {
        "id": "owTStArCqOyF"
      },
      "source": [
        "from pathlib import Path\n",
        "from scipy.io import wavfile\n",
        "from IPython.display import Audio\n",
        "import pandas as pd\n",
        "import numpy as np\n",
        "from matplotlib import pyplot as plt \n",
        "import librosa\n",
        "from tqdm import tqdm, tqdm_notebook, notebook\n",
        "import gc\n",
        "import time \n",
        "# import numba\n",
        "import os\n",
        "import scipy.fftpack\n",
        "\n",
        "\n",
        "import tensorflow as tf\n",
        "from tensorflow.keras import layers\n",
        "from tensorflow.keras.utils import Sequence, SequenceEnqueuer   # try enquerer that uses parallelism\n",
        "from tensorflow import keras\n",
        "from tensorflow.keras.layers import BatchNormalization\n",
        "\n",
        "#import model \n",
        "from tensorflow.keras.applications.mobilenet_v2 import MobileNetV2\n",
        "\n",
        "sr = 44100"
      ],
      "execution_count": 2,
      "outputs": []
    },
    {
      "cell_type": "code",
      "metadata": {
        "id": "QhlvC6fouj5l",
        "colab": {
          "base_uri": "https://localhost:8080/"
        },
        "outputId": "b0a3474c-5551-4348-c29d-aa09f7cde82e"
      },
      "source": [
        "! pip install optuna --quiet\n",
        "import optuna"
      ],
      "execution_count": 3,
      "outputs": [
        {
          "output_type": "stream",
          "text": [
            "\u001b[K     |████████████████████████████████| 296kB 9.0MB/s \n",
            "\u001b[K     |████████████████████████████████| 1.2MB 34.9MB/s \n",
            "\u001b[K     |████████████████████████████████| 81kB 10.0MB/s \n",
            "\u001b[K     |████████████████████████████████| 81kB 12.3MB/s \n",
            "\u001b[K     |████████████████████████████████| 51kB 7.7MB/s \n",
            "\u001b[K     |████████████████████████████████| 112kB 58.6MB/s \n",
            "\u001b[K     |████████████████████████████████| 143kB 55.3MB/s \n",
            "\u001b[?25h  Building wheel for alembic (setup.py) ... \u001b[?25l\u001b[?25hdone\n",
            "  Building wheel for pyperclip (setup.py) ... \u001b[?25l\u001b[?25hdone\n"
          ],
          "name": "stdout"
        }
      ]
    },
    {
      "cell_type": "code",
      "metadata": {
        "id": "1JlJ6V7C3PXj"
      },
      "source": [
        "!pip install livelossplot --quiet\n",
        "from livelossplot import PlotLossesKeras"
      ],
      "execution_count": 4,
      "outputs": []
    },
    {
      "cell_type": "markdown",
      "metadata": {
        "id": "ej2eN-L_p4Nt"
      },
      "source": [
        "# Get Dataset"
      ]
    },
    {
      "cell_type": "code",
      "metadata": {
        "colab": {
          "base_uri": "https://localhost:8080/"
        },
        "id": "2sYgxpk9k3J-",
        "outputId": "08035ae2-3fd2-4f7d-ad76-6838b5ce51a7"
      },
      "source": [
        "# Clone the entire repo.\n",
        "!git clone https://github.com/karolpiczak/ESC-50.git\n"
      ],
      "execution_count": 5,
      "outputs": [
        {
          "output_type": "stream",
          "text": [
            "Cloning into 'ESC-50'...\n",
            "remote: Enumerating objects: 4154, done.\u001b[K\n",
            "remote: Counting objects: 100% (18/18), done.\u001b[K\n",
            "remote: Compressing objects: 100% (18/18), done.\u001b[K\n",
            "remote: Total 4154 (delta 10), reused 0 (delta 0), pack-reused 4136\u001b[K\n",
            "Receiving objects: 100% (4154/4154), 878.78 MiB | 16.74 MiB/s, done.\n",
            "Resolving deltas: 100% (257/257), done.\n",
            "Checking out files: 100% (2011/2011), done.\n"
          ],
          "name": "stdout"
        }
      ]
    },
    {
      "cell_type": "code",
      "metadata": {
        "colab": {
          "base_uri": "https://localhost:8080/",
          "height": 419
        },
        "id": "TKGGth680BLt",
        "outputId": "f4f0060e-d4f7-48ff-fd1a-cda4e8f52d13"
      },
      "source": [
        "ROOT = '/content/ESC-50/audio/'\n",
        "\n",
        "data_info = pd.read_csv(ROOT+\"../meta/esc50.csv\")\n",
        "\n",
        "#make a category dictionary\n",
        "category_dict = dict(zip(data_info['target'], data_info['category']))\n",
        "# to_onehot_dict = dict(zip(range(0,50), np.))\n",
        "\n",
        "#remove unused coumn and add other\n",
        "# aug_col = np.zeros((len(data_info),1))\n",
        "# mixup_col = -1 * np.ones((len(data_info),1))\n",
        "# data_info.drop('esc10', axis=1, inplace=True)\n",
        "# data_info.drop('src_file', axis=1, inplace=True)\n",
        "# data_info.drop('take', axis=1, inplace=True)\n",
        "\n",
        "# data_info['augmentation'] = aug_col\n",
        "# data_info['mixup'] = mixup_col\n",
        "\n",
        "# # one hot encoding from category\n",
        "# data_info = pd.get_dummies(data_info, columns=[\"category\"], prefix='', prefix_sep='') \n",
        "\n",
        "\n",
        "data_info"
      ],
      "execution_count": 6,
      "outputs": [
        {
          "output_type": "execute_result",
          "data": {
            "text/html": [
              "<div>\n",
              "<style scoped>\n",
              "    .dataframe tbody tr th:only-of-type {\n",
              "        vertical-align: middle;\n",
              "    }\n",
              "\n",
              "    .dataframe tbody tr th {\n",
              "        vertical-align: top;\n",
              "    }\n",
              "\n",
              "    .dataframe thead th {\n",
              "        text-align: right;\n",
              "    }\n",
              "</style>\n",
              "<table border=\"1\" class=\"dataframe\">\n",
              "  <thead>\n",
              "    <tr style=\"text-align: right;\">\n",
              "      <th></th>\n",
              "      <th>filename</th>\n",
              "      <th>fold</th>\n",
              "      <th>target</th>\n",
              "      <th>category</th>\n",
              "      <th>esc10</th>\n",
              "      <th>src_file</th>\n",
              "      <th>take</th>\n",
              "    </tr>\n",
              "  </thead>\n",
              "  <tbody>\n",
              "    <tr>\n",
              "      <th>0</th>\n",
              "      <td>1-100032-A-0.wav</td>\n",
              "      <td>1</td>\n",
              "      <td>0</td>\n",
              "      <td>dog</td>\n",
              "      <td>True</td>\n",
              "      <td>100032</td>\n",
              "      <td>A</td>\n",
              "    </tr>\n",
              "    <tr>\n",
              "      <th>1</th>\n",
              "      <td>1-100038-A-14.wav</td>\n",
              "      <td>1</td>\n",
              "      <td>14</td>\n",
              "      <td>chirping_birds</td>\n",
              "      <td>False</td>\n",
              "      <td>100038</td>\n",
              "      <td>A</td>\n",
              "    </tr>\n",
              "    <tr>\n",
              "      <th>2</th>\n",
              "      <td>1-100210-A-36.wav</td>\n",
              "      <td>1</td>\n",
              "      <td>36</td>\n",
              "      <td>vacuum_cleaner</td>\n",
              "      <td>False</td>\n",
              "      <td>100210</td>\n",
              "      <td>A</td>\n",
              "    </tr>\n",
              "    <tr>\n",
              "      <th>3</th>\n",
              "      <td>1-100210-B-36.wav</td>\n",
              "      <td>1</td>\n",
              "      <td>36</td>\n",
              "      <td>vacuum_cleaner</td>\n",
              "      <td>False</td>\n",
              "      <td>100210</td>\n",
              "      <td>B</td>\n",
              "    </tr>\n",
              "    <tr>\n",
              "      <th>4</th>\n",
              "      <td>1-101296-A-19.wav</td>\n",
              "      <td>1</td>\n",
              "      <td>19</td>\n",
              "      <td>thunderstorm</td>\n",
              "      <td>False</td>\n",
              "      <td>101296</td>\n",
              "      <td>A</td>\n",
              "    </tr>\n",
              "    <tr>\n",
              "      <th>...</th>\n",
              "      <td>...</td>\n",
              "      <td>...</td>\n",
              "      <td>...</td>\n",
              "      <td>...</td>\n",
              "      <td>...</td>\n",
              "      <td>...</td>\n",
              "      <td>...</td>\n",
              "    </tr>\n",
              "    <tr>\n",
              "      <th>1995</th>\n",
              "      <td>5-263831-B-6.wav</td>\n",
              "      <td>5</td>\n",
              "      <td>6</td>\n",
              "      <td>hen</td>\n",
              "      <td>False</td>\n",
              "      <td>263831</td>\n",
              "      <td>B</td>\n",
              "    </tr>\n",
              "    <tr>\n",
              "      <th>1996</th>\n",
              "      <td>5-263902-A-36.wav</td>\n",
              "      <td>5</td>\n",
              "      <td>36</td>\n",
              "      <td>vacuum_cleaner</td>\n",
              "      <td>False</td>\n",
              "      <td>263902</td>\n",
              "      <td>A</td>\n",
              "    </tr>\n",
              "    <tr>\n",
              "      <th>1997</th>\n",
              "      <td>5-51149-A-25.wav</td>\n",
              "      <td>5</td>\n",
              "      <td>25</td>\n",
              "      <td>footsteps</td>\n",
              "      <td>False</td>\n",
              "      <td>51149</td>\n",
              "      <td>A</td>\n",
              "    </tr>\n",
              "    <tr>\n",
              "      <th>1998</th>\n",
              "      <td>5-61635-A-8.wav</td>\n",
              "      <td>5</td>\n",
              "      <td>8</td>\n",
              "      <td>sheep</td>\n",
              "      <td>False</td>\n",
              "      <td>61635</td>\n",
              "      <td>A</td>\n",
              "    </tr>\n",
              "    <tr>\n",
              "      <th>1999</th>\n",
              "      <td>5-9032-A-0.wav</td>\n",
              "      <td>5</td>\n",
              "      <td>0</td>\n",
              "      <td>dog</td>\n",
              "      <td>True</td>\n",
              "      <td>9032</td>\n",
              "      <td>A</td>\n",
              "    </tr>\n",
              "  </tbody>\n",
              "</table>\n",
              "<p>2000 rows × 7 columns</p>\n",
              "</div>"
            ],
            "text/plain": [
              "               filename  fold  target        category  esc10  src_file take\n",
              "0      1-100032-A-0.wav     1       0             dog   True    100032    A\n",
              "1     1-100038-A-14.wav     1      14  chirping_birds  False    100038    A\n",
              "2     1-100210-A-36.wav     1      36  vacuum_cleaner  False    100210    A\n",
              "3     1-100210-B-36.wav     1      36  vacuum_cleaner  False    100210    B\n",
              "4     1-101296-A-19.wav     1      19    thunderstorm  False    101296    A\n",
              "...                 ...   ...     ...             ...    ...       ...  ...\n",
              "1995   5-263831-B-6.wav     5       6             hen  False    263831    B\n",
              "1996  5-263902-A-36.wav     5      36  vacuum_cleaner  False    263902    A\n",
              "1997   5-51149-A-25.wav     5      25       footsteps  False     51149    A\n",
              "1998    5-61635-A-8.wav     5       8           sheep  False     61635    A\n",
              "1999     5-9032-A-0.wav     5       0             dog   True      9032    A\n",
              "\n",
              "[2000 rows x 7 columns]"
            ]
          },
          "metadata": {
            "tags": []
          },
          "execution_count": 6
        }
      ]
    },
    {
      "cell_type": "code",
      "metadata": {
        "colab": {
          "base_uri": "https://localhost:8080/",
          "height": 316
        },
        "id": "shU46DDMXQ6k",
        "outputId": "cd98f5a8-3c9b-48e7-af35-c76b9c42a246"
      },
      "source": [
        "class AudioLoader():\n",
        "    def __init__(self, df, root, format1=False):\n",
        "        self.df = df\n",
        "        self.root = root\n",
        "        self.format1 = format1\n",
        "\n",
        "    def __len__(self):\n",
        "        return len(self.df)\n",
        "\n",
        "    def __getitem__(self, idx):\n",
        "        _, this_audio = wavfile.read(os.path.join(self.root, self.df['filename'][idx]))\n",
        "        if self.format1:\n",
        "            this_audio = this_audio / 32768\n",
        "        return this_audio\n",
        "\n",
        "    def get_info(self, idx, list=False):\n",
        "        if list:\n",
        "            out = self.df.iloc[idx].to_list()\n",
        "        else:\n",
        "            out = self.df.iloc[idx]\n",
        "        return out\n",
        "\n",
        "\n",
        "audio_loader = AudioLoader(data_info, ROOT, True)\n",
        "ic(len(audio_loader))\n",
        "plt.plot(audio_loader[123])\n",
        "print(type(audio_loader.get_info(123)))\n",
        "print(audio_loader.get_info(123)['category'])"
      ],
      "execution_count": 7,
      "outputs": [
        {
          "output_type": "stream",
          "text": [
            "ic| len(audio_loader): 2000\n"
          ],
          "name": "stderr"
        },
        {
          "output_type": "stream",
          "text": [
            "<class 'pandas.core.series.Series'>\n",
            "washing_machine\n"
          ],
          "name": "stdout"
        },
        {
          "output_type": "display_data",
          "data": {
            "image/png": "[encoded data removed]",
            "text/plain": [
              "<Figure size 432x288 with 1 Axes>"
            ]
          },
          "metadata": {
            "tags": [],
            "needs_background": "light"
          }
        }
      ]
    },
    {
      "cell_type": "markdown",
      "metadata": {
        "id": "ZPgwQYk9rQcO"
      },
      "source": [
        "# Try first with very basic preprocessing and classification\n",
        "without kfold or slicing"
      ]
    },
    {
      "cell_type": "markdown",
      "metadata": {
        "id": "8XC0hT5PXgkR"
      },
      "source": [
        "Save numpy files on disk in and keep using only filenames"
      ]
    },
    {
      "cell_type": "markdown",
      "metadata": {
        "id": "71jBGkU8smlc"
      },
      "source": [
        "Augmentation"
      ]
    },
    {
      "cell_type": "code",
      "metadata": {
        "id": "jaF0GJapson8"
      },
      "source": [
        ""
      ],
      "execution_count": 7,
      "outputs": []
    },
    {
      "cell_type": "code",
      "metadata": {
        "id": "7s_NDQPBXmsI"
      },
      "source": [
        "# ! mkdir -p mel_storage\n",
        "# path_mel = \"/content/mel_storage/\"\n",
        "\n",
        "# ! mkdir -p mfcc_storage\n",
        "# path_mfcc = \"/content/mfcc_storage/\"\n",
        "\n",
        "# ! mkdir -p chroma_storage\n",
        "# path_chroma = \"/content/chroma_storage/\"\n",
        "\n",
        "# path_list = [path_mel, path_mfcc, path_chroma]\n",
        "\n",
        "!mkdir -p feature_storage\n",
        "path_batch = \"/content/feature_storage/\"\n",
        "\n",
        "path_drive = '/content/drive/MyDrive/UNI_ICT/HDA/data/' "
      ],
      "execution_count": 8,
      "outputs": []
    },
    {
      "cell_type": "code",
      "metadata": {
        "id": "KgCOIm5VajWL"
      },
      "source": [
        ""
      ],
      "execution_count": null,
      "outputs": []
    },
    {
      "cell_type": "markdown",
      "metadata": {
        "id": "VDPVsPsKsdor"
      },
      "source": [
        "# Preprocessing functions"
      ]
    },
    {
      "cell_type": "markdown",
      "metadata": {
        "id": "WfUcbYBFutY6"
      },
      "source": [
        "remeber to apply augmentation and mixup only on the training samples, foldwise"
      ]
    },
    {
      "cell_type": "markdown",
      "metadata": {
        "id": "f0GyUX7BXKA5"
      },
      "source": [
        "## Removing silence"
      ]
    },
    {
      "cell_type": "markdown",
      "metadata": {
        "id": "4RFf0vvi9Jgq"
      },
      "source": [
        "removing silence at the beginning or at the end of the audio clip"
      ]
    },
    {
      "cell_type": "code",
      "metadata": {
        "id": "Hsfe-JDj9FZb"
      },
      "source": [
        "def removeSilence(signal, fill_silence=False):\n",
        "    \"\"\"\n",
        "    Remove the leading and trailing zeros in an array,\n",
        "    Parameters:\n",
        "        signal: array,\n",
        "        fill_silence: boolean, if True it repeats the non zero part until the \n",
        "            size of the output array is the same as the input array\n",
        "    Return:\n",
        "        an array\n",
        "\n",
        "    \"\"\"\n",
        "    \n",
        "    trimmed = np.trim_zeros(signal)\n",
        "    if not fill_silence:\n",
        "        return trimmed\n",
        "    if fill_silence:\n",
        "        lt = len(trimmed)\n",
        "        ls = len(signal)\n",
        "        # ic(lt,ls)\n",
        "        if lt < ls:\n",
        "          trimmed = np.tile(trimmed, int(np.ceil(ls/lt)))\n",
        "          trimmed = trimmed[:ls]  \n",
        "        return trimmed\n",
        "\n",
        "# ic(len(audio_list[0]))\n",
        "# a = removeSilence(audio_list[0], fill_silence=True)\n",
        "# librosa.display.waveplot(a, sr=SR)\n",
        "# ic(len(audio_list[0]))\n",
        "# ic(len(a))\n",
        "# # IPython.display.Audio(a, rate=sr)"
      ],
      "execution_count": 9,
      "outputs": []
    },
    {
      "cell_type": "markdown",
      "metadata": {
        "id": "fnwKDk_9XPhp"
      },
      "source": [
        "## Segmentation"
      ]
    },
    {
      "cell_type": "code",
      "metadata": {
        "id": "nNKi9PsAHyel"
      },
      "source": [
        "# OBSOLETE\n",
        "\n",
        "# def segmentation(y, seg_len, overlap=0, pad_end='off'):\n",
        "#     \"\"\" \n",
        "#     Returns a list of array with same size, extracted from a signal\n",
        "#     parameters: \n",
        "#         y: array, input signal\n",
        "#         seg_len: int, number of samples of the output segments\n",
        "#         overlap: int, number of samples overlapped between two segments\n",
        "#         pad_end: 'off': no padding,\n",
        "#                  'half': maximum padding is hald of seg_len,\n",
        "#                  'full': allows for the maximum number of segments. \n",
        "#     return:\n",
        "#         a list of arrays.\n",
        "#     \"\"\"\n",
        "#     y_len = len(y)\n",
        "#     # if seg_len > y_len or overlap > seg_len:        \n",
        "#     seg_begin = 0\n",
        "#     seg_end = seg_begin + seg_len\n",
        "#     seg_list = []\n",
        "    \n",
        "\n",
        "#     if pad_end == 'full':\n",
        "#         pad = np.zeros((seg_len - overlap,))\n",
        "#         print(np.shape(pad))\n",
        "#         y = np.concatenate((y, pad)) \n",
        "#         while seg_begin < y_len:\n",
        "#             seg_end = seg_begin + seg_len\n",
        "#             seg_list.append(y[seg_begin:seg_end])\n",
        "#             seg_begin = seg_begin + seg_len - overlap\n",
        "\n",
        "#     if pad_end == 'off':\n",
        "#         while seg_end < y_len:\n",
        "#             seg_end = seg_begin + seg_len\n",
        "#             seg_list.append(y[seg_begin:seg_end])\n",
        "#             seg_begin = seg_begin + seg_len - overlap\n",
        "    \n",
        "#     if pad_end == 'half':\n",
        "#         pad = np.zeros((int(seg_len/2),))\n",
        "#         print(np.shape(pad))\n",
        "#         y = np.concatenate((y, pad)) \n",
        "#         while seg_begin + seg_len < len(y):\n",
        "#             seg_end = seg_begin + seg_len\n",
        "#             seg_list.append(y[seg_begin:seg_end])\n",
        "#             seg_begin = seg_begin + seg_len - overlap\n",
        "#     #TODO more options on padding\n",
        "\n",
        "#     return seg_list\n",
        "\n",
        "\n",
        "# out = segmentation(0.5*np.ones((12,)), 5, 0, pad_end='half')\n",
        "# # print(np.shape(out))\n",
        "# print(out)\n",
        "# print(a)\n"
      ],
      "execution_count": null,
      "outputs": []
    },
    {
      "cell_type": "markdown",
      "metadata": {
        "id": "BasNEAgvXW7b"
      },
      "source": [
        "## compute spectral features"
      ]
    },
    {
      "cell_type": "code",
      "metadata": {
        "id": "MKxNAlgFEylz"
      },
      "source": [
        "# OBSOLETE\n",
        "\n",
        "# def features2(audio, sr, bands=64,):\n",
        "#     def normalize01(data):\n",
        "#         return (data - np.min(data)) / (np.max(data) - np.min(data))\n",
        "\n",
        "#     def standardize(data):\n",
        "#         return (data - np.mean(data))/np.std(data)\n",
        "\n",
        "#     diff = 32\n",
        "#     this_mel = librosa.amplitude_to_db(librosa.feature.melspectrogram(audio.astype('float32'), sr=sr, hop_length=int(sr*0.01), n_mels=64 ))\n",
        "#     this_mel = standardize(this_mel)\n",
        "\n",
        "#     this_diff_mel = np.concatenate((np.diff(this_mel, n=1, axis=1), np.zeros((this_mel.shape[0],1))), axis=1)\n",
        "#     this_diff_mel = standardize(this_diff_mel)\n",
        " \n",
        "#     # this_flat =  librosa.amplitude_to_db(librosa.feature.spectral_flatness(y=audio, hop_length=int(sr*0.01)))\n",
        "#     # this_flat = standardize(this_flat)\n",
        "\n",
        "#     # this_rms = librosa.feature.rms(audio, hop_length=int(sr*0.01))\n",
        "#     # this_rms = standardize(this_rms)\n",
        "\n",
        "#     this_mfcc = librosa.feature.mfcc(S=this_mel, sr=sr, n_mfcc=64)\n",
        "#     this_mfcc = standardize(this_mfcc)\n",
        "#     # mfcc_diff = np.concatenate((np.diff(this_mfcc[:diff,:], n=1, axis=1), np.zeros((diff,1))), axis=1)\n",
        "#     # this_mfcc = np.concatenate((this_mfcc, mfcc_diff), axis=0)\n",
        "\n",
        "#     # this_chroma = librosa.feature.chroma_stft(audio.astype('float32'), sr=sr, hop_length=int(sr*0.01), n_chroma=bands)\n",
        "#     # this_chroma = scipy.fftpack.dct(this_chroma)\n",
        "#     # this_chroma = standardize(this_chroma)\n",
        "#     # chroma_diff = np.concatenate((np.diff(this_chroma[:diff,:], n=1, axis=1), np.zeros((diff,1))), axis=1)\n",
        "#     # this_chroma = np.concatenate((this_chroma, chroma_diff), axis=0)\n",
        "\n",
        "#     features = [normalize01(this_mel), normalize01(this_diff_mel), normalize01(this_mfcc)]\n",
        "#     return features\n"
      ],
      "execution_count": null,
      "outputs": []
    },
    {
      "cell_type": "code",
      "metadata": {
        "colab": {
          "base_uri": "https://localhost:8080/",
          "height": 1000
        },
        "id": "drMHKn2jKlMB",
        "outputId": "dcf34b77-1867-4943-9063-e985f74fed44"
      },
      "source": [
        "def features3(audio, sr, bands=64,):\n",
        "    def normalize01(data):\n",
        "        return (data - np.min(data)) / (np.max(data) - np.min(data))\n",
        "\n",
        "    def standardize(data):\n",
        "        return (data - np.mean(data))/np.std(data)\n",
        "\n",
        "    this_mel = librosa.amplitude_to_db(librosa.feature.melspectrogram(audio.astype('float32'), sr=sr, hop_length=int(sr*0.01), n_mels=64 ))\n",
        "    this_mel = standardize(this_mel)\n",
        "\n",
        "    this_diff_mel = np.concatenate((np.diff(this_mel, n=1, axis=1), np.zeros((this_mel.shape[0],1))), axis=1)\n",
        "    this_diff_mel = standardize(this_diff_mel)\n",
        " \n",
        "    this_flat =  librosa.amplitude_to_db(librosa.feature.spectral_flatness(y=audio, hop_length=int(sr*0.01)))\n",
        "    this_flat = standardize(this_flat)\n",
        "    this_flat = np.transpose(this_flat, axes=[1,0])\n",
        "\n",
        "    this_rms = librosa.feature.rms(audio, hop_length=int(sr*0.01))\n",
        "    this_rms = standardize(this_rms)\n",
        "    this_rms = np.transpose(this_rms, axes=[1,0])\n",
        "\n",
        "    this_mfcc = librosa.feature.mfcc(S=this_mel, sr=sr, n_mfcc=64)\n",
        "    this_mfcc = standardize(this_mfcc)\n",
        "    # mfcc_diff = np.concatenate((np.diff(this_mfcc[:diff,:], n=1, axis=1), np.zeros((diff,1))), axis=1)\n",
        "    # this_mfcc = np.concatenate((this_mfcc, mfcc_diff), axis=0)\n",
        "\n",
        "    # this_chroma = librosa.feature.chroma_stft(audio.astype('float32'), sr=sr, hop_length=int(sr*0.01), n_chroma=bands)\n",
        "    # this_chroma = scipy.fftpack.dct(this_chroma)\n",
        "    # this_chroma = standardize(this_chroma)\n",
        "    # chroma_diff = np.concatenate((np.diff(this_chroma[:diff,:], n=1, axis=1), np.zeros((diff,1))), axis=1)\n",
        "    # this_chroma = np.concatenate((this_chroma, chroma_diff), axis=0)\n",
        "\n",
        "    features = [normalize01(this_mel), normalize01(this_diff_mel), normalize01(this_mfcc)]\n",
        "    this_rms = normalize01(this_rms)\n",
        "    this_flat = normalize01(this_flat)\n",
        "\n",
        "    # features = [this_mel, this_diff_mel, this_mfcc]\n",
        "    return features, this_rms, this_flat\n",
        "\n",
        "\n",
        "feat, rms, flat = features3(audio_loader[320], sr)\n",
        "ic(np.shape(feat))\n",
        "ic(np.shape(rms), np.shape(flat))\n",
        "\n",
        "\n",
        "plt.figure()\n",
        "plt.imshow(feat[0], interpolation='nearest', aspect='auto')\n",
        "plt.colorbar()\n",
        "\n",
        "plt.figure()\n",
        "plt.imshow(feat[1], interpolation='nearest', aspect='auto')\n",
        "plt.colorbar()\n",
        "\n",
        "plt.figure()\n",
        "plt.imshow(feat[2], interpolation='nearest', aspect='auto')\n",
        "plt.colorbar()\n",
        "\n",
        "plt.figure()\n",
        "plt.plot(rms)\n",
        "plt.plot(flat)"
      ],
      "execution_count": 10,
      "outputs": [
        {
          "output_type": "stream",
          "text": [
            "ic| np.shape(feat): (3, 64, 501)\n",
            "ic| np.shape(rms): (501, 1), np.shape(flat): (501, 1)\n"
          ],
          "name": "stderr"
        },
        {
          "output_type": "execute_result",
          "data": {
            "text/plain": [
              "[<matplotlib.lines.Line2D at 0x7f281b47ee90>]"
            ]
          },
          "metadata": {
            "tags": []
          },
          "execution_count": 10
        },
        {
          "output_type": "display_data",
          "data": {
            "image/png": "[encoded data removed]",
            "text/plain": [
              "<Figure size 432x288 with 2 Axes>"
            ]
          },
          "metadata": {
            "tags": [],
            "needs_background": "light"
          }
        },
        {
          "output_type": "display_data",
          "data": {
            "image/png": "[encoded data removed]",
            "text/plain": [
              "<Figure size 432x288 with 2 Axes>"
            ]
          },
          "metadata": {
            "tags": [],
            "needs_background": "light"
          }
        },
        {
          "output_type": "display_data",
          "data": {
            "image/png": "[encoded data removed]",
            "text/plain": [
              "<Figure size 432x288 with 2 Axes>"
            ]
          },
          "metadata": {
            "tags": [],
            "needs_background": "light"
          }
        },
        {
          "output_type": "display_data",
          "data": {
            "image/png": "[encoded data removed]",
            "text/plain": [
              "<Figure size 432x288 with 1 Axes>"
            ]
          },
          "metadata": {
            "tags": [],
            "needs_background": "light"
          }
        }
      ]
    },
    {
      "cell_type": "markdown",
      "metadata": {
        "id": "KUyEaNI5XbM5"
      },
      "source": [
        "## Mixup"
      ]
    },
    {
      "cell_type": "markdown",
      "metadata": {
        "id": "6EV4rhWns9LM"
      },
      "source": [
        "Three in one feature extraction function"
      ]
    },
    {
      "cell_type": "code",
      "metadata": {
        "id": "63df07BhtCQE"
      },
      "source": [
        "#write doc for those functions\n",
        "\n",
        "def audio_aug2(y, sr=44100, low_ps=-3.5, high_ps=3.5, low_ts=0.8, high_ts=1):\n",
        "    '''It return a signal with random pitch shift ot time strecth '''\n",
        "\n",
        "    choice = int(np.random.randint(2))\n",
        "    if choice == 0:\n",
        "        step = np.random.uniform(low=low_ps, high=high_ps)\n",
        "        ya = librosa.effects.pitch_shift(y, sr=sr, n_steps=step)\n",
        "    elif choice == 1:\n",
        "        rate = np.random.uniform(low=low_ts, high=high_ts)\n",
        "        ya = librosa.effects.time_stretch(y, rate)\n",
        "\n",
        "    ya = ya[:y.shape[0]]\n",
        "    return ya\n",
        "\n",
        "def features_preprocessor(audio_loader, path, df, augmentation=0):\n",
        "    # mel_names = []\n",
        "    # mfcc_names = []\n",
        "    # chroma_names = []\n",
        "    # data_info_aug = data_info.copy()\n",
        "    # pd_counter = 0\n",
        "\n",
        "\n",
        "    if augmentation==0:\n",
        "        for i in notebook.tqdm(range(len(audio_loader))):\n",
        "            this_audio = audio_loader[i][:sr*5]\n",
        "            this_audio = removeSilence(this_audio, fill_silence=True)\n",
        "            these_features, this_rms, this_flat = features3(this_audio, sr)\n",
        "            pack = np.array([these_features, audio_loader.get_info(i)['fold'], audio_loader.get_info(i)['target'], this_rms, this_flat], dtype= 'object')\n",
        "            np.save(os.path.join(path, audio_loader.get_info(i)['filename']+'_0'), pack)\n",
        "\n",
        "    if augmentation > 0:\n",
        "        for i in notebook.tqdm(range(len(audio_loader))):\n",
        "            this_audio = audio_loader[i][:sr*5]\n",
        "            this_audio = removeSilence(this_audio, fill_silence=True)\n",
        "            for aug in range(augmentation):\n",
        "                \n",
        "                if aug == 0:\n",
        "                    these_features, this_rms, this_flat = features3(this_audio, sr)\n",
        "                    pack = np.array([these_features, audio_loader.get_info(i)['fold'], audio_loader.get_info(i)['target'], this_rms, this_flat], dtype='object')\n",
        "                    np.save(os.path.join(path, audio_loader.get_info(i)['filename']+'_0'), pack)\n",
        "                else:\n",
        "                    this_audio = audio_aug2(this_audio, sr=sr)\n",
        "                    these_features, this_rms, this_flat = features3(this_audio, sr)\n",
        "                    pack = np.array([these_features, audio_loader.get_info(i)['fold'], audio_loader.get_info(i)['target'], this_rms, this_flat], dtype='object')\n",
        "                    np.save(os.path.join(path, audio_loader.get_info(i)['filename']+'_'+str(aug)), pack)\n",
        "\n",
        "\n",
        "        "
      ],
      "execution_count": 11,
      "outputs": []
    },
    {
      "cell_type": "markdown",
      "metadata": {
        "id": "2NwMQaMTls-Y"
      },
      "source": [
        ""
      ]
    },
    {
      "cell_type": "code",
      "metadata": {
        "colab": {
          "base_uri": "https://localhost:8080/",
          "height": 151,
          "referenced_widgets": [
            "2a299d7b62854621a26c4215d4126cf1",
            "e9e4b25f6e824be484f52c39cd9b5a06",
            "84120de88f564ee6b6ac383e8f81037e",
            "6d9107d9a9a04bcf803e9d38f8cfda50",
            "f9430137b784433a8f55d1368852acab",
            "db75c2d5359f4ed8a0f0b73ceda40bf1",
            "93331db19a1148bdb5471c6a3e463bb3",
            "a2a201eb73594814bb4e7848503d7754"
          ]
        },
        "id": "Vs889VeYx96U",
        "outputId": "7e4099a7-263a-4f29-fa85-14a5c6e777d1"
      },
      "source": [
        "# NB need to do augmentation only in the training files!!!\n",
        "# TODO save the numpy with 3 features together with its info\n",
        "# so you can load a file having all the info, and no mismatch errors\n",
        "# then save everything on drive and load from there\n",
        "\n",
        "# mel_names, data_info_aug = features_preprocessor(audio_list, path_list, data_info, augmentation=0)\n",
        "ic(ROOT)\n",
        "audio_loader = AudioLoader(data_info, ROOT, format1=True)\n",
        "features_preprocessor(audio_loader, path_batch, data_info, augmentation=0)"
      ],
      "execution_count": 12,
      "outputs": [
        {
          "output_type": "stream",
          "text": [
            "ic| ROOT: '/content/ESC-50/audio/'\n"
          ],
          "name": "stderr"
        },
        {
          "output_type": "display_data",
          "data": {
            "application/vnd.jupyter.widget-view+json": {
              "model_id": "2a299d7b62854621a26c4215d4126cf1",
              "version_minor": 0,
              "version_major": 2
            },
            "text/plain": [
              "HBox(children=(FloatProgress(value=0.0, max=2000.0), HTML(value='')))"
            ]
          },
          "metadata": {
            "tags": []
          }
        },
        {
          "output_type": "stream",
          "text": [
            "/usr/local/lib/python3.7/dist-packages/ipykernel_launcher.py:6: RuntimeWarning:\n",
            "\n",
            "invalid value encountered in true_divide\n",
            "\n"
          ],
          "name": "stderr"
        },
        {
          "output_type": "stream",
          "text": [
            "\n"
          ],
          "name": "stdout"
        }
      ]
    },
    {
      "cell_type": "code",
      "metadata": {
        "colab": {
          "base_uri": "https://localhost:8080/"
        },
        "id": "-uiDQhgq-2TA",
        "outputId": "732b019f-9348-4d35-b73f-6d8c941c5f42"
      },
      "source": [
        "\n",
        "listdir = os.listdir(path_batch)\n",
        "asd = np.load(os.path.join(path_batch, listdir[0]), allow_pickle=True)\n",
        "ic(np.shape(asd[0]))\n",
        "ic(np.shape(asd[1]))\n",
        "ic(np.shape(asd[2]))\n",
        "ic(np.shape(asd[3]))\n",
        "ic(np.shape(asd[4]))\n",
        "\n",
        "# lol = features_preprocessor(audio_loader[0], path_batch, data_info)"
      ],
      "execution_count": null,
      "outputs": [
        {
          "output_type": "stream",
          "text": [
            "ic| np.shape(asd[0]): (3, 64, 501)\n",
            "ic| np.shape(asd[1]): ()\n",
            "ic| np.shape(asd[2]): ()\n",
            "ic| np.shape(asd[3]): (501, 1)\n",
            "ic| np.shape(asd[4]): (501, 1)\n"
          ],
          "name": "stderr"
        },
        {
          "output_type": "execute_result",
          "data": {
            "text/plain": [
              "(501, 1)"
            ]
          },
          "metadata": {
            "tags": []
          },
          "execution_count": 85
        }
      ]
    },
    {
      "cell_type": "code",
      "metadata": {
        "id": "_VyX_-b6Fugv"
      },
      "source": [
        "plist = []\n",
        "listdir = os.listdir(path_batch)\n",
        "for file in listdir:\n",
        "    os.remove(os.path.join(path_batch, file))\n",
        "\n"
      ],
      "execution_count": null,
      "outputs": []
    },
    {
      "cell_type": "markdown",
      "metadata": {
        "id": "TXjXV7VhB_YD"
      },
      "source": [
        "test with reading feature packs"
      ]
    },
    {
      "cell_type": "code",
      "metadata": {
        "id": "grc9d9GDC7Eg"
      },
      "source": [
        "# this_pack = np.load(os.path.join(path_batch, this_fold_names[20]), allow_pickle=True)\n",
        "# this_feat = np.transpose(this_pack[0], [2,1,0])\n",
        "# print(category_dict[this_pack[1]])\n",
        "\n",
        "# ic(np.shape(this_feat))\n",
        "# plt.figure()\n",
        "# plt.imshow(this_feat, interpolation='nearest', aspect='auto')\n",
        "\n",
        "# plt.figure(figsize=(12,6))\n",
        "# plt.subplot(1,3,1)\n",
        "# plt.imshow(this_feat[:,:,0], interpolation='nearest', aspect='auto')\n",
        "# plt.subplot(1,3,2)\n",
        "# plt.imshow(this_feat[:,:,1], interpolation='nearest', aspect='auto')\n",
        "# plt.subplot(1,3,3)\n",
        "# plt.imshow(this_feat[:,:,2], interpolation='nearest', aspect='auto')"
      ],
      "execution_count": null,
      "outputs": []
    },
    {
      "cell_type": "markdown",
      "metadata": {
        "id": "copCbfTtOn4u"
      },
      "source": [
        "make Sequence class"
      ]
    },
    {
      "cell_type": "code",
      "metadata": {
        "id": "VgEow3SjG4Mi"
      },
      "source": [
        "def to_onehot(y, classes=50):\n",
        "    y_oh = np.zeros((classes, 1))\n",
        "    y_oh[y] = 1\n",
        "    return y_oh\n",
        "\n",
        "def mixup(x1, x2, y1, y2, alpha):\n",
        "    l = np.random.beta(alpha, alpha)\n",
        "    x_mix = l*x1 + (1-l)*x2\n",
        "    y_mix = l*y1 + (1-l)*y2\n",
        "    return x_mix, y_mix\n",
        "\n",
        "def mix(a, b, l):\n",
        "    return l*a + (1-l)*b\n",
        "\n",
        "\n",
        "class FeatureSequence(Sequence):\n",
        "    def __init__(self, names, path, batch_size, crop=-1, with_mixup=False):\n",
        "        self.names = names\n",
        "        self.batch_size = batch_size\n",
        "        self.path = path\n",
        "        self.crop = crop\n",
        "        self.with_mixup = with_mixup\n",
        "        self.epoch = 0\n",
        "        self.alpha = 0.001\n",
        "\n",
        "    def __len__(self):\n",
        "        return int(np.floor(len(self.names) / self.batch_size))\n",
        "\n",
        "    def on_epoch_end(self):\n",
        "        self.epoch += 1\n",
        "        if self.alpha < 0.1:\n",
        "            self.alpha += 0.1/30\n",
        "\n",
        "    def __getitem__(self, idx):\n",
        "        batch_names = self.names[idx*self.batch_size:(idx + 1)*self.batch_size]\n",
        "\n",
        "        batch_feat = []\n",
        "        batch_rms = []\n",
        "        batch_flat = []\n",
        "        batch_target = []\n",
        "        for name in batch_names:\n",
        "            this_pack = np.load(os.path.join(self.path, name), allow_pickle=True)\n",
        "            # NB fix the axes order from the preprocessor\n",
        "            this_feat = this_pack[0]\n",
        "            this_feat = np.transpose(this_feat, [2,1,0])\n",
        "            this_target = to_onehot(this_pack[2])\n",
        "            this_rms = this_pack[3]\n",
        "            this_flat = this_pack[4]\n",
        "\n",
        "            if self.with_mixup and np.random.uniform(0,1)>0.5:\n",
        "                # load another random pack\n",
        "                rand_name = np.random.randint(0, len(self.names))\n",
        "                this_pack2 = np.load(os.path.join(self.path, self.names[rand_name]), allow_pickle=True)\n",
        "                this_feat2 = this_pack2[0]\n",
        "                this_feat2 = np.transpose(this_feat2, [2,1,0])\n",
        "                this_rms2 = this_pack2[3]\n",
        "                this_flat2 = this_pack2[4]\n",
        "                this_target2 = to_onehot(this_pack[2])\n",
        "\n",
        "                # mix the samples\n",
        "                l = np.random.beta(self.alpha, self.alpha)\n",
        "                this_feat = mix(this_feat, this_feat2, l)\n",
        "                this_rms = mix(this_rms, this_rms2, l)\n",
        "                this_flat = mix(this_flat, this_flat2, l)\n",
        "                this_target = mix(this_target, this_target2, l)\n",
        "\n",
        "            if self.crop > 0:\n",
        "                start = np.random.randint(0, this_feat.shape[0]-self.crop)\n",
        "                this_feat = this_feat[start:start+self.crop]\n",
        "                this_rms = this_rms[start:start+self.crop]\n",
        "                this_flat = this_flat[start:start+self.crop]\n",
        "\n",
        "            batch_feat.append(this_feat)\n",
        "            batch_rms.append(this_rms)\n",
        "            batch_flat.append(this_flat)\n",
        "            batch_target.append(this_target)\n",
        "\n",
        "        batch_feat = np.array(batch_feat)\n",
        "        batch_rms = np.array(batch_rms)\n",
        "        batch_flat = np.array(batch_flat)\n",
        "        batch_target = np.array(batch_target)\n",
        "\n",
        "        batch_input = [batch_feat, batch_rms, batch_flat]\n",
        "\n",
        "        return batch_input, batch_target\n",
        "\n",
        "\n",
        "# TODO fix crop decision default\n",
        "class FeatureSequence(Sequence):\n",
        "    def __init__(self, names, path, batch_size, crop=-1, with_mixup=False):\n",
        "        self.names = names\n",
        "        self.batch_size = batch_size\n",
        "        self.path = path\n",
        "        self.crop = crop\n",
        "        self.with_mixup = with_mixup\n",
        "        self.epoch = 0\n",
        "        self.alpha = 0.001\n",
        "\n",
        "        self.input_shape = (self.crop,64,3)\n",
        "        self.base_model = MobileNetV2(input_shape=self.input_shape,\n",
        "                            input_tensor=None,                        \n",
        "                            include_top=False, \n",
        "                            weights='imagenet'\n",
        "                            )\n",
        "        self.base_model.trainable = False\n",
        "\n",
        "        self.img_model = tf.keras.Sequential()\n",
        "        self.img_model.add(self.base_model)\n",
        "        self.img_model.add(tf.keras.layers.GlobalAveragePooling2D())\n",
        "        self.img_model.add(tf.keras.layers.BatchNormalization())\n",
        "\n",
        "    def __len__(self):\n",
        "        return int(np.floor(len(self.names) / self.batch_size))\n",
        "\n",
        "    def on_epoch_end(self):\n",
        "        self.epoch += 1\n",
        "        if self.alpha < 0.5:\n",
        "            self.alpha += 0.5/30\n",
        "\n",
        "    def __getitem__(self, idx):\n",
        "        batch_names = self.names[idx*self.batch_size:(idx + 1)*self.batch_size]\n",
        "\n",
        "        batch_feat = []\n",
        "        # batch_infered = []\n",
        "        batch_rms = []\n",
        "        batch_flat = []\n",
        "        batch_target = []\n",
        "        for name in batch_names:\n",
        "            this_pack = np.load(os.path.join(self.path, name), allow_pickle=True)\n",
        "            # NB fix the axes order from the preprocessor\n",
        "            this_feat = this_pack[0]\n",
        "            this_feat = np.transpose(this_feat, [2,1,0])\n",
        "            this_target = to_onehot(this_pack[2])\n",
        "            this_rms = this_pack[3]\n",
        "            this_flat = this_pack[4]\n",
        "\n",
        "            if self.with_mixup and np.random.uniform(0,1)>0.5:\n",
        "                # load another random pack\n",
        "                rand_name = np.random.randint(0, len(self.names))\n",
        "                this_pack2 = np.load(os.path.join(self.path, self.names[rand_name]), allow_pickle=True)\n",
        "                this_feat2 = this_pack2[0]\n",
        "                this_feat2 = np.transpose(this_feat2, [2,1,0])\n",
        "                this_rms2 = this_pack2[3]\n",
        "                this_flat2 = this_pack2[4]\n",
        "                this_target2 = to_onehot(this_pack[2])\n",
        "\n",
        "                # mix the samples\n",
        "                l = np.random.beta(self.alpha, self.alpha)\n",
        "                this_feat = mix(this_feat, this_feat2, l)\n",
        "                this_rms = mix(this_rms, this_rms2, l)\n",
        "                this_flat = mix(this_flat, this_flat2, l)\n",
        "                this_target = mix(this_target, this_target2, l)\n",
        "\n",
        "            if self.crop > 0:\n",
        "                start = np.random.randint(0, this_feat.shape[0]-self.crop)\n",
        "                this_feat = this_feat[start:start+self.crop]\n",
        "                this_rms = this_rms[start:start+self.crop]\n",
        "                this_flat = this_flat[start:start+self.crop]\n",
        "\n",
        "\n",
        "            batch_feat.append(this_feat)\n",
        "            # batch_infered.append(this_infered)\n",
        "            batch_rms.append(this_rms)\n",
        "            batch_flat.append(this_flat)\n",
        "            batch_target.append(this_target)\n",
        "\n",
        "        batch_feat = np.array(batch_feat)\n",
        "\n",
        "        batch_infered = self.img_model(batch_feat)\n",
        "        batch_rms = np.array(batch_rms)\n",
        "        batch_flat = np.array(batch_flat)\n",
        "        batch_target = np.array(batch_target)\n",
        "\n",
        "        batch_input = [batch_infered, batch_rms, batch_flat]\n",
        "\n",
        "        return batch_input, batch_target\n",
        "\n",
        "\n",
        "# #test\n",
        "# batch_size = 50\n",
        "# fold = 2\n",
        "# this_fold_names = [x for x in feat_names if x[0]==str(fold) and x.endswith('0.npy')]\n",
        "# feature_sequence = FeatureSequence(this_fold_names, path_batch, batch_size, with_mixup=True)\n",
        "# b = feature_sequence[0]\n",
        "# ic(len(b))\n",
        "# ic(len(b[0]))\n",
        "# ic(np.shape(b[0][0]))\n",
        "# ic(np.shape(b[0][1]))\n",
        "# ic(np.shape(b[0][2]))\n",
        "\n",
        "# plt.figure()\n",
        "# plt.plot(b[0][2][0])"
      ],
      "execution_count": 34,
      "outputs": []
    },
    {
      "cell_type": "markdown",
      "metadata": {
        "id": "oQvcUzFGmYV4"
      },
      "source": [
        "# Model classes"
      ]
    },
    {
      "cell_type": "markdown",
      "metadata": {
        "id": "2gnfro7Weumh"
      },
      "source": [
        "Fine tune MobileNetV2"
      ]
    },
    {
      "cell_type": "code",
      "metadata": {
        "id": "FBDrRn0Sexi9",
        "colab": {
          "base_uri": "https://localhost:8080/"
        },
        "outputId": "d73afb3a-12f2-4c01-fd90-514f4aeb55c0"
      },
      "source": [
        "# careful with shapes is changing data\n",
        "input_shape = (256,64,3)\n",
        "base_model = MobileNetV2(input_shape=input_shape,\n",
        "                        input_tensor=None,                        \n",
        "                        include_top=False, \n",
        "                        weights='imagenet'\n",
        "                        )\n",
        "base_model.trainable = False\n",
        "# base_model.summary()\n",
        "\n",
        "#define model\n",
        "model = tf.keras.Sequential()\n",
        "# model.add(tf.keras.layers.Conv2D(3, kernel_size=(9,9), padding='same', activation='relu', input_shape=input_shape))\n",
        "model.add(tf.keras.layers.BatchNormalization())\n",
        "# model.add(tf.keras.layers.Conv2D(3, kernel_size=(3,3), padding='same', activation='relu',))\n",
        "model.add(tf.keras.layers.BatchNormalization())\n",
        "model.add(base_model)\n",
        "model.add(tf.keras.layers.GlobalAveragePooling2D())\n",
        "model.add(tf.keras.layers.BatchNormalization())\n",
        "\n",
        "#TODO conv1D here\n",
        "model.add(tf.keras.layers.Dense(50, activation='relu', kernel_regularizer='l2'))\n",
        "# model.add(tf.keras.layers.Dropout(0.2))\n",
        "model.add(tf.keras.layers.BatchNormalization())\n",
        "# model.add(tf.keras.layers.Dense(100, activation='relu'))\n",
        "# model.add(tf.keras.layers.Dropout(0.2))\n",
        "model.add(tf.keras.layers.Dense(50, activation='softmax', kernel_regularizer='l2'))\n",
        "#compile model\n",
        "model.compile(optimizer=tf.keras.optimizers.Adam(lr=0.001), \n",
        "    #   loss = tf.keras.losses.sparse_categorical_crossentropy,\n",
        "      loss = tf.keras.losses.categorical_crossentropy, \n",
        "      metrics=['accuracy'])\n",
        "# print(model.summary())"
      ],
      "execution_count": 25,
      "outputs": [
        {
          "output_type": "stream",
          "text": [
            "WARNING:tensorflow:`input_shape` is undefined or non-square, or `rows` is not in [96, 128, 160, 192, 224]. Weights for input shape (224, 224) will be loaded as the default.\n"
          ],
          "name": "stdout"
        }
      ]
    },
    {
      "cell_type": "code",
      "metadata": {
        "id": "v8U9-zRJPbwG",
        "colab": {
          "base_uri": "https://localhost:8080/"
        },
        "outputId": "8df7b857-1b6d-4270-af9b-d4213fa9cb42"
      },
      "source": [
        "crop = 256\n",
        "\n",
        "\n",
        "def make_MixedNet():\n",
        "    act = 'relu'\n",
        "\n",
        "    input_shape = (crop,64,3)\n",
        "\n",
        "    input_inf = layers.Input(shape=(1280,1))\n",
        "    input_rms = layers.Input(shape=(crop,1))\n",
        "    input_flat = layers.Input(shape=(crop,1))\n",
        "    \n",
        "    # inf = layers.Dense(10, activation='relu')(input_inf)\n",
        "    # inf = layers.Conv1D(8, kernel_size=64, padding='same', activation='relu')(input_inf)\n",
        "    # inf = layers.MaxPool1D()(inf)\n",
        "    # inf = layers.Conv1D(8, kernel_size=64, padding='same', activation='relu')(inf)\n",
        "    # inf = layers.MaxPool1D()(inf)\n",
        "\n",
        "    # rms = layers.Dense(10, activation='relu')(input_rms)\n",
        "    rms = layers.Conv1D(8, kernel_size=9, padding='same', activation=act, )(input_rms)\n",
        "    rms = layers.AveragePooling1D()(rms)\n",
        "    rms = layers.Conv1D(16, kernel_size=9, padding='same', activation=act, )(rms)\n",
        "    rms = layers.AveragePooling1D()(rms)\n",
        "    rms = layers.Conv1D(32, kernel_size=9, padding='same', activation=act, )(rms)\n",
        "    # rms = layers.AveragePooling1D()(rms)\n",
        "    rms = layers.GlobalAveragePooling1D()(rms)\n",
        "    rms = tf.expand_dims(rms, axis=-1)\n",
        "    rms = layers.BatchNormalization()(rms)\n",
        "    # rms = layers.Flatten()(rms)\n",
        "\n",
        "    # flat = layers.Dense(10, activation='relu')(input_flat)\n",
        "    flat = layers.Conv1D(8, kernel_size=9, padding='same', activation=act, )(input_flat)\n",
        "    flat = layers.AveragePooling1D()(flat)\n",
        "    flat = layers.Conv1D(16, kernel_size=9, padding='same', activation=act, )(flat)\n",
        "    flat = layers.AveragePooling1D()(flat)\n",
        "    flat = layers.Conv1D(32, kernel_size=9, padding='same', activation=act, )(flat)\n",
        "    # flat = layers.AveragePooling1D()(flat)\n",
        "    flat = layers.GlobalAveragePooling1D()(flat)\n",
        "    flat = tf.expand_dims(flat, axis=-1)\n",
        "    flat = layers.BatchNormalization()(flat)\n",
        "    # flat = layers.Flatten()(flat)\n",
        "\n",
        "    z = layers.concatenate([input_inf,rms,flat], axis=1)\n",
        "    z = layers.Flatten()(z)\n",
        "    z = layers.Dense(50, activation='softmax')(z)\n",
        "\n",
        "    # rms = layers.Conv1D(16, 10, padding='same', activation='relu')(input_rms)\n",
        "    # rms = layers.MaxPool1D()(rms)\n",
        "    # rms = layers.Conv1D(64, 10, padding='same', activation='relu')(rms)\n",
        "    # rms = layers.GlobalAveragePooling1D()(rms)\n",
        "\n",
        "    # flat = layers.Conv1D(16, 10, padding='same', activation='relu')(input_flat)\n",
        "    # flat = layers.MaxPool1D()(flat)\n",
        "    # flat = layers.Conv1D(64, 10, padding='same', activation='relu')(flat)\n",
        "    # flat = layers.GlobalAveragePooling1D()(flat)\n",
        "\n",
        "    # z = layers.concatenate([img, rms, flat])\n",
        "    # z = tf.expand_dims(z, axis=-1)\n",
        "    # z = layers.Conv1D(1, kernel_size=50, activation='softmax')(z)\n",
        "    # z = layers.GlobalAveragePooling1D()(z)\n",
        "\n",
        "\n",
        "    model = keras.Model(inputs=[input_inf, input_rms, input_flat], outputs=z)\n",
        "    model.compile(optimizer=tf.keras.optimizers.Adam(lr=0.001), \n",
        "      loss = tf.keras.losses.categorical_crossentropy, \n",
        "      metrics=['accuracy'])\n",
        "    return model\n",
        "\n",
        "mixed_net = make_MixedNet()\n",
        "mixed_net.summary()"
      ],
      "execution_count": 107,
      "outputs": [
        {
          "output_type": "stream",
          "text": [
            "Model: \"model_22\"\n",
            "__________________________________________________________________________________________________\n",
            "Layer (type)                    Output Shape         Param #     Connected to                     \n",
            "==================================================================================================\n",
            "input_140 (InputLayer)          [(None, 256, 1)]     0                                            \n",
            "__________________________________________________________________________________________________\n",
            "input_141 (InputLayer)          [(None, 256, 1)]     0                                            \n",
            "__________________________________________________________________________________________________\n",
            "conv1d_122 (Conv1D)             (None, 256, 8)       80          input_140[0][0]                  \n",
            "__________________________________________________________________________________________________\n",
            "conv1d_125 (Conv1D)             (None, 256, 8)       80          input_141[0][0]                  \n",
            "__________________________________________________________________________________________________\n",
            "average_pooling1d_68 (AveragePo (None, 128, 8)       0           conv1d_122[0][0]                 \n",
            "__________________________________________________________________________________________________\n",
            "average_pooling1d_70 (AveragePo (None, 128, 8)       0           conv1d_125[0][0]                 \n",
            "__________________________________________________________________________________________________\n",
            "conv1d_123 (Conv1D)             (None, 128, 16)      1168        average_pooling1d_68[0][0]       \n",
            "__________________________________________________________________________________________________\n",
            "conv1d_126 (Conv1D)             (None, 128, 16)      1168        average_pooling1d_70[0][0]       \n",
            "__________________________________________________________________________________________________\n",
            "average_pooling1d_69 (AveragePo (None, 64, 16)       0           conv1d_123[0][0]                 \n",
            "__________________________________________________________________________________________________\n",
            "average_pooling1d_71 (AveragePo (None, 64, 16)       0           conv1d_126[0][0]                 \n",
            "__________________________________________________________________________________________________\n",
            "conv1d_124 (Conv1D)             (None, 64, 32)       4640        average_pooling1d_69[0][0]       \n",
            "__________________________________________________________________________________________________\n",
            "conv1d_127 (Conv1D)             (None, 64, 32)       4640        average_pooling1d_71[0][0]       \n",
            "__________________________________________________________________________________________________\n",
            "global_average_pooling1d_13 (Gl (None, 32)           0           conv1d_124[0][0]                 \n",
            "__________________________________________________________________________________________________\n",
            "global_average_pooling1d_14 (Gl (None, 32)           0           conv1d_127[0][0]                 \n",
            "__________________________________________________________________________________________________\n",
            "tf.expand_dims_11 (TFOpLambda)  (None, 32, 1)        0           global_average_pooling1d_13[0][0]\n",
            "__________________________________________________________________________________________________\n",
            "tf.expand_dims_12 (TFOpLambda)  (None, 32, 1)        0           global_average_pooling1d_14[0][0]\n",
            "__________________________________________________________________________________________________\n",
            "input_139 (InputLayer)          [(None, 1280, 1)]    0                                            \n",
            "__________________________________________________________________________________________________\n",
            "batch_normalization_51 (BatchNo (None, 32, 1)        4           tf.expand_dims_11[0][0]          \n",
            "__________________________________________________________________________________________________\n",
            "batch_normalization_52 (BatchNo (None, 32, 1)        4           tf.expand_dims_12[0][0]          \n",
            "__________________________________________________________________________________________________\n",
            "concatenate_29 (Concatenate)    (None, 1344, 1)      0           input_139[0][0]                  \n",
            "                                                                 batch_normalization_51[0][0]     \n",
            "                                                                 batch_normalization_52[0][0]     \n",
            "__________________________________________________________________________________________________\n",
            "flatten_24 (Flatten)            (None, 1344)         0           concatenate_29[0][0]             \n",
            "__________________________________________________________________________________________________\n",
            "dense_52 (Dense)                (None, 50)           67250       flatten_24[0][0]                 \n",
            "==================================================================================================\n",
            "Total params: 79,034\n",
            "Trainable params: 79,030\n",
            "Non-trainable params: 4\n",
            "__________________________________________________________________________________________________\n"
          ],
          "name": "stdout"
        }
      ]
    },
    {
      "cell_type": "markdown",
      "metadata": {
        "id": "8KfvmEIgfu8P"
      },
      "source": [
        "training\n"
      ]
    },
    {
      "cell_type": "code",
      "metadata": {
        "id": "28ixaDjtfv2f",
        "colab": {
          "base_uri": "https://localhost:8080/"
        },
        "outputId": "08e7bc93-8e9a-4024-d205-bc0c185c8bf1"
      },
      "source": [
        "SOURCE = path_batch\n",
        "\n",
        "batch_size = 50\n",
        "epochs = 100\n",
        "\n",
        "fold = 2\n",
        "# feat_names  = os.listdir(path_drive)\n",
        "feat_names  = os.listdir(SOURCE)\n",
        "ic(len(feat_names))\n",
        "\n",
        "# not using augmentated samples here\n",
        "# val_names = [x for x in feat_names if x[0]==str(fold) and x.endswith('0.npy')]\n",
        "# train_names = [x for x in feat_names if x[0]!=str(fold) and x.endswith('0.npy') or x.endswith('1.npy')]\n",
        "\n",
        "val_names = [x for x in feat_names if x[0]==str(fold) and x.endswith('0.npy')]\n",
        "train_names = [x for x in feat_names if x[0]!=str(fold)]\n",
        "\n",
        "\n",
        "train_dataloader = FeatureSequence(train_names, SOURCE, batch_size, crop=256, with_mixup=False)\n",
        "val_dataloader = FeatureSequence(val_names, SOURCE, batch_size, crop=256)\n",
        "# feature_sequence = FeatureSequence(this_fold_names, path_batch, batch_size, with_mixup=True)\n",
        "\n",
        "ic(len(train_dataloader))\n",
        "ic(len(val_dataloader))\n",
        "\n",
        "# TODO need to fine tune this\n",
        "reduce_lr = tf.keras.callbacks.ReduceLROnPlateau(monitor='val_loss', factor=0.2,\n",
        "                              patience=3, min_lr=0.0001)"
      ],
      "execution_count": 98,
      "outputs": [
        {
          "output_type": "stream",
          "text": [
            "ic| len(feat_names): 2000\n"
          ],
          "name": "stderr"
        },
        {
          "output_type": "stream",
          "text": [
            "WARNING:tensorflow:`input_shape` is undefined or non-square, or `rows` is not in [96, 128, 160, 192, 224]. Weights for input shape (224, 224) will be loaded as the default.\n",
            "WARNING:tensorflow:`input_shape` is undefined or non-square, or `rows` is not in [96, 128, 160, 192, 224]. Weights for input shape (224, 224) will be loaded as the default.\n"
          ],
          "name": "stdout"
        },
        {
          "output_type": "stream",
          "text": [
            "ic| len(train_dataloader): 32\n",
            "ic| len(val_dataloader): 8\n"
          ],
          "name": "stderr"
        }
      ]
    },
    {
      "cell_type": "code",
      "metadata": {
        "colab": {
          "base_uri": "https://localhost:8080/",
          "height": 367
        },
        "id": "HQA2Qt1e1pbZ",
        "outputId": "4ab3e106-cfc6-40c7-a4f7-e71474766978"
      },
      "source": [
        "# ic(train_dataloader[0][0].shape)\n",
        "# ic(val_dataloader[0][0].shape)\n",
        "b = train_dataloader[30]\n",
        "ic(len(b))\n",
        "ic(len(b[0]))\n",
        "ic(np.shape(b[0][0]))\n",
        "ic(np.shape(b[0][1]))\n",
        "ic(np.shape(b[0][2]))\n",
        "\n",
        "plt.figure()\n",
        "plt.plot(b[0][1][0])\n",
        "plt.plot(b[0][2][0])"
      ],
      "execution_count": 99,
      "outputs": [
        {
          "output_type": "stream",
          "text": [
            "ic| len(b): 2\n",
            "ic| len(b[0]): 3\n",
            "ic| np.shape(b[0][0]): TensorShape([50, 1280])\n",
            "ic| np.shape(b[0][1]): (50, 256, 1)\n",
            "ic| np.shape(b[0][2]): (50, 256, 1)\n"
          ],
          "name": "stderr"
        },
        {
          "output_type": "execute_result",
          "data": {
            "text/plain": [
              "[<matplotlib.lines.Line2D at 0x7f2724554bd0>]"
            ]
          },
          "metadata": {
            "tags": []
          },
          "execution_count": 99
        },
        {
          "output_type": "display_data",
          "data": {
            "image/png": "[encoded data removed]",
            "text/plain": [
              "<Figure size 432x288 with 1 Axes>"
            ]
          },
          "metadata": {
            "tags": [],
            "needs_background": "light"
          }
        }
      ]
    },
    {
      "cell_type": "code",
      "metadata": {
        "colab": {
          "base_uri": "https://localhost:8080/",
          "height": 721
        },
        "id": "DwnOq8BsyklY",
        "outputId": "e43a17ea-c2be-4ae1-f626-2273fcd88908"
      },
      "source": [
        "#fit the model\n",
        "history = mixed_net.fit(train_dataloader, \n",
        "                    epochs=epochs,\n",
        "                    callbacks=[PlotLossesKeras(), \n",
        "                               reduce_lr],\n",
        "                    validation_data = val_dataloader,\n",
        "                    )"
      ],
      "execution_count": null,
      "outputs": [
        {
          "output_type": "display_data",
          "data": {
            "image/png": "[encoded data removed]",
            "text/plain": [
              "<Figure size 864x576 with 2 Axes>"
            ]
          },
          "metadata": {
            "tags": [],
            "needs_background": "light"
          }
        },
        {
          "output_type": "stream",
          "text": [
            "accuracy\n",
            "\ttraining         \t (min:    0.138, max:    0.905, cur:    0.896)\n",
            "\tvalidation       \t (min:    0.322, max:    0.600, cur:    0.572)\n",
            "Loss\n",
            "\ttraining         \t (min:    0.460, max:    3.394, cur:    0.460)\n",
            "\tvalidation       \t (min:    1.524, max:    2.704, cur:    1.537)\n",
            "Epoch 61/100\n",
            "19/32 [================>.............] - ETA: 1s - loss: 0.4680 - accuracy: 0.8990"
          ],
          "name": "stdout"
        }
      ]
    },
    {
      "cell_type": "code",
      "metadata": {
        "id": "gp36riTlf675",
        "colab": {
          "base_uri": "https://localhost:8080/",
          "height": 687
        },
        "outputId": "d5858641-989b-488b-d06d-dae689de458b"
      },
      "source": [
        "#fit the model\n",
        "history = model.fit(train_dataloader, \n",
        "                    # steps_per_epoch=int(len(train_dataloader)//batch_size),\n",
        "                    epochs=epochs,\n",
        "                    callbacks=[PlotLossesKeras(), \n",
        "                               reduce_lr],\n",
        "                    validation_data = val_dataloader,\n",
        "                    # validation_steps=int(len(val_dataloader)//batch_size),\n",
        "                    )"
      ],
      "execution_count": null,
      "outputs": [
        {
          "output_type": "display_data",
          "data": {
            "image/png": "[encoded data removed]",
            "text/plain": [
              "<Figure size 864x576 with 2 Axes>"
            ]
          },
          "metadata": {
            "tags": [],
            "needs_background": "light"
          }
        },
        {
          "output_type": "stream",
          "text": [
            "accuracy\n",
            "\ttraining         \t (min:    0.138, max:    0.705, cur:    0.695)\n",
            "\tvalidation       \t (min:    0.125, max:    0.580, cur:    0.553)\n",
            "Loss\n",
            "\ttraining         \t (min:    2.059, max:    4.971, cur:    2.146)\n",
            "\tvalidation       \t (min:    2.093, max:    4.815, cur:    2.112)\n"
          ],
          "name": "stdout"
        }
      ]
    },
    {
      "cell_type": "code",
      "metadata": {
        "id": "j_VvGNYYkLzB"
      },
      "source": [
        "#get results\n",
        "acc = history.history['accuracy']\n",
        "val_acc = history.history['val_accuracy']\n",
        "loss = history.history['loss']\n",
        "val_loss = history.history['val_loss']\n",
        "\n",
        "#plot results\n",
        "#accuracy\n",
        "plt.figure(figsize=(8, 8))\n",
        "plt.rcParams['figure.figsize'] = [16, 9]\n",
        "plt.rcParams['font.size'] = 14\n",
        "plt.rcParams['axes.grid'] = True\n",
        "plt.rcParams['figure.facecolor'] = 'white'\n",
        "plt.subplot(2, 1, 1)\n",
        "plt.plot(acc, label='Training Accuracy')\n",
        "plt.plot(val_acc, label='Validation Accuracy')\n",
        "plt.legend(loc='lower right')\n",
        "plt.ylabel('Accuracy')\n",
        "plt.title(f'MobileNetV2 \\nTraining and Validation Accuracy. \\nTrain Accuracy: {str(round(acc[-1],3))}\\nValidation Accuracy: {str(round(val_acc[-1],3))}')\n",
        "\n",
        "#loss\n",
        "plt.subplot(2, 1, 2)\n",
        "plt.plot(loss, label='Training Loss')\n",
        "plt.plot(val_loss, label='Validation Loss')\n",
        "plt.legend(loc='upper right')\n",
        "plt.ylabel('Cross Entropy')\n",
        "plt.title(f'Training and Validation Loss. \\nTrain Loss: {str(round(loss[-1],3))}\\nValidation Loss: {str(round(val_loss[-1],3))}')\n",
        "plt.xlabel('epoch')\n",
        "plt.tight_layout(pad=3.0)\n",
        "plt.show()"
      ],
      "execution_count": null,
      "outputs": []
    },
    {
      "cell_type": "markdown",
      "metadata": {
        "id": "SH_VOqwhzCHx"
      },
      "source": [
        ""
      ]
    }
  ]
}