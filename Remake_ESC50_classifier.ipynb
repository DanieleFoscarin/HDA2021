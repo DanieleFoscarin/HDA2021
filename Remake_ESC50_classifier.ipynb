{
  "nbformat": 4,
  "nbformat_minor": 0,
  "metadata": {
    "colab": {
      "name": "Remake ESC50 classifier.ipynb",
      "provenance": [],
      "toc_visible": true,
      "mount_file_id": "https://github.com/DanieleFoscarin/HDA2021/blob/yamnet/Remake_ESC50_classifier.ipynb",
      "authorship_tag": "ABX9TyMqe890wBrlHp5RmMloEr2X",
      "include_colab_link": true
    },
    "kernelspec": {
      "name": "python3",
      "display_name": "Python 3"
    },
    "accelerator": "GPU",
    "widgets": {
      "application/vnd.jupyter.widget-state+json": {
        "84bd56f9df2b4596904fa9403872a89a": {
          "model_module": "@jupyter-widgets/controls",
          "model_name": "HBoxModel",
          "state": {
            "_view_name": "HBoxView",
            "_dom_classes": [],
            "_model_name": "HBoxModel",
            "_view_module": "@jupyter-widgets/controls",
            "_model_module_version": "1.5.0",
            "_view_count": null,
            "_view_module_version": "1.5.0",
            "box_style": "",
            "layout": "IPY_MODEL_2583cb7687564ad29a5c601fe214eb48",
            "_model_module": "@jupyter-widgets/controls",
            "children": [
              "IPY_MODEL_3a8e161f07084809920e9c2e322ec3a4",
              "IPY_MODEL_b4173621b79841c1b1de67e35e1a0a83"
            ]
          }
        },
        "2583cb7687564ad29a5c601fe214eb48": {
          "model_module": "@jupyter-widgets/base",
          "model_name": "LayoutModel",
          "state": {
            "_view_name": "LayoutView",
            "grid_template_rows": null,
            "right": null,
            "justify_content": null,
            "_view_module": "@jupyter-widgets/base",
            "overflow": null,
            "_model_module_version": "1.2.0",
            "_view_count": null,
            "flex_flow": null,
            "width": null,
            "min_width": null,
            "border": null,
            "align_items": null,
            "bottom": null,
            "_model_module": "@jupyter-widgets/base",
            "top": null,
            "grid_column": null,
            "overflow_y": null,
            "overflow_x": null,
            "grid_auto_flow": null,
            "grid_area": null,
            "grid_template_columns": null,
            "flex": null,
            "_model_name": "LayoutModel",
            "justify_items": null,
            "grid_row": null,
            "max_height": null,
            "align_content": null,
            "visibility": null,
            "align_self": null,
            "height": null,
            "min_height": null,
            "padding": null,
            "grid_auto_rows": null,
            "grid_gap": null,
            "max_width": null,
            "order": null,
            "_view_module_version": "1.2.0",
            "grid_template_areas": null,
            "object_position": null,
            "object_fit": null,
            "grid_auto_columns": null,
            "margin": null,
            "display": null,
            "left": null
          }
        },
        "3a8e161f07084809920e9c2e322ec3a4": {
          "model_module": "@jupyter-widgets/controls",
          "model_name": "FloatProgressModel",
          "state": {
            "_view_name": "ProgressView",
            "style": "IPY_MODEL_4595ca707182493c98761becb0cab6e3",
            "_dom_classes": [],
            "description": "100%",
            "_model_name": "FloatProgressModel",
            "bar_style": "success",
            "max": 2000,
            "_view_module": "@jupyter-widgets/controls",
            "_model_module_version": "1.5.0",
            "value": 2000,
            "_view_count": null,
            "_view_module_version": "1.5.0",
            "orientation": "horizontal",
            "min": 0,
            "description_tooltip": null,
            "_model_module": "@jupyter-widgets/controls",
            "layout": "IPY_MODEL_fa82f8a0271942a8bd66ab1eb94126a2"
          }
        },
        "b4173621b79841c1b1de67e35e1a0a83": {
          "model_module": "@jupyter-widgets/controls",
          "model_name": "HTMLModel",
          "state": {
            "_view_name": "HTMLView",
            "style": "IPY_MODEL_660aed27606341cfb702ffbc82f483c9",
            "_dom_classes": [],
            "description": "",
            "_model_name": "HTMLModel",
            "placeholder": "​",
            "_view_module": "@jupyter-widgets/controls",
            "_model_module_version": "1.5.0",
            "value": " 2000/2000 [10:16&lt;00:00,  3.24it/s]",
            "_view_count": null,
            "_view_module_version": "1.5.0",
            "description_tooltip": null,
            "_model_module": "@jupyter-widgets/controls",
            "layout": "IPY_MODEL_a577bb2881fd40d58af9f22a4caef0da"
          }
        },
        "4595ca707182493c98761becb0cab6e3": {
          "model_module": "@jupyter-widgets/controls",
          "model_name": "ProgressStyleModel",
          "state": {
            "_view_name": "StyleView",
            "_model_name": "ProgressStyleModel",
            "description_width": "initial",
            "_view_module": "@jupyter-widgets/base",
            "_model_module_version": "1.5.0",
            "_view_count": null,
            "_view_module_version": "1.2.0",
            "bar_color": null,
            "_model_module": "@jupyter-widgets/controls"
          }
        },
        "fa82f8a0271942a8bd66ab1eb94126a2": {
          "model_module": "@jupyter-widgets/base",
          "model_name": "LayoutModel",
          "state": {
            "_view_name": "LayoutView",
            "grid_template_rows": null,
            "right": null,
            "justify_content": null,
            "_view_module": "@jupyter-widgets/base",
            "overflow": null,
            "_model_module_version": "1.2.0",
            "_view_count": null,
            "flex_flow": null,
            "width": null,
            "min_width": null,
            "border": null,
            "align_items": null,
            "bottom": null,
            "_model_module": "@jupyter-widgets/base",
            "top": null,
            "grid_column": null,
            "overflow_y": null,
            "overflow_x": null,
            "grid_auto_flow": null,
            "grid_area": null,
            "grid_template_columns": null,
            "flex": null,
            "_model_name": "LayoutModel",
            "justify_items": null,
            "grid_row": null,
            "max_height": null,
            "align_content": null,
            "visibility": null,
            "align_self": null,
            "height": null,
            "min_height": null,
            "padding": null,
            "grid_auto_rows": null,
            "grid_gap": null,
            "max_width": null,
            "order": null,
            "_view_module_version": "1.2.0",
            "grid_template_areas": null,
            "object_position": null,
            "object_fit": null,
            "grid_auto_columns": null,
            "margin": null,
            "display": null,
            "left": null
          }
        },
        "660aed27606341cfb702ffbc82f483c9": {
          "model_module": "@jupyter-widgets/controls",
          "model_name": "DescriptionStyleModel",
          "state": {
            "_view_name": "StyleView",
            "_model_name": "DescriptionStyleModel",
            "description_width": "",
            "_view_module": "@jupyter-widgets/base",
            "_model_module_version": "1.5.0",
            "_view_count": null,
            "_view_module_version": "1.2.0",
            "_model_module": "@jupyter-widgets/controls"
          }
        },
        "a577bb2881fd40d58af9f22a4caef0da": {
          "model_module": "@jupyter-widgets/base",
          "model_name": "LayoutModel",
          "state": {
            "_view_name": "LayoutView",
            "grid_template_rows": null,
            "right": null,
            "justify_content": null,
            "_view_module": "@jupyter-widgets/base",
            "overflow": null,
            "_model_module_version": "1.2.0",
            "_view_count": null,
            "flex_flow": null,
            "width": null,
            "min_width": null,
            "border": null,
            "align_items": null,
            "bottom": null,
            "_model_module": "@jupyter-widgets/base",
            "top": null,
            "grid_column": null,
            "overflow_y": null,
            "overflow_x": null,
            "grid_auto_flow": null,
            "grid_area": null,
            "grid_template_columns": null,
            "flex": null,
            "_model_name": "LayoutModel",
            "justify_items": null,
            "grid_row": null,
            "max_height": null,
            "align_content": null,
            "visibility": null,
            "align_self": null,
            "height": null,
            "min_height": null,
            "padding": null,
            "grid_auto_rows": null,
            "grid_gap": null,
            "max_width": null,
            "order": null,
            "_view_module_version": "1.2.0",
            "grid_template_areas": null,
            "object_position": null,
            "object_fit": null,
            "grid_auto_columns": null,
            "margin": null,
            "display": null,
            "left": null
          }
        }
      }
    }
  },
  "cells": [
    {
      "cell_type": "markdown",
      "metadata": {
        "id": "view-in-github",
        "colab_type": "text"
      },
      "source": [
        "<a href=\"https://colab.research.google.com/github/DanieleFoscarin/HDA2021/blob/focus_MM/Remake_ESC50_classifier.ipynb\" target=\"_parent\"><img src=\"https://colab.research.google.com/assets/colab-badge.svg\" alt=\"Open In Colab\"/></a>"
      ]
    },
    {
      "cell_type": "markdown",
      "metadata": {
        "id": "4fzgZN3bTZ_f"
      },
      "source": [
        "reference YAMNet https://colab.research.google.com/github/tensorflow/docs/blob/master/site/en/tutorials/audio/transfer_learning_audio.ipynb#scrollTo=k2yleeev645r"
      ]
    },
    {
      "cell_type": "code",
      "metadata": {
        "id": "owTStArCqOyF"
      },
      "source": [
        "from pathlib import Path\n",
        "from scipy.io import wavfile\n",
        "from IPython.display import Audio\n",
        "import pandas as pd\n",
        "import numpy as np\n",
        "from matplotlib import pyplot as plt \n",
        "import librosa\n",
        "from tqdm import tqdm, tqdm_notebook, notebook\n",
        "import gc\n",
        "import time \n",
        "# import numba\n",
        "import os\n",
        "import scipy.fftpack\n",
        "import cv2\n",
        "import random\n",
        "from scipy.special import gamma\n",
        "\n",
        "\n",
        "import tensorflow as tf\n",
        "from tensorflow.keras import layers\n",
        "from tensorflow.keras.utils import Sequence, SequenceEnqueuer   # try enquerer that uses parallelism\n",
        "from tensorflow import keras\n",
        "\n",
        "import tensorflow_hub as hub\n",
        "\n",
        "#import model \n",
        "from tensorflow.keras.applications.mobilenet_v2 import MobileNetV2\n",
        "\n",
        "sr = 44100\n",
        "sr = 16000\n",
        "sr = 22050"
      ],
      "execution_count": 1,
      "outputs": []
    },
    {
      "cell_type": "code",
      "metadata": {
        "id": "os9gS_6l0dKn"
      },
      "source": [
        "! pip install icecream --quiet\n",
        "from icecream import ic"
      ],
      "execution_count": 2,
      "outputs": []
    },
    {
      "cell_type": "code",
      "metadata": {
        "id": "kNSUFeWy_KwY",
        "colab": {
          "base_uri": "https://localhost:8080/"
        },
        "outputId": "333e9016-722b-41fc-ed1b-33087280e13f"
      },
      "source": [
        "! pip install samplerate --quiet\n",
        "import samplerate"
      ],
      "execution_count": 3,
      "outputs": [
        {
          "output_type": "stream",
          "text": [
            "\u001b[K     |████████████████████████████████| 4.0MB 7.8MB/s \n",
            "\u001b[?25h"
          ],
          "name": "stdout"
        }
      ]
    },
    {
      "cell_type": "code",
      "metadata": {
        "id": "QhlvC6fouj5l",
        "colab": {
          "base_uri": "https://localhost:8080/"
        },
        "outputId": "b987e31d-0790-486a-e491-70f368b4ec6d"
      },
      "source": [
        "! pip install optuna --quiet\n",
        "import optuna"
      ],
      "execution_count": 4,
      "outputs": [
        {
          "output_type": "stream",
          "text": [
            "\u001b[K     |████████████████████████████████| 307kB 8.6MB/s \n",
            "\u001b[K     |████████████████████████████████| 81kB 6.4MB/s \n",
            "\u001b[K     |████████████████████████████████| 174kB 15.3MB/s \n",
            "\u001b[K     |████████████████████████████████| 51kB 6.2MB/s \n",
            "\u001b[K     |████████████████████████████████| 112kB 15.8MB/s \n",
            "\u001b[K     |████████████████████████████████| 143kB 20.2MB/s \n",
            "\u001b[K     |████████████████████████████████| 81kB 8.6MB/s \n",
            "\u001b[?25h  Building wheel for pyperclip (setup.py) ... \u001b[?25l\u001b[?25hdone\n"
          ],
          "name": "stdout"
        }
      ]
    },
    {
      "cell_type": "code",
      "metadata": {
        "id": "1JlJ6V7C3PXj"
      },
      "source": [
        "!pip install livelossplot --quiet\n",
        "from livelossplot import PlotLossesKeras"
      ],
      "execution_count": 5,
      "outputs": []
    },
    {
      "cell_type": "code",
      "metadata": {
        "id": "L3Wly4mBeKZG"
      },
      "source": [
        "! pip install audiomentations --quiet\n",
        "import audiomentations as am"
      ],
      "execution_count": 6,
      "outputs": []
    },
    {
      "cell_type": "markdown",
      "metadata": {
        "id": "ej2eN-L_p4Nt"
      },
      "source": [
        "# Get Dataset"
      ]
    },
    {
      "cell_type": "code",
      "metadata": {
        "colab": {
          "base_uri": "https://localhost:8080/"
        },
        "id": "2sYgxpk9k3J-",
        "outputId": "3e078e35-0a2b-4671-b8bf-0832e58b5670"
      },
      "source": [
        "# Clone the entire repo.\n",
        "!git clone https://github.com/karolpiczak/ESC-50.git\n"
      ],
      "execution_count": 7,
      "outputs": [
        {
          "output_type": "stream",
          "text": [
            "Cloning into 'ESC-50'...\n",
            "remote: Enumerating objects: 4154, done.\u001b[K\n",
            "remote: Counting objects: 100% (18/18), done.\u001b[K\n",
            "remote: Compressing objects: 100% (18/18), done.\u001b[K\n",
            "remote: Total 4154 (delta 10), reused 0 (delta 0), pack-reused 4136\u001b[K\n",
            "Receiving objects: 100% (4154/4154), 878.78 MiB | 19.19 MiB/s, done.\n",
            "Resolving deltas: 100% (257/257), done.\n",
            "Checking out files: 100% (2011/2011), done.\n"
          ],
          "name": "stdout"
        }
      ]
    },
    {
      "cell_type": "code",
      "metadata": {
        "colab": {
          "base_uri": "https://localhost:8080/",
          "height": 419
        },
        "id": "TKGGth680BLt",
        "outputId": "d6e63f39-8011-423b-b9e3-8de017cab296"
      },
      "source": [
        "ROOT = '/content/ESC-50/audio/'\n",
        "\n",
        "data_info = pd.read_csv(ROOT+\"../meta/esc50.csv\")\n",
        "\n",
        "#make a category dictionary\n",
        "category_dict = dict(zip(data_info['target'], data_info['category']))\n",
        "data_info"
      ],
      "execution_count": 8,
      "outputs": [
        {
          "output_type": "execute_result",
          "data": {
            "text/html": [
              "<div>\n",
              "<style scoped>\n",
              "    .dataframe tbody tr th:only-of-type {\n",
              "        vertical-align: middle;\n",
              "    }\n",
              "\n",
              "    .dataframe tbody tr th {\n",
              "        vertical-align: top;\n",
              "    }\n",
              "\n",
              "    .dataframe thead th {\n",
              "        text-align: right;\n",
              "    }\n",
              "</style>\n",
              "<table border=\"1\" class=\"dataframe\">\n",
              "  <thead>\n",
              "    <tr style=\"text-align: right;\">\n",
              "      <th></th>\n",
              "      <th>filename</th>\n",
              "      <th>fold</th>\n",
              "      <th>target</th>\n",
              "      <th>category</th>\n",
              "      <th>esc10</th>\n",
              "      <th>src_file</th>\n",
              "      <th>take</th>\n",
              "    </tr>\n",
              "  </thead>\n",
              "  <tbody>\n",
              "    <tr>\n",
              "      <th>0</th>\n",
              "      <td>1-100032-A-0.wav</td>\n",
              "      <td>1</td>\n",
              "      <td>0</td>\n",
              "      <td>dog</td>\n",
              "      <td>True</td>\n",
              "      <td>100032</td>\n",
              "      <td>A</td>\n",
              "    </tr>\n",
              "    <tr>\n",
              "      <th>1</th>\n",
              "      <td>1-100038-A-14.wav</td>\n",
              "      <td>1</td>\n",
              "      <td>14</td>\n",
              "      <td>chirping_birds</td>\n",
              "      <td>False</td>\n",
              "      <td>100038</td>\n",
              "      <td>A</td>\n",
              "    </tr>\n",
              "    <tr>\n",
              "      <th>2</th>\n",
              "      <td>1-100210-A-36.wav</td>\n",
              "      <td>1</td>\n",
              "      <td>36</td>\n",
              "      <td>vacuum_cleaner</td>\n",
              "      <td>False</td>\n",
              "      <td>100210</td>\n",
              "      <td>A</td>\n",
              "    </tr>\n",
              "    <tr>\n",
              "      <th>3</th>\n",
              "      <td>1-100210-B-36.wav</td>\n",
              "      <td>1</td>\n",
              "      <td>36</td>\n",
              "      <td>vacuum_cleaner</td>\n",
              "      <td>False</td>\n",
              "      <td>100210</td>\n",
              "      <td>B</td>\n",
              "    </tr>\n",
              "    <tr>\n",
              "      <th>4</th>\n",
              "      <td>1-101296-A-19.wav</td>\n",
              "      <td>1</td>\n",
              "      <td>19</td>\n",
              "      <td>thunderstorm</td>\n",
              "      <td>False</td>\n",
              "      <td>101296</td>\n",
              "      <td>A</td>\n",
              "    </tr>\n",
              "    <tr>\n",
              "      <th>...</th>\n",
              "      <td>...</td>\n",
              "      <td>...</td>\n",
              "      <td>...</td>\n",
              "      <td>...</td>\n",
              "      <td>...</td>\n",
              "      <td>...</td>\n",
              "      <td>...</td>\n",
              "    </tr>\n",
              "    <tr>\n",
              "      <th>1995</th>\n",
              "      <td>5-263831-B-6.wav</td>\n",
              "      <td>5</td>\n",
              "      <td>6</td>\n",
              "      <td>hen</td>\n",
              "      <td>False</td>\n",
              "      <td>263831</td>\n",
              "      <td>B</td>\n",
              "    </tr>\n",
              "    <tr>\n",
              "      <th>1996</th>\n",
              "      <td>5-263902-A-36.wav</td>\n",
              "      <td>5</td>\n",
              "      <td>36</td>\n",
              "      <td>vacuum_cleaner</td>\n",
              "      <td>False</td>\n",
              "      <td>263902</td>\n",
              "      <td>A</td>\n",
              "    </tr>\n",
              "    <tr>\n",
              "      <th>1997</th>\n",
              "      <td>5-51149-A-25.wav</td>\n",
              "      <td>5</td>\n",
              "      <td>25</td>\n",
              "      <td>footsteps</td>\n",
              "      <td>False</td>\n",
              "      <td>51149</td>\n",
              "      <td>A</td>\n",
              "    </tr>\n",
              "    <tr>\n",
              "      <th>1998</th>\n",
              "      <td>5-61635-A-8.wav</td>\n",
              "      <td>5</td>\n",
              "      <td>8</td>\n",
              "      <td>sheep</td>\n",
              "      <td>False</td>\n",
              "      <td>61635</td>\n",
              "      <td>A</td>\n",
              "    </tr>\n",
              "    <tr>\n",
              "      <th>1999</th>\n",
              "      <td>5-9032-A-0.wav</td>\n",
              "      <td>5</td>\n",
              "      <td>0</td>\n",
              "      <td>dog</td>\n",
              "      <td>True</td>\n",
              "      <td>9032</td>\n",
              "      <td>A</td>\n",
              "    </tr>\n",
              "  </tbody>\n",
              "</table>\n",
              "<p>2000 rows × 7 columns</p>\n",
              "</div>"
            ],
            "text/plain": [
              "               filename  fold  target        category  esc10  src_file take\n",
              "0      1-100032-A-0.wav     1       0             dog   True    100032    A\n",
              "1     1-100038-A-14.wav     1      14  chirping_birds  False    100038    A\n",
              "2     1-100210-A-36.wav     1      36  vacuum_cleaner  False    100210    A\n",
              "3     1-100210-B-36.wav     1      36  vacuum_cleaner  False    100210    B\n",
              "4     1-101296-A-19.wav     1      19    thunderstorm  False    101296    A\n",
              "...                 ...   ...     ...             ...    ...       ...  ...\n",
              "1995   5-263831-B-6.wav     5       6             hen  False    263831    B\n",
              "1996  5-263902-A-36.wav     5      36  vacuum_cleaner  False    263902    A\n",
              "1997   5-51149-A-25.wav     5      25       footsteps  False     51149    A\n",
              "1998    5-61635-A-8.wav     5       8           sheep  False     61635    A\n",
              "1999     5-9032-A-0.wav     5       0             dog   True      9032    A\n",
              "\n",
              "[2000 rows x 7 columns]"
            ]
          },
          "metadata": {
            "tags": []
          },
          "execution_count": 8
        }
      ]
    },
    {
      "cell_type": "markdown",
      "metadata": {
        "id": "9graehVvSO2B"
      },
      "source": [
        "# Offline input pipeline"
      ]
    },
    {
      "cell_type": "code",
      "metadata": {
        "id": "rBTi5-K9S5KH"
      },
      "source": [
        "class AudioLoader():\n",
        "    def __init__(self, df, root, format1=False, downsample=True):\n",
        "        self.df = df\n",
        "        self.root = root\n",
        "        self.format1 = format1\n",
        "        self.downsample = downsample\n",
        "\n",
        "    def __len__(self):\n",
        "        return len(self.df)\n",
        "\n",
        "    def __getitem__(self, idx):\n",
        "        _, this_audio = wavfile.read(os.path.join(self.root, self.df['filename'][idx]))\n",
        "        if self.downsample:\n",
        "            this_audio = samplerate.resample(this_audio, 16000/44100, converter_type='sinc_fastest')\n",
        "        if self.format1:\n",
        "            this_audio = this_audio / 32768     # 2^15 = 32768\n",
        "        return this_audio\n",
        "\n",
        "    def get_info(self, idx, list=False):\n",
        "        if list:\n",
        "            out = self.df.iloc[idx].to_list()\n",
        "        else:\n",
        "            out = self.df.iloc[idx]\n",
        "        return out\n",
        "\n",
        "\n",
        "def removeSilence(signal, fill_silence=False):\n",
        "    \"\"\"\n",
        "    Remove the leading and trailing zeros in an array,\n",
        "    Parameters:\n",
        "        signal: array,\n",
        "        fill_silence: boolean, if True it repeats the non zero part until the \n",
        "            size of the output array is the same as the input array\n",
        "    Return:\n",
        "        an array\n",
        "\n",
        "    \"\"\"\n",
        "    \n",
        "    trimmed = np.trim_zeros(signal)\n",
        "    if not fill_silence:\n",
        "        return trimmed\n",
        "    if fill_silence:\n",
        "        lt = len(trimmed)\n",
        "        ls = len(signal)\n",
        "        # ic(lt,ls)\n",
        "        if lt < ls:\n",
        "          trimmed = np.tile(trimmed, int(np.ceil(ls/lt)))\n",
        "          trimmed = trimmed[:ls]  \n",
        "        return trimmed\n",
        "\n",
        "\n",
        "def features_preprocessor(audio_loader, path, df, yamnet, augmentation=0):\n",
        "\n",
        "    augment = am.Compose([\n",
        "    am.AddGaussianNoise(min_amplitude=0.001, max_amplitude=0.015, p=0.5),\n",
        "    am.TimeStretch(min_rate=0.8, max_rate=1.2, p=0.5),\n",
        "    am.PitchShift(min_semitones=-4, max_semitones=4, p=0.5),\n",
        "    am.Shift(min_fraction=-0.5, max_fraction=0.5, p=0.5),])\n",
        "\n",
        "\n",
        "    if augmentation==0:\n",
        "        for i in notebook.tqdm(range(len(audio_loader))):\n",
        "            this_audio = audio_loader[i][:sr*5]\n",
        "            this_audio = removeSilence(this_audio, fill_silence=True)\n",
        "            _, this_emb, _ = yamnet(this_audio)\n",
        "            pack = np.array([this_emb, audio_loader.get_info(i)['fold'], audio_loader.get_info(i)['target']], dtype= 'object')\n",
        "            np.save(os.path.join(path, audio_loader.get_info(i)['filename']+'_0'), pack)\n",
        "            # break\n",
        "\n",
        "    if augmentation > 0:\n",
        "        for i in notebook.tqdm(range(len(audio_loader))):\n",
        "            this_audio = audio_loader[i][:sr*5]\n",
        "            this_audio = removeSilence(this_audio, fill_silence=True)\n",
        "            for aug in range(augmentation):\n",
        "                \n",
        "                if aug == 0:\n",
        "                    # ic(aug, np.shape(yam_audio))\n",
        "                    _, this_emb, _ = yamnet(this_audio)\n",
        "                    pack = np.array([this_emb, audio_loader.get_info(i)['fold'], audio_loader.get_info(i)['target']], dtype='object')\n",
        "                    np.save(os.path.join(path, audio_loader.get_info(i)['filename']+'_0'), pack)\n",
        "                else:\n",
        "                    aug_audio = augment(this_audio, sr)\n",
        "                    _, this_emb, _ = yamnet(this_audio)\n",
        "                    pack = np.array([this_emb, audio_loader.get_info(i)['fold'], audio_loader.get_info(i)['target']], dtype='object')\n",
        "                    np.save(os.path.join(path, audio_loader.get_info(i)['filename']+'_'+str(aug)), pack)\n",
        "\n",
        "\n",
        "        "
      ],
      "execution_count": 9,
      "outputs": []
    },
    {
      "cell_type": "code",
      "metadata": {
        "colab": {
          "base_uri": "https://localhost:8080/",
          "height": 83,
          "referenced_widgets": [
            "84bd56f9df2b4596904fa9403872a89a",
            "2583cb7687564ad29a5c601fe214eb48",
            "3a8e161f07084809920e9c2e322ec3a4",
            "b4173621b79841c1b1de67e35e1a0a83",
            "4595ca707182493c98761becb0cab6e3",
            "fa82f8a0271942a8bd66ab1eb94126a2",
            "660aed27606341cfb702ffbc82f483c9",
            "a577bb2881fd40d58af9f22a4caef0da"
          ]
        },
        "id": "uw1ZdIWTTYw9",
        "outputId": "4b456d7d-0b48-45af-eb66-6cb41e187aae"
      },
      "source": [
        "ic(ROOT)\n",
        "AUGMENTATION = 0\n",
        "\n",
        "!mkdir -p feature_storage\n",
        "path_batch = \"/content/feature_storage/\"\n",
        "\n",
        "# download ad set YAMNet pretrained model\n",
        "yamnet_model_handle = 'https://tfhub.dev/google/yamnet/1'\n",
        "yamnet_model = hub.load(yamnet_model_handle)\n",
        "\n",
        "audio_loader = AudioLoader(data_info, ROOT, format1=True)\n",
        "features_preprocessor(audio_loader, path_batch, data_info, yamnet_model, augmentation=AUGMENTATION)"
      ],
      "execution_count": 10,
      "outputs": [
        {
          "output_type": "stream",
          "text": [
            "ic| ROOT: '/content/ESC-50/audio/'\n"
          ],
          "name": "stderr"
        },
        {
          "output_type": "display_data",
          "data": {
            "application/vnd.jupyter.widget-view+json": {
              "model_id": "84bd56f9df2b4596904fa9403872a89a",
              "version_minor": 0,
              "version_major": 2
            },
            "text/plain": [
              "HBox(children=(FloatProgress(value=0.0, max=2000.0), HTML(value='')))"
            ]
          },
          "metadata": {
            "tags": []
          }
        },
        {
          "output_type": "stream",
          "text": [
            "\n"
          ],
          "name": "stdout"
        }
      ]
    },
    {
      "cell_type": "markdown",
      "metadata": {
        "id": "oEMra2JudL2A"
      },
      "source": [
        "# Sequence class"
      ]
    },
    {
      "cell_type": "code",
      "metadata": {
        "id": "SRe92c-mV7wX"
      },
      "source": [
        "def to_onehot(y, classes=50):\n",
        "    y_oh = np.zeros((classes, 1))\n",
        "    y_oh[y] = 1\n",
        "    return y_oh\n",
        "\n",
        "def mix(a, b, l):\n",
        "    return l*b + (1-l)*a\n",
        "\n",
        "\n",
        "class FeatureSequence(Sequence):\n",
        "    def __init__(self, names, path, batch_size, alpha_schedule, with_mixup=False):\n",
        "        self.names = names\n",
        "        self.batch_size = batch_size\n",
        "        self.path = path\n",
        "        self.with_mixup = with_mixup\n",
        "        self.epoch = 0\n",
        "        self.alpha = [0.01, 0.01]\n",
        "        self.mix_prob = 1\n",
        "        self.alpha_schedule = alpha_schedule\n",
        "        # self.a = self.alpha_schedule[0,0]\n",
        "        # self.b = self.alpha_schedule[1,0]\n",
        "\n",
        "    def __len__(self):\n",
        "        return int(np.floor(len(self.names) / self.batch_size))\n",
        "\n",
        "    def on_epoch_end(self):\n",
        "        self.epoch += 1\n",
        "        if self.epoch < self.alpha_schedule.shape[1]:\n",
        "            self.alpha = self.alpha_schedule[:,self.epoch]\n",
        "\n",
        "        # print('deb alpha', self.alpha[0], self.alpha[1])\n",
        "        random.shuffle(self.names)\n",
        "\n",
        "    def __getitem__(self, idx):\n",
        "        batch_names = self.names[idx*self.batch_size:(idx + 1)*self.batch_size]\n",
        "\n",
        "        batch_feat = []\n",
        "        # batch_infered = []\n",
        "        batch_target = []\n",
        "        for name in batch_names:\n",
        "            this_pack = np.load(os.path.join(self.path, name), allow_pickle=True)\n",
        "            # NB fix the axes order from the preprocessor\n",
        "            this_feat = this_pack[0]\n",
        "            # this_feat = np.transpose(this_feat, [2,1,0])\n",
        "            this_target = to_onehot(this_pack[2])\n",
        "            \n",
        "            if self.with_mixup:\n",
        "            # if self.with_mixup:\n",
        "                # load another random pack\n",
        "                rand_name = np.random.randint(0, len(self.names))\n",
        "                this_pack2 = np.load(os.path.join(self.path, self.names[rand_name]), allow_pickle=True)\n",
        "                this_feat2 = this_pack2[0]\n",
        "                this_feat2 = np.roll(this_feat2, np.random.randint(0,10), axis=0)\n",
        "                \n",
        "                this_target2 = to_onehot(this_pack2[2])\n",
        "\n",
        "                # mix the samples\n",
        "                l = np.random.beta(self.alpha[0], self.alpha[1])\n",
        "\n",
        "                this_feat = mix(this_feat, this_feat2, l)\n",
        "\n",
        "                # this_target = mix(this_target, this_target2, l)   #not mixing target for sample fusion\n",
        "\n",
        "            batch_feat.append(this_feat)\n",
        "            batch_target.append(this_target)\n",
        "\n",
        "        batch_infered = np.array(batch_feat)\n",
        "        # ic(batch_infered.shape, type(batch_infered))\n",
        "\n",
        "        batch_target = np.array(batch_target)\n",
        "        batch_input = batch_infered\n",
        "\n",
        "        return batch_input, batch_target\n"
      ],
      "execution_count": 21,
      "outputs": []
    },
    {
      "cell_type": "code",
      "metadata": {
        "colab": {
          "base_uri": "https://localhost:8080/",
          "height": 598
        },
        "id": "Gg0-MPObCZA2",
        "outputId": "d527e7f8-f30d-4c19-bbf5-c08ce256712a"
      },
      "source": [
        "epoch = 200\n",
        "alpha_schedule = np.zeros((2,epoch))\n",
        "alpha_start = 1e-3\n",
        "alpha_end = 0.5\n",
        "alpha_schedule[:,0] = alpha_start\n",
        "alpha_schedule[0,0:30] = np.linspace(alpha_start, alpha_end, 30)\n",
        "alpha_schedule[1,0:30] = np.linspace(alpha_start, alpha_end, 30)\n",
        "alpha_schedule[:,30:] = alpha_end\n",
        "# alpha_schedule[0,30:] = np.linspace(alpha_end, 0.001, 170)*np.exp(-np.linspace(0,10, 160))\n",
        "alpha_schedule[0,30:] = alpha_end*np.exp(-np.linspace(0,4, 170))\n",
        "alpha_schedule[1,30:] = np.linspace(alpha_end, 1, 170)\n",
        "plt.figure()\n",
        "plt.plot(alpha_schedule[0])\n",
        "plt.plot(alpha_schedule[1])\n",
        "\n",
        "def beta_density(x, a,b):\n",
        "    B = (gamma(a)*gamma(b))/gamma(a+b)\n",
        "    return ((x**(a-1))*(1-x)**(b-1))/B\n",
        "\n",
        "# def check_beta(a,b):\n",
        "a = alpha_schedule[0,50]\n",
        "b = alpha_schedule[1,50]\n",
        "v = np.linspace(0,1, num=100)\n",
        "beta = beta_density(v, a, b)\n",
        "plt.figure()\n",
        "plt.plot(beta)\n",
        "plt.fill_between(range(len(v)),beta, alpha=0.3 )"
      ],
      "execution_count": 16,
      "outputs": [
        {
          "output_type": "stream",
          "text": [
            "/usr/local/lib/python3.7/dist-packages/ipykernel_launcher.py:18: RuntimeWarning:\n",
            "\n",
            "divide by zero encountered in power\n",
            "\n"
          ],
          "name": "stderr"
        },
        {
          "output_type": "execute_result",
          "data": {
            "text/plain": [
              "<matplotlib.collections.PolyCollection at 0x7faae2be1510>"
            ]
          },
          "metadata": {
            "tags": []
          },
          "execution_count": 16
        },
        {
          "output_type": "display_data",
          "data": {
            "image/png": "[encoded data removed]",
            "text/plain": [
              "<Figure size 432x288 with 1 Axes>"
            ]
          },
          "metadata": {
            "tags": [],
            "needs_background": "light"
          }
        },
        {
          "output_type": "display_data",
          "data": {
            "image/png": "[encoded data removed]",
            "text/plain": [
              "<Figure size 432x288 with 1 Axes>"
            ]
          },
          "metadata": {
            "tags": [],
            "needs_background": "light"
          }
        }
      ]
    },
    {
      "cell_type": "markdown",
      "metadata": {
        "id": "0Xu8nTu2SgeZ"
      },
      "source": [
        "# Using only transfer learning and no mixed features"
      ]
    },
    {
      "cell_type": "code",
      "metadata": {
        "id": "v_5f0d6tmywW",
        "colab": {
          "base_uri": "https://localhost:8080/"
        },
        "outputId": "a43523cf-afe4-46d2-a81b-6b03b58dfd2e"
      },
      "source": [
        "def make_tfYAMNet(size_1=100, size_2=100, size_3=50, lr=1e-3):\n",
        "    act = 'relu'\n",
        "\n",
        "    input_inf = layers.Input(shape=(None,1024))\n",
        "    \n",
        "\n",
        "    z = layers.GlobalAveragePooling1D()(input_inf)\n",
        "    \n",
        "    z = layers.Flatten()(z)\n",
        "    z = layers.Dense(size_1, activation='relu',)(z)\n",
        "    z = layers.Dense(size_2, activation='relu',)(z)\n",
        "    z = layers.Dense(size_3, activation='relu',)(z)\n",
        "    z = layers.Dense(50, activation='softmax',)(z)\n",
        "\n",
        "    \n",
        "    model = keras.Model(inputs=input_inf, outputs=z)\n",
        "    # model = keras.Model(inputs=[input_inf, input_rms, input_flat], outputs=z)\n",
        "    model.compile(optimizer=tf.keras.optimizers.Adam(learning_rate=lr), \n",
        "      loss = tf.keras.losses.categorical_crossentropy, \n",
        "      metrics=['accuracy'])\n",
        "    return model\n",
        "\n",
        "tfyam_net = make_tfYAMNet()\n",
        "tfyam_net.summary()"
      ],
      "execution_count": 17,
      "outputs": [
        {
          "output_type": "stream",
          "text": [
            "Model: \"model\"\n",
            "_________________________________________________________________\n",
            "Layer (type)                 Output Shape              Param #   \n",
            "=================================================================\n",
            "input_1 (InputLayer)         [(None, None, 1024)]      0         \n",
            "_________________________________________________________________\n",
            "global_average_pooling1d (Gl (None, 1024)              0         \n",
            "_________________________________________________________________\n",
            "flatten (Flatten)            (None, 1024)              0         \n",
            "_________________________________________________________________\n",
            "dense (Dense)                (None, 100)               102500    \n",
            "_________________________________________________________________\n",
            "dense_1 (Dense)              (None, 100)               10100     \n",
            "_________________________________________________________________\n",
            "dense_2 (Dense)              (None, 50)                5050      \n",
            "_________________________________________________________________\n",
            "out_total (Dense)            (None, 50)                2550      \n",
            "=================================================================\n",
            "Total params: 120,200\n",
            "Trainable params: 120,200\n",
            "Non-trainable params: 0\n",
            "_________________________________________________________________\n"
          ],
          "name": "stdout"
        }
      ]
    },
    {
      "cell_type": "code",
      "metadata": {
        "colab": {
          "base_uri": "https://localhost:8080/"
        },
        "id": "DF0kdiEKuHxz",
        "outputId": "6d44c698-af32-49cd-ab36-4b019dfa40b4"
      },
      "source": [
        "def make_tfYAMNet(size_1=100, size_2=100, size_3=50, lr=1e-3):\n",
        "\n",
        "    input_inf = layers.Input(shape=(None,1024))\n",
        "    \n",
        "    z = layers.GlobalAveragePooling1D()(input_inf)\n",
        "\n",
        "    z = tf.expand_dims(z, axis=1)\n",
        "    z = layers.Conv1D(size_1, 1, padding='same', activation='relu')(z)\n",
        "    z = layers.Conv1D(size_2, 1, padding='same', activation='relu')(z)\n",
        "    z = layers.Conv1D(size_3, 1, padding='same', activation='relu')(z)\n",
        "    z = layers.Conv1D(50, 1, padding='same', activation='softmax')(z)\n",
        "    z = layers.GlobalAveragePooling1D()(z)\n",
        "    \n",
        "    model = keras.Model(inputs=input_inf, outputs=z)\n",
        "    # model = keras.Model(inputs=[input_inf, input_rms, input_flat], outputs=z)\n",
        "    model.compile(optimizer=tf.keras.optimizers.Adam(learning_rate=lr), \n",
        "      loss = tf.keras.losses.categorical_crossentropy, \n",
        "      metrics=['accuracy'])\n",
        "    return model\n",
        "\n",
        "tfyam_net = make_tfYAMNet()\n",
        "tfyam_net.summary()"
      ],
      "execution_count": 32,
      "outputs": [
        {
          "output_type": "stream",
          "text": [
            "Model: \"model_10\"\n",
            "_________________________________________________________________\n",
            "Layer (type)                 Output Shape              Param #   \n",
            "=================================================================\n",
            "input_13 (InputLayer)        [(None, None, 1024)]      0         \n",
            "_________________________________________________________________\n",
            "global_average_pooling1d_15  (None, 1024)              0         \n",
            "_________________________________________________________________\n",
            "tf.expand_dims_6 (TFOpLambda (None, 1, 1024)           0         \n",
            "_________________________________________________________________\n",
            "conv1d_20 (Conv1D)           (None, 1, 100)            102500    \n",
            "_________________________________________________________________\n",
            "conv1d_21 (Conv1D)           (None, 1, 100)            10100     \n",
            "_________________________________________________________________\n",
            "conv1d_22 (Conv1D)           (None, 1, 50)             5050      \n",
            "_________________________________________________________________\n",
            "conv1d_23 (Conv1D)           (None, 1, 50)             2550      \n",
            "_________________________________________________________________\n",
            "global_average_pooling1d_16  (None, 50)                0         \n",
            "=================================================================\n",
            "Total params: 120,200\n",
            "Trainable params: 120,200\n",
            "Non-trainable params: 0\n",
            "_________________________________________________________________\n"
          ],
          "name": "stdout"
        }
      ]
    },
    {
      "cell_type": "code",
      "metadata": {
        "id": "M_ekvUYBS0R8",
        "colab": {
          "base_uri": "https://localhost:8080/",
          "height": 408
        },
        "outputId": "e19fb4dd-cbf9-458b-8bab-3d971d674013"
      },
      "source": [
        "SOURCE = path_batch\n",
        "\n",
        "batch_size = 64\n",
        "epochs = 125\n",
        "\n",
        "fold = 2\n",
        "# feat_names  = os.listdir(path_drive)\n",
        "feat_names  = os.listdir(SOURCE)\n",
        "ic(len(feat_names))\n",
        "\n",
        "# not using augmentated samples here\n",
        "# val_names = [x for x in feat_names if x[0]==str(fold) and x.endswith('0.npy')]\n",
        "# train_names = [x for x in feat_names if x[0]!=str(fold) and (x.endswith('0.npy'))]\n",
        "\n",
        "train_names = [x for x in feat_names if x[0]!=str(fold) and x.endswith('0.npy')]\n",
        "val_names = [x for x in feat_names if x[0]==str(fold) and x.endswith('0.npy')]\n",
        "\n",
        "ic(len(train_names))\n",
        "ic(len(val_names))\n",
        "\n",
        "train_dataloader = FeatureSequence(train_names, SOURCE, batch_size, alpha_schedule, with_mixup=True)\n",
        "val_dataloader = FeatureSequence(val_names, SOURCE, batch_size, alpha_schedule, with_mixup=False)\n",
        "\n",
        "\n",
        "ic(len(train_dataloader))\n",
        "ic(len(val_dataloader))\n",
        "\n",
        "model_checkpoint_dir = '/content/drive/MyDrive/UNI_ICT/HDA/best_model'\n",
        "model_checkpoint_file = os.path.join(model_checkpoint_dir, 'best_model_fold_'+str(fold))\n",
        "model_checkpoint_callback = tf.keras.callbacks.ModelCheckpoint(\n",
        "    filepath=model_checkpoint_file,\n",
        "    save_weights_only=True,\n",
        "    monitor='val_accuracy',\n",
        "    mode='max',\n",
        "    save_best_only=True)\n",
        "\n",
        "reduce_lr = tf.keras.callbacks.ReduceLROnPlateau(monitor='val_loss', factor=0.2,\n",
        "                              patience=5, min_lr=0.0001)\n",
        "\n",
        "\n",
        "tfyam_net = make_tfYAMNet(50, 50, 50, lr=0.001)\n",
        "# Model training\n",
        "history = tfyam_net.fit(train_dataloader, \n",
        "                    epochs=epochs,\n",
        "                    callbacks=[PlotLossesKeras(), \n",
        "                               reduce_lr,\n",
        "                               model_checkpoint_callback,\n",
        "                               ],\n",
        "                    validation_data = val_dataloader,\n",
        "                    verbose=1)\n",
        "# load the best model checkpoint\n",
        "tfyam_net.load_weights(model_checkpoint_file)\n",
        "best_acc = max(history.history['val_accuracy'])\n",
        "print(best_acc)\n"
      ],
      "execution_count": 33,
      "outputs": [
        {
          "output_type": "error",
          "ename": "KeyboardInterrupt",
          "evalue": "ignored",
          "traceback": [
            "\u001b[0;31m---------------------------------------------------------------------------\u001b[0m",
            "\u001b[0;31mKeyboardInterrupt\u001b[0m                         Traceback (most recent call last)",
            "\u001b[0;32m<ipython-input-33-a721aed05fe7>\u001b[0m in \u001b[0;36m<module>\u001b[0;34m()\u001b[0m\n\u001b[1;32m     48\u001b[0m                                ],\n\u001b[1;32m     49\u001b[0m                     \u001b[0mvalidation_data\u001b[0m \u001b[0;34m=\u001b[0m \u001b[0mval_dataloader\u001b[0m\u001b[0;34m,\u001b[0m\u001b[0;34m\u001b[0m\u001b[0;34m\u001b[0m\u001b[0m\n\u001b[0;32m---> 50\u001b[0;31m                     verbose=1)\n\u001b[0m\u001b[1;32m     51\u001b[0m \u001b[0;31m# load the best model checkpoint\u001b[0m\u001b[0;34m\u001b[0m\u001b[0;34m\u001b[0m\u001b[0;34m\u001b[0m\u001b[0m\n\u001b[1;32m     52\u001b[0m \u001b[0mtfyam_net\u001b[0m\u001b[0;34m.\u001b[0m\u001b[0mload_weights\u001b[0m\u001b[0;34m(\u001b[0m\u001b[0mmodel_checkpoint_file\u001b[0m\u001b[0;34m)\u001b[0m\u001b[0;34m\u001b[0m\u001b[0;34m\u001b[0m\u001b[0m\n",
            "\u001b[0;32m/usr/local/lib/python3.7/dist-packages/tensorflow/python/keras/engine/training.py\u001b[0m in \u001b[0;36mfit\u001b[0;34m(self, x, y, batch_size, epochs, verbose, callbacks, validation_split, validation_data, shuffle, class_weight, sample_weight, initial_epoch, steps_per_epoch, validation_steps, validation_batch_size, validation_freq, max_queue_size, workers, use_multiprocessing)\u001b[0m\n\u001b[1;32m   1227\u001b[0m           \u001b[0mepoch_logs\u001b[0m\u001b[0;34m.\u001b[0m\u001b[0mupdate\u001b[0m\u001b[0;34m(\u001b[0m\u001b[0mval_logs\u001b[0m\u001b[0;34m)\u001b[0m\u001b[0;34m\u001b[0m\u001b[0;34m\u001b[0m\u001b[0m\n\u001b[1;32m   1228\u001b[0m \u001b[0;34m\u001b[0m\u001b[0m\n\u001b[0;32m-> 1229\u001b[0;31m         \u001b[0mcallbacks\u001b[0m\u001b[0;34m.\u001b[0m\u001b[0mon_epoch_end\u001b[0m\u001b[0;34m(\u001b[0m\u001b[0mepoch\u001b[0m\u001b[0;34m,\u001b[0m \u001b[0mepoch_logs\u001b[0m\u001b[0;34m)\u001b[0m\u001b[0;34m\u001b[0m\u001b[0;34m\u001b[0m\u001b[0m\n\u001b[0m\u001b[1;32m   1230\u001b[0m         \u001b[0mtraining_logs\u001b[0m \u001b[0;34m=\u001b[0m \u001b[0mepoch_logs\u001b[0m\u001b[0;34m\u001b[0m\u001b[0;34m\u001b[0m\u001b[0m\n\u001b[1;32m   1231\u001b[0m         \u001b[0;32mif\u001b[0m \u001b[0mself\u001b[0m\u001b[0;34m.\u001b[0m\u001b[0mstop_training\u001b[0m\u001b[0;34m:\u001b[0m\u001b[0;34m\u001b[0m\u001b[0;34m\u001b[0m\u001b[0m\n",
            "\u001b[0;32m/usr/local/lib/python3.7/dist-packages/tensorflow/python/keras/callbacks.py\u001b[0m in \u001b[0;36mon_epoch_end\u001b[0;34m(self, epoch, logs)\u001b[0m\n\u001b[1;32m    433\u001b[0m     \u001b[0mlogs\u001b[0m \u001b[0;34m=\u001b[0m \u001b[0mself\u001b[0m\u001b[0;34m.\u001b[0m\u001b[0m_process_logs\u001b[0m\u001b[0;34m(\u001b[0m\u001b[0mlogs\u001b[0m\u001b[0;34m)\u001b[0m\u001b[0;34m\u001b[0m\u001b[0;34m\u001b[0m\u001b[0m\n\u001b[1;32m    434\u001b[0m     \u001b[0;32mfor\u001b[0m \u001b[0mcallback\u001b[0m \u001b[0;32min\u001b[0m \u001b[0mself\u001b[0m\u001b[0;34m.\u001b[0m\u001b[0mcallbacks\u001b[0m\u001b[0;34m:\u001b[0m\u001b[0;34m\u001b[0m\u001b[0;34m\u001b[0m\u001b[0m\n\u001b[0;32m--> 435\u001b[0;31m       \u001b[0mcallback\u001b[0m\u001b[0;34m.\u001b[0m\u001b[0mon_epoch_end\u001b[0m\u001b[0;34m(\u001b[0m\u001b[0mepoch\u001b[0m\u001b[0;34m,\u001b[0m \u001b[0mlogs\u001b[0m\u001b[0;34m)\u001b[0m\u001b[0;34m\u001b[0m\u001b[0;34m\u001b[0m\u001b[0m\n\u001b[0m\u001b[1;32m    436\u001b[0m \u001b[0;34m\u001b[0m\u001b[0m\n\u001b[1;32m    437\u001b[0m   \u001b[0;32mdef\u001b[0m \u001b[0mon_train_batch_begin\u001b[0m\u001b[0;34m(\u001b[0m\u001b[0mself\u001b[0m\u001b[0;34m,\u001b[0m \u001b[0mbatch\u001b[0m\u001b[0;34m,\u001b[0m \u001b[0mlogs\u001b[0m\u001b[0;34m=\u001b[0m\u001b[0;32mNone\u001b[0m\u001b[0;34m)\u001b[0m\u001b[0;34m:\u001b[0m\u001b[0;34m\u001b[0m\u001b[0;34m\u001b[0m\u001b[0m\n",
            "\u001b[0;32m/usr/local/lib/python3.7/dist-packages/livelossplot/inputs/generic_keras.py\u001b[0m in \u001b[0;36mon_epoch_end\u001b[0;34m(self, epoch, logs)\u001b[0m\n\u001b[1;32m     20\u001b[0m         \"\"\"\n\u001b[1;32m     21\u001b[0m         \u001b[0mself\u001b[0m\u001b[0;34m.\u001b[0m\u001b[0mliveplot\u001b[0m\u001b[0;34m.\u001b[0m\u001b[0mupdate\u001b[0m\u001b[0;34m(\u001b[0m\u001b[0mlogs\u001b[0m\u001b[0;34m.\u001b[0m\u001b[0mcopy\u001b[0m\u001b[0;34m(\u001b[0m\u001b[0;34m)\u001b[0m\u001b[0;34m,\u001b[0m \u001b[0mepoch\u001b[0m\u001b[0;34m)\u001b[0m\u001b[0;34m\u001b[0m\u001b[0;34m\u001b[0m\u001b[0m\n\u001b[0;32m---> 22\u001b[0;31m         \u001b[0mself\u001b[0m\u001b[0;34m.\u001b[0m\u001b[0mliveplot\u001b[0m\u001b[0;34m.\u001b[0m\u001b[0msend\u001b[0m\u001b[0;34m(\u001b[0m\u001b[0;34m)\u001b[0m\u001b[0;34m\u001b[0m\u001b[0;34m\u001b[0m\u001b[0m\n\u001b[0m",
            "\u001b[0;32m/usr/local/lib/python3.7/dist-packages/livelossplot/plot_losses.py\u001b[0m in \u001b[0;36msend\u001b[0;34m(self)\u001b[0m\n\u001b[1;32m     39\u001b[0m         \u001b[0;34m\"\"\"Method will send logs to every output class\"\"\"\u001b[0m\u001b[0;34m\u001b[0m\u001b[0;34m\u001b[0m\u001b[0m\n\u001b[1;32m     40\u001b[0m         \u001b[0;32mfor\u001b[0m \u001b[0moutput\u001b[0m \u001b[0;32min\u001b[0m \u001b[0mself\u001b[0m\u001b[0;34m.\u001b[0m\u001b[0moutputs\u001b[0m\u001b[0;34m:\u001b[0m\u001b[0;34m\u001b[0m\u001b[0;34m\u001b[0m\u001b[0m\n\u001b[0;32m---> 41\u001b[0;31m             \u001b[0moutput\u001b[0m\u001b[0;34m.\u001b[0m\u001b[0msend\u001b[0m\u001b[0;34m(\u001b[0m\u001b[0mself\u001b[0m\u001b[0;34m.\u001b[0m\u001b[0mlogger\u001b[0m\u001b[0;34m)\u001b[0m\u001b[0;34m\u001b[0m\u001b[0;34m\u001b[0m\u001b[0m\n\u001b[0m\u001b[1;32m     42\u001b[0m \u001b[0;34m\u001b[0m\u001b[0m\n\u001b[1;32m     43\u001b[0m     \u001b[0;32mdef\u001b[0m \u001b[0mdraw\u001b[0m\u001b[0;34m(\u001b[0m\u001b[0mself\u001b[0m\u001b[0;34m)\u001b[0m\u001b[0;34m:\u001b[0m\u001b[0;34m\u001b[0m\u001b[0;34m\u001b[0m\u001b[0m\n",
            "\u001b[0;32m/usr/local/lib/python3.7/dist-packages/livelossplot/outputs/matplotlib_plot.py\u001b[0m in \u001b[0;36msend\u001b[0;34m(self, logger)\u001b[0m\n\u001b[1;32m     68\u001b[0m             \u001b[0mextra_plot\u001b[0m\u001b[0;34m(\u001b[0m\u001b[0max\u001b[0m\u001b[0;34m,\u001b[0m \u001b[0mlogger\u001b[0m\u001b[0;34m)\u001b[0m\u001b[0;34m\u001b[0m\u001b[0;34m\u001b[0m\u001b[0m\n\u001b[1;32m     69\u001b[0m \u001b[0;34m\u001b[0m\u001b[0m\n\u001b[0;32m---> 70\u001b[0;31m         \u001b[0mself\u001b[0m\u001b[0;34m.\u001b[0m\u001b[0m_after_plots\u001b[0m\u001b[0;34m(\u001b[0m\u001b[0mfig\u001b[0m\u001b[0;34m)\u001b[0m\u001b[0;34m\u001b[0m\u001b[0;34m\u001b[0m\u001b[0m\n\u001b[0m\u001b[1;32m     71\u001b[0m \u001b[0;34m\u001b[0m\u001b[0m\n\u001b[1;32m     72\u001b[0m     \u001b[0;32mdef\u001b[0m \u001b[0m_default_after_subplot\u001b[0m\u001b[0;34m(\u001b[0m\u001b[0mself\u001b[0m\u001b[0;34m,\u001b[0m \u001b[0max\u001b[0m\u001b[0;34m:\u001b[0m \u001b[0mplt\u001b[0m\u001b[0;34m.\u001b[0m\u001b[0mAxes\u001b[0m\u001b[0;34m,\u001b[0m \u001b[0mgroup_name\u001b[0m\u001b[0;34m:\u001b[0m \u001b[0mstr\u001b[0m\u001b[0;34m,\u001b[0m \u001b[0mx_label\u001b[0m\u001b[0;34m:\u001b[0m \u001b[0mstr\u001b[0m\u001b[0;34m)\u001b[0m\u001b[0;34m:\u001b[0m\u001b[0;34m\u001b[0m\u001b[0;34m\u001b[0m\u001b[0m\n",
            "\u001b[0;32m/usr/local/lib/python3.7/dist-packages/livelossplot/outputs/matplotlib_plot.py\u001b[0m in \u001b[0;36m_default_after_plots\u001b[0;34m(self, fig)\u001b[0m\n\u001b[1;32m    105\u001b[0m             \u001b[0mfig\u001b[0m\u001b[0;34m.\u001b[0m\u001b[0msavefig\u001b[0m\u001b[0;34m(\u001b[0m\u001b[0mself\u001b[0m\u001b[0;34m.\u001b[0m\u001b[0mfigpath\u001b[0m\u001b[0;34m.\u001b[0m\u001b[0mformat\u001b[0m\u001b[0;34m(\u001b[0m\u001b[0mi\u001b[0m\u001b[0;34m=\u001b[0m\u001b[0mself\u001b[0m\u001b[0;34m.\u001b[0m\u001b[0mfile_idx\u001b[0m\u001b[0;34m)\u001b[0m\u001b[0;34m)\u001b[0m\u001b[0;34m\u001b[0m\u001b[0;34m\u001b[0m\u001b[0m\n\u001b[1;32m    106\u001b[0m             \u001b[0mself\u001b[0m\u001b[0;34m.\u001b[0m\u001b[0mfile_idx\u001b[0m \u001b[0;34m+=\u001b[0m \u001b[0;36m1\u001b[0m\u001b[0;34m\u001b[0m\u001b[0;34m\u001b[0m\u001b[0m\n\u001b[0;32m--> 107\u001b[0;31m         \u001b[0mplt\u001b[0m\u001b[0;34m.\u001b[0m\u001b[0mshow\u001b[0m\u001b[0;34m(\u001b[0m\u001b[0;34m)\u001b[0m\u001b[0;34m\u001b[0m\u001b[0;34m\u001b[0m\u001b[0m\n\u001b[0m\u001b[1;32m    108\u001b[0m \u001b[0;34m\u001b[0m\u001b[0m\n\u001b[1;32m    109\u001b[0m     \u001b[0;32mdef\u001b[0m \u001b[0m_draw_metric_subplot\u001b[0m\u001b[0;34m(\u001b[0m\u001b[0mself\u001b[0m\u001b[0;34m,\u001b[0m \u001b[0max\u001b[0m\u001b[0;34m:\u001b[0m \u001b[0mplt\u001b[0m\u001b[0;34m.\u001b[0m\u001b[0mAxes\u001b[0m\u001b[0;34m,\u001b[0m \u001b[0mgroup_logs\u001b[0m\u001b[0;34m:\u001b[0m \u001b[0mDict\u001b[0m\u001b[0;34m[\u001b[0m\u001b[0mstr\u001b[0m\u001b[0;34m,\u001b[0m \u001b[0mList\u001b[0m\u001b[0;34m[\u001b[0m\u001b[0mLogItem\u001b[0m\u001b[0;34m]\u001b[0m\u001b[0;34m]\u001b[0m\u001b[0;34m,\u001b[0m \u001b[0mgroup_name\u001b[0m\u001b[0;34m:\u001b[0m \u001b[0mstr\u001b[0m\u001b[0;34m,\u001b[0m \u001b[0mx_label\u001b[0m\u001b[0;34m:\u001b[0m \u001b[0mstr\u001b[0m\u001b[0;34m)\u001b[0m\u001b[0;34m:\u001b[0m\u001b[0;34m\u001b[0m\u001b[0;34m\u001b[0m\u001b[0m\n",
            "\u001b[0;32m/usr/local/lib/python3.7/dist-packages/matplotlib/pyplot.py\u001b[0m in \u001b[0;36mshow\u001b[0;34m(*args, **kw)\u001b[0m\n\u001b[1;32m    270\u001b[0m     \"\"\"\n\u001b[1;32m    271\u001b[0m     \u001b[0;32mglobal\u001b[0m \u001b[0m_show\u001b[0m\u001b[0;34m\u001b[0m\u001b[0;34m\u001b[0m\u001b[0m\n\u001b[0;32m--> 272\u001b[0;31m     \u001b[0;32mreturn\u001b[0m \u001b[0m_show\u001b[0m\u001b[0;34m(\u001b[0m\u001b[0;34m*\u001b[0m\u001b[0margs\u001b[0m\u001b[0;34m,\u001b[0m \u001b[0;34m**\u001b[0m\u001b[0mkw\u001b[0m\u001b[0;34m)\u001b[0m\u001b[0;34m\u001b[0m\u001b[0;34m\u001b[0m\u001b[0m\n\u001b[0m\u001b[1;32m    273\u001b[0m \u001b[0;34m\u001b[0m\u001b[0m\n\u001b[1;32m    274\u001b[0m \u001b[0;34m\u001b[0m\u001b[0m\n",
            "\u001b[0;32m/usr/local/lib/python3.7/dist-packages/ipykernel/pylab/backend_inline.py\u001b[0m in \u001b[0;36mshow\u001b[0;34m(close, block)\u001b[0m\n\u001b[1;32m     37\u001b[0m             display(\n\u001b[1;32m     38\u001b[0m                 \u001b[0mfigure_manager\u001b[0m\u001b[0;34m.\u001b[0m\u001b[0mcanvas\u001b[0m\u001b[0;34m.\u001b[0m\u001b[0mfigure\u001b[0m\u001b[0;34m,\u001b[0m\u001b[0;34m\u001b[0m\u001b[0;34m\u001b[0m\u001b[0m\n\u001b[0;32m---> 39\u001b[0;31m                 \u001b[0mmetadata\u001b[0m\u001b[0;34m=\u001b[0m\u001b[0m_fetch_figure_metadata\u001b[0m\u001b[0;34m(\u001b[0m\u001b[0mfigure_manager\u001b[0m\u001b[0;34m.\u001b[0m\u001b[0mcanvas\u001b[0m\u001b[0;34m.\u001b[0m\u001b[0mfigure\u001b[0m\u001b[0;34m)\u001b[0m\u001b[0;34m\u001b[0m\u001b[0;34m\u001b[0m\u001b[0m\n\u001b[0m\u001b[1;32m     40\u001b[0m             )\n\u001b[1;32m     41\u001b[0m     \u001b[0;32mfinally\u001b[0m\u001b[0;34m:\u001b[0m\u001b[0;34m\u001b[0m\u001b[0;34m\u001b[0m\u001b[0m\n",
            "\u001b[0;32m/usr/local/lib/python3.7/dist-packages/IPython/core/display.py\u001b[0m in \u001b[0;36mdisplay\u001b[0;34m(*objs, **kwargs)\u001b[0m\n\u001b[1;32m    304\u001b[0m             \u001b[0mpublish_display_data\u001b[0m\u001b[0;34m(\u001b[0m\u001b[0mdata\u001b[0m\u001b[0;34m=\u001b[0m\u001b[0mobj\u001b[0m\u001b[0;34m,\u001b[0m \u001b[0mmetadata\u001b[0m\u001b[0;34m=\u001b[0m\u001b[0mmetadata\u001b[0m\u001b[0;34m,\u001b[0m \u001b[0;34m**\u001b[0m\u001b[0mkwargs\u001b[0m\u001b[0;34m)\u001b[0m\u001b[0;34m\u001b[0m\u001b[0;34m\u001b[0m\u001b[0m\n\u001b[1;32m    305\u001b[0m         \u001b[0;32melse\u001b[0m\u001b[0;34m:\u001b[0m\u001b[0;34m\u001b[0m\u001b[0;34m\u001b[0m\u001b[0m\n\u001b[0;32m--> 306\u001b[0;31m             \u001b[0mformat_dict\u001b[0m\u001b[0;34m,\u001b[0m \u001b[0mmd_dict\u001b[0m \u001b[0;34m=\u001b[0m \u001b[0mformat\u001b[0m\u001b[0;34m(\u001b[0m\u001b[0mobj\u001b[0m\u001b[0;34m,\u001b[0m \u001b[0minclude\u001b[0m\u001b[0;34m=\u001b[0m\u001b[0minclude\u001b[0m\u001b[0;34m,\u001b[0m \u001b[0mexclude\u001b[0m\u001b[0;34m=\u001b[0m\u001b[0mexclude\u001b[0m\u001b[0;34m)\u001b[0m\u001b[0;34m\u001b[0m\u001b[0;34m\u001b[0m\u001b[0m\n\u001b[0m\u001b[1;32m    307\u001b[0m             \u001b[0;32mif\u001b[0m \u001b[0;32mnot\u001b[0m \u001b[0mformat_dict\u001b[0m\u001b[0;34m:\u001b[0m\u001b[0;34m\u001b[0m\u001b[0;34m\u001b[0m\u001b[0m\n\u001b[1;32m    308\u001b[0m                 \u001b[0;31m# nothing to display (e.g. _ipython_display_ took over)\u001b[0m\u001b[0;34m\u001b[0m\u001b[0;34m\u001b[0m\u001b[0;34m\u001b[0m\u001b[0m\n",
            "\u001b[0;32m/usr/local/lib/python3.7/dist-packages/IPython/core/formatters.py\u001b[0m in \u001b[0;36mformat\u001b[0;34m(self, obj, include, exclude)\u001b[0m\n\u001b[1;32m    171\u001b[0m             \u001b[0mmd\u001b[0m \u001b[0;34m=\u001b[0m \u001b[0;32mNone\u001b[0m\u001b[0;34m\u001b[0m\u001b[0;34m\u001b[0m\u001b[0m\n\u001b[1;32m    172\u001b[0m             \u001b[0;32mtry\u001b[0m\u001b[0;34m:\u001b[0m\u001b[0;34m\u001b[0m\u001b[0;34m\u001b[0m\u001b[0m\n\u001b[0;32m--> 173\u001b[0;31m                 \u001b[0mdata\u001b[0m \u001b[0;34m=\u001b[0m \u001b[0mformatter\u001b[0m\u001b[0;34m(\u001b[0m\u001b[0mobj\u001b[0m\u001b[0;34m)\u001b[0m\u001b[0;34m\u001b[0m\u001b[0;34m\u001b[0m\u001b[0m\n\u001b[0m\u001b[1;32m    174\u001b[0m             \u001b[0;32mexcept\u001b[0m\u001b[0;34m:\u001b[0m\u001b[0;34m\u001b[0m\u001b[0;34m\u001b[0m\u001b[0m\n\u001b[1;32m    175\u001b[0m                 \u001b[0;31m# FIXME: log the exception\u001b[0m\u001b[0;34m\u001b[0m\u001b[0;34m\u001b[0m\u001b[0;34m\u001b[0m\u001b[0m\n",
            "\u001b[0;32m<decorator-gen-2>\u001b[0m in \u001b[0;36m__call__\u001b[0;34m(self, obj)\u001b[0m\n",
            "\u001b[0;32m/usr/local/lib/python3.7/dist-packages/IPython/core/formatters.py\u001b[0m in \u001b[0;36mcatch_format_error\u001b[0;34m(method, self, *args, **kwargs)\u001b[0m\n\u001b[1;32m    215\u001b[0m     \u001b[0;34m\"\"\"show traceback on failed format call\"\"\"\u001b[0m\u001b[0;34m\u001b[0m\u001b[0;34m\u001b[0m\u001b[0m\n\u001b[1;32m    216\u001b[0m     \u001b[0;32mtry\u001b[0m\u001b[0;34m:\u001b[0m\u001b[0;34m\u001b[0m\u001b[0;34m\u001b[0m\u001b[0m\n\u001b[0;32m--> 217\u001b[0;31m         \u001b[0mr\u001b[0m \u001b[0;34m=\u001b[0m \u001b[0mmethod\u001b[0m\u001b[0;34m(\u001b[0m\u001b[0mself\u001b[0m\u001b[0;34m,\u001b[0m \u001b[0;34m*\u001b[0m\u001b[0margs\u001b[0m\u001b[0;34m,\u001b[0m \u001b[0;34m**\u001b[0m\u001b[0mkwargs\u001b[0m\u001b[0;34m)\u001b[0m\u001b[0;34m\u001b[0m\u001b[0;34m\u001b[0m\u001b[0m\n\u001b[0m\u001b[1;32m    218\u001b[0m     \u001b[0;32mexcept\u001b[0m \u001b[0mNotImplementedError\u001b[0m\u001b[0;34m:\u001b[0m\u001b[0;34m\u001b[0m\u001b[0;34m\u001b[0m\u001b[0m\n\u001b[1;32m    219\u001b[0m         \u001b[0;31m# don't warn on NotImplementedErrors\u001b[0m\u001b[0;34m\u001b[0m\u001b[0;34m\u001b[0m\u001b[0;34m\u001b[0m\u001b[0m\n",
            "\u001b[0;32m/usr/local/lib/python3.7/dist-packages/IPython/core/formatters.py\u001b[0m in \u001b[0;36m__call__\u001b[0;34m(self, obj)\u001b[0m\n\u001b[1;32m    332\u001b[0m                 \u001b[0;32mpass\u001b[0m\u001b[0;34m\u001b[0m\u001b[0;34m\u001b[0m\u001b[0m\n\u001b[1;32m    333\u001b[0m             \u001b[0;32melse\u001b[0m\u001b[0;34m:\u001b[0m\u001b[0;34m\u001b[0m\u001b[0;34m\u001b[0m\u001b[0m\n\u001b[0;32m--> 334\u001b[0;31m                 \u001b[0;32mreturn\u001b[0m \u001b[0mprinter\u001b[0m\u001b[0;34m(\u001b[0m\u001b[0mobj\u001b[0m\u001b[0;34m)\u001b[0m\u001b[0;34m\u001b[0m\u001b[0;34m\u001b[0m\u001b[0m\n\u001b[0m\u001b[1;32m    335\u001b[0m             \u001b[0;31m# Finally look for special method names\u001b[0m\u001b[0;34m\u001b[0m\u001b[0;34m\u001b[0m\u001b[0;34m\u001b[0m\u001b[0m\n\u001b[1;32m    336\u001b[0m             \u001b[0mmethod\u001b[0m \u001b[0;34m=\u001b[0m \u001b[0mget_real_method\u001b[0m\u001b[0;34m(\u001b[0m\u001b[0mobj\u001b[0m\u001b[0;34m,\u001b[0m \u001b[0mself\u001b[0m\u001b[0;34m.\u001b[0m\u001b[0mprint_method\u001b[0m\u001b[0;34m)\u001b[0m\u001b[0;34m\u001b[0m\u001b[0;34m\u001b[0m\u001b[0m\n",
            "\u001b[0;32m/usr/local/lib/python3.7/dist-packages/IPython/core/pylabtools.py\u001b[0m in \u001b[0;36m<lambda>\u001b[0;34m(fig)\u001b[0m\n\u001b[1;32m    239\u001b[0m \u001b[0;34m\u001b[0m\u001b[0m\n\u001b[1;32m    240\u001b[0m     \u001b[0;32mif\u001b[0m \u001b[0;34m'png'\u001b[0m \u001b[0;32min\u001b[0m \u001b[0mformats\u001b[0m\u001b[0;34m:\u001b[0m\u001b[0;34m\u001b[0m\u001b[0;34m\u001b[0m\u001b[0m\n\u001b[0;32m--> 241\u001b[0;31m         \u001b[0mpng_formatter\u001b[0m\u001b[0;34m.\u001b[0m\u001b[0mfor_type\u001b[0m\u001b[0;34m(\u001b[0m\u001b[0mFigure\u001b[0m\u001b[0;34m,\u001b[0m \u001b[0;32mlambda\u001b[0m \u001b[0mfig\u001b[0m\u001b[0;34m:\u001b[0m \u001b[0mprint_figure\u001b[0m\u001b[0;34m(\u001b[0m\u001b[0mfig\u001b[0m\u001b[0;34m,\u001b[0m \u001b[0;34m'png'\u001b[0m\u001b[0;34m,\u001b[0m \u001b[0;34m**\u001b[0m\u001b[0mkwargs\u001b[0m\u001b[0;34m)\u001b[0m\u001b[0;34m)\u001b[0m\u001b[0;34m\u001b[0m\u001b[0;34m\u001b[0m\u001b[0m\n\u001b[0m\u001b[1;32m    242\u001b[0m     \u001b[0;32mif\u001b[0m \u001b[0;34m'retina'\u001b[0m \u001b[0;32min\u001b[0m \u001b[0mformats\u001b[0m \u001b[0;32mor\u001b[0m \u001b[0;34m'png2x'\u001b[0m \u001b[0;32min\u001b[0m \u001b[0mformats\u001b[0m\u001b[0;34m:\u001b[0m\u001b[0;34m\u001b[0m\u001b[0;34m\u001b[0m\u001b[0m\n\u001b[1;32m    243\u001b[0m         \u001b[0mpng_formatter\u001b[0m\u001b[0;34m.\u001b[0m\u001b[0mfor_type\u001b[0m\u001b[0;34m(\u001b[0m\u001b[0mFigure\u001b[0m\u001b[0;34m,\u001b[0m \u001b[0;32mlambda\u001b[0m \u001b[0mfig\u001b[0m\u001b[0;34m:\u001b[0m \u001b[0mretina_figure\u001b[0m\u001b[0;34m(\u001b[0m\u001b[0mfig\u001b[0m\u001b[0;34m,\u001b[0m \u001b[0;34m**\u001b[0m\u001b[0mkwargs\u001b[0m\u001b[0;34m)\u001b[0m\u001b[0;34m)\u001b[0m\u001b[0;34m\u001b[0m\u001b[0;34m\u001b[0m\u001b[0m\n",
            "\u001b[0;32m/usr/local/lib/python3.7/dist-packages/IPython/core/pylabtools.py\u001b[0m in \u001b[0;36mprint_figure\u001b[0;34m(fig, fmt, bbox_inches, **kwargs)\u001b[0m\n\u001b[1;32m    123\u001b[0m \u001b[0;34m\u001b[0m\u001b[0m\n\u001b[1;32m    124\u001b[0m     \u001b[0mbytes_io\u001b[0m \u001b[0;34m=\u001b[0m \u001b[0mBytesIO\u001b[0m\u001b[0;34m(\u001b[0m\u001b[0;34m)\u001b[0m\u001b[0;34m\u001b[0m\u001b[0;34m\u001b[0m\u001b[0m\n\u001b[0;32m--> 125\u001b[0;31m     \u001b[0mfig\u001b[0m\u001b[0;34m.\u001b[0m\u001b[0mcanvas\u001b[0m\u001b[0;34m.\u001b[0m\u001b[0mprint_figure\u001b[0m\u001b[0;34m(\u001b[0m\u001b[0mbytes_io\u001b[0m\u001b[0;34m,\u001b[0m \u001b[0;34m**\u001b[0m\u001b[0mkw\u001b[0m\u001b[0;34m)\u001b[0m\u001b[0;34m\u001b[0m\u001b[0;34m\u001b[0m\u001b[0m\n\u001b[0m\u001b[1;32m    126\u001b[0m     \u001b[0mdata\u001b[0m \u001b[0;34m=\u001b[0m \u001b[0mbytes_io\u001b[0m\u001b[0;34m.\u001b[0m\u001b[0mgetvalue\u001b[0m\u001b[0;34m(\u001b[0m\u001b[0;34m)\u001b[0m\u001b[0;34m\u001b[0m\u001b[0;34m\u001b[0m\u001b[0m\n\u001b[1;32m    127\u001b[0m     \u001b[0;32mif\u001b[0m \u001b[0mfmt\u001b[0m \u001b[0;34m==\u001b[0m \u001b[0;34m'svg'\u001b[0m\u001b[0;34m:\u001b[0m\u001b[0;34m\u001b[0m\u001b[0;34m\u001b[0m\u001b[0m\n",
            "\u001b[0;32m/usr/local/lib/python3.7/dist-packages/matplotlib/backend_bases.py\u001b[0m in \u001b[0;36mprint_figure\u001b[0;34m(self, filename, dpi, facecolor, edgecolor, orientation, format, bbox_inches, **kwargs)\u001b[0m\n\u001b[1;32m   2124\u001b[0m                     \u001b[0morientation\u001b[0m\u001b[0;34m=\u001b[0m\u001b[0morientation\u001b[0m\u001b[0;34m,\u001b[0m\u001b[0;34m\u001b[0m\u001b[0;34m\u001b[0m\u001b[0m\n\u001b[1;32m   2125\u001b[0m                     \u001b[0mbbox_inches_restore\u001b[0m\u001b[0;34m=\u001b[0m\u001b[0m_bbox_inches_restore\u001b[0m\u001b[0;34m,\u001b[0m\u001b[0;34m\u001b[0m\u001b[0;34m\u001b[0m\u001b[0m\n\u001b[0;32m-> 2126\u001b[0;31m                     **kwargs)\n\u001b[0m\u001b[1;32m   2127\u001b[0m             \u001b[0;32mfinally\u001b[0m\u001b[0;34m:\u001b[0m\u001b[0;34m\u001b[0m\u001b[0;34m\u001b[0m\u001b[0m\n\u001b[1;32m   2128\u001b[0m                 \u001b[0;32mif\u001b[0m \u001b[0mbbox_inches\u001b[0m \u001b[0;32mand\u001b[0m \u001b[0mrestore_bbox\u001b[0m\u001b[0;34m:\u001b[0m\u001b[0;34m\u001b[0m\u001b[0;34m\u001b[0m\u001b[0m\n",
            "\u001b[0;32m/usr/local/lib/python3.7/dist-packages/matplotlib/backends/backend_agg.py\u001b[0m in \u001b[0;36mprint_png\u001b[0;34m(self, filename_or_obj, metadata, pil_kwargs, *args, **kwargs)\u001b[0m\n\u001b[1;32m    512\u001b[0m         }\n\u001b[1;32m    513\u001b[0m \u001b[0;34m\u001b[0m\u001b[0m\n\u001b[0;32m--> 514\u001b[0;31m         \u001b[0mFigureCanvasAgg\u001b[0m\u001b[0;34m.\u001b[0m\u001b[0mdraw\u001b[0m\u001b[0;34m(\u001b[0m\u001b[0mself\u001b[0m\u001b[0;34m)\u001b[0m\u001b[0;34m\u001b[0m\u001b[0;34m\u001b[0m\u001b[0m\n\u001b[0m\u001b[1;32m    515\u001b[0m         \u001b[0;32mif\u001b[0m \u001b[0mpil_kwargs\u001b[0m \u001b[0;32mis\u001b[0m \u001b[0;32mnot\u001b[0m \u001b[0;32mNone\u001b[0m\u001b[0;34m:\u001b[0m\u001b[0;34m\u001b[0m\u001b[0;34m\u001b[0m\u001b[0m\n\u001b[1;32m    516\u001b[0m             \u001b[0;32mfrom\u001b[0m \u001b[0mPIL\u001b[0m \u001b[0;32mimport\u001b[0m \u001b[0mImage\u001b[0m\u001b[0;34m\u001b[0m\u001b[0;34m\u001b[0m\u001b[0m\n",
            "\u001b[0;32m/usr/local/lib/python3.7/dist-packages/matplotlib/backends/backend_agg.py\u001b[0m in \u001b[0;36mdraw\u001b[0;34m(self)\u001b[0m\n\u001b[1;32m    391\u001b[0m              (self.toolbar._wait_cursor_for_draw_cm() if self.toolbar\n\u001b[1;32m    392\u001b[0m               else nullcontext()):\n\u001b[0;32m--> 393\u001b[0;31m             \u001b[0mself\u001b[0m\u001b[0;34m.\u001b[0m\u001b[0mfigure\u001b[0m\u001b[0;34m.\u001b[0m\u001b[0mdraw\u001b[0m\u001b[0;34m(\u001b[0m\u001b[0mself\u001b[0m\u001b[0;34m.\u001b[0m\u001b[0mrenderer\u001b[0m\u001b[0;34m)\u001b[0m\u001b[0;34m\u001b[0m\u001b[0;34m\u001b[0m\u001b[0m\n\u001b[0m\u001b[1;32m    394\u001b[0m             \u001b[0;31m# A GUI class may be need to update a window using this draw, so\u001b[0m\u001b[0;34m\u001b[0m\u001b[0;34m\u001b[0m\u001b[0;34m\u001b[0m\u001b[0m\n\u001b[1;32m    395\u001b[0m             \u001b[0;31m# don't forget to call the superclass.\u001b[0m\u001b[0;34m\u001b[0m\u001b[0;34m\u001b[0m\u001b[0;34m\u001b[0m\u001b[0m\n",
            "\u001b[0;32m/usr/local/lib/python3.7/dist-packages/matplotlib/artist.py\u001b[0m in \u001b[0;36mdraw_wrapper\u001b[0;34m(artist, renderer, *args, **kwargs)\u001b[0m\n\u001b[1;32m     36\u001b[0m                 \u001b[0mrenderer\u001b[0m\u001b[0;34m.\u001b[0m\u001b[0mstart_filter\u001b[0m\u001b[0;34m(\u001b[0m\u001b[0;34m)\u001b[0m\u001b[0;34m\u001b[0m\u001b[0;34m\u001b[0m\u001b[0m\n\u001b[1;32m     37\u001b[0m \u001b[0;34m\u001b[0m\u001b[0m\n\u001b[0;32m---> 38\u001b[0;31m             \u001b[0;32mreturn\u001b[0m \u001b[0mdraw\u001b[0m\u001b[0;34m(\u001b[0m\u001b[0martist\u001b[0m\u001b[0;34m,\u001b[0m \u001b[0mrenderer\u001b[0m\u001b[0;34m,\u001b[0m \u001b[0;34m*\u001b[0m\u001b[0margs\u001b[0m\u001b[0;34m,\u001b[0m \u001b[0;34m**\u001b[0m\u001b[0mkwargs\u001b[0m\u001b[0;34m)\u001b[0m\u001b[0;34m\u001b[0m\u001b[0;34m\u001b[0m\u001b[0m\n\u001b[0m\u001b[1;32m     39\u001b[0m         \u001b[0;32mfinally\u001b[0m\u001b[0;34m:\u001b[0m\u001b[0;34m\u001b[0m\u001b[0;34m\u001b[0m\u001b[0m\n\u001b[1;32m     40\u001b[0m             \u001b[0;32mif\u001b[0m \u001b[0martist\u001b[0m\u001b[0;34m.\u001b[0m\u001b[0mget_agg_filter\u001b[0m\u001b[0;34m(\u001b[0m\u001b[0;34m)\u001b[0m \u001b[0;32mis\u001b[0m \u001b[0;32mnot\u001b[0m \u001b[0;32mNone\u001b[0m\u001b[0;34m:\u001b[0m\u001b[0;34m\u001b[0m\u001b[0;34m\u001b[0m\u001b[0m\n",
            "\u001b[0;32m/usr/local/lib/python3.7/dist-packages/matplotlib/figure.py\u001b[0m in \u001b[0;36mdraw\u001b[0;34m(self, renderer)\u001b[0m\n\u001b[1;32m   1734\u001b[0m             \u001b[0mself\u001b[0m\u001b[0;34m.\u001b[0m\u001b[0mpatch\u001b[0m\u001b[0;34m.\u001b[0m\u001b[0mdraw\u001b[0m\u001b[0;34m(\u001b[0m\u001b[0mrenderer\u001b[0m\u001b[0;34m)\u001b[0m\u001b[0;34m\u001b[0m\u001b[0;34m\u001b[0m\u001b[0m\n\u001b[1;32m   1735\u001b[0m             mimage._draw_list_compositing_images(\n\u001b[0;32m-> 1736\u001b[0;31m                 renderer, self, artists, self.suppressComposite)\n\u001b[0m\u001b[1;32m   1737\u001b[0m \u001b[0;34m\u001b[0m\u001b[0m\n\u001b[1;32m   1738\u001b[0m             \u001b[0mrenderer\u001b[0m\u001b[0;34m.\u001b[0m\u001b[0mclose_group\u001b[0m\u001b[0;34m(\u001b[0m\u001b[0;34m'figure'\u001b[0m\u001b[0;34m)\u001b[0m\u001b[0;34m\u001b[0m\u001b[0;34m\u001b[0m\u001b[0m\n",
            "\u001b[0;32m/usr/local/lib/python3.7/dist-packages/matplotlib/image.py\u001b[0m in \u001b[0;36m_draw_list_compositing_images\u001b[0;34m(renderer, parent, artists, suppress_composite)\u001b[0m\n\u001b[1;32m    135\u001b[0m     \u001b[0;32mif\u001b[0m \u001b[0mnot_composite\u001b[0m \u001b[0;32mor\u001b[0m \u001b[0;32mnot\u001b[0m \u001b[0mhas_images\u001b[0m\u001b[0;34m:\u001b[0m\u001b[0;34m\u001b[0m\u001b[0;34m\u001b[0m\u001b[0m\n\u001b[1;32m    136\u001b[0m         \u001b[0;32mfor\u001b[0m \u001b[0ma\u001b[0m \u001b[0;32min\u001b[0m \u001b[0martists\u001b[0m\u001b[0;34m:\u001b[0m\u001b[0;34m\u001b[0m\u001b[0;34m\u001b[0m\u001b[0m\n\u001b[0;32m--> 137\u001b[0;31m             \u001b[0ma\u001b[0m\u001b[0;34m.\u001b[0m\u001b[0mdraw\u001b[0m\u001b[0;34m(\u001b[0m\u001b[0mrenderer\u001b[0m\u001b[0;34m)\u001b[0m\u001b[0;34m\u001b[0m\u001b[0;34m\u001b[0m\u001b[0m\n\u001b[0m\u001b[1;32m    138\u001b[0m     \u001b[0;32melse\u001b[0m\u001b[0;34m:\u001b[0m\u001b[0;34m\u001b[0m\u001b[0;34m\u001b[0m\u001b[0m\n\u001b[1;32m    139\u001b[0m         \u001b[0;31m# Composite any adjacent images together\u001b[0m\u001b[0;34m\u001b[0m\u001b[0;34m\u001b[0m\u001b[0;34m\u001b[0m\u001b[0m\n",
            "\u001b[0;32m/usr/local/lib/python3.7/dist-packages/matplotlib/artist.py\u001b[0m in \u001b[0;36mdraw_wrapper\u001b[0;34m(artist, renderer, *args, **kwargs)\u001b[0m\n\u001b[1;32m     36\u001b[0m                 \u001b[0mrenderer\u001b[0m\u001b[0;34m.\u001b[0m\u001b[0mstart_filter\u001b[0m\u001b[0;34m(\u001b[0m\u001b[0;34m)\u001b[0m\u001b[0;34m\u001b[0m\u001b[0;34m\u001b[0m\u001b[0m\n\u001b[1;32m     37\u001b[0m \u001b[0;34m\u001b[0m\u001b[0m\n\u001b[0;32m---> 38\u001b[0;31m             \u001b[0;32mreturn\u001b[0m \u001b[0mdraw\u001b[0m\u001b[0;34m(\u001b[0m\u001b[0martist\u001b[0m\u001b[0;34m,\u001b[0m \u001b[0mrenderer\u001b[0m\u001b[0;34m,\u001b[0m \u001b[0;34m*\u001b[0m\u001b[0margs\u001b[0m\u001b[0;34m,\u001b[0m \u001b[0;34m**\u001b[0m\u001b[0mkwargs\u001b[0m\u001b[0;34m)\u001b[0m\u001b[0;34m\u001b[0m\u001b[0;34m\u001b[0m\u001b[0m\n\u001b[0m\u001b[1;32m     39\u001b[0m         \u001b[0;32mfinally\u001b[0m\u001b[0;34m:\u001b[0m\u001b[0;34m\u001b[0m\u001b[0;34m\u001b[0m\u001b[0m\n\u001b[1;32m     40\u001b[0m             \u001b[0;32mif\u001b[0m \u001b[0martist\u001b[0m\u001b[0;34m.\u001b[0m\u001b[0mget_agg_filter\u001b[0m\u001b[0;34m(\u001b[0m\u001b[0;34m)\u001b[0m \u001b[0;32mis\u001b[0m \u001b[0;32mnot\u001b[0m \u001b[0;32mNone\u001b[0m\u001b[0;34m:\u001b[0m\u001b[0;34m\u001b[0m\u001b[0;34m\u001b[0m\u001b[0m\n",
            "\u001b[0;32m/usr/local/lib/python3.7/dist-packages/matplotlib/axes/_base.py\u001b[0m in \u001b[0;36mdraw\u001b[0;34m(self, renderer, inframe)\u001b[0m\n\u001b[1;32m   2628\u001b[0m             \u001b[0mrenderer\u001b[0m\u001b[0;34m.\u001b[0m\u001b[0mstop_rasterizing\u001b[0m\u001b[0;34m(\u001b[0m\u001b[0;34m)\u001b[0m\u001b[0;34m\u001b[0m\u001b[0;34m\u001b[0m\u001b[0m\n\u001b[1;32m   2629\u001b[0m \u001b[0;34m\u001b[0m\u001b[0m\n\u001b[0;32m-> 2630\u001b[0;31m         \u001b[0mmimage\u001b[0m\u001b[0;34m.\u001b[0m\u001b[0m_draw_list_compositing_images\u001b[0m\u001b[0;34m(\u001b[0m\u001b[0mrenderer\u001b[0m\u001b[0;34m,\u001b[0m \u001b[0mself\u001b[0m\u001b[0;34m,\u001b[0m \u001b[0martists\u001b[0m\u001b[0;34m)\u001b[0m\u001b[0;34m\u001b[0m\u001b[0;34m\u001b[0m\u001b[0m\n\u001b[0m\u001b[1;32m   2631\u001b[0m \u001b[0;34m\u001b[0m\u001b[0m\n\u001b[1;32m   2632\u001b[0m         \u001b[0mrenderer\u001b[0m\u001b[0;34m.\u001b[0m\u001b[0mclose_group\u001b[0m\u001b[0;34m(\u001b[0m\u001b[0;34m'axes'\u001b[0m\u001b[0;34m)\u001b[0m\u001b[0;34m\u001b[0m\u001b[0;34m\u001b[0m\u001b[0m\n",
            "\u001b[0;32m/usr/local/lib/python3.7/dist-packages/matplotlib/image.py\u001b[0m in \u001b[0;36m_draw_list_compositing_images\u001b[0;34m(renderer, parent, artists, suppress_composite)\u001b[0m\n\u001b[1;32m    135\u001b[0m     \u001b[0;32mif\u001b[0m \u001b[0mnot_composite\u001b[0m \u001b[0;32mor\u001b[0m \u001b[0;32mnot\u001b[0m \u001b[0mhas_images\u001b[0m\u001b[0;34m:\u001b[0m\u001b[0;34m\u001b[0m\u001b[0;34m\u001b[0m\u001b[0m\n\u001b[1;32m    136\u001b[0m         \u001b[0;32mfor\u001b[0m \u001b[0ma\u001b[0m \u001b[0;32min\u001b[0m \u001b[0martists\u001b[0m\u001b[0;34m:\u001b[0m\u001b[0;34m\u001b[0m\u001b[0;34m\u001b[0m\u001b[0m\n\u001b[0;32m--> 137\u001b[0;31m             \u001b[0ma\u001b[0m\u001b[0;34m.\u001b[0m\u001b[0mdraw\u001b[0m\u001b[0;34m(\u001b[0m\u001b[0mrenderer\u001b[0m\u001b[0;34m)\u001b[0m\u001b[0;34m\u001b[0m\u001b[0;34m\u001b[0m\u001b[0m\n\u001b[0m\u001b[1;32m    138\u001b[0m     \u001b[0;32melse\u001b[0m\u001b[0;34m:\u001b[0m\u001b[0;34m\u001b[0m\u001b[0;34m\u001b[0m\u001b[0m\n\u001b[1;32m    139\u001b[0m         \u001b[0;31m# Composite any adjacent images together\u001b[0m\u001b[0;34m\u001b[0m\u001b[0;34m\u001b[0m\u001b[0;34m\u001b[0m\u001b[0m\n",
            "\u001b[0;32m/usr/local/lib/python3.7/dist-packages/matplotlib/artist.py\u001b[0m in \u001b[0;36mdraw_wrapper\u001b[0;34m(artist, renderer, *args, **kwargs)\u001b[0m\n\u001b[1;32m     36\u001b[0m                 \u001b[0mrenderer\u001b[0m\u001b[0;34m.\u001b[0m\u001b[0mstart_filter\u001b[0m\u001b[0;34m(\u001b[0m\u001b[0;34m)\u001b[0m\u001b[0;34m\u001b[0m\u001b[0;34m\u001b[0m\u001b[0m\n\u001b[1;32m     37\u001b[0m \u001b[0;34m\u001b[0m\u001b[0m\n\u001b[0;32m---> 38\u001b[0;31m             \u001b[0;32mreturn\u001b[0m \u001b[0mdraw\u001b[0m\u001b[0;34m(\u001b[0m\u001b[0martist\u001b[0m\u001b[0;34m,\u001b[0m \u001b[0mrenderer\u001b[0m\u001b[0;34m,\u001b[0m \u001b[0;34m*\u001b[0m\u001b[0margs\u001b[0m\u001b[0;34m,\u001b[0m \u001b[0;34m**\u001b[0m\u001b[0mkwargs\u001b[0m\u001b[0;34m)\u001b[0m\u001b[0;34m\u001b[0m\u001b[0;34m\u001b[0m\u001b[0m\n\u001b[0m\u001b[1;32m     39\u001b[0m         \u001b[0;32mfinally\u001b[0m\u001b[0;34m:\u001b[0m\u001b[0;34m\u001b[0m\u001b[0;34m\u001b[0m\u001b[0m\n\u001b[1;32m     40\u001b[0m             \u001b[0;32mif\u001b[0m \u001b[0martist\u001b[0m\u001b[0;34m.\u001b[0m\u001b[0mget_agg_filter\u001b[0m\u001b[0;34m(\u001b[0m\u001b[0;34m)\u001b[0m \u001b[0;32mis\u001b[0m \u001b[0;32mnot\u001b[0m \u001b[0;32mNone\u001b[0m\u001b[0;34m:\u001b[0m\u001b[0;34m\u001b[0m\u001b[0;34m\u001b[0m\u001b[0m\n",
            "\u001b[0;32m/usr/local/lib/python3.7/dist-packages/matplotlib/legend.py\u001b[0m in \u001b[0;36mdraw\u001b[0;34m(self, renderer)\u001b[0m\n\u001b[1;32m    626\u001b[0m                 \u001b[0mshadow\u001b[0m\u001b[0;34m.\u001b[0m\u001b[0mdraw\u001b[0m\u001b[0;34m(\u001b[0m\u001b[0mrenderer\u001b[0m\u001b[0;34m)\u001b[0m\u001b[0;34m\u001b[0m\u001b[0;34m\u001b[0m\u001b[0m\n\u001b[1;32m    627\u001b[0m \u001b[0;34m\u001b[0m\u001b[0m\n\u001b[0;32m--> 628\u001b[0;31m             \u001b[0mself\u001b[0m\u001b[0;34m.\u001b[0m\u001b[0mlegendPatch\u001b[0m\u001b[0;34m.\u001b[0m\u001b[0mdraw\u001b[0m\u001b[0;34m(\u001b[0m\u001b[0mrenderer\u001b[0m\u001b[0;34m)\u001b[0m\u001b[0;34m\u001b[0m\u001b[0;34m\u001b[0m\u001b[0m\n\u001b[0m\u001b[1;32m    629\u001b[0m \u001b[0;34m\u001b[0m\u001b[0m\n\u001b[1;32m    630\u001b[0m         \u001b[0mself\u001b[0m\u001b[0;34m.\u001b[0m\u001b[0m_legend_box\u001b[0m\u001b[0;34m.\u001b[0m\u001b[0mdraw\u001b[0m\u001b[0;34m(\u001b[0m\u001b[0mrenderer\u001b[0m\u001b[0;34m)\u001b[0m\u001b[0;34m\u001b[0m\u001b[0;34m\u001b[0m\u001b[0m\n",
            "\u001b[0;32m/usr/local/lib/python3.7/dist-packages/matplotlib/artist.py\u001b[0m in \u001b[0;36mdraw_wrapper\u001b[0;34m(artist, renderer, *args, **kwargs)\u001b[0m\n\u001b[1;32m     36\u001b[0m                 \u001b[0mrenderer\u001b[0m\u001b[0;34m.\u001b[0m\u001b[0mstart_filter\u001b[0m\u001b[0;34m(\u001b[0m\u001b[0;34m)\u001b[0m\u001b[0;34m\u001b[0m\u001b[0;34m\u001b[0m\u001b[0m\n\u001b[1;32m     37\u001b[0m \u001b[0;34m\u001b[0m\u001b[0m\n\u001b[0;32m---> 38\u001b[0;31m             \u001b[0;32mreturn\u001b[0m \u001b[0mdraw\u001b[0m\u001b[0;34m(\u001b[0m\u001b[0martist\u001b[0m\u001b[0;34m,\u001b[0m \u001b[0mrenderer\u001b[0m\u001b[0;34m,\u001b[0m \u001b[0;34m*\u001b[0m\u001b[0margs\u001b[0m\u001b[0;34m,\u001b[0m \u001b[0;34m**\u001b[0m\u001b[0mkwargs\u001b[0m\u001b[0;34m)\u001b[0m\u001b[0;34m\u001b[0m\u001b[0;34m\u001b[0m\u001b[0m\n\u001b[0m\u001b[1;32m     39\u001b[0m         \u001b[0;32mfinally\u001b[0m\u001b[0;34m:\u001b[0m\u001b[0;34m\u001b[0m\u001b[0;34m\u001b[0m\u001b[0m\n\u001b[1;32m     40\u001b[0m             \u001b[0;32mif\u001b[0m \u001b[0martist\u001b[0m\u001b[0;34m.\u001b[0m\u001b[0mget_agg_filter\u001b[0m\u001b[0;34m(\u001b[0m\u001b[0;34m)\u001b[0m \u001b[0;32mis\u001b[0m \u001b[0;32mnot\u001b[0m \u001b[0;32mNone\u001b[0m\u001b[0;34m:\u001b[0m\u001b[0;34m\u001b[0m\u001b[0;34m\u001b[0m\u001b[0m\n",
            "\u001b[0;32m/usr/local/lib/python3.7/dist-packages/matplotlib/patches.py\u001b[0m in \u001b[0;36mdraw\u001b[0;34m(self, renderer)\u001b[0m\n\u001b[1;32m    600\u001b[0m                       \u001b[0;31m# do not draw the hatches if the facecolor is fully\u001b[0m\u001b[0;34m\u001b[0m\u001b[0;34m\u001b[0m\u001b[0;34m\u001b[0m\u001b[0m\n\u001b[1;32m    601\u001b[0m                       \u001b[0;31m# transparent, but do if it is None.\u001b[0m\u001b[0;34m\u001b[0m\u001b[0;34m\u001b[0m\u001b[0;34m\u001b[0m\u001b[0m\n\u001b[0;32m--> 602\u001b[0;31m                       self._facecolor if self._facecolor[3] else None)\n\u001b[0m\u001b[1;32m    603\u001b[0m \u001b[0;34m\u001b[0m\u001b[0m\n\u001b[1;32m    604\u001b[0m     \u001b[0;32mdef\u001b[0m \u001b[0mget_path\u001b[0m\u001b[0;34m(\u001b[0m\u001b[0mself\u001b[0m\u001b[0;34m)\u001b[0m\u001b[0;34m:\u001b[0m\u001b[0;34m\u001b[0m\u001b[0;34m\u001b[0m\u001b[0m\n",
            "\u001b[0;32m/usr/lib/python3.7/contextlib.py\u001b[0m in \u001b[0;36m__exit__\u001b[0;34m(self, type, value, traceback)\u001b[0m\n\u001b[1;32m    117\u001b[0m         \u001b[0;32mif\u001b[0m \u001b[0mtype\u001b[0m \u001b[0;32mis\u001b[0m \u001b[0;32mNone\u001b[0m\u001b[0;34m:\u001b[0m\u001b[0;34m\u001b[0m\u001b[0;34m\u001b[0m\u001b[0m\n\u001b[1;32m    118\u001b[0m             \u001b[0;32mtry\u001b[0m\u001b[0;34m:\u001b[0m\u001b[0;34m\u001b[0m\u001b[0;34m\u001b[0m\u001b[0m\n\u001b[0;32m--> 119\u001b[0;31m                 \u001b[0mnext\u001b[0m\u001b[0;34m(\u001b[0m\u001b[0mself\u001b[0m\u001b[0;34m.\u001b[0m\u001b[0mgen\u001b[0m\u001b[0;34m)\u001b[0m\u001b[0;34m\u001b[0m\u001b[0;34m\u001b[0m\u001b[0m\n\u001b[0m\u001b[1;32m    120\u001b[0m             \u001b[0;32mexcept\u001b[0m \u001b[0mStopIteration\u001b[0m\u001b[0;34m:\u001b[0m\u001b[0;34m\u001b[0m\u001b[0;34m\u001b[0m\u001b[0m\n\u001b[1;32m    121\u001b[0m                 \u001b[0;32mreturn\u001b[0m \u001b[0;32mFalse\u001b[0m\u001b[0;34m\u001b[0m\u001b[0;34m\u001b[0m\u001b[0m\n",
            "\u001b[0;31mKeyboardInterrupt\u001b[0m: "
          ]
        }
      ]
    },
    {
      "cell_type": "code",
      "metadata": {
        "id": "Zgznh-Ri0eW_",
        "colab": {
          "base_uri": "https://localhost:8080/"
        },
        "outputId": "bf413789-2401-4e99-dfd6-82f6a8f2bcbe"
      },
      "source": [
        "best_acc = max(history.history['val_accuracy'])\n",
        "print(best_acc)"
      ],
      "execution_count": null,
      "outputs": [
        {
          "output_type": "stream",
          "text": [
            "0.9036458134651184\n"
          ],
          "name": "stdout"
        }
      ]
    },
    {
      "cell_type": "code",
      "metadata": {
        "colab": {
          "base_uri": "https://localhost:8080/",
          "height": 350
        },
        "id": "vDnzzfuVkQct",
        "outputId": "66751f43-5175-4fd6-8d08-0cfb41ce3d98"
      },
      "source": [
        "def beta_density(x, a,b):\n",
        "    B = (gamma(a)*gamma(b))/gamma(a+b)\n",
        "    return ((x**(a-1))*(1-x)**(b-1))/B\n",
        "\n",
        "# def check_beta(a,b):\n",
        "a = 0.01\n",
        "b = 1\n",
        "v = np.linspace(0,1, num=100)\n",
        "beta = beta_density(v, a, b)\n",
        "plt.figure()\n",
        "plt.plot(beta)"
      ],
      "execution_count": null,
      "outputs": [
        {
          "output_type": "stream",
          "text": [
            "/usr/local/lib/python3.7/dist-packages/ipykernel_launcher.py:3: RuntimeWarning:\n",
            "\n",
            "divide by zero encountered in power\n",
            "\n"
          ],
          "name": "stderr"
        },
        {
          "output_type": "execute_result",
          "data": {
            "text/plain": [
              "[<matplotlib.lines.Line2D at 0x7fb8f2a7c290>]"
            ]
          },
          "metadata": {
            "tags": []
          },
          "execution_count": 73
        },
        {
          "output_type": "display_data",
          "data": {
            "image/png": "[encoded data removed]",
            "text/plain": [
              "<Figure size 432x288 with 1 Axes>"
            ]
          },
          "metadata": {
            "tags": [],
            "needs_background": "light"
          }
        }
      ]
    },
    {
      "cell_type": "markdown",
      "metadata": {
        "id": "IAdYWgZIqcGb"
      },
      "source": [
        "# Optuna search"
      ]
    },
    {
      "cell_type": "code",
      "metadata": {
        "id": "uRPwvmfQp157"
      },
      "source": [
        "SOURCE = path_batch\n",
        "READ_AUG = False\n",
        "fold = 2\n",
        "\n",
        "def objective(trial):\n",
        "   \n",
        "    epochs = 125\n",
        "    batch_size = trial.suggest_int('batch_size', 32,256)\n",
        "    size_1 = trial.suggest_int('dense_1', 50, 200)\n",
        "    size_2 = trial.suggest_int('dense_2', 50, 200)\n",
        "    size_3 = trial.suggest_int('dense_2', 50, 200)\n",
        "    lr = lr = trial.suggest_loguniform('lr', 1e-4, 1e-1)\n",
        "\n",
        "\n",
        "    # feat_names  = os.listdir(path_drive)\n",
        "    feat_names  = os.listdir(SOURCE)\n",
        "    # ic(len(feat_names))\n",
        "\n",
        "    if READ_AUG:\n",
        "        train_names = [x for x in feat_names if x[0]!=str(fold)]\n",
        "        val_names = [x for x in feat_names if x[0]==str(fold) and x.endswith('0.npy')]\n",
        "    else:\n",
        "        val_names = [x for x in feat_names if x[0]==str(fold) and x.endswith('0.npy')]\n",
        "        train_names = [x for x in feat_names if x[0]!=str(fold) and (x.endswith('0.npy'))]    \n",
        "\n",
        "    # ic(len(train_names))\n",
        "    # ic(len(val_names))\n",
        "\n",
        "    train_dataloader = FeatureSequence(train_names, SOURCE, batch_size, alpha_schedule, with_mixup=True)\n",
        "    val_dataloader = FeatureSequence(val_names, SOURCE, batch_size, alpha_schedule, with_mixup=False)\n",
        "\n",
        "\n",
        "    # ic(len(train_dataloader))\n",
        "    # ic(len(val_dataloader))\n",
        "\n",
        "    model_checkpoint_dir = '/content/drive/MyDrive/UNI_ICT/HDA/best_model'\n",
        "    model_checkpoint_file = os.path.join(model_checkpoint_dir, 'best_model_fold_'+str(fold))\n",
        "    model_checkpoint_callback = tf.keras.callbacks.ModelCheckpoint(\n",
        "        filepath=model_checkpoint_file,\n",
        "        save_weights_only=True,\n",
        "        monitor='val_accuracy',\n",
        "        mode='max',\n",
        "        save_best_only=True)\n",
        "\n",
        "    reduce_lr = tf.keras.callbacks.ReduceLROnPlateau(monitor='val_loss', factor=0.1,\n",
        "                                patience=5, min_lr=0.00005)\n",
        "\n",
        "\n",
        "    tfyam_net = make_tfYAMNet(size_1, szie_2, size_3, lr)\n",
        "    # Model training\n",
        "    history = tfyam_net.fit(train_dataloader, \n",
        "                        epochs=epochs,\n",
        "                        callbacks=[\n",
        "                                # PlotLossesKeras(), \n",
        "                                reduce_lr,\n",
        "                                model_checkpoint_callback,\n",
        "                                ],\n",
        "                        validation_data = val_dataloader,\n",
        "                        verbose=0)\n",
        "    # load the best model checkpoint\n",
        "    tfyam_net.load_weights(model_checkpoint_file)\n",
        "    best_acc = max(history.history['val_accuracy'])\n",
        "    \n",
        "    return best_acc"
      ],
      "execution_count": null,
      "outputs": []
    },
    {
      "cell_type": "code",
      "metadata": {
        "id": "_C-Vaq6Hxqwx",
        "colab": {
          "base_uri": "https://localhost:8080/"
        },
        "outputId": "7f589a71-2532-4b3c-8823-9a88a23184fd"
      },
      "source": [
        "study = optuna.create_study(direction='minimize')\n",
        "study.optimize(objective, n_trials=3)\n",
        "\n",
        "trial = study.best_trial\n",
        "best_params = trial.params\n",
        "\n",
        "print('val Loss: {}'.format(trial.value))\n",
        "print(f\"Best hyperparameters: {best_params}\")"
      ],
      "execution_count": null,
      "outputs": [
        {
          "output_type": "stream",
          "text": [
            "\u001b[32m[I 2021-06-12 10:42:48,698]\u001b[0m A new study created in memory with name: no-name-30c0db47-18b2-43de-bbd3-470af25a2870\u001b[0m\n",
            "\u001b[32m[I 2021-06-12 10:48:46,933]\u001b[0m Trial 0 finished with value: 0.8802589178085327 and parameters: {'batch_size': 103, 'dense_1': 120, 'dense_2': 55, 'lr': 0.007333584922621711}. Best is trial 0 with value: 0.8802589178085327.\u001b[0m\n",
            "\u001b[32m[I 2021-06-12 10:54:13,818]\u001b[0m Trial 1 finished with value: 0.8954545259475708 and parameters: {'batch_size': 220, 'dense_1': 189, 'dense_2': 130, 'lr': 0.022398537908252875}. Best is trial 0 with value: 0.8802589178085327.\u001b[0m\n",
            "\u001b[32m[I 2021-06-12 10:59:57,559]\u001b[0m Trial 2 finished with value: 0.8634920716285706 and parameters: {'batch_size': 105, 'dense_1': 148, 'dense_2': 157, 'lr': 0.007725164205365014}. Best is trial 2 with value: 0.8634920716285706.\u001b[0m\n"
          ],
          "name": "stderr"
        },
        {
          "output_type": "stream",
          "text": [
            "val Loss: 0.8634920716285706\n",
            "Best hyperparameters: {'batch_size': 105, 'dense_1': 148, 'dense_2': 157, 'lr': 0.007725164205365014}\n"
          ],
          "name": "stdout"
        }
      ]
    },
    {
      "cell_type": "code",
      "metadata": {
        "id": "woINIQIyypVy"
      },
      "source": [
        "best_params = trial.params\n",
        "trials_df = study.trials_dataframe()\n",
        "trials_df"
      ],
      "execution_count": null,
      "outputs": []
    },
    {
      "cell_type": "code",
      "metadata": {
        "id": "NLRjf0qeypEz"
      },
      "source": [
        ""
      ],
      "execution_count": null,
      "outputs": []
    },
    {
      "cell_type": "markdown",
      "metadata": {
        "id": "n4R8hP3Ohvtd"
      },
      "source": [
        "Comparison with standard mixup"
      ]
    },
    {
      "cell_type": "markdown",
      "metadata": {
        "id": "dtWQDgeshx_S"
      },
      "source": [
        "# Comparison with noisy mix up"
      ]
    },
    {
      "cell_type": "code",
      "metadata": {
        "id": "nGLBvAcFoS1P"
      },
      "source": [
        "class FeatureSequenceNoise(Sequence):\n",
        "    def __init__(self, names, path, batch_size, alpha_schedule, with_mixup=False):\n",
        "        self.names = names\n",
        "        self.batch_size = batch_size\n",
        "        self.path = path\n",
        "        self.with_mixup = with_mixup\n",
        "        self.epoch = 0\n",
        "        self.alpha = [0.01, 0.01]\n",
        "        self.mix_prob = 1\n",
        "        self.alpha_schedule = alpha_schedule\n",
        "        # self.a = self.alpha_schedule[0,0]\n",
        "        # self.b = self.alpha_schedule[1,0]\n",
        "\n",
        "    def __len__(self):\n",
        "        return int(np.floor(len(self.names) / self.batch_size))\n",
        "\n",
        "    def on_epoch_end(self):\n",
        "        self.epoch += 1\n",
        "        if self.epoch < self.alpha_schedule.shape[1]:\n",
        "            self.alpha = self.alpha_schedule[:,self.epoch]\n",
        "\n",
        "        # print('deb alpha', self.alpha[0], self.alpha[1])\n",
        "        random.shuffle(self.names)\n",
        "\n",
        "    def __getitem__(self, idx):\n",
        "        batch_names = self.names[idx*self.batch_size:(idx + 1)*self.batch_size]\n",
        "\n",
        "        batch_feat = []\n",
        "        # batch_infered = []\n",
        "        batch_target = []\n",
        "        for name in batch_names:\n",
        "            this_pack = np.load(os.path.join(self.path, name), allow_pickle=True)\n",
        "            # NB fix the axes order from the preprocessor\n",
        "            this_feat = this_pack[0]\n",
        "            # this_feat = np.transpose(this_feat, [2,1,0])\n",
        "            this_target = to_onehot(this_pack[2])\n",
        "            \n",
        "            if self.with_mixup:\n",
        "            # if self.with_mixup:\n",
        "                ## load another random pack\n",
        "                rand_name = np.random.randint(0, len(self.names))\n",
        "                this_pack2 = np.load(os.path.join(self.path, self.names[rand_name]), allow_pickle=True)\n",
        "                this_feat2 = this_pack2[0]\n",
        "                # this_feat2 = np.roll(this_feat2, np.random.randint(0,10), axis=0)\n",
        "                # this_target2 = to_onehot(this_pack2[2])\n",
        "\n",
        "                #use gaussian noise instead of the sample\n",
        "                feat2_std = np.std(this_feat2)\n",
        "                feat2_mean = np.mean(this_feat2)\n",
        "                noise_feat2 = np.random.normal(feat2_mean, feat2_std, this_feat2.shape)\n",
        "                # mix the samples\n",
        "                l = np.random.beta(self.alpha[0], self.alpha[1])\n",
        "\n",
        "                this_feat = mix(this_feat, noise_feat2, l)\n",
        "\n",
        "                # this_target = mix(this_target, this_target2, l)   #not mixing target for sample fusion\n",
        "\n",
        "            batch_feat.append(this_feat)\n",
        "            batch_target.append(this_target)\n",
        "\n",
        "        batch_infered = np.array(batch_feat)\n",
        "        # ic(batch_infered.shape, type(batch_infered))\n",
        "\n",
        "        batch_target = np.array(batch_target)\n",
        "        batch_input = batch_infered\n",
        "\n",
        "        return batch_input, batch_target"
      ],
      "execution_count": 23,
      "outputs": []
    },
    {
      "cell_type": "code",
      "metadata": {
        "colab": {
          "base_uri": "https://localhost:8080/",
          "height": 704
        },
        "id": "1m72i3KvpjMy",
        "outputId": "9d21a33f-c680-41de-ca65-7be45a7c9ce1"
      },
      "source": [
        "SOURCE = path_batch\n",
        "\n",
        "batch_size = 64\n",
        "epochs = 125\n",
        "\n",
        "fold = 2\n",
        "# feat_names  = os.listdir(path_drive)\n",
        "feat_names  = os.listdir(SOURCE)\n",
        "ic(len(feat_names))\n",
        "\n",
        "# not using augmentated samples here\n",
        "# val_names = [x for x in feat_names if x[0]==str(fold) and x.endswith('0.npy')]\n",
        "# train_names = [x for x in feat_names if x[0]!=str(fold) and (x.endswith('0.npy'))]\n",
        "\n",
        "train_names = [x for x in feat_names if x[0]!=str(fold) and x.endswith('0.npy')]\n",
        "val_names = [x for x in feat_names if x[0]==str(fold) and x.endswith('0.npy')]\n",
        "\n",
        "ic(len(train_names))\n",
        "ic(len(val_names))\n",
        "\n",
        "train_dataloader = FeatureSequenceNoise(train_names, SOURCE, batch_size, alpha_schedule, with_mixup=True)\n",
        "val_dataloader = FeatureSequenceNoise(val_names, SOURCE, batch_size, alpha_schedule, with_mixup=False)\n",
        "\n",
        "\n",
        "ic(len(train_dataloader))\n",
        "ic(len(val_dataloader))\n",
        "\n",
        "model_checkpoint_dir = '/content/drive/MyDrive/UNI_ICT/HDA/best_model'\n",
        "model_checkpoint_file = os.path.join(model_checkpoint_dir, 'best_model_fold_'+str(fold))\n",
        "model_checkpoint_callback = tf.keras.callbacks.ModelCheckpoint(\n",
        "    filepath=model_checkpoint_file,\n",
        "    save_weights_only=True,\n",
        "    monitor='val_accuracy',\n",
        "    mode='max',\n",
        "    save_best_only=True)\n",
        "\n",
        "reduce_lr = tf.keras.callbacks.ReduceLROnPlateau(monitor='val_loss', factor=0.2,\n",
        "                              patience=5, min_lr=0.0001)\n",
        "\n",
        "\n",
        "tfyam_net = make_tfYAMNet(dense1=50, dense2=50, dense3=50)\n",
        "# Model training\n",
        "history = tfyam_net.fit(train_dataloader, \n",
        "                    epochs=epochs,\n",
        "                    callbacks=[PlotLossesKeras(), \n",
        "                               reduce_lr,\n",
        "                               model_checkpoint_callback,\n",
        "                               ],\n",
        "                    validation_data = val_dataloader,\n",
        "                    verbose=1)\n",
        "# load the best model checkpoint\n",
        "tfyam_net.load_weights(model_checkpoint_file)\n",
        "best_acc = max(history.history['val_accuracy'])\n",
        "print(best_acc)\n"
      ],
      "execution_count": 24,
      "outputs": [
        {
          "output_type": "display_data",
          "data": {
            "image/png": "[encoded data removed]",
            "text/plain": [
              "<Figure size 864x576 with 2 Axes>"
            ]
          },
          "metadata": {
            "tags": [],
            "needs_background": "light"
          }
        },
        {
          "output_type": "stream",
          "text": [
            "accuracy\n",
            "\ttraining         \t (min:    0.069, max:    0.963, cur:    0.962)\n",
            "\tvalidation       \t (min:    0.185, max:    0.857, cur:    0.854)\n",
            "Loss\n",
            "\ttraining         \t (min:    0.166, max:    3.851, cur:    0.170)\n",
            "\tvalidation       \t (min:    0.644, max:    3.615, cur:    0.738)\n",
            "0.8567708134651184\n"
          ],
          "name": "stdout"
        }
      ]
    },
    {
      "cell_type": "markdown",
      "metadata": {
        "id": "NyGVXIl5hiXy"
      },
      "source": [
        "# Final Demonstration on an audio sequence"
      ]
    }
  ]
}