{
  "nbformat": 4,
  "nbformat_minor": 0,
  "metadata": {
    "colab": {
      "name": "Remake ESC50 classifier.ipynb",
      "provenance": [],
      "toc_visible": true,
      "mount_file_id": "https://github.com/DanieleFoscarin/HDA2021/blob/main/Remake_ESC50_classifier.ipynb",
      "authorship_tag": "ABX9TyN38XA4QXZJKNR1hh0ZTwYB",
      "include_colab_link": true
    },
    "kernelspec": {
      "name": "python3",
      "display_name": "Python 3"
    },
    "accelerator": "GPU",
    "widgets": {
      "application/vnd.jupyter.widget-state+json": {
        "b6663d4cb70d4cac8f9bab1c003152e8": {
          "model_module": "@jupyter-widgets/controls",
          "model_name": "HBoxModel",
          "state": {
            "_view_name": "HBoxView",
            "_dom_classes": [],
            "_model_name": "HBoxModel",
            "_view_module": "@jupyter-widgets/controls",
            "_model_module_version": "1.5.0",
            "_view_count": null,
            "_view_module_version": "1.5.0",
            "box_style": "",
            "layout": "IPY_MODEL_b2a6210a443e4560aa611128d530ceaf",
            "_model_module": "@jupyter-widgets/controls",
            "children": [
              "IPY_MODEL_6719ff554fff4c2498a783c34f4df676",
              "IPY_MODEL_b0c5005b33cc4e96a865f6f9a749c158"
            ]
          }
        },
        "b2a6210a443e4560aa611128d530ceaf": {
          "model_module": "@jupyter-widgets/base",
          "model_name": "LayoutModel",
          "state": {
            "_view_name": "LayoutView",
            "grid_template_rows": null,
            "right": null,
            "justify_content": null,
            "_view_module": "@jupyter-widgets/base",
            "overflow": null,
            "_model_module_version": "1.2.0",
            "_view_count": null,
            "flex_flow": null,
            "width": null,
            "min_width": null,
            "border": null,
            "align_items": null,
            "bottom": null,
            "_model_module": "@jupyter-widgets/base",
            "top": null,
            "grid_column": null,
            "overflow_y": null,
            "overflow_x": null,
            "grid_auto_flow": null,
            "grid_area": null,
            "grid_template_columns": null,
            "flex": null,
            "_model_name": "LayoutModel",
            "justify_items": null,
            "grid_row": null,
            "max_height": null,
            "align_content": null,
            "visibility": null,
            "align_self": null,
            "height": null,
            "min_height": null,
            "padding": null,
            "grid_auto_rows": null,
            "grid_gap": null,
            "max_width": null,
            "order": null,
            "_view_module_version": "1.2.0",
            "grid_template_areas": null,
            "object_position": null,
            "object_fit": null,
            "grid_auto_columns": null,
            "margin": null,
            "display": null,
            "left": null
          }
        },
        "6719ff554fff4c2498a783c34f4df676": {
          "model_module": "@jupyter-widgets/controls",
          "model_name": "FloatProgressModel",
          "state": {
            "_view_name": "ProgressView",
            "style": "IPY_MODEL_78fb148652d546b18f19326d76e30ee6",
            "_dom_classes": [],
            "description": "100%",
            "_model_name": "FloatProgressModel",
            "bar_style": "success",
            "max": 2000,
            "_view_module": "@jupyter-widgets/controls",
            "_model_module_version": "1.5.0",
            "value": 2000,
            "_view_count": null,
            "_view_module_version": "1.5.0",
            "orientation": "horizontal",
            "min": 0,
            "description_tooltip": null,
            "_model_module": "@jupyter-widgets/controls",
            "layout": "IPY_MODEL_81a4a939921741d29468af663e2e3e84"
          }
        },
        "b0c5005b33cc4e96a865f6f9a749c158": {
          "model_module": "@jupyter-widgets/controls",
          "model_name": "HTMLModel",
          "state": {
            "_view_name": "HTMLView",
            "style": "IPY_MODEL_bdc92980a7834a0bad94809b07c5e324",
            "_dom_classes": [],
            "description": "",
            "_model_name": "HTMLModel",
            "placeholder": "​",
            "_view_module": "@jupyter-widgets/controls",
            "_model_module_version": "1.5.0",
            "value": " 2000/2000 [03:11&lt;00:00, 10.42it/s]",
            "_view_count": null,
            "_view_module_version": "1.5.0",
            "description_tooltip": null,
            "_model_module": "@jupyter-widgets/controls",
            "layout": "IPY_MODEL_771cdbb18ec9469586a0df08f36eb50c"
          }
        },
        "78fb148652d546b18f19326d76e30ee6": {
          "model_module": "@jupyter-widgets/controls",
          "model_name": "ProgressStyleModel",
          "state": {
            "_view_name": "StyleView",
            "_model_name": "ProgressStyleModel",
            "description_width": "initial",
            "_view_module": "@jupyter-widgets/base",
            "_model_module_version": "1.5.0",
            "_view_count": null,
            "_view_module_version": "1.2.0",
            "bar_color": null,
            "_model_module": "@jupyter-widgets/controls"
          }
        },
        "81a4a939921741d29468af663e2e3e84": {
          "model_module": "@jupyter-widgets/base",
          "model_name": "LayoutModel",
          "state": {
            "_view_name": "LayoutView",
            "grid_template_rows": null,
            "right": null,
            "justify_content": null,
            "_view_module": "@jupyter-widgets/base",
            "overflow": null,
            "_model_module_version": "1.2.0",
            "_view_count": null,
            "flex_flow": null,
            "width": null,
            "min_width": null,
            "border": null,
            "align_items": null,
            "bottom": null,
            "_model_module": "@jupyter-widgets/base",
            "top": null,
            "grid_column": null,
            "overflow_y": null,
            "overflow_x": null,
            "grid_auto_flow": null,
            "grid_area": null,
            "grid_template_columns": null,
            "flex": null,
            "_model_name": "LayoutModel",
            "justify_items": null,
            "grid_row": null,
            "max_height": null,
            "align_content": null,
            "visibility": null,
            "align_self": null,
            "height": null,
            "min_height": null,
            "padding": null,
            "grid_auto_rows": null,
            "grid_gap": null,
            "max_width": null,
            "order": null,
            "_view_module_version": "1.2.0",
            "grid_template_areas": null,
            "object_position": null,
            "object_fit": null,
            "grid_auto_columns": null,
            "margin": null,
            "display": null,
            "left": null
          }
        },
        "bdc92980a7834a0bad94809b07c5e324": {
          "model_module": "@jupyter-widgets/controls",
          "model_name": "DescriptionStyleModel",
          "state": {
            "_view_name": "StyleView",
            "_model_name": "DescriptionStyleModel",
            "description_width": "",
            "_view_module": "@jupyter-widgets/base",
            "_model_module_version": "1.5.0",
            "_view_count": null,
            "_view_module_version": "1.2.0",
            "_model_module": "@jupyter-widgets/controls"
          }
        },
        "771cdbb18ec9469586a0df08f36eb50c": {
          "model_module": "@jupyter-widgets/base",
          "model_name": "LayoutModel",
          "state": {
            "_view_name": "LayoutView",
            "grid_template_rows": null,
            "right": null,
            "justify_content": null,
            "_view_module": "@jupyter-widgets/base",
            "overflow": null,
            "_model_module_version": "1.2.0",
            "_view_count": null,
            "flex_flow": null,
            "width": null,
            "min_width": null,
            "border": null,
            "align_items": null,
            "bottom": null,
            "_model_module": "@jupyter-widgets/base",
            "top": null,
            "grid_column": null,
            "overflow_y": null,
            "overflow_x": null,
            "grid_auto_flow": null,
            "grid_area": null,
            "grid_template_columns": null,
            "flex": null,
            "_model_name": "LayoutModel",
            "justify_items": null,
            "grid_row": null,
            "max_height": null,
            "align_content": null,
            "visibility": null,
            "align_self": null,
            "height": null,
            "min_height": null,
            "padding": null,
            "grid_auto_rows": null,
            "grid_gap": null,
            "max_width": null,
            "order": null,
            "_view_module_version": "1.2.0",
            "grid_template_areas": null,
            "object_position": null,
            "object_fit": null,
            "grid_auto_columns": null,
            "margin": null,
            "display": null,
            "left": null
          }
        }
      }
    }
  },
  "cells": [
    {
      "cell_type": "markdown",
      "metadata": {
        "id": "view-in-github",
        "colab_type": "text"
      },
      "source": [
        "<a href=\"https://colab.research.google.com/github/DanieleFoscarin/HDA2021/blob/yamnet/Remake_ESC50_classifier.ipynb\" target=\"_parent\"><img src=\"https://colab.research.google.com/assets/colab-badge.svg\" alt=\"Open In Colab\"/></a>"
      ]
    },
    {
      "cell_type": "markdown",
      "metadata": {
        "id": "4fzgZN3bTZ_f"
      },
      "source": [
        "reference YAMNet https://colab.research.google.com/github/tensorflow/docs/blob/master/site/en/tutorials/audio/transfer_learning_audio.ipynb#scrollTo=k2yleeev645r"
      ]
    },
    {
      "cell_type": "code",
      "metadata": {
        "id": "owTStArCqOyF"
      },
      "source": [
        "from pathlib import Path\n",
        "from scipy.io import wavfile\n",
        "from IPython.display import Audio\n",
        "import pandas as pd\n",
        "import numpy as np\n",
        "from matplotlib import pyplot as plt \n",
        "import librosa\n",
        "from tqdm import tqdm, tqdm_notebook, notebook\n",
        "import gc\n",
        "import time \n",
        "# import numba\n",
        "import os\n",
        "import scipy.fftpack\n",
        "import cv2\n",
        "import random\n",
        "\n",
        "\n",
        "import tensorflow as tf\n",
        "from tensorflow.keras import layers\n",
        "from tensorflow.keras.utils import Sequence, SequenceEnqueuer   # try enquerer that uses parallelism\n",
        "from tensorflow import keras\n",
        "\n",
        "import tensorflow_hub as hub\n",
        "\n",
        "#import model \n",
        "from tensorflow.keras.applications.mobilenet_v2 import MobileNetV2\n",
        "\n",
        "sr = 44100\n",
        "sr = 16000\n",
        "sr = 22050"
      ],
      "execution_count": 13,
      "outputs": []
    },
    {
      "cell_type": "code",
      "metadata": {
        "id": "os9gS_6l0dKn"
      },
      "source": [
        "! pip install icecream --quiet\n",
        "from icecream import ic"
      ],
      "execution_count": 2,
      "outputs": []
    },
    {
      "cell_type": "code",
      "metadata": {
        "id": "kNSUFeWy_KwY",
        "colab": {
          "base_uri": "https://localhost:8080/"
        },
        "outputId": "9aa7141c-f467-48e5-c211-3ab0141ca8da"
      },
      "source": [
        "! pip install samplerate --quiet\n",
        "import samplerate"
      ],
      "execution_count": 3,
      "outputs": [
        {
          "output_type": "stream",
          "text": [
            "\u001b[K     |████████████████████████████████| 4.0MB 7.5MB/s \n",
            "\u001b[?25h"
          ],
          "name": "stdout"
        }
      ]
    },
    {
      "cell_type": "code",
      "metadata": {
        "id": "QhlvC6fouj5l",
        "colab": {
          "base_uri": "https://localhost:8080/"
        },
        "outputId": "b0a3474c-5551-4348-c29d-aa09f7cde82e"
      },
      "source": [
        "# ! pip install optuna --quiet\n",
        "# import optuna"
      ],
      "execution_count": null,
      "outputs": [
        {
          "output_type": "stream",
          "text": [
            "\u001b[K     |████████████████████████████████| 296kB 9.0MB/s \n",
            "\u001b[K     |████████████████████████████████| 1.2MB 34.9MB/s \n",
            "\u001b[K     |████████████████████████████████| 81kB 10.0MB/s \n",
            "\u001b[K     |████████████████████████████████| 81kB 12.3MB/s \n",
            "\u001b[K     |████████████████████████████████| 51kB 7.7MB/s \n",
            "\u001b[K     |████████████████████████████████| 112kB 58.6MB/s \n",
            "\u001b[K     |████████████████████████████████| 143kB 55.3MB/s \n",
            "\u001b[?25h  Building wheel for alembic (setup.py) ... \u001b[?25l\u001b[?25hdone\n",
            "  Building wheel for pyperclip (setup.py) ... \u001b[?25l\u001b[?25hdone\n"
          ],
          "name": "stdout"
        }
      ]
    },
    {
      "cell_type": "code",
      "metadata": {
        "id": "1JlJ6V7C3PXj"
      },
      "source": [
        "!pip install livelossplot --quiet\n",
        "from livelossplot import PlotLossesKeras"
      ],
      "execution_count": 4,
      "outputs": []
    },
    {
      "cell_type": "markdown",
      "metadata": {
        "id": "ej2eN-L_p4Nt"
      },
      "source": [
        "# Get Dataset"
      ]
    },
    {
      "cell_type": "code",
      "metadata": {
        "colab": {
          "base_uri": "https://localhost:8080/"
        },
        "id": "2sYgxpk9k3J-",
        "outputId": "7159446a-eb7e-4841-f686-fcf8c2293de4"
      },
      "source": [
        "# Clone the entire repo.\n",
        "!git clone https://github.com/karolpiczak/ESC-50.git\n"
      ],
      "execution_count": 5,
      "outputs": [
        {
          "output_type": "stream",
          "text": [
            "Cloning into 'ESC-50'...\n",
            "remote: Enumerating objects: 4154, done.\u001b[K\n",
            "remote: Counting objects: 100% (18/18), done.\u001b[K\n",
            "remote: Compressing objects: 100% (18/18), done.\u001b[K\n",
            "remote: Total 4154 (delta 10), reused 0 (delta 0), pack-reused 4136\u001b[K\n",
            "Receiving objects: 100% (4154/4154), 878.78 MiB | 11.02 MiB/s, done.\n",
            "Resolving deltas: 100% (257/257), done.\n",
            "Checking out files: 100% (2011/2011), done.\n"
          ],
          "name": "stdout"
        }
      ]
    },
    {
      "cell_type": "code",
      "metadata": {
        "colab": {
          "base_uri": "https://localhost:8080/",
          "height": 419
        },
        "id": "TKGGth680BLt",
        "outputId": "27ba7d1e-5e08-45df-ac3b-1c330f0b47fd"
      },
      "source": [
        "ROOT = '/content/ESC-50/audio/'\n",
        "\n",
        "data_info = pd.read_csv(ROOT+\"../meta/esc50.csv\")\n",
        "\n",
        "#make a category dictionary\n",
        "category_dict = dict(zip(data_info['target'], data_info['category']))\n",
        "# to_onehot_dict = dict(zip(range(0,50), np.))\n",
        "\n",
        "#remove unused coumn and add other\n",
        "# aug_col = np.zeros((len(data_info),1))\n",
        "# mixup_col = -1 * np.ones((len(data_info),1))\n",
        "# data_info.drop('esc10', axis=1, inplace=True)\n",
        "# data_info.drop('src_file', axis=1, inplace=True)\n",
        "# data_info.drop('take', axis=1, inplace=True)\n",
        "\n",
        "# data_info['augmentation'] = aug_col\n",
        "# data_info['mixup'] = mixup_col\n",
        "\n",
        "# # one hot encoding from category\n",
        "# data_info = pd.get_dummies(data_info, columns=[\"category\"], prefix='', prefix_sep='') \n",
        "\n",
        "\n",
        "data_info"
      ],
      "execution_count": 6,
      "outputs": [
        {
          "output_type": "execute_result",
          "data": {
            "text/html": [
              "<div>\n",
              "<style scoped>\n",
              "    .dataframe tbody tr th:only-of-type {\n",
              "        vertical-align: middle;\n",
              "    }\n",
              "\n",
              "    .dataframe tbody tr th {\n",
              "        vertical-align: top;\n",
              "    }\n",
              "\n",
              "    .dataframe thead th {\n",
              "        text-align: right;\n",
              "    }\n",
              "</style>\n",
              "<table border=\"1\" class=\"dataframe\">\n",
              "  <thead>\n",
              "    <tr style=\"text-align: right;\">\n",
              "      <th></th>\n",
              "      <th>filename</th>\n",
              "      <th>fold</th>\n",
              "      <th>target</th>\n",
              "      <th>category</th>\n",
              "      <th>esc10</th>\n",
              "      <th>src_file</th>\n",
              "      <th>take</th>\n",
              "    </tr>\n",
              "  </thead>\n",
              "  <tbody>\n",
              "    <tr>\n",
              "      <th>0</th>\n",
              "      <td>1-100032-A-0.wav</td>\n",
              "      <td>1</td>\n",
              "      <td>0</td>\n",
              "      <td>dog</td>\n",
              "      <td>True</td>\n",
              "      <td>100032</td>\n",
              "      <td>A</td>\n",
              "    </tr>\n",
              "    <tr>\n",
              "      <th>1</th>\n",
              "      <td>1-100038-A-14.wav</td>\n",
              "      <td>1</td>\n",
              "      <td>14</td>\n",
              "      <td>chirping_birds</td>\n",
              "      <td>False</td>\n",
              "      <td>100038</td>\n",
              "      <td>A</td>\n",
              "    </tr>\n",
              "    <tr>\n",
              "      <th>2</th>\n",
              "      <td>1-100210-A-36.wav</td>\n",
              "      <td>1</td>\n",
              "      <td>36</td>\n",
              "      <td>vacuum_cleaner</td>\n",
              "      <td>False</td>\n",
              "      <td>100210</td>\n",
              "      <td>A</td>\n",
              "    </tr>\n",
              "    <tr>\n",
              "      <th>3</th>\n",
              "      <td>1-100210-B-36.wav</td>\n",
              "      <td>1</td>\n",
              "      <td>36</td>\n",
              "      <td>vacuum_cleaner</td>\n",
              "      <td>False</td>\n",
              "      <td>100210</td>\n",
              "      <td>B</td>\n",
              "    </tr>\n",
              "    <tr>\n",
              "      <th>4</th>\n",
              "      <td>1-101296-A-19.wav</td>\n",
              "      <td>1</td>\n",
              "      <td>19</td>\n",
              "      <td>thunderstorm</td>\n",
              "      <td>False</td>\n",
              "      <td>101296</td>\n",
              "      <td>A</td>\n",
              "    </tr>\n",
              "    <tr>\n",
              "      <th>...</th>\n",
              "      <td>...</td>\n",
              "      <td>...</td>\n",
              "      <td>...</td>\n",
              "      <td>...</td>\n",
              "      <td>...</td>\n",
              "      <td>...</td>\n",
              "      <td>...</td>\n",
              "    </tr>\n",
              "    <tr>\n",
              "      <th>1995</th>\n",
              "      <td>5-263831-B-6.wav</td>\n",
              "      <td>5</td>\n",
              "      <td>6</td>\n",
              "      <td>hen</td>\n",
              "      <td>False</td>\n",
              "      <td>263831</td>\n",
              "      <td>B</td>\n",
              "    </tr>\n",
              "    <tr>\n",
              "      <th>1996</th>\n",
              "      <td>5-263902-A-36.wav</td>\n",
              "      <td>5</td>\n",
              "      <td>36</td>\n",
              "      <td>vacuum_cleaner</td>\n",
              "      <td>False</td>\n",
              "      <td>263902</td>\n",
              "      <td>A</td>\n",
              "    </tr>\n",
              "    <tr>\n",
              "      <th>1997</th>\n",
              "      <td>5-51149-A-25.wav</td>\n",
              "      <td>5</td>\n",
              "      <td>25</td>\n",
              "      <td>footsteps</td>\n",
              "      <td>False</td>\n",
              "      <td>51149</td>\n",
              "      <td>A</td>\n",
              "    </tr>\n",
              "    <tr>\n",
              "      <th>1998</th>\n",
              "      <td>5-61635-A-8.wav</td>\n",
              "      <td>5</td>\n",
              "      <td>8</td>\n",
              "      <td>sheep</td>\n",
              "      <td>False</td>\n",
              "      <td>61635</td>\n",
              "      <td>A</td>\n",
              "    </tr>\n",
              "    <tr>\n",
              "      <th>1999</th>\n",
              "      <td>5-9032-A-0.wav</td>\n",
              "      <td>5</td>\n",
              "      <td>0</td>\n",
              "      <td>dog</td>\n",
              "      <td>True</td>\n",
              "      <td>9032</td>\n",
              "      <td>A</td>\n",
              "    </tr>\n",
              "  </tbody>\n",
              "</table>\n",
              "<p>2000 rows × 7 columns</p>\n",
              "</div>"
            ],
            "text/plain": [
              "               filename  fold  target        category  esc10  src_file take\n",
              "0      1-100032-A-0.wav     1       0             dog   True    100032    A\n",
              "1     1-100038-A-14.wav     1      14  chirping_birds  False    100038    A\n",
              "2     1-100210-A-36.wav     1      36  vacuum_cleaner  False    100210    A\n",
              "3     1-100210-B-36.wav     1      36  vacuum_cleaner  False    100210    B\n",
              "4     1-101296-A-19.wav     1      19    thunderstorm  False    101296    A\n",
              "...                 ...   ...     ...             ...    ...       ...  ...\n",
              "1995   5-263831-B-6.wav     5       6             hen  False    263831    B\n",
              "1996  5-263902-A-36.wav     5      36  vacuum_cleaner  False    263902    A\n",
              "1997   5-51149-A-25.wav     5      25       footsteps  False     51149    A\n",
              "1998    5-61635-A-8.wav     5       8           sheep  False     61635    A\n",
              "1999     5-9032-A-0.wav     5       0             dog   True      9032    A\n",
              "\n",
              "[2000 rows x 7 columns]"
            ]
          },
          "metadata": {
            "tags": []
          },
          "execution_count": 6
        }
      ]
    },
    {
      "cell_type": "code",
      "metadata": {
        "colab": {
          "base_uri": "https://localhost:8080/",
          "height": 316
        },
        "id": "shU46DDMXQ6k",
        "outputId": "590233b3-6ee6-4915-8b48-13685a89eddc"
      },
      "source": [
        "class AudioLoader():\n",
        "    def __init__(self, df, root, format1=False, downsample=True):\n",
        "        self.df = df\n",
        "        self.root = root\n",
        "        self.format1 = format1\n",
        "        self.downsample = downsample\n",
        "\n",
        "    def __len__(self):\n",
        "        return len(self.df)\n",
        "\n",
        "    def __getitem__(self, idx):\n",
        "        _, this_audio = wavfile.read(os.path.join(self.root, self.df['filename'][idx]))\n",
        "        if self.downsample:\n",
        "            this_audio = samplerate.resample(this_audio, 22050/44100, converter_type='sinc_fastest')\n",
        "        if self.format1:\n",
        "            this_audio = this_audio / 32768\n",
        "        return this_audio\n",
        "\n",
        "    def get_info(self, idx, list=False):\n",
        "        if list:\n",
        "            out = self.df.iloc[idx].to_list()\n",
        "        else:\n",
        "            out = self.df.iloc[idx]\n",
        "        return out\n",
        "\n",
        "\n",
        "audio_loader = AudioLoader(data_info, ROOT, True)\n",
        "ic(len(audio_loader))\n",
        "plt.plot(audio_loader[123])\n",
        "print(type(audio_loader.get_info(123)))\n",
        "print(audio_loader.get_info(123)['category'])"
      ],
      "execution_count": 96,
      "outputs": [
        {
          "output_type": "stream",
          "text": [
            "ic| len(audio_loader): 2000\n"
          ],
          "name": "stderr"
        },
        {
          "output_type": "stream",
          "text": [
            "<class 'pandas.core.series.Series'>\n",
            "washing_machine\n"
          ],
          "name": "stdout"
        },
        {
          "output_type": "display_data",
          "data": {
            "image/png": "[encoded data removed]",
            "text/plain": [
              "<Figure size 432x288 with 1 Axes>"
            ]
          },
          "metadata": {
            "tags": [],
            "needs_background": "light"
          }
        }
      ]
    },
    {
      "cell_type": "code",
      "metadata": {
        "id": "7s_NDQPBXmsI"
      },
      "source": [
        "# ! mkdir -p mel_storage\n",
        "# path_mel = \"/content/mel_storage/\"\n",
        "\n",
        "# ! mkdir -p mfcc_storage\n",
        "# path_mfcc = \"/content/mfcc_storage/\"\n",
        "\n",
        "# ! mkdir -p chroma_storage\n",
        "# path_chroma = \"/content/chroma_storage/\"\n",
        "\n",
        "# path_list = [path_mel, path_mfcc, path_chroma]\n",
        "\n",
        "!mkdir -p feature_storage\n",
        "path_batch = \"/content/feature_storage/\"\n",
        "\n",
        "path_drive = '/content/drive/MyDrive/UNI_ICT/HDA/data/' \n",
        "\n",
        "!mkdir -p sandbox\n",
        "path_sandbox = \"/content/sandbox/\""
      ],
      "execution_count": 97,
      "outputs": []
    },
    {
      "cell_type": "markdown",
      "metadata": {
        "id": "VDPVsPsKsdor"
      },
      "source": [
        "# Preprocessing functions"
      ]
    },
    {
      "cell_type": "markdown",
      "metadata": {
        "id": "WfUcbYBFutY6"
      },
      "source": [
        "remeber to apply augmentation and mixup only on the training samples, foldwise"
      ]
    },
    {
      "cell_type": "markdown",
      "metadata": {
        "id": "f0GyUX7BXKA5"
      },
      "source": [
        "## Removing silence"
      ]
    },
    {
      "cell_type": "markdown",
      "metadata": {
        "id": "4RFf0vvi9Jgq"
      },
      "source": [
        "removing silence at the beginning or at the end of the audio clip"
      ]
    },
    {
      "cell_type": "code",
      "metadata": {
        "id": "Hsfe-JDj9FZb"
      },
      "source": [
        "def removeSilence(signal, fill_silence=False):\n",
        "    \"\"\"\n",
        "    Remove the leading and trailing zeros in an array,\n",
        "    Parameters:\n",
        "        signal: array,\n",
        "        fill_silence: boolean, if True it repeats the non zero part until the \n",
        "            size of the output array is the same as the input array\n",
        "    Return:\n",
        "        an array\n",
        "\n",
        "    \"\"\"\n",
        "    \n",
        "    trimmed = np.trim_zeros(signal)\n",
        "    if not fill_silence:\n",
        "        return trimmed\n",
        "    if fill_silence:\n",
        "        lt = len(trimmed)\n",
        "        ls = len(signal)\n",
        "        # ic(lt,ls)\n",
        "        if lt < ls:\n",
        "          trimmed = np.tile(trimmed, int(np.ceil(ls/lt)))\n",
        "          trimmed = trimmed[:ls]  \n",
        "        return trimmed\n",
        "\n",
        "# ic(len(audio_list[0]))\n",
        "# a = removeSilence(audio_list[0], fill_silence=True)\n",
        "# librosa.display.waveplot(a, sr=SR)\n",
        "# ic(len(audio_list[0]))\n",
        "# ic(len(a))\n",
        "# # IPython.display.Audio(a, rate=sr)"
      ],
      "execution_count": 98,
      "outputs": []
    },
    {
      "cell_type": "markdown",
      "metadata": {
        "id": "BasNEAgvXW7b"
      },
      "source": [
        "## compute spectral features"
      ]
    },
    {
      "cell_type": "code",
      "metadata": {
        "id": "MKxNAlgFEylz"
      },
      "source": [
        "# OBSOLETE\n",
        "\n",
        "# def features2(audio, sr, bands=64,):\n",
        "#     def normalize01(data):\n",
        "#         return (data - np.min(data)) / (np.max(data) - np.min(data))\n",
        "\n",
        "#     def standardize(data):\n",
        "#         return (data - np.mean(data))/np.std(data)\n",
        "\n",
        "#     diff = 32\n",
        "#     this_mel = librosa.amplitude_to_db(librosa.feature.melspectrogram(audio.astype('float32'), sr=sr, hop_length=int(sr*0.01), n_mels=64 ))\n",
        "#     this_mel = standardize(this_mel)\n",
        "\n",
        "#     this_diff_mel = np.concatenate((np.diff(this_mel, n=1, axis=1), np.zeros((this_mel.shape[0],1))), axis=1)\n",
        "#     this_diff_mel = standardize(this_diff_mel)\n",
        " \n",
        "#     # this_flat =  librosa.amplitude_to_db(librosa.feature.spectral_flatness(y=audio, hop_length=int(sr*0.01)))\n",
        "#     # this_flat = standardize(this_flat)\n",
        "\n",
        "#     # this_rms = librosa.feature.rms(audio, hop_length=int(sr*0.01))\n",
        "#     # this_rms = standardize(this_rms)\n",
        "\n",
        "#     this_mfcc = librosa.feature.mfcc(S=this_mel, sr=sr, n_mfcc=64)\n",
        "#     this_mfcc = standardize(this_mfcc)\n",
        "#     # mfcc_diff = np.concatenate((np.diff(this_mfcc[:diff,:], n=1, axis=1), np.zeros((diff,1))), axis=1)\n",
        "#     # this_mfcc = np.concatenate((this_mfcc, mfcc_diff), axis=0)\n",
        "\n",
        "#     # this_chroma = librosa.feature.chroma_stft(audio.astype('float32'), sr=sr, hop_length=int(sr*0.01), n_chroma=bands)\n",
        "#     # this_chroma = scipy.fftpack.dct(this_chroma)\n",
        "#     # this_chroma = standardize(this_chroma)\n",
        "#     # chroma_diff = np.concatenate((np.diff(this_chroma[:diff,:], n=1, axis=1), np.zeros((diff,1))), axis=1)\n",
        "#     # this_chroma = np.concatenate((this_chroma, chroma_diff), axis=0)\n",
        "\n",
        "#     features = [normalize01(this_mel), normalize01(this_diff_mel), normalize01(this_mfcc)]\n",
        "#     return features\n"
      ],
      "execution_count": 99,
      "outputs": []
    },
    {
      "cell_type": "code",
      "metadata": {
        "colab": {
          "base_uri": "https://localhost:8080/",
          "height": 829
        },
        "id": "drMHKn2jKlMB",
        "outputId": "67772f98-38a3-4d9e-ba56-8de22b16cf53"
      },
      "source": [
        "def features3(audio, sr, bands=96,):\n",
        "    def normalize01(data):\n",
        "        return (data - np.min(data)) / (np.max(data) - np.min(data))\n",
        "\n",
        "    def standardize(data):\n",
        "        return (data - np.mean(data))/np.std(data)\n",
        "\n",
        "    \n",
        "\n",
        "    # this_mel = librosa.amplitude_to_db(librosa.feature.melspectrogram(audio.astype('float32'), sr=sr, hop_length=int(sr*0.01), n_mels=bands ))\n",
        "    # this_mel = standardize(this_mel)\n",
        "\n",
        "    # this_diff_mel = np.concatenate((np.diff(this_mel, n=1, axis=1), np.zeros((this_mel.shape[0],1))), axis=1)\n",
        "    # this_diff_mel = standardize(this_diff_mel)\n",
        "\n",
        "    # # this_diff_mel2 = np.concatenate((np.diff(this_mel, n=2, axis=1), np.zeros((this_mel.shape[0],2))), axis=1)\n",
        "    # # this_diff_mel2 = standardize(this_diff_mel2)\n",
        "\n",
        "    this_stft_o = librosa.amplitude_to_db(np.abs(librosa.stft(audio.astype('float32'), hop_length=int(sr*0.01))))\n",
        "    # this_stft = cv2.resize(this_stft_o, dsize=(this_mel.shape[1], bands))\n",
        "    # this_stft = standardize(this_stft)\n",
        "    \n",
        "    n_bands = 8\n",
        "    fmin = np.floor(sr/(2**n_bands))\n",
        "    this_cont = librosa.feature.spectral_contrast(S=this_stft_o, sr=sr, hop_length=int(sr*0.01), fmin=fmin, n_bands=n_bands) #fmin=150 with sr=44100\n",
        "    this_cont = standardize(this_cont)\n",
        "\n",
        "    this_rms = librosa.feature.rms(audio, hop_length=int(sr*0.01))\n",
        "    this_rms = standardize(this_rms)\n",
        "    this_rms = np.transpose(this_rms, axes=[1,0])\n",
        "\n",
        "    # features = [normalize01(this_mel), normalize01(this_diff_mel), normalize01(this_stft)]\n",
        "    # features = [this_mel, this_diff_mel, this_stft]\n",
        "    # this_rms = normalize01(this_rms)\n",
        "    # this_cont = normalize01(this_cont)\n",
        "    audio = samplerate.resample(audio, 16000/22050, converter_type='sinc_fastest')\n",
        "\n",
        "    # ic(np.shape(this_mel), np.shape(this_diff_mel), np.shape(this_stft))\n",
        "    return normalize01(audio), this_rms, this_cont\n",
        "\n",
        "\n",
        "audio, rms, cont = features3(audio_loader[1], sr)\n",
        "ic(np.shape(feat))\n",
        "ic(np.shape(rms), np.shape(cont))\n",
        "FRAMES = np.shape(rms)[0]\n",
        "ic(FRAMES)\n",
        "\n",
        "plt.figure()\n",
        "plt.plot(audio)\n",
        "\n",
        "plt.figure()\n",
        "plt.plot(rms)\n",
        "\n",
        "plt.figure()\n",
        "plt.imshow(cont, interpolation='nearest', aspect='auto')\n",
        "plt.colorbar()"
      ],
      "execution_count": 110,
      "outputs": [
        {
          "output_type": "stream",
          "text": [
            "ic| np.shape(feat): (110250,)\n",
            "ic| np.shape(rms): (502, 1), np.shape(cont): (9, 502)\n",
            "ic| FRAMES: 502\n"
          ],
          "name": "stderr"
        },
        {
          "output_type": "execute_result",
          "data": {
            "text/plain": [
              "<matplotlib.colorbar.Colorbar at 0x7f13aa754310>"
            ]
          },
          "metadata": {
            "tags": []
          },
          "execution_count": 110
        },
        {
          "output_type": "display_data",
          "data": {
            "image/png": "[encoded data removed]",
            "text/plain": [
              "<Figure size 432x288 with 1 Axes>"
            ]
          },
          "metadata": {
            "tags": [],
            "needs_background": "light"
          }
        },
        {
          "output_type": "display_data",
          "data": {
            "image/png": "[encoded data removed]",
            "text/plain": [
              "<Figure size 432x288 with 1 Axes>"
            ]
          },
          "metadata": {
            "tags": [],
            "needs_background": "light"
          }
        },
        {
          "output_type": "display_data",
          "data": {
            "image/png": "[encoded data removed]",
            "text/plain": [
              "<Figure size 432x288 with 2 Axes>"
            ]
          },
          "metadata": {
            "tags": [],
            "needs_background": "light"
          }
        }
      ]
    },
    {
      "cell_type": "markdown",
      "metadata": {
        "id": "6EV4rhWns9LM"
      },
      "source": [
        "Three in one feature extraction function"
      ]
    },
    {
      "cell_type": "code",
      "metadata": {
        "id": "63df07BhtCQE"
      },
      "source": [
        "#write doc for those functions\n",
        "\n",
        "def audio_aug2(y, sr=sr, low_ps=-3.5, high_ps=3.5, low_ts=0.8, high_ts=1):\n",
        "    '''It return a signal with random pitch shift ot time strecth '''\n",
        "\n",
        "    choice = int(np.random.randint(2))\n",
        "    if choice == 0:\n",
        "        step = np.random.uniform(low=low_ps, high=high_ps)\n",
        "        ya = librosa.effects.pitch_shift(y, sr=sr, n_steps=step)\n",
        "    elif choice == 1:\n",
        "        rate = np.random.uniform(low=low_ts, high=high_ts)\n",
        "        ya = librosa.effects.time_stretch(y, rate)\n",
        "\n",
        "    ya = ya[:y.shape[0]]\n",
        "    return ya\n",
        "\n",
        "def features_preprocessor(audio_loader, path, df, augmentation=0):\n",
        "    # mel_names = []\n",
        "    # mfcc_names = []\n",
        "    # chroma_names = []\n",
        "    # data_info_aug = data_info.copy()\n",
        "    # pd_counter = 0\n",
        "\n",
        "\n",
        "    if augmentation==0:\n",
        "        for i in notebook.tqdm(range(len(audio_loader))):\n",
        "            this_audio = audio_loader[i][:sr*5]\n",
        "            this_audio = removeSilence(this_audio, fill_silence=True)\n",
        "            this_audio, this_rms, this_flat = features3(this_audio, sr)\n",
        "            # plt.figure()\n",
        "            # plt.imshow(this_flat, interpolation='nearest', aspect='auto')    \n",
        "            pack = np.array([this_audio, audio_loader.get_info(i)['fold'], audio_loader.get_info(i)['target'], this_rms, this_flat], dtype= 'object')\n",
        "            np.save(os.path.join(path, audio_loader.get_info(i)['filename']+'_0'), pack)\n",
        "            # break\n",
        "\n",
        "    if augmentation > 0:\n",
        "        for i in notebook.tqdm(range(len(audio_loader))):\n",
        "            this_audio = audio_loader[i][:sr*5]\n",
        "            this_audio = removeSilence(this_audio, fill_silence=True)\n",
        "            for aug in range(augmentation):\n",
        "                \n",
        "                if aug == 0:\n",
        "                    this_audio, this_rms, this_flat = features3(this_audio, sr)\n",
        "                    pack = np.array([this_audio, audio_loader.get_info(i)['fold'], audio_loader.get_info(i)['target'], this_rms, this_flat], dtype='object')\n",
        "                    np.save(os.path.join(path, audio_loader.get_info(i)['filename']+'_0'), pack)\n",
        "                else:\n",
        "                    this_audio = audio_aug2(this_audio, sr=sr)\n",
        "                    this_audio, this_rms, this_flat = features3(this_audio, sr)\n",
        "                    pack = np.array([this_audio, audio_loader.get_info(i)['fold'], audio_loader.get_info(i)['target'], this_rms, this_flat], dtype='object')\n",
        "                    np.save(os.path.join(path, audio_loader.get_info(i)['filename']+'_'+str(aug)), pack)\n",
        "\n",
        "\n",
        "        "
      ],
      "execution_count": 111,
      "outputs": []
    },
    {
      "cell_type": "markdown",
      "metadata": {
        "id": "2NwMQaMTls-Y"
      },
      "source": [
        ""
      ]
    },
    {
      "cell_type": "code",
      "metadata": {
        "colab": {
          "base_uri": "https://localhost:8080/",
          "height": 117,
          "referenced_widgets": [
            "b6663d4cb70d4cac8f9bab1c003152e8",
            "b2a6210a443e4560aa611128d530ceaf",
            "6719ff554fff4c2498a783c34f4df676",
            "b0c5005b33cc4e96a865f6f9a749c158",
            "78fb148652d546b18f19326d76e30ee6",
            "81a4a939921741d29468af663e2e3e84",
            "bdc92980a7834a0bad94809b07c5e324",
            "771cdbb18ec9469586a0df08f36eb50c"
          ]
        },
        "id": "Vs889VeYx96U",
        "outputId": "dd2290c3-f3a3-4a31-ef6a-c42502eb5a05"
      },
      "source": [
        "# TODO save the numpy with 3 features together with its info\n",
        "# so you can load a file having all the info, and no mismatch errors\n",
        "# then save everything on drive and load from there\n",
        "\n",
        "# mel_names, data_info_aug = features_preprocessor(audio_list, path_list, data_info, augmentation=0)\n",
        "ic(ROOT)\n",
        "audio_loader = AudioLoader(data_info, ROOT, format1=True)\n",
        "features_preprocessor(audio_loader, path_batch, data_info, augmentation=0)"
      ],
      "execution_count": 112,
      "outputs": [
        {
          "output_type": "stream",
          "text": [
            "ic| ROOT: '/content/ESC-50/audio/'\n"
          ],
          "name": "stderr"
        },
        {
          "output_type": "display_data",
          "data": {
            "application/vnd.jupyter.widget-view+json": {
              "model_id": "b6663d4cb70d4cac8f9bab1c003152e8",
              "version_minor": 0,
              "version_major": 2
            },
            "text/plain": [
              "HBox(children=(FloatProgress(value=0.0, max=2000.0), HTML(value='')))"
            ]
          },
          "metadata": {
            "tags": []
          }
        },
        {
          "output_type": "stream",
          "text": [
            "/usr/local/lib/python3.7/dist-packages/ipykernel_launcher.py:6: RuntimeWarning: invalid value encountered in true_divide\n",
            "  \n"
          ],
          "name": "stderr"
        },
        {
          "output_type": "stream",
          "text": [
            "\n"
          ],
          "name": "stdout"
        }
      ]
    },
    {
      "cell_type": "code",
      "metadata": {
        "id": "aDAEvsroZph7"
      },
      "source": [
        "# copy to drive\n",
        "! cp -r /content/feature_storage /content/drive/MyDrive/UNI_ICT/HDA/data"
      ],
      "execution_count": null,
      "outputs": []
    },
    {
      "cell_type": "code",
      "metadata": {
        "id": "TKO4jmsXZ_uz"
      },
      "source": [
        "# copy from drive\n",
        "! cp -r /content/drive/MyDrive/UNI_ICT/HDA/data /content/feature_storage"
      ],
      "execution_count": null,
      "outputs": []
    },
    {
      "cell_type": "code",
      "metadata": {
        "id": "_VyX_-b6Fugv"
      },
      "source": [
        "plist = []\n",
        "listdir = os.listdir(path_batch)\n",
        "for file in listdir:\n",
        "    os.remove(os.path.join(path_batch, file))\n",
        "\n"
      ],
      "execution_count": null,
      "outputs": []
    },
    {
      "cell_type": "markdown",
      "metadata": {
        "id": "TXjXV7VhB_YD"
      },
      "source": [
        "test with reading feature packs"
      ]
    },
    {
      "cell_type": "code",
      "metadata": {
        "id": "grc9d9GDC7Eg"
      },
      "source": [
        "# this_pack = np.load(os.path.join(path_batch, this_fold_names[20]), allow_pickle=True)\n",
        "# this_feat = np.transpose(this_pack[0], [2,1,0])\n",
        "# print(category_dict[this_pack[1]])\n",
        "\n",
        "# ic(np.shape(this_feat))\n",
        "# plt.figure()\n",
        "# plt.imshow(this_feat, interpolation='nearest', aspect='auto')\n",
        "\n",
        "# plt.figure(figsize=(12,6))\n",
        "# plt.subplot(1,3,1)\n",
        "# plt.imshow(this_feat[:,:,0], interpolation='nearest', aspect='auto')\n",
        "# plt.subplot(1,3,2)\n",
        "# plt.imshow(this_feat[:,:,1], interpolation='nearest', aspect='auto')\n",
        "# plt.subplot(1,3,3)\n",
        "# plt.imshow(this_feat[:,:,2], interpolation='nearest', aspect='auto')"
      ],
      "execution_count": null,
      "outputs": []
    },
    {
      "cell_type": "markdown",
      "metadata": {
        "id": "copCbfTtOn4u"
      },
      "source": [
        "make Sequence class"
      ]
    },
    {
      "cell_type": "code",
      "metadata": {
        "id": "VgEow3SjG4Mi"
      },
      "source": [
        "def to_onehot(y, classes=50):\n",
        "    y_oh = np.zeros((classes, 1))\n",
        "    y_oh[y] = 1\n",
        "    return y_oh\n",
        "\n",
        "# def mixup(x1, x2, y1, y2, alpha):\n",
        "#     l = np.random.beta(alpha, alpha)\n",
        "#     x_mix = l*x1 + (1-l)*x2\n",
        "#     y_mix = l*y1 + (1-l)*y2\n",
        "#     return x_mix, y_mix\n",
        "\n",
        "def mix(a, b, l):\n",
        "    return l*a + (1-l)*b\n",
        "\n",
        "\n",
        "\n",
        "\n",
        "# TODO fix crop decision default\n",
        "class FeatureSequence(Sequence):\n",
        "    def __init__(self, names, path, batch_size, crop=None, with_mixup=False):\n",
        "        self.names = names\n",
        "        self.batch_size = batch_size\n",
        "        self.path = path\n",
        "        self.crop = crop\n",
        "        self.with_mixup = with_mixup\n",
        "        self.epoch = 0\n",
        "        self.alpha = 0.001\n",
        "\n",
        "        self.yamnet_model_handle = 'https://tfhub.dev/google/yamnet/1'\n",
        "        self.yamnet_model = hub.load(self.yamnet_model_handle)\n",
        "\n",
        "        # if self.crop==None:\n",
        "        #     self.input_shape = (FRAMES,96,3)\n",
        "        # else:\n",
        "        #     self.input_shape = (self.crop,96,3)\n",
        "        # self.base_model = MobileNetV2(input_shape=self.input_shape,\n",
        "        #                     input_tensor=None,                        \n",
        "        #                     include_top=False, \n",
        "        #                     weights='imagenet'\n",
        "        #                     )\n",
        "        # self.base_model.trainable = False\n",
        "\n",
        "        # self.img_model = tf.keras.Sequential()\n",
        "        # self.img_model.add(self.base_model)\n",
        "        # self.img_model.add(tf.keras.layers.GlobalAveragePooling2D())\n",
        "        # self.img_model.add(tf.keras.layers.BatchNormalization())\n",
        "\n",
        "        \n",
        "\n",
        "    def __len__(self):\n",
        "        return int(np.floor(len(self.names) / self.batch_size))\n",
        "\n",
        "    def on_epoch_end(self):\n",
        "        self.epoch += 1\n",
        "        if self.alpha < 0.5:\n",
        "            self.alpha += 0.5/30\n",
        "        \n",
        "        random.shuffle(self.names)\n",
        "\n",
        "    def __getitem__(self, idx):\n",
        "        batch_names = self.names[idx*self.batch_size:(idx + 1)*self.batch_size]\n",
        "\n",
        "        batch_feat = []\n",
        "        # batch_infered = []\n",
        "        batch_rms = []\n",
        "        batch_flat = []\n",
        "        batch_target = []\n",
        "        for name in batch_names:\n",
        "            this_pack = np.load(os.path.join(self.path, name), allow_pickle=True)\n",
        "            # NB fix the axes order from the preprocessor\n",
        "            this_feat = this_pack[0]\n",
        "            # this_feat = np.transpose(this_feat, [2,1,0])\n",
        "            this_target = to_onehot(this_pack[2])\n",
        "            this_rms = this_pack[3]\n",
        "            this_flat = this_pack[4]\n",
        "            this_flat = np.transpose(this_flat, [1,0])\n",
        "            \n",
        "            # ic(np.shape(this_flat))\n",
        "            # plt.figure()\n",
        "            # plt.imshow(b[0][2][0], interpolation='nearest', aspect='auto')\n",
        "\n",
        "            if self.with_mixup and np.random.uniform(0,1)>0.5:\n",
        "                # load another random pack\n",
        "                rand_name = np.random.randint(0, len(self.names))\n",
        "                this_pack2 = np.load(os.path.join(self.path, self.names[rand_name]), allow_pickle=True)\n",
        "                this_feat2 = this_pack2[0]\n",
        "                # this_feat2 = np.transpose(this_feat2, [2,1,0])\n",
        "                this_rms2 = this_pack2[3]\n",
        "                this_flat2 = this_pack2[4]\n",
        "                this_flat2 = np.transpose(this_flat2, [1,0])\n",
        "                this_target2 = to_onehot(this_pack[2])\n",
        "\n",
        "                # mix the samples\n",
        "                l = np.random.beta(self.alpha, self.alpha)\n",
        "                this_feat = mix(this_feat, this_feat2, l)\n",
        "                this_rms = mix(this_rms, this_rms2, l)\n",
        "                this_flat = mix(this_flat, this_flat2, l)\n",
        "                this_target = mix(this_target, this_target2, l)\n",
        "\n",
        "            if self.crop != None:\n",
        "                start = np.random.randint(0, this_feat.shape[0]-self.crop)\n",
        "                this_feat = this_feat[start:start+self.crop]\n",
        "                this_rms = this_rms[start:start+self.crop]\n",
        "                this_flat = this_flat[start:start+self.crop]\n",
        "\n",
        "            # ic(this_feat.shape)\n",
        "            _, this_feat, _ = self.yamnet_model(this_feat)\n",
        "            batch_feat.append(this_feat)\n",
        "            # batch_infered.append(this_infered)\n",
        "            batch_rms.append(this_rms)\n",
        "            batch_flat.append(this_flat)\n",
        "            batch_target.append(this_target)\n",
        "\n",
        "        batch_infered = np.array(batch_feat)\n",
        "        # ic(batch_infered.shape)\n",
        "\n",
        "        # batch_infered = self.img_model(batch_feat)\n",
        "        batch_rms = np.array(batch_rms)\n",
        "        batch_flat = np.array(batch_flat)\n",
        "        batch_target = np.array(batch_target)\n",
        "\n",
        "        # batch_input = [batch_infered, batch_rms, batch_flat]\n",
        "        # try taking out flat\n",
        "        batch_input = [batch_infered, batch_rms, batch_flat]\n",
        "\n",
        "        return batch_input, batch_target\n",
        "\n",
        "\n",
        "# #test\n",
        "# batch_size = 50\n",
        "# fold = 2\n",
        "# this_fold_names = [x for x in feat_names if x[0]==str(fold) and x.endswith('0.npy')]\n",
        "# feature_sequence = FeatureSequence(this_fold_names, path_batch, batch_size, with_mixup=True)\n",
        "# b = feature_sequence\n",
        "# ic(len(b))\n",
        "# ic(len(b[0]))\n",
        "# ic(np.shape(b[0][0]))\n",
        "# ic(np.shape(b[0][1]))\n",
        "# ic(np.shape(b[0][2]))\n",
        "\n",
        "# plt.figure()\n",
        "# plt.imshow(b[0][2][0], interpolation='nearest', aspect='auto')"
      ],
      "execution_count": 113,
      "outputs": []
    },
    {
      "cell_type": "markdown",
      "metadata": {
        "id": "oQvcUzFGmYV4"
      },
      "source": [
        "# Model classes"
      ]
    },
    {
      "cell_type": "code",
      "metadata": {
        "id": "v8U9-zRJPbwG",
        "colab": {
          "base_uri": "https://localhost:8080/"
        },
        "outputId": "60057c57-1f87-446a-d719-0eda4045f954"
      },
      "source": [
        "crop = FRAMES\n",
        "\n",
        "def make_MixedNet():\n",
        "    act = 'relu'\n",
        "\n",
        "    input_shape = (crop,96,3)\n",
        "\n",
        "    input_inf = layers.Input(shape=(None,1024))\n",
        "    input_rms = layers.Input(shape=(crop,1))\n",
        "    input_cont = layers.Input(shape=(crop,8))\n",
        "    \n",
        "    inf = layers.GlobalAveragePooling1D()(input_inf)\n",
        "    inf = tf.expand_dims(inf, axis=-1)\n",
        "    # inf = layers.Dense(10, activation='relu')(input_inf)\n",
        "    # inf = layers.Conv1D(8, kernel_size=64, padding='same', activation='relu')(input_inf)\n",
        "    # inf = layers.MaxPool1D()(inf)\n",
        "    # inf = layers.Conv1D(8, kernel_size=64, padding='same', activation='relu')(inf)\n",
        "    # inf = layers.MaxPool1D()(inf)\n",
        "\n",
        "    # rms = layers.Dense(10, activation='relu')(input_rms)\n",
        "    rms = layers.Conv1D(8, kernel_size=9, padding='same', activation=act, )(input_rms)\n",
        "    rms = layers.AveragePooling1D()(rms)\n",
        "    rms = layers.Conv1D(16, kernel_size=9, padding='same', activation=act, )(rms)\n",
        "    rms = layers.AveragePooling1D()(rms)\n",
        "    rms = layers.Conv1D(32, kernel_size=9, padding='same', activation=act, )(rms)\n",
        "    # rms = layers.AveragePooling1D()(rms)\n",
        "    # rms = layers.Conv1D(64, kernel_size=9, padding='same', activation=act, )(rms)\n",
        "    # rms = layers.AveragePooling1D()(rms)\n",
        "    rms = layers.GlobalAveragePooling1D()(rms)\n",
        "    rms = tf.expand_dims(rms, axis=-1)\n",
        "    rms = layers.BatchNormalization()(rms)\n",
        "\n",
        "    out_rms = layers.Flatten()(rms)\n",
        "    out_rms = layers.Dense(50, activation='softmax', name='out_rms')(out_rms)\n",
        "    # rms = layers.Flatten()(rms)\n",
        "\n",
        "    # flat = layers.Dense(10, activation='relu')(input_flat)\n",
        "    cont = tf.expand_dims(input_cont, axis=-1)\n",
        "    cont = layers.Conv2D(16, kernel_size=(3,3), padding='same', activation=act, )(cont)\n",
        "    cont = layers.MaxPool2D()(cont)\n",
        "    cont = layers.Conv2D(32, kernel_size=(3,3), padding='same', activation=act, )(cont)\n",
        "    cont = layers.MaxPool2D()(cont)\n",
        "    cont = layers.Conv2D(64, kernel_size=(3,3), padding='same', activation=act, )(cont)\n",
        "    # flat = layers.AveragePooling1D()(flat)\n",
        "    # flat = layers.Conv1D(64, kernel_size=9, padding='same', activation=act, )(flat)\n",
        "    # flat = layers.AveragePooling1D()(flat)\n",
        "    cont = layers.GlobalAveragePooling2D()(cont)\n",
        "    cont = tf.expand_dims(cont, axis=-1)\n",
        "    cont = layers.BatchNormalization()(cont)\n",
        "\n",
        "    out_cont = layers.Flatten()(cont)\n",
        "    out_cont = layers.Dense(50, activation='softmax', name='out_cont')(out_cont)\n",
        "    # cont = layers.Flatten()(cont)\n",
        "\n",
        "    z = layers.concatenate([inf,rms,cont], axis=1)\n",
        "    z = layers.Flatten()(z)\n",
        "    z = layers.Dense(100, activation='relu',)(z)\n",
        "    z = layers.Dense(50, activation='softmax', name='out_total')(z)\n",
        "\n",
        "    # rms = layers.Conv1D(16, 10, padding='same', activation='relu')(input_rms)\n",
        "    # rms = layers.MaxPool1D()(rms)\n",
        "    # rms = layers.Conv1D(64, 10, padding='same', activation='relu')(rms)\n",
        "    # rms = layers.GlobalAveragePooling1D()(rms)\n",
        "\n",
        "    # flat = layers.Conv1D(16, 10, padding='same', activation='relu')(input_flat)\n",
        "    # flat = layers.MaxPool1D()(flat)\n",
        "    # flat = layers.Conv1D(64, 10, padding='same', activation='relu')(flat)\n",
        "    # flat = layers.GlobalAveragePooling1D()(flat)\n",
        "\n",
        "    # z = layers.concatenate([img, rms, flat])\n",
        "    # z = tf.expand_dims(z, axis=-1)\n",
        "    # z = layers.Conv1D(1, kernel_size=50, activation='softmax')(z)\n",
        "    # z = layers.GlobalAveragePooling1D()(z)\n",
        "\n",
        "\n",
        "    model = keras.Model(inputs=[input_inf, input_rms, input_cont], outputs=[out_rms, out_cont, z])\n",
        "    # model = keras.Model(inputs=[input_inf, input_rms, input_flat], outputs=z)\n",
        "    model.compile(optimizer=tf.keras.optimizers.Adam(learning_rate=0.001), \n",
        "      loss = tf.keras.losses.categorical_crossentropy, \n",
        "      metrics=['accuracy'])\n",
        "    return model\n",
        "\n",
        "mixed_net = make_MixedNet()\n",
        "mixed_net.summary()"
      ],
      "execution_count": 123,
      "outputs": [
        {
          "output_type": "stream",
          "text": [
            "Model: \"model_10\"\n",
            "__________________________________________________________________________________________________\n",
            "Layer (type)                    Output Shape         Param #     Connected to                     \n",
            "==================================================================================================\n",
            "input_41 (InputLayer)           [(None, 502, 8)]     0                                            \n",
            "__________________________________________________________________________________________________\n",
            "input_40 (InputLayer)           [(None, 502, 1)]     0                                            \n",
            "__________________________________________________________________________________________________\n",
            "tf.expand_dims_47 (TFOpLambda)  (None, 502, 8, 1)    0           input_41[0][0]                   \n",
            "__________________________________________________________________________________________________\n",
            "conv1d_36 (Conv1D)              (None, 502, 8)       80          input_40[0][0]                   \n",
            "__________________________________________________________________________________________________\n",
            "conv2d_36 (Conv2D)              (None, 502, 8, 16)   160         tf.expand_dims_47[0][0]          \n",
            "__________________________________________________________________________________________________\n",
            "average_pooling1d_24 (AveragePo (None, 251, 8)       0           conv1d_36[0][0]                  \n",
            "__________________________________________________________________________________________________\n",
            "max_pooling2d_24 (MaxPooling2D) (None, 251, 4, 16)   0           conv2d_36[0][0]                  \n",
            "__________________________________________________________________________________________________\n",
            "conv1d_37 (Conv1D)              (None, 251, 16)      1168        average_pooling1d_24[0][0]       \n",
            "__________________________________________________________________________________________________\n",
            "conv2d_37 (Conv2D)              (None, 251, 4, 32)   4640        max_pooling2d_24[0][0]           \n",
            "__________________________________________________________________________________________________\n",
            "average_pooling1d_25 (AveragePo (None, 125, 16)      0           conv1d_37[0][0]                  \n",
            "__________________________________________________________________________________________________\n",
            "max_pooling2d_25 (MaxPooling2D) (None, 125, 2, 32)   0           conv2d_37[0][0]                  \n",
            "__________________________________________________________________________________________________\n",
            "conv1d_38 (Conv1D)              (None, 125, 32)      4640        average_pooling1d_25[0][0]       \n",
            "__________________________________________________________________________________________________\n",
            "conv2d_38 (Conv2D)              (None, 125, 2, 64)   18496       max_pooling2d_25[0][0]           \n",
            "__________________________________________________________________________________________________\n",
            "global_average_pooling1d_23 (Gl (None, 32)           0           conv1d_38[0][0]                  \n",
            "__________________________________________________________________________________________________\n",
            "global_average_pooling2d_14 (Gl (None, 64)           0           conv2d_38[0][0]                  \n",
            "__________________________________________________________________________________________________\n",
            "input_39 (InputLayer)           [(None, None, 1024)] 0                                            \n",
            "__________________________________________________________________________________________________\n",
            "tf.expand_dims_46 (TFOpLambda)  (None, 32, 1)        0           global_average_pooling1d_23[0][0]\n",
            "__________________________________________________________________________________________________\n",
            "tf.expand_dims_48 (TFOpLambda)  (None, 64, 1)        0           global_average_pooling2d_14[0][0]\n",
            "__________________________________________________________________________________________________\n",
            "global_average_pooling1d_22 (Gl (None, 1024)         0           input_39[0][0]                   \n",
            "__________________________________________________________________________________________________\n",
            "batch_normalization_26 (BatchNo (None, 32, 1)        4           tf.expand_dims_46[0][0]          \n",
            "__________________________________________________________________________________________________\n",
            "batch_normalization_27 (BatchNo (None, 64, 1)        4           tf.expand_dims_48[0][0]          \n",
            "__________________________________________________________________________________________________\n",
            "tf.expand_dims_45 (TFOpLambda)  (None, 1024, 1)      0           global_average_pooling1d_22[0][0]\n",
            "__________________________________________________________________________________________________\n",
            "concatenate_12 (Concatenate)    (None, 1120, 1)      0           tf.expand_dims_45[0][0]          \n",
            "                                                                 batch_normalization_26[0][0]     \n",
            "                                                                 batch_normalization_27[0][0]     \n",
            "__________________________________________________________________________________________________\n",
            "flatten_36 (Flatten)            (None, 1120)         0           concatenate_12[0][0]             \n",
            "__________________________________________________________________________________________________\n",
            "flatten_34 (Flatten)            (None, 32)           0           batch_normalization_26[0][0]     \n",
            "__________________________________________________________________________________________________\n",
            "flatten_35 (Flatten)            (None, 64)           0           batch_normalization_27[0][0]     \n",
            "__________________________________________________________________________________________________\n",
            "dense_1 (Dense)                 (None, 100)          112100      flatten_36[0][0]                 \n",
            "__________________________________________________________________________________________________\n",
            "out_rms (Dense)                 (None, 50)           1650        flatten_34[0][0]                 \n",
            "__________________________________________________________________________________________________\n",
            "out_cont (Dense)                (None, 50)           3250        flatten_35[0][0]                 \n",
            "__________________________________________________________________________________________________\n",
            "out_total (Dense)               (None, 50)           5050        dense_1[0][0]                    \n",
            "==================================================================================================\n",
            "Total params: 151,242\n",
            "Trainable params: 151,238\n",
            "Non-trainable params: 4\n",
            "__________________________________________________________________________________________________\n"
          ],
          "name": "stdout"
        }
      ]
    },
    {
      "cell_type": "markdown",
      "metadata": {
        "id": "8KfvmEIgfu8P"
      },
      "source": [
        "training\n"
      ]
    },
    {
      "cell_type": "code",
      "metadata": {
        "id": "28ixaDjtfv2f",
        "colab": {
          "base_uri": "https://localhost:8080/"
        },
        "outputId": "8e4aa455-cc44-469e-fe53-6656137e7f28"
      },
      "source": [
        "SOURCE = path_batch\n",
        "\n",
        "batch_size = 100\n",
        "epochs = 100\n",
        "\n",
        "fold = 2\n",
        "# feat_names  = os.listdir(path_drive)\n",
        "feat_names  = os.listdir(SOURCE)\n",
        "ic(len(feat_names))\n",
        "\n",
        "# not using augmentated samples here\n",
        "val_names = [x for x in feat_names if x[0]==str(fold) and x.endswith('0.npy')]\n",
        "train_names = [x for x in feat_names if x[0]!=str(fold) and (x.endswith('0.npy') or x.endswith('1.npy'))]\n",
        "\n",
        "# val_names = [x for x in feat_names if x[0]==str(fold) and x.endswith('0.npy')]\n",
        "# train_names = [x for x in feat_names if x[0]!=str(fold)]\n",
        "ic(len(train_names))\n",
        "\n",
        "train_dataloader = FeatureSequence(train_names, SOURCE, batch_size, crop=None, with_mixup=False)\n",
        "val_dataloader = FeatureSequence(val_names, SOURCE, batch_size, crop=None)\n",
        "# feature_sequence = FeatureSequence(this_fold_names, path_batch, batch_size, with_mixup=True)\n",
        "\n",
        "ic(len(train_dataloader))\n",
        "ic(len(val_dataloader))\n",
        "\n",
        "# TODO need to fine tune this\n",
        "reduce_lr = tf.keras.callbacks.ReduceLROnPlateau(monitor='val_loss', factor=0.2,\n",
        "                              patience=3, min_lr=0.0001)"
      ],
      "execution_count": 125,
      "outputs": [
        {
          "output_type": "stream",
          "text": [
            "ic| len(feat_names): 2000\n",
            "ic| len(train_names): 1600\n",
            "ic| len(train_dataloader): 16\n",
            "ic| len(val_dataloader): 4\n"
          ],
          "name": "stderr"
        }
      ]
    },
    {
      "cell_type": "code",
      "metadata": {
        "colab": {
          "base_uri": "https://localhost:8080/",
          "height": 867
        },
        "id": "HQA2Qt1e1pbZ",
        "outputId": "ccea3a8f-7eda-42c6-d284-75f91210b8aa"
      },
      "source": [
        "# ic(train_dataloader[0][0].shape)\n",
        "# ic(val_dataloader[0][0].shape)\n",
        "b = train_dataloader[1]\n",
        "ic(len(b))\n",
        "ic(len(b[0]))\n",
        "ic(np.shape(b[0][0]))\n",
        "ic(np.shape(b[0][1]))\n",
        "ic(np.shape(b[0][2]))\n",
        "\n",
        "plt.figure()\n",
        "plt.plot(b[0][1][0])\n",
        "plt.figure()\n",
        "plt.imshow(b[0][2][0], interpolation='nearest', aspect='auto')\n",
        "plt.colorbar()\n",
        "\n",
        "plt.figure()\n",
        "plt.imshow(b[0][0][0], interpolation='nearest', aspect='auto')\n",
        "plt.colorbar()"
      ],
      "execution_count": 116,
      "outputs": [
        {
          "output_type": "stream",
          "text": [
            "ic| len(b): 2\n",
            "ic| len(b[0]): 3\n",
            "ic| np.shape(b[0][0]): (100, 10, 1024)\n",
            "ic| np.shape(b[0][1]): (100, 502, 1)\n",
            "ic| np.shape(b[0][2]): (100, 502, 9)\n"
          ],
          "name": "stderr"
        },
        {
          "output_type": "execute_result",
          "data": {
            "text/plain": [
              "<matplotlib.colorbar.Colorbar at 0x7f13b1c30890>"
            ]
          },
          "metadata": {
            "tags": []
          },
          "execution_count": 116
        },
        {
          "output_type": "display_data",
          "data": {
            "image/png": "[encoded data removed]",
            "text/plain": [
              "<Figure size 432x288 with 1 Axes>"
            ]
          },
          "metadata": {
            "tags": [],
            "needs_background": "light"
          }
        },
        {
          "output_type": "display_data",
          "data": {
            "image/png": "[encoded data removed]",
            "text/plain": [
              "<Figure size 432x288 with 2 Axes>"
            ]
          },
          "metadata": {
            "tags": [],
            "needs_background": "light"
          }
        },
        {
          "output_type": "display_data",
          "data": {
            "image/png": "[encoded data removed]",
            "text/plain": [
              "<Figure size 432x288 with 2 Axes>"
            ]
          },
          "metadata": {
            "tags": [],
            "needs_background": "light"
          }
        }
      ]
    },
    {
      "cell_type": "code",
      "metadata": {
        "colab": {
          "base_uri": "https://localhost:8080/",
          "height": 1000
        },
        "id": "DwnOq8BsyklY",
        "outputId": "24940883-c186-40c2-e7b0-36cfe262b960"
      },
      "source": [
        "mixed_net = make_MixedNet()\n",
        "#fit the model\n",
        "history = mixed_net.fit(train_dataloader, \n",
        "                    epochs=epochs,\n",
        "                    callbacks=[PlotLossesKeras(), \n",
        "                               reduce_lr],\n",
        "                    validation_data = val_dataloader,\n",
        "                    verbose=1)"
      ],
      "execution_count": null,
      "outputs": [
        {
          "output_type": "display_data",
          "data": {
            "image/png": "[encoded data removed]",
            "text/plain": [
              "<Figure size 864x1440 with 8 Axes>"
            ]
          },
          "metadata": {
            "tags": [],
            "needs_background": "light"
          }
        },
        {
          "output_type": "stream",
          "text": [
            "Loss\n",
            "\ttraining         \t (min:    5.904, max:   11.542, cur:    5.904)\n",
            "\tvalidation       \t (min:      nan, max:      nan, cur:      nan)\n",
            "out_cont_accuracy\n",
            "\ttraining         \t (min:    0.020, max:    0.359, cur:    0.355)\n",
            "\tvalidation       \t (min:    0.032, max:    0.285, cur:    0.285)\n",
            "out_cont_loss\n",
            "\ttraining         \t (min:    2.392, max:    4.018, cur:    2.392)\n",
            "\tvalidation       \t (min:      nan, max:      nan, cur:      nan)\n",
            "out_rms_accuracy\n",
            "\ttraining         \t (min:    0.022, max:    0.150, cur:    0.150)\n",
            "\tvalidation       \t (min:    0.032, max:    0.117, cur:    0.112)\n",
            "out_rms_loss\n",
            "\ttraining         \t (min:    3.212, max:    3.962, cur:    3.212)\n",
            "\tvalidation       \t (min:    3.370, max:    3.910, cur:    3.370)\n",
            "out_total_accuracy\n",
            "\ttraining         \t (min:    0.221, max:    0.950, cur:    0.950)\n",
            "\tvalidation       \t (min:    0.460, max:    0.845, cur:    0.837)\n",
            "out_total_loss\n",
            "\ttraining         \t (min:    0.300, max:    3.562, cur:    0.300)\n",
            "\tvalidation       \t (min:      nan, max:      nan, cur:      nan)\n",
            "Epoch 63/100\n",
            " 8/16 [==============>...............] - ETA: 3s - loss: 5.8548 - out_rms_loss: 3.1926 - out_cont_loss: 2.3773 - out_total_loss: 0.2849 - out_rms_accuracy: 0.1550 - out_cont_accuracy: 0.3713 - out_total_accuracy: 0.9600"
          ],
          "name": "stdout"
        }
      ]
    },
    {
      "cell_type": "code",
      "metadata": {
        "id": "j_VvGNYYkLzB"
      },
      "source": [
        "#get results\n",
        "acc = history.history['accuracy']\n",
        "val_acc = history.history['val_accuracy']\n",
        "loss = history.history['loss']\n",
        "val_loss = history.history['val_loss']\n",
        "\n",
        "#plot results\n",
        "#accuracy\n",
        "plt.figure(figsize=(8, 8))\n",
        "plt.rcParams['figure.figsize'] = [16, 9]\n",
        "plt.rcParams['font.size'] = 14\n",
        "plt.rcParams['axes.grid'] = True\n",
        "plt.rcParams['figure.facecolor'] = 'white'\n",
        "plt.subplot(2, 1, 1)\n",
        "plt.plot(acc, label='Training Accuracy')\n",
        "plt.plot(val_acc, label='Validation Accuracy')\n",
        "plt.legend(loc='lower right')\n",
        "plt.ylabel('Accuracy')\n",
        "plt.title(f'MobileNetV2 \\nTraining and Validation Accuracy. \\nTrain Accuracy: {str(round(acc[-1],3))}\\nValidation Accuracy: {str(round(val_acc[-1],3))}')\n",
        "\n",
        "#loss\n",
        "plt.subplot(2, 1, 2)\n",
        "plt.plot(loss, label='Training Loss')\n",
        "plt.plot(val_loss, label='Validation Loss')\n",
        "plt.legend(loc='upper right')\n",
        "plt.ylabel('Cross Entropy')\n",
        "plt.title(f'Training and Validation Loss. \\nTrain Loss: {str(round(loss[-1],3))}\\nValidation Loss: {str(round(val_loss[-1],3))}')\n",
        "plt.xlabel('epoch')\n",
        "plt.tight_layout(pad=3.0)\n",
        "plt.show()"
      ],
      "execution_count": null,
      "outputs": []
    },
    {
      "cell_type": "markdown",
      "metadata": {
        "id": "SH_VOqwhzCHx"
      },
      "source": [
        ""
      ]
    },
    {
      "cell_type": "markdown",
      "metadata": {
        "id": "0Xu8nTu2SgeZ"
      },
      "source": [
        "# Trying YAMNet"
      ]
    },
    {
      "cell_type": "code",
      "metadata": {
        "id": "kMOcOEZRSjaj"
      },
      "source": [
        "# donwsampling to 16k for YAMNet\n",
        "class AudioLoader():\n",
        "    def __init__(self, df, root, format1=True, downsample=True):\n",
        "        self.df = df\n",
        "        self.root = root\n",
        "        self.format1 = format1\n",
        "        self.downsample = downsample\n",
        "\n",
        "    def __len__(self):\n",
        "        return len(self.df)\n",
        "\n",
        "    def __getitem__(self, idx):\n",
        "        _, this_audio = wavfile.read(os.path.join(self.root, self.df['filename'][idx]))\n",
        "        if self.downsample:\n",
        "            this_audio = samplerate.resample(this_audio, 16000/44100, converter_type='sinc_fastest')\n",
        "        if self.format1:\n",
        "            this_audio = this_audio / 32768\n",
        "        return this_audio\n",
        "\n",
        "    def get_info(self, idx, list=False):\n",
        "        if list:\n",
        "            out = self.df.iloc[idx].to_list()\n",
        "        else:\n",
        "            out = self.df.iloc[idx]\n",
        "        return out"
      ],
      "execution_count": 44,
      "outputs": []
    },
    {
      "cell_type": "code",
      "metadata": {
        "id": "UNuqxR-dThxK"
      },
      "source": [
        "yamnet_model_handle = 'https://tfhub.dev/google/yamnet/1'\n",
        "yamnet_model = hub.load(yamnet_model_handle)"
      ],
      "execution_count": 14,
      "outputs": []
    },
    {
      "cell_type": "code",
      "metadata": {
        "colab": {
          "base_uri": "https://localhost:8080/",
          "height": 282
        },
        "id": "CCszLmAamioz",
        "outputId": "b778b78b-2f32-4c55-fff0-15030203538d"
      },
      "source": [
        "plt.figure()\n",
        "plt.plot(audio_loader[888])"
      ],
      "execution_count": 89,
      "outputs": [
        {
          "output_type": "execute_result",
          "data": {
            "text/plain": [
              "[<matplotlib.lines.Line2D at 0x7f13b4a4f150>]"
            ]
          },
          "metadata": {
            "tags": []
          },
          "execution_count": 89
        },
        {
          "output_type": "display_data",
          "data": {
            "image/png": "[encoded data removed]",
            "text/plain": [
              "<Figure size 432x288 with 1 Axes>"
            ]
          },
          "metadata": {
            "tags": [],
            "needs_background": "light"
          }
        }
      ]
    },
    {
      "cell_type": "code",
      "metadata": {
        "colab": {
          "base_uri": "https://localhost:8080/",
          "height": 354
        },
        "id": "OuVpQVLuTo5k",
        "outputId": "834bffa2-b086-4eb8-db43-71f76d38db1b"
      },
      "source": [
        "score, emb, spect = yamnet_model(audio_loader[20])\n",
        "ic(np.argmax(score))\n",
        "ic(score.shape)\n",
        "ic(emb.shape)\n",
        "ic(spect.shape)\n",
        "plt.figure()\n",
        "plt.imshow(spect, interpolation='nearest', aspect='auto')"
      ],
      "execution_count": 19,
      "outputs": [
        {
          "output_type": "stream",
          "text": [
            "ic| np.argmax(score): 947\n",
            "ic| score.shape: TensorShape([14, 521])\n",
            "ic| emb.shape: TensorShape([14, 1024])\n",
            "ic| spect.shape: TensorShape([720, 64])\n"
          ],
          "name": "stderr"
        },
        {
          "output_type": "execute_result",
          "data": {
            "text/plain": [
              "<matplotlib.image.AxesImage at 0x7f15d2d54c50>"
            ]
          },
          "metadata": {
            "tags": []
          },
          "execution_count": 19
        },
        {
          "output_type": "display_data",
          "data": {
            "image/png": "[encoded data removed]",
            "text/plain": [
              "<Figure size 432x288 with 1 Axes>"
            ]
          },
          "metadata": {
            "tags": [],
            "needs_background": "light"
          }
        }
      ]
    },
    {
      "cell_type": "code",
      "metadata": {
        "id": "6btdjR0FUea8"
      },
      "source": [
        "SOURCE = path_batch\n",
        "\n",
        "batch_size = 100\n",
        "epochs = 100\n",
        "\n",
        "fold = 2\n",
        "# feat_names  = os.listdir(path_drive)\n",
        "feat_names  = os.listdir(SOURCE)\n",
        "ic(len(feat_names))\n",
        "\n",
        "# not using augmentated samples here\n",
        "val_names = [x for x in feat_names if x[0]==str(fold) and x.endswith('0.npy')]\n",
        "train_names = [x for x in feat_names if x[0]!=str(fold) and (x.endswith('0.npy') or x.endswith('1.npy'))]\n",
        "\n",
        "# val_names = [x for x in feat_names if x[0]==str(fold) and x.endswith('0.npy')]\n",
        "# train_names = [x for x in feat_names if x[0]!=str(fold)]\n",
        "ic(len(train_names))\n",
        "\n",
        "train_dataloader = FeatureSequence(train_names, SOURCE, batch_size, crop=None, with_mixup=False)\n",
        "val_dataloader = FeatureSequence(val_names, SOURCE, batch_size, crop=None)\n",
        "# feature_sequence = FeatureSequence(this_fold_names, path_batch, batch_size, with_mixup=True)\n",
        "\n",
        "ic(len(train_dataloader))\n",
        "ic(len(val_dataloader))\n",
        "\n",
        "# TODO need to fine tune this\n",
        "reduce_lr = tf.keras.callbacks.ReduceLROnPlateau(monitor='val_loss', factor=0.2,\n",
        "                              patience=3, min_lr=0.0001)"
      ],
      "execution_count": null,
      "outputs": []
    },
    {
      "cell_type": "code",
      "metadata": {
        "id": "v_5f0d6tmywW"
      },
      "source": [
        ""
      ],
      "execution_count": null,
      "outputs": []
    }
  ]
}