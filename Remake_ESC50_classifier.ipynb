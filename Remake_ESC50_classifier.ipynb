{
  "nbformat": 4,
  "nbformat_minor": 0,
  "metadata": {
    "colab": {
      "name": "Remake ESC50 classifier.ipynb",
      "provenance": [],
      "toc_visible": true,
      "mount_file_id": "https://github.com/DanieleFoscarin/HDA2021/blob/yamnet/Remake_ESC50_classifier.ipynb",
      "authorship_tag": "ABX9TyOG53Xl4ylLfMP+a62++g1D",
      "include_colab_link": true
    },
    "kernelspec": {
      "name": "python3",
      "display_name": "Python 3"
    },
    "accelerator": "GPU",
    "widgets": {
      "application/vnd.jupyter.widget-state+json": {
        "ffed7c5db097454b93194840f2ebbc73": {
          "model_module": "@jupyter-widgets/controls",
          "model_name": "HBoxModel",
          "state": {
            "_view_name": "HBoxView",
            "_dom_classes": [],
            "_model_name": "HBoxModel",
            "_view_module": "@jupyter-widgets/controls",
            "_model_module_version": "1.5.0",
            "_view_count": null,
            "_view_module_version": "1.5.0",
            "box_style": "",
            "layout": "IPY_MODEL_c9c4dda95f15413f8d8ac42d3ab0091f",
            "_model_module": "@jupyter-widgets/controls",
            "children": [
              "IPY_MODEL_0a875841c2b14cfa9705cb8f15ad3748",
              "IPY_MODEL_f0e16df082a04e508cf93322d37abb5f"
            ]
          }
        },
        "c9c4dda95f15413f8d8ac42d3ab0091f": {
          "model_module": "@jupyter-widgets/base",
          "model_name": "LayoutModel",
          "state": {
            "_view_name": "LayoutView",
            "grid_template_rows": null,
            "right": null,
            "justify_content": null,
            "_view_module": "@jupyter-widgets/base",
            "overflow": null,
            "_model_module_version": "1.2.0",
            "_view_count": null,
            "flex_flow": null,
            "width": null,
            "min_width": null,
            "border": null,
            "align_items": null,
            "bottom": null,
            "_model_module": "@jupyter-widgets/base",
            "top": null,
            "grid_column": null,
            "overflow_y": null,
            "overflow_x": null,
            "grid_auto_flow": null,
            "grid_area": null,
            "grid_template_columns": null,
            "flex": null,
            "_model_name": "LayoutModel",
            "justify_items": null,
            "grid_row": null,
            "max_height": null,
            "align_content": null,
            "visibility": null,
            "align_self": null,
            "height": null,
            "min_height": null,
            "padding": null,
            "grid_auto_rows": null,
            "grid_gap": null,
            "max_width": null,
            "order": null,
            "_view_module_version": "1.2.0",
            "grid_template_areas": null,
            "object_position": null,
            "object_fit": null,
            "grid_auto_columns": null,
            "margin": null,
            "display": null,
            "left": null
          }
        },
        "0a875841c2b14cfa9705cb8f15ad3748": {
          "model_module": "@jupyter-widgets/controls",
          "model_name": "FloatProgressModel",
          "state": {
            "_view_name": "ProgressView",
            "style": "IPY_MODEL_94b1582ba8b14299be20c8be47ca38a2",
            "_dom_classes": [],
            "description": "100%",
            "_model_name": "FloatProgressModel",
            "bar_style": "success",
            "max": 2000,
            "_view_module": "@jupyter-widgets/controls",
            "_model_module_version": "1.5.0",
            "value": 2000,
            "_view_count": null,
            "_view_module_version": "1.5.0",
            "orientation": "horizontal",
            "min": 0,
            "description_tooltip": null,
            "_model_module": "@jupyter-widgets/controls",
            "layout": "IPY_MODEL_2714898629e54dafa6ecbcc87fc7b161"
          }
        },
        "f0e16df082a04e508cf93322d37abb5f": {
          "model_module": "@jupyter-widgets/controls",
          "model_name": "HTMLModel",
          "state": {
            "_view_name": "HTMLView",
            "style": "IPY_MODEL_bed4ba56f82742c78f5b029df84794b2",
            "_dom_classes": [],
            "description": "",
            "_model_name": "HTMLModel",
            "placeholder": "​",
            "_view_module": "@jupyter-widgets/controls",
            "_model_module_version": "1.5.0",
            "value": " 2000/2000 [04:46&lt;00:00,  6.97it/s]",
            "_view_count": null,
            "_view_module_version": "1.5.0",
            "description_tooltip": null,
            "_model_module": "@jupyter-widgets/controls",
            "layout": "IPY_MODEL_b1dff9ba701149b09b2246ec1c08e0b9"
          }
        },
        "94b1582ba8b14299be20c8be47ca38a2": {
          "model_module": "@jupyter-widgets/controls",
          "model_name": "ProgressStyleModel",
          "state": {
            "_view_name": "StyleView",
            "_model_name": "ProgressStyleModel",
            "description_width": "initial",
            "_view_module": "@jupyter-widgets/base",
            "_model_module_version": "1.5.0",
            "_view_count": null,
            "_view_module_version": "1.2.0",
            "bar_color": null,
            "_model_module": "@jupyter-widgets/controls"
          }
        },
        "2714898629e54dafa6ecbcc87fc7b161": {
          "model_module": "@jupyter-widgets/base",
          "model_name": "LayoutModel",
          "state": {
            "_view_name": "LayoutView",
            "grid_template_rows": null,
            "right": null,
            "justify_content": null,
            "_view_module": "@jupyter-widgets/base",
            "overflow": null,
            "_model_module_version": "1.2.0",
            "_view_count": null,
            "flex_flow": null,
            "width": null,
            "min_width": null,
            "border": null,
            "align_items": null,
            "bottom": null,
            "_model_module": "@jupyter-widgets/base",
            "top": null,
            "grid_column": null,
            "overflow_y": null,
            "overflow_x": null,
            "grid_auto_flow": null,
            "grid_area": null,
            "grid_template_columns": null,
            "flex": null,
            "_model_name": "LayoutModel",
            "justify_items": null,
            "grid_row": null,
            "max_height": null,
            "align_content": null,
            "visibility": null,
            "align_self": null,
            "height": null,
            "min_height": null,
            "padding": null,
            "grid_auto_rows": null,
            "grid_gap": null,
            "max_width": null,
            "order": null,
            "_view_module_version": "1.2.0",
            "grid_template_areas": null,
            "object_position": null,
            "object_fit": null,
            "grid_auto_columns": null,
            "margin": null,
            "display": null,
            "left": null
          }
        },
        "bed4ba56f82742c78f5b029df84794b2": {
          "model_module": "@jupyter-widgets/controls",
          "model_name": "DescriptionStyleModel",
          "state": {
            "_view_name": "StyleView",
            "_model_name": "DescriptionStyleModel",
            "description_width": "",
            "_view_module": "@jupyter-widgets/base",
            "_model_module_version": "1.5.0",
            "_view_count": null,
            "_view_module_version": "1.2.0",
            "_model_module": "@jupyter-widgets/controls"
          }
        },
        "b1dff9ba701149b09b2246ec1c08e0b9": {
          "model_module": "@jupyter-widgets/base",
          "model_name": "LayoutModel",
          "state": {
            "_view_name": "LayoutView",
            "grid_template_rows": null,
            "right": null,
            "justify_content": null,
            "_view_module": "@jupyter-widgets/base",
            "overflow": null,
            "_model_module_version": "1.2.0",
            "_view_count": null,
            "flex_flow": null,
            "width": null,
            "min_width": null,
            "border": null,
            "align_items": null,
            "bottom": null,
            "_model_module": "@jupyter-widgets/base",
            "top": null,
            "grid_column": null,
            "overflow_y": null,
            "overflow_x": null,
            "grid_auto_flow": null,
            "grid_area": null,
            "grid_template_columns": null,
            "flex": null,
            "_model_name": "LayoutModel",
            "justify_items": null,
            "grid_row": null,
            "max_height": null,
            "align_content": null,
            "visibility": null,
            "align_self": null,
            "height": null,
            "min_height": null,
            "padding": null,
            "grid_auto_rows": null,
            "grid_gap": null,
            "max_width": null,
            "order": null,
            "_view_module_version": "1.2.0",
            "grid_template_areas": null,
            "object_position": null,
            "object_fit": null,
            "grid_auto_columns": null,
            "margin": null,
            "display": null,
            "left": null
          }
        }
      }
    }
  },
  "cells": [
    {
      "cell_type": "markdown",
      "metadata": {
        "id": "view-in-github",
        "colab_type": "text"
      },
      "source": [
        "<a href=\"https://colab.research.google.com/github/DanieleFoscarin/HDA2021/blob/yamnet/Remake_ESC50_classifier.ipynb\" target=\"_parent\"><img src=\"https://colab.research.google.com/assets/colab-badge.svg\" alt=\"Open In Colab\"/></a>"
      ]
    },
    {
      "cell_type": "markdown",
      "metadata": {
        "id": "4fzgZN3bTZ_f"
      },
      "source": [
        "reference YAMNet https://colab.research.google.com/github/tensorflow/docs/blob/master/site/en/tutorials/audio/transfer_learning_audio.ipynb#scrollTo=k2yleeev645r"
      ]
    },
    {
      "cell_type": "markdown",
      "metadata": {
        "id": "apu1SGGIJ9KO"
      },
      "source": [
        "TODO reinsert spectral contrast, give up on augmentation"
      ]
    },
    {
      "cell_type": "code",
      "metadata": {
        "id": "bSlqIuq9J8ff"
      },
      "source": [
        ""
      ],
      "execution_count": null,
      "outputs": []
    },
    {
      "cell_type": "code",
      "metadata": {
        "id": "owTStArCqOyF"
      },
      "source": [
        "from pathlib import Path\n",
        "from scipy.io import wavfile\n",
        "from IPython.display import Audio\n",
        "import pandas as pd\n",
        "import numpy as np\n",
        "from matplotlib import pyplot as plt \n",
        "import librosa\n",
        "from tqdm import tqdm, tqdm_notebook, notebook\n",
        "import gc\n",
        "import time \n",
        "# import numba\n",
        "import os\n",
        "import scipy.fftpack\n",
        "import cv2\n",
        "import random\n",
        "\n",
        "\n",
        "import tensorflow as tf\n",
        "from tensorflow.keras import layers\n",
        "from tensorflow.keras.utils import Sequence, SequenceEnqueuer   # try enquerer that uses parallelism\n",
        "from tensorflow import keras\n",
        "\n",
        "import tensorflow_hub as hub\n",
        "\n",
        "#import model \n",
        "from tensorflow.keras.applications.mobilenet_v2 import MobileNetV2\n",
        "\n",
        "sr = 44100\n",
        "sr = 16000\n",
        "sr = 22050"
      ],
      "execution_count": 2,
      "outputs": []
    },
    {
      "cell_type": "code",
      "metadata": {
        "id": "os9gS_6l0dKn"
      },
      "source": [
        "! pip install icecream --quiet\n",
        "from icecream import ic"
      ],
      "execution_count": 3,
      "outputs": []
    },
    {
      "cell_type": "code",
      "metadata": {
        "id": "kNSUFeWy_KwY"
      },
      "source": [
        "! pip install samplerate --quiet\n",
        "import samplerate"
      ],
      "execution_count": 4,
      "outputs": []
    },
    {
      "cell_type": "code",
      "metadata": {
        "id": "QhlvC6fouj5l"
      },
      "source": [
        "# ! pip install optuna --quiet\n",
        "# import optuna"
      ],
      "execution_count": 5,
      "outputs": []
    },
    {
      "cell_type": "code",
      "metadata": {
        "id": "1JlJ6V7C3PXj"
      },
      "source": [
        "!pip install livelossplot --quiet\n",
        "from livelossplot import PlotLossesKeras"
      ],
      "execution_count": 6,
      "outputs": []
    },
    {
      "cell_type": "code",
      "metadata": {
        "id": "L3Wly4mBeKZG"
      },
      "source": [
        "! pip install audiomentations --quiet\n",
        "import audiomentations as am"
      ],
      "execution_count": 7,
      "outputs": []
    },
    {
      "cell_type": "markdown",
      "metadata": {
        "id": "ej2eN-L_p4Nt"
      },
      "source": [
        "# Get Dataset"
      ]
    },
    {
      "cell_type": "code",
      "metadata": {
        "colab": {
          "base_uri": "https://localhost:8080/"
        },
        "id": "2sYgxpk9k3J-",
        "outputId": "53c1e3f4-b2fb-403f-aed3-0efa360181a9"
      },
      "source": [
        "# Clone the entire repo.\n",
        "!git clone https://github.com/karolpiczak/ESC-50.git\n"
      ],
      "execution_count": 129,
      "outputs": [
        {
          "output_type": "stream",
          "text": [
            "fatal: destination path 'ESC-50' already exists and is not an empty directory.\n"
          ],
          "name": "stdout"
        }
      ]
    },
    {
      "cell_type": "code",
      "metadata": {
        "colab": {
          "base_uri": "https://localhost:8080/",
          "height": 419
        },
        "id": "TKGGth680BLt",
        "outputId": "f99c266e-6c7f-40cc-ff61-6a85370ae482"
      },
      "source": [
        "ROOT = '/content/ESC-50/audio/'\n",
        "\n",
        "data_info = pd.read_csv(ROOT+\"../meta/esc50.csv\")\n",
        "\n",
        "#make a category dictionary\n",
        "category_dict = dict(zip(data_info['target'], data_info['category']))\n",
        "# to_onehot_dict = dict(zip(range(0,50), np.))\n",
        "\n",
        "#remove unused coumn and add other\n",
        "# aug_col = np.zeros((len(data_info),1))\n",
        "# mixup_col = -1 * np.ones((len(data_info),1))\n",
        "# data_info.drop('esc10', axis=1, inplace=True)\n",
        "# data_info.drop('src_file', axis=1, inplace=True)\n",
        "# data_info.drop('take', axis=1, inplace=True)\n",
        "\n",
        "# data_info['augmentation'] = aug_col\n",
        "# data_info['mixup'] = mixup_col\n",
        "\n",
        "# # one hot encoding from category\n",
        "# data_info = pd.get_dummies(data_info, columns=[\"category\"], prefix='', prefix_sep='') \n",
        "\n",
        "\n",
        "data_info"
      ],
      "execution_count": 130,
      "outputs": [
        {
          "output_type": "execute_result",
          "data": {
            "text/html": [
              "<div>\n",
              "<style scoped>\n",
              "    .dataframe tbody tr th:only-of-type {\n",
              "        vertical-align: middle;\n",
              "    }\n",
              "\n",
              "    .dataframe tbody tr th {\n",
              "        vertical-align: top;\n",
              "    }\n",
              "\n",
              "    .dataframe thead th {\n",
              "        text-align: right;\n",
              "    }\n",
              "</style>\n",
              "<table border=\"1\" class=\"dataframe\">\n",
              "  <thead>\n",
              "    <tr style=\"text-align: right;\">\n",
              "      <th></th>\n",
              "      <th>filename</th>\n",
              "      <th>fold</th>\n",
              "      <th>target</th>\n",
              "      <th>category</th>\n",
              "      <th>esc10</th>\n",
              "      <th>src_file</th>\n",
              "      <th>take</th>\n",
              "    </tr>\n",
              "  </thead>\n",
              "  <tbody>\n",
              "    <tr>\n",
              "      <th>0</th>\n",
              "      <td>1-100032-A-0.wav</td>\n",
              "      <td>1</td>\n",
              "      <td>0</td>\n",
              "      <td>dog</td>\n",
              "      <td>True</td>\n",
              "      <td>100032</td>\n",
              "      <td>A</td>\n",
              "    </tr>\n",
              "    <tr>\n",
              "      <th>1</th>\n",
              "      <td>1-100038-A-14.wav</td>\n",
              "      <td>1</td>\n",
              "      <td>14</td>\n",
              "      <td>chirping_birds</td>\n",
              "      <td>False</td>\n",
              "      <td>100038</td>\n",
              "      <td>A</td>\n",
              "    </tr>\n",
              "    <tr>\n",
              "      <th>2</th>\n",
              "      <td>1-100210-A-36.wav</td>\n",
              "      <td>1</td>\n",
              "      <td>36</td>\n",
              "      <td>vacuum_cleaner</td>\n",
              "      <td>False</td>\n",
              "      <td>100210</td>\n",
              "      <td>A</td>\n",
              "    </tr>\n",
              "    <tr>\n",
              "      <th>3</th>\n",
              "      <td>1-100210-B-36.wav</td>\n",
              "      <td>1</td>\n",
              "      <td>36</td>\n",
              "      <td>vacuum_cleaner</td>\n",
              "      <td>False</td>\n",
              "      <td>100210</td>\n",
              "      <td>B</td>\n",
              "    </tr>\n",
              "    <tr>\n",
              "      <th>4</th>\n",
              "      <td>1-101296-A-19.wav</td>\n",
              "      <td>1</td>\n",
              "      <td>19</td>\n",
              "      <td>thunderstorm</td>\n",
              "      <td>False</td>\n",
              "      <td>101296</td>\n",
              "      <td>A</td>\n",
              "    </tr>\n",
              "    <tr>\n",
              "      <th>...</th>\n",
              "      <td>...</td>\n",
              "      <td>...</td>\n",
              "      <td>...</td>\n",
              "      <td>...</td>\n",
              "      <td>...</td>\n",
              "      <td>...</td>\n",
              "      <td>...</td>\n",
              "    </tr>\n",
              "    <tr>\n",
              "      <th>1995</th>\n",
              "      <td>5-263831-B-6.wav</td>\n",
              "      <td>5</td>\n",
              "      <td>6</td>\n",
              "      <td>hen</td>\n",
              "      <td>False</td>\n",
              "      <td>263831</td>\n",
              "      <td>B</td>\n",
              "    </tr>\n",
              "    <tr>\n",
              "      <th>1996</th>\n",
              "      <td>5-263902-A-36.wav</td>\n",
              "      <td>5</td>\n",
              "      <td>36</td>\n",
              "      <td>vacuum_cleaner</td>\n",
              "      <td>False</td>\n",
              "      <td>263902</td>\n",
              "      <td>A</td>\n",
              "    </tr>\n",
              "    <tr>\n",
              "      <th>1997</th>\n",
              "      <td>5-51149-A-25.wav</td>\n",
              "      <td>5</td>\n",
              "      <td>25</td>\n",
              "      <td>footsteps</td>\n",
              "      <td>False</td>\n",
              "      <td>51149</td>\n",
              "      <td>A</td>\n",
              "    </tr>\n",
              "    <tr>\n",
              "      <th>1998</th>\n",
              "      <td>5-61635-A-8.wav</td>\n",
              "      <td>5</td>\n",
              "      <td>8</td>\n",
              "      <td>sheep</td>\n",
              "      <td>False</td>\n",
              "      <td>61635</td>\n",
              "      <td>A</td>\n",
              "    </tr>\n",
              "    <tr>\n",
              "      <th>1999</th>\n",
              "      <td>5-9032-A-0.wav</td>\n",
              "      <td>5</td>\n",
              "      <td>0</td>\n",
              "      <td>dog</td>\n",
              "      <td>True</td>\n",
              "      <td>9032</td>\n",
              "      <td>A</td>\n",
              "    </tr>\n",
              "  </tbody>\n",
              "</table>\n",
              "<p>2000 rows × 7 columns</p>\n",
              "</div>"
            ],
            "text/plain": [
              "               filename  fold  target        category  esc10  src_file take\n",
              "0      1-100032-A-0.wav     1       0             dog   True    100032    A\n",
              "1     1-100038-A-14.wav     1      14  chirping_birds  False    100038    A\n",
              "2     1-100210-A-36.wav     1      36  vacuum_cleaner  False    100210    A\n",
              "3     1-100210-B-36.wav     1      36  vacuum_cleaner  False    100210    B\n",
              "4     1-101296-A-19.wav     1      19    thunderstorm  False    101296    A\n",
              "...                 ...   ...     ...             ...    ...       ...  ...\n",
              "1995   5-263831-B-6.wav     5       6             hen  False    263831    B\n",
              "1996  5-263902-A-36.wav     5      36  vacuum_cleaner  False    263902    A\n",
              "1997   5-51149-A-25.wav     5      25       footsteps  False     51149    A\n",
              "1998    5-61635-A-8.wav     5       8           sheep  False     61635    A\n",
              "1999     5-9032-A-0.wav     5       0             dog   True      9032    A\n",
              "\n",
              "[2000 rows x 7 columns]"
            ]
          },
          "metadata": {
            "tags": []
          },
          "execution_count": 130
        }
      ]
    },
    {
      "cell_type": "code",
      "metadata": {
        "colab": {
          "base_uri": "https://localhost:8080/",
          "height": 316
        },
        "id": "shU46DDMXQ6k",
        "outputId": "4af8ce55-0dce-43d6-c1d3-b66dc43fc68e"
      },
      "source": [
        "class AudioLoader():\n",
        "    def __init__(self, df, root, format1=False, downsample=True):\n",
        "        self.df = df\n",
        "        self.root = root\n",
        "        self.format1 = format1\n",
        "        self.downsample = downsample\n",
        "\n",
        "    def __len__(self):\n",
        "        return len(self.df)\n",
        "\n",
        "    def __getitem__(self, idx):\n",
        "        _, this_audio = wavfile.read(os.path.join(self.root, self.df['filename'][idx]))\n",
        "        if self.downsample:\n",
        "            this_audio = samplerate.resample(this_audio, 22050/44100, converter_type='sinc_fastest')\n",
        "        if self.format1:\n",
        "            this_audio = this_audio / 32768\n",
        "        return this_audio\n",
        "\n",
        "    def get_info(self, idx, list=False):\n",
        "        if list:\n",
        "            out = self.df.iloc[idx].to_list()\n",
        "        else:\n",
        "            out = self.df.iloc[idx]\n",
        "        return out\n",
        "\n",
        "\n",
        "audio_loader = AudioLoader(data_info, ROOT, True)\n",
        "ic(len(audio_loader))\n",
        "plt.plot(audio_loader[123])\n",
        "print(type(audio_loader.get_info(123)))\n",
        "print(audio_loader.get_info(123)['category'])"
      ],
      "execution_count": 131,
      "outputs": [
        {
          "output_type": "stream",
          "text": [
            "ic| len(audio_loader): 2000\n"
          ],
          "name": "stderr"
        },
        {
          "output_type": "stream",
          "text": [
            "<class 'pandas.core.series.Series'>\n",
            "washing_machine\n"
          ],
          "name": "stdout"
        },
        {
          "output_type": "display_data",
          "data": {
            "image/png": "[encoded data removed]",
            "text/plain": [
              "<Figure size 432x288 with 1 Axes>"
            ]
          },
          "metadata": {
            "tags": [],
            "needs_background": "light"
          }
        }
      ]
    },
    {
      "cell_type": "code",
      "metadata": {
        "id": "7s_NDQPBXmsI"
      },
      "source": [
        "# ! mkdir -p mel_storage\n",
        "# path_mel = \"/content/mel_storage/\"\n",
        "\n",
        "# ! mkdir -p mfcc_storage\n",
        "# path_mfcc = \"/content/mfcc_storage/\"\n",
        "\n",
        "# ! mkdir -p chroma_storage\n",
        "# path_chroma = \"/content/chroma_storage/\"\n",
        "\n",
        "# path_list = [path_mel, path_mfcc, path_chroma]\n",
        "\n",
        "!mkdir -p feature_storage\n",
        "path_batch = \"/content/feature_storage/\"\n",
        "\n",
        "path_drive = '/content/drive/MyDrive/UNI_ICT/HDA/data/' \n",
        "\n",
        "!mkdir -p sandbox\n",
        "path_sandbox = \"/content/sandbox/\""
      ],
      "execution_count": 132,
      "outputs": []
    },
    {
      "cell_type": "markdown",
      "metadata": {
        "id": "VDPVsPsKsdor"
      },
      "source": [
        "# Preprocessing functions"
      ]
    },
    {
      "cell_type": "markdown",
      "metadata": {
        "id": "f0GyUX7BXKA5"
      },
      "source": [
        "## Removing silence"
      ]
    },
    {
      "cell_type": "markdown",
      "metadata": {
        "id": "4RFf0vvi9Jgq"
      },
      "source": [
        "removing silence at the beginning or at the end of the audio clip"
      ]
    },
    {
      "cell_type": "code",
      "metadata": {
        "id": "Hsfe-JDj9FZb"
      },
      "source": [
        "def removeSilence(signal, fill_silence=False):\n",
        "    \"\"\"\n",
        "    Remove the leading and trailing zeros in an array,\n",
        "    Parameters:\n",
        "        signal: array,\n",
        "        fill_silence: boolean, if True it repeats the non zero part until the \n",
        "            size of the output array is the same as the input array\n",
        "    Return:\n",
        "        an array\n",
        "\n",
        "    \"\"\"\n",
        "    \n",
        "    trimmed = np.trim_zeros(signal)\n",
        "    if not fill_silence:\n",
        "        return trimmed\n",
        "    if fill_silence:\n",
        "        lt = len(trimmed)\n",
        "        ls = len(signal)\n",
        "        # ic(lt,ls)\n",
        "        if lt < ls:\n",
        "          trimmed = np.tile(trimmed, int(np.ceil(ls/lt)))\n",
        "          trimmed = trimmed[:ls]  \n",
        "        return trimmed\n",
        "\n",
        "# ic(len(audio_list[0]))\n",
        "# a = removeSilence(audio_list[0], fill_silence=True)\n",
        "# librosa.display.waveplot(a, sr=SR)\n",
        "# ic(len(audio_list[0]))\n",
        "# ic(len(a))\n",
        "# # IPython.display.Audio(a, rate=sr)"
      ],
      "execution_count": 133,
      "outputs": []
    },
    {
      "cell_type": "markdown",
      "metadata": {
        "id": "BasNEAgvXW7b"
      },
      "source": [
        "## compute spectral features"
      ]
    },
    {
      "cell_type": "code",
      "metadata": {
        "colab": {
          "base_uri": "https://localhost:8080/",
          "height": 1000
        },
        "id": "drMHKn2jKlMB",
        "outputId": "4849ca98-9bce-402e-ee96-d31e8b169ac2"
      },
      "source": [
        "def features3(audio, sr, bands=96,):\n",
        "    def normalize01(data):\n",
        "        return (data - np.min(data)) / (np.max(data) - np.min(data))\n",
        "\n",
        "    def standardize(data):\n",
        "        return (data - np.mean(data))/np.std(data)\n",
        "\n",
        "    \n",
        "\n",
        "    # this_mel = librosa.amplitude_to_db(librosa.feature.melspectrogram(audio.astype('float32'), sr=sr, hop_length=int(sr*0.01), n_mels=bands ))\n",
        "    # this_mel = standardize(this_mel)\n",
        "\n",
        "    # this_diff_mel = np.concatenate((np.diff(this_mel, n=1, axis=1), np.zeros((this_mel.shape[0],1))), axis=1)\n",
        "    # this_diff_mel = standardize(this_diff_mel)\n",
        "\n",
        "    # # this_diff_mel2 = np.concatenate((np.diff(this_mel, n=2, axis=1), np.zeros((this_mel.shape[0],2))), axis=1)\n",
        "    # # this_diff_mel2 = standardize(this_diff_mel2)\n",
        "\n",
        "    this_stft_o = librosa.amplitude_to_db(np.abs(librosa.stft(audio.astype('float32'), hop_length=int(sr*0.01))))\n",
        "    # this_stft = cv2.resize(this_stft_o, dsize=(this_mel.shape[1], bands))\n",
        "    # this_stft = standardize(this_stft)\n",
        "    \n",
        "    n_bands = 8\n",
        "    fmin = np.floor(sr/(2**n_bands))\n",
        "    this_cont = librosa.feature.spectral_contrast(S=this_stft_o, sr=sr, hop_length=int(sr*0.01), fmin=fmin, n_bands=n_bands) #fmin=150 with sr=44100\n",
        "    this_cont = standardize(this_cont)\n",
        "\n",
        "    this_rms = librosa.feature.rms(audio, hop_length=int(sr*0.01))\n",
        "    this_rms = standardize(this_rms)\n",
        "    this_rms = np.transpose(this_rms, axes=[1,0])\n",
        "\n",
        "    this_zero = librosa.feature.zero_crossing_rate(audio, hop_length=(int(sr*0.01)))\n",
        "    \n",
        "    # this_zero = np.multiply(this_rms, this_zero)\n",
        "    this_zero = np.transpose(this_zero, axes=[1,0])\n",
        "    # this_zero = this_zero * this_rms\n",
        "    this_zero = standardize(this_zero)\n",
        "\n",
        "    # features = [normalize01(this_mel), normalize01(this_diff_mel), normalize01(this_stft)]\n",
        "    # features = [this_mel, this_diff_mel, this_stft]\n",
        "    # this_rms = normalize01(this_rms)\n",
        "    # this_cont = normalize01(this_cont)\n",
        "    audio = samplerate.resample(audio, 16000/22050, converter_type='sinc_fastest')\n",
        "\n",
        "    # ic(np.shape(this_mel), np.shape(this_diff_mel), np.shape(this_stft))\n",
        "    return normalize01(audio), this_rms, this_zero, this_cont\n",
        "\n",
        "\n",
        "audio, rms, zero, cont = features3(audio_loader[200], sr)\n",
        "\n",
        "# ic(np.shape(feat))\n",
        "ic(np.shape(rms), np.shape(zero))\n",
        "FRAMES = np.shape(rms)[0]\n",
        "ic(FRAMES)\n",
        "\n",
        "plt.figure()\n",
        "plt.plot(audio)\n",
        "\n",
        "plt.figure()\n",
        "plt.plot(rms)\n",
        "\n",
        "plt.figure()\n",
        "plt.plot(zero)\n",
        "\n",
        "plt.figure()\n",
        "plt.imshow(cont,  interpolation='nearest', aspect='auto', origin='lower' )\n",
        "\n",
        "ic(np.min(cont), np.max(cont))"
      ],
      "execution_count": 136,
      "outputs": [
        {
          "output_type": "stream",
          "text": [
            "ic| np.shape(rms): (502, 1), np.shape(zero): (502, 1)\n",
            "ic| FRAMES: 502\n",
            "ic| np.min(cont): -0.6797784449787607\n",
            "    np.max(cont): 1.8266499358290074\n"
          ],
          "name": "stderr"
        },
        {
          "output_type": "execute_result",
          "data": {
            "text/plain": [
              "(-0.6797784449787607, 1.8266499358290074)"
            ]
          },
          "metadata": {
            "tags": []
          },
          "execution_count": 136
        },
        {
          "output_type": "display_data",
          "data": {
            "image/png": "[encoded data removed]",
            "text/plain": [
              "<Figure size 432x288 with 1 Axes>"
            ]
          },
          "metadata": {
            "tags": [],
            "needs_background": "light"
          }
        },
        {
          "output_type": "display_data",
          "data": {
            "image/png": "[encoded data removed]",
            "text/plain": [
              "<Figure size 432x288 with 1 Axes>"
            ]
          },
          "metadata": {
            "tags": [],
            "needs_background": "light"
          }
        },
        {
          "output_type": "display_data",
          "data": {
            "image/png": "[encoded data removed]",
            "text/plain": [
              "<Figure size 432x288 with 1 Axes>"
            ]
          },
          "metadata": {
            "tags": [],
            "needs_background": "light"
          }
        },
        {
          "output_type": "display_data",
          "data": {
            "image/png": "[encoded data removed]",
            "text/plain": [
              "<Figure size 432x288 with 1 Axes>"
            ]
          },
          "metadata": {
            "tags": [],
            "needs_background": "light"
          }
        }
      ]
    },
    {
      "cell_type": "markdown",
      "metadata": {
        "id": "6EV4rhWns9LM"
      },
      "source": [
        "Three in one feature extraction function"
      ]
    },
    {
      "cell_type": "code",
      "metadata": {
        "id": "63df07BhtCQE"
      },
      "source": [
        "def audio_aug2(y, sr=sr, low_ps=-3.5, high_ps=3.5, low_ts=0.8, high_ts=1):\n",
        "    '''It return a signal with random pitch shift ot time strecth '''\n",
        "\n",
        "    choice = int(np.random.randint(2))\n",
        "    if choice == 0:\n",
        "        step = np.random.uniform(low=low_ps, high=high_ps)\n",
        "        ya = librosa.effects.pitch_shift(y, sr=sr, n_steps=step)\n",
        "    elif choice == 1:\n",
        "        rate = np.random.uniform(low=low_ts, high=high_ts)\n",
        "        ya = librosa.effects.time_stretch(y, rate)\n",
        "\n",
        "    ya = ya[:y.shape[0]]\n",
        "    return ya\n",
        "\n",
        "def features_preprocessor(audio_loader, path, df, yamnet, augmentation=0):\n",
        "\n",
        "    augment = am.Compose([\n",
        "    am.AddGaussianNoise(min_amplitude=0.001, max_amplitude=0.015, p=0.5),\n",
        "    am.TimeStretch(min_rate=0.8, max_rate=1.2, p=0.5),\n",
        "    am.PitchShift(min_semitones=-4, max_semitones=4, p=0.5),\n",
        "    am.Shift(min_fraction=-0.5, max_fraction=0.5, p=0.5),])\n",
        "\n",
        "\n",
        "    if augmentation==0:\n",
        "        for i in notebook.tqdm(range(len(audio_loader))):\n",
        "            this_audio = audio_loader[i][:sr*5]\n",
        "            this_audio = removeSilence(this_audio, fill_silence=True)\n",
        "            yam_audio, this_rms, this_flat, this_cont = features3(this_audio, sr)\n",
        "            _, this_emb, _ = yamnet(yam_audio)\n",
        "            pack = np.array([this_emb, audio_loader.get_info(i)['fold'], audio_loader.get_info(i)['target'], this_rms, this_flat, this_cont], dtype= 'object')\n",
        "            np.save(os.path.join(path, audio_loader.get_info(i)['filename']+'_0'), pack)\n",
        "            # break\n",
        "\n",
        "    if augmentation > 0:\n",
        "        for i in notebook.tqdm(range(len(audio_loader))):\n",
        "            this_audio = audio_loader[i][:sr*5]\n",
        "            this_audio = removeSilence(this_audio, fill_silence=True)\n",
        "            for aug in range(augmentation):\n",
        "                \n",
        "                if aug == 0:\n",
        "                    # ic(aug, np.shape(this_audio))\n",
        "                    yam_audio, this_rms, this_flat, this_cont = features3(this_audio, sr)\n",
        "                    # ic(aug, np.shape(yam_audio))\n",
        "                    _, this_emb, _ = yamnet(yam_audio)\n",
        "                    pack = np.array([this_emb, audio_loader.get_info(i)['fold'], audio_loader.get_info(i)['target'], this_rms, this_flat, this_cont], dtype='object')\n",
        "                    np.save(os.path.join(path, audio_loader.get_info(i)['filename']+'_0'), pack)\n",
        "                else:\n",
        "                    # ic(aug, np.shape(this_audio))\n",
        "                    # aug_audio = audio_aug2(this_audio, sr=sr)\n",
        "                    aug_audio = augment(this_audio, sr)\n",
        "                    # ic(aug, np.shape(aug_audio))\n",
        "                    yam_audio, this_rms, this_flat, this_cont = features3(aug_audio, sr)\n",
        "                    # ic(aug, np.shape(yam_audio))\n",
        "                    # ic(this_audio.shape, this_rms.shape, this_flat.shape)\n",
        "                    _, this_emb, _ = yamnet(yam_audio)\n",
        "                    pack = np.array([this_emb, audio_loader.get_info(i)['fold'], audio_loader.get_info(i)['target'], this_rms, this_flat, this_cont], dtype='object')\n",
        "                    np.save(os.path.join(path, audio_loader.get_info(i)['filename']+'_'+str(aug)), pack)\n",
        "\n",
        "\n",
        "        "
      ],
      "execution_count": 137,
      "outputs": []
    },
    {
      "cell_type": "markdown",
      "metadata": {
        "id": "2NwMQaMTls-Y"
      },
      "source": [
        ""
      ]
    },
    {
      "cell_type": "code",
      "metadata": {
        "colab": {
          "base_uri": "https://localhost:8080/",
          "height": 117,
          "referenced_widgets": [
            "ffed7c5db097454b93194840f2ebbc73",
            "c9c4dda95f15413f8d8ac42d3ab0091f",
            "0a875841c2b14cfa9705cb8f15ad3748",
            "f0e16df082a04e508cf93322d37abb5f",
            "94b1582ba8b14299be20c8be47ca38a2",
            "2714898629e54dafa6ecbcc87fc7b161",
            "bed4ba56f82742c78f5b029df84794b2",
            "b1dff9ba701149b09b2246ec1c08e0b9"
          ]
        },
        "id": "Vs889VeYx96U",
        "outputId": "84ce9de3-476e-4b56-f244-e6a24f115610"
      },
      "source": [
        "# TODO save the numpy with 3 features together with its info\n",
        "# so you can load a file having all the info, and no mismatch errors\n",
        "# then save everything on drive and load from there\n",
        "\n",
        "# mel_names, data_info_aug = features_preprocessor(audio_list, path_list, data_info, augmentation=0)\n",
        "ic(ROOT)\n",
        "yamnet_model_handle = 'https://tfhub.dev/google/yamnet/1'\n",
        "yamnet_model = hub.load(yamnet_model_handle)\n",
        "\n",
        "audio_loader = AudioLoader(data_info, ROOT, format1=True)\n",
        "features_preprocessor(audio_loader, path_batch, data_info, yamnet_model, augmentation=0)"
      ],
      "execution_count": 140,
      "outputs": [
        {
          "output_type": "stream",
          "text": [
            "ic| ROOT: '/content/ESC-50/audio/'\n"
          ],
          "name": "stderr"
        },
        {
          "output_type": "display_data",
          "data": {
            "application/vnd.jupyter.widget-view+json": {
              "model_id": "ffed7c5db097454b93194840f2ebbc73",
              "version_minor": 0,
              "version_major": 2
            },
            "text/plain": [
              "HBox(children=(FloatProgress(value=0.0, max=2000.0), HTML(value='')))"
            ]
          },
          "metadata": {
            "tags": []
          }
        },
        {
          "output_type": "stream",
          "text": [
            "/usr/local/lib/python3.7/dist-packages/ipykernel_launcher.py:6: RuntimeWarning: invalid value encountered in true_divide\n",
            "  \n"
          ],
          "name": "stderr"
        },
        {
          "output_type": "stream",
          "text": [
            "\n"
          ],
          "name": "stdout"
        }
      ]
    },
    {
      "cell_type": "code",
      "metadata": {
        "id": "aDAEvsroZph7"
      },
      "source": [
        "# copy to drive\n",
        "# ! cp -r /content/feature_storage /content/drive/MyDrive/UNI_ICT/HDA/data"
      ],
      "execution_count": null,
      "outputs": []
    },
    {
      "cell_type": "code",
      "metadata": {
        "id": "TKO4jmsXZ_uz"
      },
      "source": [
        "# copy from drive\n",
        "# ! cp -r /content/drive/MyDrive/UNI_ICT/HDA/data /content/feature_storage"
      ],
      "execution_count": null,
      "outputs": []
    },
    {
      "cell_type": "code",
      "metadata": {
        "id": "W05v8X33K5Gp"
      },
      "source": [
        "# ! rm -r /content/feature_storage\n",
        "# !mkdir -p feature_storage"
      ],
      "execution_count": 139,
      "outputs": []
    },
    {
      "cell_type": "markdown",
      "metadata": {
        "id": "TXjXV7VhB_YD"
      },
      "source": [
        "test with reading feature packs"
      ]
    },
    {
      "cell_type": "code",
      "metadata": {
        "id": "grc9d9GDC7Eg"
      },
      "source": [
        "# this_pack = np.load(os.path.join(path_batch, this_fold_names[20]), allow_pickle=True)\n",
        "# this_feat = np.transpose(this_pack[0], [2,1,0])\n",
        "# print(category_dict[this_pack[1]])\n",
        "\n",
        "# ic(np.shape(this_feat))\n",
        "# plt.figure()\n",
        "# plt.imshow(this_feat, interpolation='nearest', aspect='auto')\n",
        "\n",
        "# plt.figure(figsize=(12,6))\n",
        "# plt.subplot(1,3,1)\n",
        "# plt.imshow(this_feat[:,:,0], interpolation='nearest', aspect='auto')\n",
        "# plt.subplot(1,3,2)\n",
        "# plt.imshow(this_feat[:,:,1], interpolation='nearest', aspect='auto')\n",
        "# plt.subplot(1,3,3)\n",
        "# plt.imshow(this_feat[:,:,2], interpolation='nearest', aspect='auto')"
      ],
      "execution_count": null,
      "outputs": []
    },
    {
      "cell_type": "markdown",
      "metadata": {
        "id": "copCbfTtOn4u"
      },
      "source": [
        "make Sequence class"
      ]
    },
    {
      "cell_type": "code",
      "metadata": {
        "id": "VgEow3SjG4Mi"
      },
      "source": [
        "def to_onehot(y, classes=50):\n",
        "    y_oh = np.zeros((classes, 1))\n",
        "    y_oh[y] = 1\n",
        "    return y_oh\n",
        "\n",
        "# def mixup(x1, x2, y1, y2, alpha):\n",
        "#     l = np.random.beta(alpha, alpha)\n",
        "#     x_mix = l*x1 + (1-l)*x2\n",
        "#     y_mix = l*y1 + (1-l)*y2\n",
        "#     return x_mix, y_mix\n",
        "\n",
        "def mix(a, b, l):\n",
        "    return l*a + (1-l)*b\n",
        "\n",
        "\n",
        "\n",
        "\n",
        "# TODO remove cropping\n",
        "class FeatureSequence(Sequence):\n",
        "    def __init__(self, names, path, batch_size, crop=None, with_mixup=False):\n",
        "        self.names = names\n",
        "        self.batch_size = batch_size\n",
        "        self.path = path\n",
        "        self.crop = crop\n",
        "        self.with_mixup = with_mixup\n",
        "        self.epoch = 0\n",
        "        self.alpha = 0.001\n",
        "        self.mix_prob = 1\n",
        "\n",
        "    def __len__(self):\n",
        "        return int(np.floor(len(self.names) / self.batch_size))\n",
        "\n",
        "    def on_epoch_end(self):\n",
        "        self.epoch += 1\n",
        "        if self.alpha < 0.2:\n",
        "            self.alpha += 0.2/20\n",
        "        if self.epoch > 30 and self.mix_prob > 0 :\n",
        "            self.mix_prob = self.mix_prob - 0.01\n",
        "        \n",
        "        random.shuffle(self.names)\n",
        "\n",
        "    def __getitem__(self, idx):\n",
        "        batch_names = self.names[idx*self.batch_size:(idx + 1)*self.batch_size]\n",
        "\n",
        "        batch_feat = []\n",
        "        # batch_infered = []\n",
        "        batch_rms = []\n",
        "        batch_flat = []\n",
        "        batch_cont = []\n",
        "        batch_target = []\n",
        "        for name in batch_names:\n",
        "            this_pack = np.load(os.path.join(self.path, name), allow_pickle=True)\n",
        "            # NB fix the axes order from the preprocessor\n",
        "            this_feat = this_pack[0]\n",
        "            # this_feat = np.transpose(this_feat, [2,1,0])\n",
        "            this_target = to_onehot(this_pack[2])\n",
        "            this_rms = this_pack[3]\n",
        "            this_flat = this_pack[4]\n",
        "            this_cont = this_pack[5]\n",
        "            this_cont = np.transpose(this_flat, [1,0])\n",
        "            \n",
        "            if self.with_mixup and np.random.uniform(0,1)< self.mix_prob:\n",
        "                # load another random pack\n",
        "                rand_name = np.random.randint(0, len(self.names))\n",
        "                this_pack2 = np.load(os.path.join(self.path, self.names[rand_name]), allow_pickle=True)\n",
        "                this_feat2 = this_pack2[0]\n",
        "                # this_feat2 = np.transpose(this_feat2, [2,1,0])\n",
        "                this_rms2 = this_pack2[3]\n",
        "                this_flat2 = this_pack2[4]\n",
        "                this_cont2 = this_pack2[5]\n",
        "                # this_cont2 = np.transpose(this_cont2, [1,0])\n",
        "                this_target2 = to_onehot(this_pack2[2])\n",
        "\n",
        "                # mix the samples\n",
        "                l = np.random.beta(self.alpha, self.alpha)\n",
        "                this_feat = mix(this_feat, this_feat2, l)\n",
        "                this_rms = mix(this_rms, this_rms2, l)\n",
        "                this_flat = mix(this_flat, this_flat2, l)\n",
        "                this_cont = mix(this_cont, this_cont2, l)\n",
        "                # this_target = mix(this_target, this_target2, l)   #not mixing target for sample fusion\n",
        "\n",
        "            if self.crop != None:\n",
        "                start = np.random.randint(0, this_feat.shape[0]-self.crop)\n",
        "                this_feat = this_feat[start:start+self.crop]\n",
        "                this_rms = this_rms[start:start+self.crop]\n",
        "                this_flat = this_flat[start:start+self.crop]\n",
        "\n",
        "            # ic(this_feat.shape)\n",
        "            # _, this_feat, _ = self.yamnet_model(this_feat)\n",
        "            # this_feat = this_feat.numpy()\n",
        "            batch_feat.append(this_feat)\n",
        "            # batch_infered.append(this_infered)\n",
        "            batch_rms.append(this_rms)\n",
        "            batch_flat.append(this_flat)\n",
        "            batch_cont.append(this_cont)\n",
        "            batch_target.append(this_target)\n",
        "\n",
        "        batch_infered = np.array(batch_feat)\n",
        "        # ic(batch_infered.shape, type(batch_infered))\n",
        "\n",
        "        # batch_infered = self.img_model(batch_feat)\n",
        "        batch_rms = np.array(batch_rms)\n",
        "        batch_flat = np.array(batch_flat)\n",
        "        batch_cont = np.array(batch_cont)\n",
        "        batch_target = np.array(batch_target)\n",
        "\n",
        "        # batch_input = [batch_infered, batch_rms, batch_flat]\n",
        "        # try taking out flat\n",
        "        batch_input = [batch_infered, batch_rms, batch_flat, batch_cont]\n",
        "\n",
        "        return batch_input, batch_target\n",
        "\n",
        "\n",
        "# TODO clean unused data here\n",
        "class FeatureSequence_reduced(Sequence):\n",
        "    def __init__(self, names, path, batch_size, crop=None, with_mixup=False):\n",
        "        self.names = names\n",
        "        self.batch_size = batch_size\n",
        "        self.path = path\n",
        "        self.crop = crop\n",
        "        self.with_mixup = with_mixup\n",
        "        self.epoch = 0\n",
        "        self.alpha = 0.001\n",
        "        self.mix_prob = 1\n",
        "\n",
        "    def __len__(self):\n",
        "        return int(np.floor(len(self.names) / self.batch_size))\n",
        "\n",
        "    def on_epoch_end(self):\n",
        "        self.epoch += 1\n",
        "        if self.alpha < 0.2:\n",
        "            self.alpha += 0.2/20\n",
        "        if self.epoch > 30 and self.mix_prob > 0 :\n",
        "            self.mix_prob = self.mix_prob - 0.01\n",
        "        \n",
        "        random.shuffle(self.names)\n",
        "\n",
        "    def __getitem__(self, idx):\n",
        "        batch_names = self.names[idx*self.batch_size:(idx + 1)*self.batch_size]\n",
        "\n",
        "        batch_feat = []\n",
        "        # batch_infered = []\n",
        "        batch_rms = []\n",
        "        batch_flat = []\n",
        "        batch_cont = []\n",
        "        batch_target = []\n",
        "        for name in batch_names:\n",
        "            this_pack = np.load(os.path.join(self.path, name), allow_pickle=True)\n",
        "            # NB fix the axes order from the preprocessor\n",
        "            this_feat = this_pack[0]\n",
        "            # this_feat = np.transpose(this_feat, [2,1,0])\n",
        "            this_target = to_onehot(this_pack[2])\n",
        "            this_rms = this_pack[3]\n",
        "            this_flat = this_pack[4]\n",
        "            # this_flat = np.transpose(this_flat, [1,0])\n",
        "            \n",
        "            if self.with_mixup and np.random.uniform(0,1)< self.mix_prob:\n",
        "                # load another random pack\n",
        "                rand_name = np.random.randint(0, len(self.names))\n",
        "                this_pack2 = np.load(os.path.join(self.path, self.names[rand_name]), allow_pickle=True)\n",
        "                this_feat2 = this_pack2[0]\n",
        "                # this_feat2 = np.transpose(this_feat2, [2,1,0])\n",
        "                this_rms2 = this_pack2[3]\n",
        "                this_flat2 = this_pack2[4]\n",
        "                this_flat2 = np.transpose(this_flat2, [1,0])\n",
        "                this_target2 = to_onehot(this_pack2[2])\n",
        "\n",
        "                # mix the samples\n",
        "                l = np.random.beta(self.alpha, self.alpha)\n",
        "                this_feat = mix(this_feat, this_feat2, l)\n",
        "                this_rms = mix(this_rms, this_rms2, l)\n",
        "                this_flat = mix(this_flat, this_flat2, l)\n",
        "                this_cont = mix(this_cont, this_cont2, l)\n",
        "                # this_target = mix(this_target, this_target2, l)\n",
        "\n",
        "            if self.crop != None:\n",
        "                start = np.random.randint(0, this_feat.shape[0]-self.crop)\n",
        "                this_feat = this_feat[start:start+self.crop]\n",
        "                this_rms = this_rms[start:start+self.crop]\n",
        "                this_flat = this_flat[start:start+self.crop]\n",
        "                thic_cont = this_cont[start:start+self.crop]\n",
        "\n",
        "            # ic(this_feat.shape)\n",
        "            # _, this_feat, _ = self.yamnet_model(this_feat)\n",
        "            # this_feat = this_feat.numpy()\n",
        "            batch_feat.append(this_feat)\n",
        "            # batch_infered.append(this_infered)\n",
        "            batch_rms.append(this_rms)\n",
        "            batch_flat.append(this_flat)\n",
        "            # batch_cont.append(this_cont)\n",
        "            batch_target.append(this_target)\n",
        "\n",
        "        batch_infered = np.array(batch_feat)\n",
        "        # ic(batch_infered.shape, type(batch_infered))\n",
        "\n",
        "        # batch_infered = self.img_model(batch_feat)\n",
        "        batch_rms = np.array(batch_rms)\n",
        "        batch_flat = np.array(batch_flat)\n",
        "        # batch_cont = np.array(batch_cont)\n",
        "        batch_target = np.array(batch_target)\n",
        "\n",
        "        return batch_infered, batch_target\n",
        "\n",
        "\n",
        "# #test\n",
        "# batch_size = 50\n",
        "# fold = 2\n",
        "# this_fold_names = [x for x in feat_names if x[0]==str(fold) and x.endswith('0.npy')]\n",
        "# feature_sequence = FeatureSequence(this_fold_names, path_batch, batch_size, with_mixup=True)\n",
        "# b = feature_sequence\n",
        "# ic(len(b))\n",
        "# ic(len(b[0]))\n",
        "# ic(np.shape(b[0][0]))\n",
        "# ic(np.shape(b[0][1]))\n",
        "# ic(np.shape(b[0][2]))\n",
        "\n",
        "# plt.figure()\n",
        "# plt.imshow(b[0][2][0], interpolation='nearest', aspect='auto')"
      ],
      "execution_count": 142,
      "outputs": []
    },
    {
      "cell_type": "markdown",
      "metadata": {
        "id": "oQvcUzFGmYV4"
      },
      "source": [
        "# Model classes"
      ]
    },
    {
      "cell_type": "code",
      "metadata": {
        "id": "v8U9-zRJPbwG",
        "colab": {
          "base_uri": "https://localhost:8080/"
        },
        "outputId": "0ffc8b6d-de6e-4a89-8d80-d3a8c5e9603d"
      },
      "source": [
        "crop = FRAMES\n",
        "\n",
        "def make_MixedNet():\n",
        "    act = 'relu'\n",
        "\n",
        "    input_shape = (crop,96,3)\n",
        "\n",
        "    input_inf = layers.Input(shape=(None,1024))\n",
        "    input_rms = layers.Input(shape=(crop,1))\n",
        "    input_zero = layers.Input(shape=(crop,1))\n",
        "    input_cont = layers.Input(shape=(crop,8))\n",
        "    \n",
        "    inf = layers.GlobalAveragePooling1D()(input_inf)\n",
        "    inf = tf.expand_dims(inf, axis=-1)\n",
        "\n",
        "    rms = layers.Conv1D(8, kernel_size=9, padding='same',)(input_rms)\n",
        "    # rms = layers.BatchNormalization()(rms)\n",
        "    rms = layers.ReLU()(rms)\n",
        "    rms = layers.AveragePooling1D()(rms)\n",
        "    rms = layers.Conv1D(16, kernel_size=9, padding='same',)(rms)\n",
        "    # rms = layers.BatchNormalization()(rms)\n",
        "    rms = layers.ReLU()(rms)\n",
        "    rms = layers.AveragePooling1D()(rms)\n",
        "    rms = layers.Conv1D(32, kernel_size=9, padding='same',)(rms)\n",
        "    # rms = layers.BatchNormalization()(rms)\n",
        "    rms = layers.ReLU()(rms)\n",
        "    # rms = layers.AveragePooling1D()(rms)\n",
        "    # rms = layers.Conv1D(64, kernel_size=9, padding='same', activation=act, )(rms)\n",
        "    # rms = layers.AveragePooling1D()(rms)\n",
        "    rms = layers.GlobalAveragePooling1D()(rms)\n",
        "    rms = tf.expand_dims(rms, axis=-1)\n",
        "    rms = layers.BatchNormalization()(rms)\n",
        "\n",
        "    out_rms = layers.Flatten()(rms)\n",
        "    out_rms = layers.Dense(50, activation='sigmoid', name='out_rms')(out_rms)\n",
        "    # rms = layers.Flatten()(rms)\n",
        "    #####################################\n",
        "\n",
        "    zero = layers.Conv1D(8, kernel_size=9, padding='same',)(input_zero)\n",
        "    # rms = layers.BatchNormalization()(rms)\n",
        "    zero = layers.ReLU()(zero)\n",
        "    zero = layers.AveragePooling1D()(zero)\n",
        "    zero = layers.Conv1D(16, kernel_size=9, padding='same',)(zero)\n",
        "    # rms = layers.BatchNormalization()(rms)\n",
        "    zero = layers.ReLU()(zero)\n",
        "    zero = layers.AveragePooling1D()(zero)\n",
        "    zero = layers.Conv1D(32, kernel_size=9, padding='same',)(zero)\n",
        "    # rms = layers.BatchNormalization()(rms)\n",
        "    zero = layers.ReLU()(zero)\n",
        "    # rms = layers.AveragePooling1D()(rms)\n",
        "    # rms = layers.Conv1D(64, kernel_size=9, padding='same', activation=act, )(rms)\n",
        "    # rms = layers.AveragePooling1D()(rms)\n",
        "    zero = layers.GlobalAveragePooling1D()(zero)\n",
        "    zero = tf.expand_dims(zero, axis=-1)\n",
        "    zero = layers.BatchNormalization()(zero)\n",
        "\n",
        "    out_zero = layers.Flatten()(zero)\n",
        "    out_zero = layers.Dense(50, activation='sigmoid', name='out_zero')(out_zero)\n",
        "    #######################################\n",
        "\n",
        "    cont = tf.expand_dims(input_cont, axis=-1)\n",
        "    cont = layers.Conv2D(4, kernel_size=(3,3), padding='same', kernel_regularizer='l2')(cont)\n",
        "    cont = layers.ReLU(6,)(cont)\n",
        "    cont = layers.MaxPool2D()(cont)\n",
        "    cont = layers.Conv2D(8, kernel_size=(3,3), padding='same', kernel_regularizer='l2')(cont)\n",
        "    cont = layers.ReLU(6,)(cont)\n",
        "    cont = layers.MaxPool2D()(cont)\n",
        "    cont = layers.Conv2D(16, kernel_size=(3,3), padding='same', kernel_regularizer='l2')(cont)\n",
        "    cont = layers.ReLU(6,)(cont)\n",
        "    cont = layers.GlobalAveragePooling2D()(cont)\n",
        "    cont = tf.expand_dims(cont, axis=-1)\n",
        "    cont = layers.BatchNormalization()(cont)\n",
        "    out_cont = layers.Flatten()(cont)\n",
        "    out_cont = layers.Dense(50, activation='sigmoid', name='out_cont')(out_cont)\n",
        "    # # cont = layers.Flatten()(cont)\n",
        "\n",
        "    z = layers.concatenate([inf,rms,zero, cont], axis=1)\n",
        "    z = layers.Flatten()(z)\n",
        "    z = layers.Dense(100, activation='relu',)(z)\n",
        "    z = layers.Dense(50, activation='relu',)(z)\n",
        "    # z = layers.BatchNormalization()(z)\n",
        "    z = layers.Dense(50, activation='softmax', name='out_total')(z)\n",
        "\n",
        "    \n",
        "    model = keras.Model(inputs=[input_inf, input_rms, input_zero, input_cont], outputs=[out_rms, out_zero, out_cont, z])\n",
        "    # model = keras.Model(inputs=[input_inf, input_rms, input_flat], outputs=z)\n",
        "    model.compile(optimizer=tf.keras.optimizers.Adam(learning_rate=0.001), \n",
        "      loss = tf.keras.losses.categorical_crossentropy, \n",
        "      metrics=['accuracy'])\n",
        "    return model\n",
        "\n",
        "mixed_net = make_MixedNet()\n",
        "mixed_net.summary()"
      ],
      "execution_count": 148,
      "outputs": [
        {
          "output_type": "stream",
          "text": [
            "Model: \"model_27\"\n",
            "__________________________________________________________________________________________________\n",
            "Layer (type)                    Output Shape         Param #     Connected to                     \n",
            "==================================================================================================\n",
            "input_89 (InputLayer)           [(None, 502, 8)]     0                                            \n",
            "__________________________________________________________________________________________________\n",
            "input_87 (InputLayer)           [(None, 502, 1)]     0                                            \n",
            "__________________________________________________________________________________________________\n",
            "input_88 (InputLayer)           [(None, 502, 1)]     0                                            \n",
            "__________________________________________________________________________________________________\n",
            "tf.expand_dims_94 (TFOpLambda)  (None, 502, 8, 1)    0           input_89[0][0]                   \n",
            "__________________________________________________________________________________________________\n",
            "conv1d_141 (Conv1D)             (None, 502, 8)       80          input_87[0][0]                   \n",
            "__________________________________________________________________________________________________\n",
            "conv1d_144 (Conv1D)             (None, 502, 8)       80          input_88[0][0]                   \n",
            "__________________________________________________________________________________________________\n",
            "conv2d_21 (Conv2D)              (None, 502, 8, 4)    40          tf.expand_dims_94[0][0]          \n",
            "__________________________________________________________________________________________________\n",
            "re_lu_156 (ReLU)                (None, 502, 8)       0           conv1d_141[0][0]                 \n",
            "__________________________________________________________________________________________________\n",
            "re_lu_159 (ReLU)                (None, 502, 8)       0           conv1d_144[0][0]                 \n",
            "__________________________________________________________________________________________________\n",
            "re_lu_162 (ReLU)                (None, 502, 8, 4)    0           conv2d_21[0][0]                  \n",
            "__________________________________________________________________________________________________\n",
            "average_pooling1d_94 (AveragePo (None, 251, 8)       0           re_lu_156[0][0]                  \n",
            "__________________________________________________________________________________________________\n",
            "average_pooling1d_96 (AveragePo (None, 251, 8)       0           re_lu_159[0][0]                  \n",
            "__________________________________________________________________________________________________\n",
            "max_pooling2d_14 (MaxPooling2D) (None, 251, 4, 4)    0           re_lu_162[0][0]                  \n",
            "__________________________________________________________________________________________________\n",
            "conv1d_142 (Conv1D)             (None, 251, 16)      1168        average_pooling1d_94[0][0]       \n",
            "__________________________________________________________________________________________________\n",
            "conv1d_145 (Conv1D)             (None, 251, 16)      1168        average_pooling1d_96[0][0]       \n",
            "__________________________________________________________________________________________________\n",
            "conv2d_22 (Conv2D)              (None, 251, 4, 8)    296         max_pooling2d_14[0][0]           \n",
            "__________________________________________________________________________________________________\n",
            "re_lu_157 (ReLU)                (None, 251, 16)      0           conv1d_142[0][0]                 \n",
            "__________________________________________________________________________________________________\n",
            "re_lu_160 (ReLU)                (None, 251, 16)      0           conv1d_145[0][0]                 \n",
            "__________________________________________________________________________________________________\n",
            "re_lu_163 (ReLU)                (None, 251, 4, 8)    0           conv2d_22[0][0]                  \n",
            "__________________________________________________________________________________________________\n",
            "average_pooling1d_95 (AveragePo (None, 125, 16)      0           re_lu_157[0][0]                  \n",
            "__________________________________________________________________________________________________\n",
            "average_pooling1d_97 (AveragePo (None, 125, 16)      0           re_lu_160[0][0]                  \n",
            "__________________________________________________________________________________________________\n",
            "max_pooling2d_15 (MaxPooling2D) (None, 125, 2, 8)    0           re_lu_163[0][0]                  \n",
            "__________________________________________________________________________________________________\n",
            "conv1d_143 (Conv1D)             (None, 125, 32)      4640        average_pooling1d_95[0][0]       \n",
            "__________________________________________________________________________________________________\n",
            "conv1d_146 (Conv1D)             (None, 125, 32)      4640        average_pooling1d_97[0][0]       \n",
            "__________________________________________________________________________________________________\n",
            "conv2d_23 (Conv2D)              (None, 125, 2, 16)   1168        max_pooling2d_15[0][0]           \n",
            "__________________________________________________________________________________________________\n",
            "re_lu_158 (ReLU)                (None, 125, 32)      0           conv1d_143[0][0]                 \n",
            "__________________________________________________________________________________________________\n",
            "re_lu_161 (ReLU)                (None, 125, 32)      0           conv1d_146[0][0]                 \n",
            "__________________________________________________________________________________________________\n",
            "re_lu_164 (ReLU)                (None, 125, 2, 16)   0           conv2d_23[0][0]                  \n",
            "__________________________________________________________________________________________________\n",
            "global_average_pooling1d_79 (Gl (None, 32)           0           re_lu_158[0][0]                  \n",
            "__________________________________________________________________________________________________\n",
            "global_average_pooling1d_80 (Gl (None, 32)           0           re_lu_161[0][0]                  \n",
            "__________________________________________________________________________________________________\n",
            "global_average_pooling2d_7 (Glo (None, 16)           0           re_lu_164[0][0]                  \n",
            "__________________________________________________________________________________________________\n",
            "input_86 (InputLayer)           [(None, None, 1024)] 0                                            \n",
            "__________________________________________________________________________________________________\n",
            "tf.expand_dims_92 (TFOpLambda)  (None, 32, 1)        0           global_average_pooling1d_79[0][0]\n",
            "__________________________________________________________________________________________________\n",
            "tf.expand_dims_93 (TFOpLambda)  (None, 32, 1)        0           global_average_pooling1d_80[0][0]\n",
            "__________________________________________________________________________________________________\n",
            "tf.expand_dims_95 (TFOpLambda)  (None, 16, 1)        0           global_average_pooling2d_7[0][0] \n",
            "__________________________________________________________________________________________________\n",
            "global_average_pooling1d_78 (Gl (None, 1024)         0           input_86[0][0]                   \n",
            "__________________________________________________________________________________________________\n",
            "batch_normalization_54 (BatchNo (None, 32, 1)        4           tf.expand_dims_92[0][0]          \n",
            "__________________________________________________________________________________________________\n",
            "batch_normalization_55 (BatchNo (None, 32, 1)        4           tf.expand_dims_93[0][0]          \n",
            "__________________________________________________________________________________________________\n",
            "batch_normalization_56 (BatchNo (None, 16, 1)        4           tf.expand_dims_95[0][0]          \n",
            "__________________________________________________________________________________________________\n",
            "tf.expand_dims_91 (TFOpLambda)  (None, 1024, 1)      0           global_average_pooling1d_78[0][0]\n",
            "__________________________________________________________________________________________________\n",
            "concatenate_27 (Concatenate)    (None, 1104, 1)      0           tf.expand_dims_91[0][0]          \n",
            "                                                                 batch_normalization_54[0][0]     \n",
            "                                                                 batch_normalization_55[0][0]     \n",
            "                                                                 batch_normalization_56[0][0]     \n",
            "__________________________________________________________________________________________________\n",
            "flatten_85 (Flatten)            (None, 1104)         0           concatenate_27[0][0]             \n",
            "__________________________________________________________________________________________________\n",
            "dense_56 (Dense)                (None, 100)          110500      flatten_85[0][0]                 \n",
            "__________________________________________________________________________________________________\n",
            "flatten_82 (Flatten)            (None, 32)           0           batch_normalization_54[0][0]     \n",
            "__________________________________________________________________________________________________\n",
            "flatten_83 (Flatten)            (None, 32)           0           batch_normalization_55[0][0]     \n",
            "__________________________________________________________________________________________________\n",
            "flatten_84 (Flatten)            (None, 16)           0           batch_normalization_56[0][0]     \n",
            "__________________________________________________________________________________________________\n",
            "dense_57 (Dense)                (None, 50)           5050        dense_56[0][0]                   \n",
            "__________________________________________________________________________________________________\n",
            "out_rms (Dense)                 (None, 50)           1650        flatten_82[0][0]                 \n",
            "__________________________________________________________________________________________________\n",
            "out_zero (Dense)                (None, 50)           1650        flatten_83[0][0]                 \n",
            "__________________________________________________________________________________________________\n",
            "out_cont (Dense)                (None, 50)           850         flatten_84[0][0]                 \n",
            "__________________________________________________________________________________________________\n",
            "out_total (Dense)               (None, 50)           2550        dense_57[0][0]                   \n",
            "==================================================================================================\n",
            "Total params: 135,542\n",
            "Trainable params: 135,536\n",
            "Non-trainable params: 6\n",
            "__________________________________________________________________________________________________\n"
          ],
          "name": "stdout"
        }
      ]
    },
    {
      "cell_type": "markdown",
      "metadata": {
        "id": "8KfvmEIgfu8P"
      },
      "source": [
        "training\n"
      ]
    },
    {
      "cell_type": "code",
      "metadata": {
        "id": "28ixaDjtfv2f",
        "colab": {
          "base_uri": "https://localhost:8080/"
        },
        "outputId": "dc4bcc8a-d5ab-459a-e9a6-d02d2b7a067f"
      },
      "source": [
        "SOURCE = path_batch\n",
        "\n",
        "batch_size = 64\n",
        "epochs = 200\n",
        "\n",
        "fold = 2\n",
        "# feat_names  = os.listdir(path_drive)\n",
        "feat_names  = os.listdir(SOURCE)\n",
        "ic(len(feat_names))\n",
        "\n",
        "# not using augmentated samples here\n",
        "val_names = [x for x in feat_names if x[0]==str(fold) and x.endswith('0.npy')]\n",
        "train_names = [x for x in feat_names if x[0]!=str(fold) and (x.endswith('0.npy'))]\n",
        "\n",
        "# val_names = [x for x in feat_names if x[0]==str(fold) and x.endswith('0.npy')]\n",
        "# train_names = [x for x in feat_names if x[0]!=str(fold)]\n",
        "ic(len(train_names))\n",
        "ic(len(val_names))\n",
        "\n",
        "train_dataloader = FeatureSequence(train_names, SOURCE, batch_size, crop=None, with_mixup=True)\n",
        "val_dataloader = FeatureSequence(val_names, SOURCE, batch_size, crop=None)\n",
        "# feature_sequence = FeatureSequence(this_fold_names, path_batch, batch_size, with_mixup=True)\n",
        "\n",
        "ic(len(train_dataloader))\n",
        "ic(len(val_dataloader))\n",
        "\n",
        "# TODO need to fine tune this\n",
        "reduce_lr = tf.keras.callbacks.ReduceLROnPlateau(monitor='out_total_accuracy', factor=0.2,\n",
        "                              patience=5, min_lr=0.0001)"
      ],
      "execution_count": 143,
      "outputs": [
        {
          "output_type": "stream",
          "text": [
            "ic| len(feat_names): 2000\n",
            "ic| len(train_names): 1600\n",
            "ic| len(val_names): 400\n",
            "ic| len(train_dataloader): 25\n",
            "ic| len(val_dataloader): 6\n"
          ],
          "name": "stderr"
        }
      ]
    },
    {
      "cell_type": "code",
      "metadata": {
        "colab": {
          "base_uri": "https://localhost:8080/",
          "height": 1000
        },
        "id": "HQA2Qt1e1pbZ",
        "outputId": "210078d9-158f-47db-8759-0e2e6f16c473"
      },
      "source": [
        "# ic(train_dataloader[0][0].shape)\n",
        "# ic(val_dataloader[0][0].shape)\n",
        "b = train_dataloader[3]\n",
        "ic(len(b))\n",
        "ic(len(b[0]))\n",
        "ic(np.shape(b[0][0]))\n",
        "ic(np.shape(b[0][1]))\n",
        "ic(np.shape(b[0][2]))\n",
        "ic(np.shape(b[0][3]))\n",
        "\n",
        "plt.figure()\n",
        "plt.plot(b[0][1][0])\n",
        "plt.figure()\n",
        "plt.plot(b[0][2][0])\n",
        "plt.figure()\n",
        "plt.imshow(b[0][3][0], interpolation='nearest', aspect='auto', origin='lower')\n",
        "\n",
        "\n",
        "plt.figure()\n",
        "plt.imshow(b[0][0][0], interpolation='nearest', aspect='auto', origin='lower')\n",
        "plt.colorbar()"
      ],
      "execution_count": 146,
      "outputs": [
        {
          "output_type": "stream",
          "text": [
            "ic| len(b): 2\n",
            "ic| len(b[0]): 4\n",
            "ic| np.shape(b[0][0]): (64, 10, 1024)\n",
            "ic| np.shape(b[0][1]): (64, 502, 1)\n",
            "ic| np.shape(b[0][2]): (64, 502, 1)\n",
            "ic| np.shape(b[0][3]): (64, 9, 502)\n"
          ],
          "name": "stderr"
        },
        {
          "output_type": "execute_result",
          "data": {
            "text/plain": [
              "<matplotlib.colorbar.Colorbar at 0x7f0e3daafc90>"
            ]
          },
          "metadata": {
            "tags": []
          },
          "execution_count": 146
        },
        {
          "output_type": "display_data",
          "data": {
            "image/png": "[encoded data removed]",
            "text/plain": [
              "<Figure size 432x288 with 1 Axes>"
            ]
          },
          "metadata": {
            "tags": [],
            "needs_background": "light"
          }
        },
        {
          "output_type": "display_data",
          "data": {
            "image/png": "[encoded data removed]",
            "text/plain": [
              "<Figure size 432x288 with 1 Axes>"
            ]
          },
          "metadata": {
            "tags": [],
            "needs_background": "light"
          }
        },
        {
          "output_type": "display_data",
          "data": {
            "image/png": "[encoded data removed]",
            "text/plain": [
              "<Figure size 432x288 with 1 Axes>"
            ]
          },
          "metadata": {
            "tags": [],
            "needs_background": "light"
          }
        },
        {
          "output_type": "display_data",
          "data": {
            "image/png": "[encoded data removed]",
            "text/plain": [
              "<Figure size 432x288 with 2 Axes>"
            ]
          },
          "metadata": {
            "tags": [],
            "needs_background": "light"
          }
        }
      ]
    },
    {
      "cell_type": "code",
      "metadata": {
        "colab": {
          "base_uri": "https://localhost:8080/",
          "height": 231
        },
        "id": "DwnOq8BsyklY",
        "outputId": "61ace698-f754-46e3-efef-5e420a3bf581"
      },
      "source": [
        "mixed_net = make_MixedNet()\n",
        "#fit the model\n",
        "history = mixed_net.fit(train_dataloader, \n",
        "                    epochs=epochs,\n",
        "                    callbacks=[PlotLossesKeras(), \n",
        "                               reduce_lr,\n",
        "                               ],\n",
        "                    validation_data = val_dataloader,\n",
        "                    verbose=1)"
      ],
      "execution_count": 1,
      "outputs": [
        {
          "output_type": "error",
          "ename": "NameError",
          "evalue": "ignored",
          "traceback": [
            "\u001b[0;31m---------------------------------------------------------------------------\u001b[0m",
            "\u001b[0;31mNameError\u001b[0m                                 Traceback (most recent call last)",
            "\u001b[0;32m<ipython-input-1-798c8fd85354>\u001b[0m in \u001b[0;36m<module>\u001b[0;34m()\u001b[0m\n\u001b[0;32m----> 1\u001b[0;31m \u001b[0mmixed_net\u001b[0m \u001b[0;34m=\u001b[0m \u001b[0mmake_MixedNet\u001b[0m\u001b[0;34m(\u001b[0m\u001b[0;34m)\u001b[0m\u001b[0;34m\u001b[0m\u001b[0;34m\u001b[0m\u001b[0m\n\u001b[0m\u001b[1;32m      2\u001b[0m \u001b[0;31m#fit the model\u001b[0m\u001b[0;34m\u001b[0m\u001b[0;34m\u001b[0m\u001b[0;34m\u001b[0m\u001b[0m\n\u001b[1;32m      3\u001b[0m history = mixed_net.fit(train_dataloader, \n\u001b[1;32m      4\u001b[0m                     \u001b[0mepochs\u001b[0m\u001b[0;34m=\u001b[0m\u001b[0mepochs\u001b[0m\u001b[0;34m,\u001b[0m\u001b[0;34m\u001b[0m\u001b[0;34m\u001b[0m\u001b[0m\n\u001b[1;32m      5\u001b[0m                     callbacks=[PlotLossesKeras(), \n",
            "\u001b[0;31mNameError\u001b[0m: name 'make_MixedNet' is not defined"
          ]
        }
      ]
    },
    {
      "cell_type": "code",
      "metadata": {
        "id": "j_VvGNYYkLzB"
      },
      "source": [
        "#get results\n",
        "acc = history.history['accuracy']\n",
        "val_acc = history.history['val_accuracy']\n",
        "loss = history.history['loss']\n",
        "val_loss = history.history['val_loss']\n",
        "\n",
        "#plot results\n",
        "#accuracy\n",
        "plt.figure(figsize=(8, 8))\n",
        "plt.rcParams['figure.figsize'] = [16, 9]\n",
        "plt.rcParams['font.size'] = 14\n",
        "plt.rcParams['axes.grid'] = True\n",
        "plt.rcParams['figure.facecolor'] = 'white'\n",
        "plt.subplot(2, 1, 1)\n",
        "plt.plot(acc, label='Training Accuracy')\n",
        "plt.plot(val_acc, label='Validation Accuracy')\n",
        "plt.legend(loc='lower right')\n",
        "plt.ylabel('Accuracy')\n",
        "plt.title(f'MobileNetV2 \\nTraining and Validation Accuracy. \\nTrain Accuracy: {str(round(acc[-1],3))}\\nValidation Accuracy: {str(round(val_acc[-1],3))}')\n",
        "\n",
        "#loss\n",
        "plt.subplot(2, 1, 2)\n",
        "plt.plot(loss, label='Training Loss')\n",
        "plt.plot(val_loss, label='Validation Loss')\n",
        "plt.legend(loc='upper right')\n",
        "plt.ylabel('Cross Entropy')\n",
        "plt.title(f'Training and Validation Loss. \\nTrain Loss: {str(round(loss[-1],3))}\\nValidation Loss: {str(round(val_loss[-1],3))}')\n",
        "plt.xlabel('epoch')\n",
        "plt.tight_layout(pad=3.0)\n",
        "plt.show()"
      ],
      "execution_count": null,
      "outputs": []
    },
    {
      "cell_type": "markdown",
      "metadata": {
        "id": "SH_VOqwhzCHx"
      },
      "source": [
        ""
      ]
    },
    {
      "cell_type": "markdown",
      "metadata": {
        "id": "0Xu8nTu2SgeZ"
      },
      "source": [
        "# Using only transfer learning and no mixed features"
      ]
    },
    {
      "cell_type": "code",
      "metadata": {
        "id": "v_5f0d6tmywW",
        "colab": {
          "base_uri": "https://localhost:8080/"
        },
        "outputId": "9a840a78-8c5f-4444-b10f-06539514dc2a"
      },
      "source": [
        "crop = FRAMES\n",
        "\n",
        "def make_tfYAMNet():\n",
        "    act = 'relu'\n",
        "\n",
        "    input_shape = (crop,96,3)\n",
        "\n",
        "    input_inf = layers.Input(shape=(None,1024))\n",
        "    \n",
        "    inf = layers.GlobalAveragePooling1D()(input_inf)\n",
        "    inf = tf.expand_dims(inf, axis=-1)\n",
        "    # inf = layers.Dense(10, activation='relu')(input_inf)\n",
        "    # inf = layers.Conv1D(8, kernel_size=64, padding='same', activation='relu')(input_inf)\n",
        "    # inf = layers.MaxPool1D()(inf)\n",
        "    # inf = layers.Conv1D(8, kernel_size=64, padding='same', activation='relu')(inf)\n",
        "    # inf = layers.MaxPool1D()(inf)\n",
        "\n",
        "    # # rms = layers.Dense(10, activation='relu')(input_rms)\n",
        "    # rms = layers.Conv1D(16, kernel_size=9, padding='same',)(input_rms)\n",
        "    # # rms = layers.BatchNormalization()(rms)\n",
        "    # rms = layers.ReLU()(rms)\n",
        "    # rms = layers.AveragePooling1D()(rms)\n",
        "    # rms = layers.Conv1D(32, kernel_size=9, padding='same',)(rms)\n",
        "    # # rms = layers.BatchNormalization()(rms)\n",
        "    # rms = layers.ReLU()(rms)\n",
        "    # rms = layers.AveragePooling1D()(rms)\n",
        "    # rms = layers.Conv1D(64, kernel_size=9, padding='same',)(rms)\n",
        "    # # rms = layers.BatchNormalization()(rms)\n",
        "    # rms = layers.ReLU()(rms)\n",
        "    # # rms = layers.AveragePooling1D()(rms)\n",
        "    # # rms = layers.Conv1D(64, kernel_size=9, padding='same', activation=act, )(rms)\n",
        "    # # rms = layers.AveragePooling1D()(rms)\n",
        "    # rms = layers.GlobalAveragePooling1D()(rms)\n",
        "    # rms = tf.expand_dims(rms, axis=-1)\n",
        "    # rms = layers.BatchNormalization()(rms)\n",
        "\n",
        "    # out_rms = layers.Flatten()(rms)\n",
        "    # out_rms = layers.Dense(50, activation='sigmoid', name='out_rms')(out_rms)\n",
        "    # # rms = layers.Flatten()(rms)\n",
        "\n",
        "    # # flat = layers.Dense(10, activation='relu')(input_flat)\n",
        "    # cont = tf.expand_dims(input_cont, axis=-1)\n",
        "\n",
        "    # cont = layers.Conv2D(4, kernel_size=(3,3), padding='same', kernel_regularizer='l2')(cont)\n",
        "    # # cont = layers.BatchNormalization()(cont)\n",
        "    # cont = layers.ReLU(6,)(cont)\n",
        "    # cont = layers.MaxPool2D()(cont)\n",
        "    # cont = layers.Conv2D(8, kernel_size=(3,3), padding='same', kernel_regularizer='l2')(cont)\n",
        "    # # cont = layers.BatchNormalization()(cont)\n",
        "    # cont = layers.ReLU(6,)(cont)\n",
        "    # cont = layers.MaxPool2D()(cont)\n",
        "    # cont = layers.Conv2D(16, kernel_size=(3,3), padding='same', kernel_regularizer='l2')(cont)\n",
        "    # # cont = layers.BatchNormalization()(cont)\n",
        "    # cont = layers.ReLU(6,)(cont)\n",
        "    # # flat = layers.AveragePooling1D()(flat)\n",
        "    # # flat = layers.Conv1D(64, kernel_size=9, padding='same', activation=act, )(flat)\n",
        "    # # flat = layers.AveragePooling1D()(flat)\n",
        "    # cont = layers.GlobalAveragePooling2D()(cont)\n",
        "    # cont = tf.expand_dims(cont, axis=-1)\n",
        "    # cont = layers.BatchNormalization()(cont)\n",
        "\n",
        "    # out_cont = layers.Flatten()(cont)\n",
        "    # out_cont = layers.Dense(50, activation='sigmoid', name='out_cont')(out_cont)\n",
        "    # # cont = layers.Flatten()(cont)\n",
        "\n",
        "    # z = layers.concatenate([inf,rms,cont], axis=1)\n",
        "    z = layers.Flatten()(inf)\n",
        "    z = layers.Dense(100, activation='relu',)(z)\n",
        "    z = layers.Dense(50, activation='relu',)(z)\n",
        "    # z = layers.BatchNormalization()(z)\n",
        "    z = layers.Dense(50, activation='softmax', name='out_total')(z)\n",
        "\n",
        "    \n",
        "    model = keras.Model(inputs=input_inf, outputs=z)\n",
        "    # model = keras.Model(inputs=[input_inf, input_rms, input_flat], outputs=z)\n",
        "    model.compile(optimizer=tf.keras.optimizers.Adam(learning_rate=0.001), \n",
        "      loss = tf.keras.losses.categorical_crossentropy, \n",
        "      metrics=['accuracy'])\n",
        "    return model\n",
        "\n",
        "tfyam_net = make_tfYAMNet()\n",
        "tfyam_net.summary()"
      ],
      "execution_count": null,
      "outputs": [
        {
          "output_type": "stream",
          "text": [
            "Model: \"model_2\"\n",
            "_________________________________________________________________\n",
            "Layer (type)                 Output Shape              Param #   \n",
            "=================================================================\n",
            "input_7 (InputLayer)         [(None, None, 1024)]      0         \n",
            "_________________________________________________________________\n",
            "global_average_pooling1d_4 ( (None, 1024)              0         \n",
            "_________________________________________________________________\n",
            "tf.expand_dims_8 (TFOpLambda (None, 1024, 1)           0         \n",
            "_________________________________________________________________\n",
            "flatten_6 (Flatten)          (None, 1024)              0         \n",
            "_________________________________________________________________\n",
            "dense_4 (Dense)              (None, 100)               102500    \n",
            "_________________________________________________________________\n",
            "dense_5 (Dense)              (None, 50)                5050      \n",
            "_________________________________________________________________\n",
            "out_total (Dense)            (None, 50)                2550      \n",
            "=================================================================\n",
            "Total params: 110,100\n",
            "Trainable params: 110,100\n",
            "Non-trainable params: 0\n",
            "_________________________________________________________________\n"
          ],
          "name": "stdout"
        }
      ]
    },
    {
      "cell_type": "code",
      "metadata": {
        "id": "M_ekvUYBS0R8",
        "colab": {
          "base_uri": "https://localhost:8080/"
        },
        "outputId": "7fb904d5-0cca-428e-85b4-023093c67902"
      },
      "source": [
        "SOURCE = path_batch\n",
        "\n",
        "batch_size = 64\n",
        "epochs = 200\n",
        "\n",
        "fold = 2\n",
        "# feat_names  = os.listdir(path_drive)\n",
        "feat_names  = os.listdir(SOURCE)\n",
        "ic(len(feat_names))\n",
        "\n",
        "# not using augmentated samples here\n",
        "# val_names = [x for x in feat_names if x[0]==str(fold) and x.endswith('0.npy')]\n",
        "# train_names = [x for x in feat_names if x[0]!=str(fold) and (x.endswith('0.npy'))]\n",
        "\n",
        "val_names = [x for x in feat_names if x[0]==str(fold) and x.endswith('0.npy')]\n",
        "train_names = [x for x in feat_names if x[0]!=str(fold)]\n",
        "ic(len(train_names))\n",
        "ic(len(val_names))\n",
        "\n",
        "train_dataloader = FeatureSequence_reduced(train_names, SOURCE, batch_size, crop=None, with_mixup=True)\n",
        "val_dataloader = FeatureSequence_reduced(val_names, SOURCE, batch_size, crop=None)\n",
        "# feature_sequence = FeatureSequence(this_fold_names, path_batch, batch_size, with_mixup=True)\n",
        "\n",
        "ic(len(train_dataloader))\n",
        "ic(len(val_dataloader))\n",
        "\n",
        "# TODO need to fine tune this\n",
        "reduce_lr = tf.keras.callbacks.ReduceLROnPlateau(monitor='val_accuracy', factor=0.2,\n",
        "                              patience=5, min_lr=0.0001)"
      ],
      "execution_count": null,
      "outputs": [
        {
          "output_type": "stream",
          "text": [
            "ic| len(feat_names): 4000\n",
            "ic| len(train_names): 3200\n",
            "ic| len(val_names): 400\n",
            "ic| len(train_dataloader): 50\n",
            "ic| len(val_dataloader): 6\n"
          ],
          "name": "stderr"
        }
      ]
    },
    {
      "cell_type": "code",
      "metadata": {
        "id": "-7i7wvMUTM6J",
        "colab": {
          "base_uri": "https://localhost:8080/",
          "height": 1000
        },
        "outputId": "2f5555a0-f998-440d-c0f7-c996829e467a"
      },
      "source": [
        "tfyam_net = make_tfYAMNet()\n",
        "#fit the model\n",
        "history = tfyam_net.fit(train_dataloader, \n",
        "                    epochs=epochs,\n",
        "                    callbacks=[PlotLossesKeras(), \n",
        "                               reduce_lr,\n",
        "                               ],\n",
        "                    validation_data = val_dataloader,\n",
        "                    verbose=1)"
      ],
      "execution_count": null,
      "outputs": [
        {
          "output_type": "display_data",
          "data": {
            "image/png": "[encoded data removed]",
            "text/plain": [
              "<Figure size 864x576 with 2 Axes>"
            ]
          },
          "metadata": {
            "tags": [],
            "needs_background": "light"
          }
        },
        {
          "output_type": "stream",
          "text": [
            "accuracy\n",
            "\ttraining         \t (min:    0.309, max:    0.908, cur:    0.902)\n",
            "\tvalidation       \t (min:    0.620, max:    0.839, cur:    0.815)\n",
            "Loss\n",
            "\ttraining         \t (min:    0.795, max:    3.138, cur:    0.844)\n",
            "\tvalidation       \t (min:    0.586, max:    2.040, cur:    0.619)\n",
            "Epoch 38/200\n",
            "50/50 [==============================] - 6s 118ms/step - loss: 0.8127 - accuracy: 0.9031 - val_loss: 0.6069 - val_accuracy: 0.8281\n"
          ],
          "name": "stdout"
        },
        {
          "output_type": "error",
          "ename": "KeyboardInterrupt",
          "evalue": "ignored",
          "traceback": [
            "\u001b[0;31m---------------------------------------------------------------------------\u001b[0m",
            "\u001b[0;31mKeyboardInterrupt\u001b[0m                         Traceback (most recent call last)",
            "\u001b[0;32m<ipython-input-86-42ccc7de795f>\u001b[0m in \u001b[0;36m<module>\u001b[0;34m()\u001b[0m\n\u001b[1;32m      7\u001b[0m                                ],\n\u001b[1;32m      8\u001b[0m                     \u001b[0mvalidation_data\u001b[0m \u001b[0;34m=\u001b[0m \u001b[0mval_dataloader\u001b[0m\u001b[0;34m,\u001b[0m\u001b[0;34m\u001b[0m\u001b[0;34m\u001b[0m\u001b[0m\n\u001b[0;32m----> 9\u001b[0;31m                     verbose=1)\n\u001b[0m",
            "\u001b[0;32m/usr/local/lib/python3.7/dist-packages/tensorflow/python/keras/engine/training.py\u001b[0m in \u001b[0;36mfit\u001b[0;34m(self, x, y, batch_size, epochs, verbose, callbacks, validation_split, validation_data, shuffle, class_weight, sample_weight, initial_epoch, steps_per_epoch, validation_steps, validation_batch_size, validation_freq, max_queue_size, workers, use_multiprocessing)\u001b[0m\n\u001b[1;32m   1227\u001b[0m           \u001b[0mepoch_logs\u001b[0m\u001b[0;34m.\u001b[0m\u001b[0mupdate\u001b[0m\u001b[0;34m(\u001b[0m\u001b[0mval_logs\u001b[0m\u001b[0;34m)\u001b[0m\u001b[0;34m\u001b[0m\u001b[0;34m\u001b[0m\u001b[0m\n\u001b[1;32m   1228\u001b[0m \u001b[0;34m\u001b[0m\u001b[0m\n\u001b[0;32m-> 1229\u001b[0;31m         \u001b[0mcallbacks\u001b[0m\u001b[0;34m.\u001b[0m\u001b[0mon_epoch_end\u001b[0m\u001b[0;34m(\u001b[0m\u001b[0mepoch\u001b[0m\u001b[0;34m,\u001b[0m \u001b[0mepoch_logs\u001b[0m\u001b[0;34m)\u001b[0m\u001b[0;34m\u001b[0m\u001b[0;34m\u001b[0m\u001b[0m\n\u001b[0m\u001b[1;32m   1230\u001b[0m         \u001b[0mtraining_logs\u001b[0m \u001b[0;34m=\u001b[0m \u001b[0mepoch_logs\u001b[0m\u001b[0;34m\u001b[0m\u001b[0;34m\u001b[0m\u001b[0m\n\u001b[1;32m   1231\u001b[0m         \u001b[0;32mif\u001b[0m \u001b[0mself\u001b[0m\u001b[0;34m.\u001b[0m\u001b[0mstop_training\u001b[0m\u001b[0;34m:\u001b[0m\u001b[0;34m\u001b[0m\u001b[0;34m\u001b[0m\u001b[0m\n",
            "\u001b[0;32m/usr/local/lib/python3.7/dist-packages/tensorflow/python/keras/callbacks.py\u001b[0m in \u001b[0;36mon_epoch_end\u001b[0;34m(self, epoch, logs)\u001b[0m\n\u001b[1;32m    433\u001b[0m     \u001b[0mlogs\u001b[0m \u001b[0;34m=\u001b[0m \u001b[0mself\u001b[0m\u001b[0;34m.\u001b[0m\u001b[0m_process_logs\u001b[0m\u001b[0;34m(\u001b[0m\u001b[0mlogs\u001b[0m\u001b[0;34m)\u001b[0m\u001b[0;34m\u001b[0m\u001b[0;34m\u001b[0m\u001b[0m\n\u001b[1;32m    434\u001b[0m     \u001b[0;32mfor\u001b[0m \u001b[0mcallback\u001b[0m \u001b[0;32min\u001b[0m \u001b[0mself\u001b[0m\u001b[0;34m.\u001b[0m\u001b[0mcallbacks\u001b[0m\u001b[0;34m:\u001b[0m\u001b[0;34m\u001b[0m\u001b[0;34m\u001b[0m\u001b[0m\n\u001b[0;32m--> 435\u001b[0;31m       \u001b[0mcallback\u001b[0m\u001b[0;34m.\u001b[0m\u001b[0mon_epoch_end\u001b[0m\u001b[0;34m(\u001b[0m\u001b[0mepoch\u001b[0m\u001b[0;34m,\u001b[0m \u001b[0mlogs\u001b[0m\u001b[0;34m)\u001b[0m\u001b[0;34m\u001b[0m\u001b[0;34m\u001b[0m\u001b[0m\n\u001b[0m\u001b[1;32m    436\u001b[0m \u001b[0;34m\u001b[0m\u001b[0m\n\u001b[1;32m    437\u001b[0m   \u001b[0;32mdef\u001b[0m \u001b[0mon_train_batch_begin\u001b[0m\u001b[0;34m(\u001b[0m\u001b[0mself\u001b[0m\u001b[0;34m,\u001b[0m \u001b[0mbatch\u001b[0m\u001b[0;34m,\u001b[0m \u001b[0mlogs\u001b[0m\u001b[0;34m=\u001b[0m\u001b[0;32mNone\u001b[0m\u001b[0;34m)\u001b[0m\u001b[0;34m:\u001b[0m\u001b[0;34m\u001b[0m\u001b[0;34m\u001b[0m\u001b[0m\n",
            "\u001b[0;32m/usr/local/lib/python3.7/dist-packages/livelossplot/inputs/generic_keras.py\u001b[0m in \u001b[0;36mon_epoch_end\u001b[0;34m(self, epoch, logs)\u001b[0m\n\u001b[1;32m     20\u001b[0m         \"\"\"\n\u001b[1;32m     21\u001b[0m         \u001b[0mself\u001b[0m\u001b[0;34m.\u001b[0m\u001b[0mliveplot\u001b[0m\u001b[0;34m.\u001b[0m\u001b[0mupdate\u001b[0m\u001b[0;34m(\u001b[0m\u001b[0mlogs\u001b[0m\u001b[0;34m.\u001b[0m\u001b[0mcopy\u001b[0m\u001b[0;34m(\u001b[0m\u001b[0;34m)\u001b[0m\u001b[0;34m,\u001b[0m \u001b[0mepoch\u001b[0m\u001b[0;34m)\u001b[0m\u001b[0;34m\u001b[0m\u001b[0;34m\u001b[0m\u001b[0m\n\u001b[0;32m---> 22\u001b[0;31m         \u001b[0mself\u001b[0m\u001b[0;34m.\u001b[0m\u001b[0mliveplot\u001b[0m\u001b[0;34m.\u001b[0m\u001b[0msend\u001b[0m\u001b[0;34m(\u001b[0m\u001b[0;34m)\u001b[0m\u001b[0;34m\u001b[0m\u001b[0;34m\u001b[0m\u001b[0m\n\u001b[0m",
            "\u001b[0;32m/usr/local/lib/python3.7/dist-packages/livelossplot/plot_losses.py\u001b[0m in \u001b[0;36msend\u001b[0;34m(self)\u001b[0m\n\u001b[1;32m     39\u001b[0m         \u001b[0;34m\"\"\"Method will send logs to every output class\"\"\"\u001b[0m\u001b[0;34m\u001b[0m\u001b[0;34m\u001b[0m\u001b[0m\n\u001b[1;32m     40\u001b[0m         \u001b[0;32mfor\u001b[0m \u001b[0moutput\u001b[0m \u001b[0;32min\u001b[0m \u001b[0mself\u001b[0m\u001b[0;34m.\u001b[0m\u001b[0moutputs\u001b[0m\u001b[0;34m:\u001b[0m\u001b[0;34m\u001b[0m\u001b[0;34m\u001b[0m\u001b[0m\n\u001b[0;32m---> 41\u001b[0;31m             \u001b[0moutput\u001b[0m\u001b[0;34m.\u001b[0m\u001b[0msend\u001b[0m\u001b[0;34m(\u001b[0m\u001b[0mself\u001b[0m\u001b[0;34m.\u001b[0m\u001b[0mlogger\u001b[0m\u001b[0;34m)\u001b[0m\u001b[0;34m\u001b[0m\u001b[0;34m\u001b[0m\u001b[0m\n\u001b[0m\u001b[1;32m     42\u001b[0m \u001b[0;34m\u001b[0m\u001b[0m\n\u001b[1;32m     43\u001b[0m     \u001b[0;32mdef\u001b[0m \u001b[0mdraw\u001b[0m\u001b[0;34m(\u001b[0m\u001b[0mself\u001b[0m\u001b[0;34m)\u001b[0m\u001b[0;34m:\u001b[0m\u001b[0;34m\u001b[0m\u001b[0;34m\u001b[0m\u001b[0m\n",
            "\u001b[0;32m/usr/local/lib/python3.7/dist-packages/livelossplot/outputs/matplotlib_plot.py\u001b[0m in \u001b[0;36msend\u001b[0;34m(self, logger)\u001b[0m\n\u001b[1;32m     55\u001b[0m         \u001b[0mmax_rows\u001b[0m \u001b[0;34m=\u001b[0m \u001b[0mmath\u001b[0m\u001b[0;34m.\u001b[0m\u001b[0mceil\u001b[0m\u001b[0;34m(\u001b[0m\u001b[0;34m(\u001b[0m\u001b[0mlen\u001b[0m\u001b[0;34m(\u001b[0m\u001b[0mlog_groups\u001b[0m\u001b[0;34m)\u001b[0m \u001b[0;34m+\u001b[0m \u001b[0mlen\u001b[0m\u001b[0;34m(\u001b[0m\u001b[0mself\u001b[0m\u001b[0;34m.\u001b[0m\u001b[0mextra_plots\u001b[0m\u001b[0;34m)\u001b[0m\u001b[0;34m)\u001b[0m \u001b[0;34m/\u001b[0m \u001b[0mself\u001b[0m\u001b[0;34m.\u001b[0m\u001b[0mmax_cols\u001b[0m\u001b[0;34m)\u001b[0m\u001b[0;34m\u001b[0m\u001b[0;34m\u001b[0m\u001b[0m\n\u001b[1;32m     56\u001b[0m \u001b[0;34m\u001b[0m\u001b[0m\n\u001b[0;32m---> 57\u001b[0;31m         \u001b[0mfig\u001b[0m\u001b[0;34m,\u001b[0m \u001b[0maxes\u001b[0m \u001b[0;34m=\u001b[0m \u001b[0mplt\u001b[0m\u001b[0;34m.\u001b[0m\u001b[0msubplots\u001b[0m\u001b[0;34m(\u001b[0m\u001b[0mmax_rows\u001b[0m\u001b[0;34m,\u001b[0m \u001b[0mself\u001b[0m\u001b[0;34m.\u001b[0m\u001b[0mmax_cols\u001b[0m\u001b[0;34m)\u001b[0m\u001b[0;34m\u001b[0m\u001b[0;34m\u001b[0m\u001b[0m\n\u001b[0m\u001b[1;32m     58\u001b[0m         \u001b[0maxes\u001b[0m \u001b[0;34m=\u001b[0m \u001b[0maxes\u001b[0m\u001b[0;34m.\u001b[0m\u001b[0mreshape\u001b[0m\u001b[0;34m(\u001b[0m\u001b[0;34m-\u001b[0m\u001b[0;36m1\u001b[0m\u001b[0;34m,\u001b[0m \u001b[0mself\u001b[0m\u001b[0;34m.\u001b[0m\u001b[0mmax_cols\u001b[0m\u001b[0;34m)\u001b[0m\u001b[0;34m\u001b[0m\u001b[0;34m\u001b[0m\u001b[0m\n\u001b[1;32m     59\u001b[0m         \u001b[0mself\u001b[0m\u001b[0;34m.\u001b[0m\u001b[0m_before_plots\u001b[0m\u001b[0;34m(\u001b[0m\u001b[0mfig\u001b[0m\u001b[0;34m,\u001b[0m \u001b[0maxes\u001b[0m\u001b[0;34m,\u001b[0m \u001b[0mlen\u001b[0m\u001b[0;34m(\u001b[0m\u001b[0mlog_groups\u001b[0m\u001b[0;34m)\u001b[0m\u001b[0;34m)\u001b[0m\u001b[0;34m\u001b[0m\u001b[0;34m\u001b[0m\u001b[0m\n",
            "\u001b[0;32m/usr/local/lib/python3.7/dist-packages/matplotlib/pyplot.py\u001b[0m in \u001b[0;36msubplots\u001b[0;34m(nrows, ncols, sharex, sharey, squeeze, subplot_kw, gridspec_kw, **fig_kw)\u001b[0m\n\u001b[1;32m   1178\u001b[0m     axs = fig.subplots(nrows=nrows, ncols=ncols, sharex=sharex, sharey=sharey,\n\u001b[1;32m   1179\u001b[0m                        \u001b[0msqueeze\u001b[0m\u001b[0;34m=\u001b[0m\u001b[0msqueeze\u001b[0m\u001b[0;34m,\u001b[0m \u001b[0msubplot_kw\u001b[0m\u001b[0;34m=\u001b[0m\u001b[0msubplot_kw\u001b[0m\u001b[0;34m,\u001b[0m\u001b[0;34m\u001b[0m\u001b[0;34m\u001b[0m\u001b[0m\n\u001b[0;32m-> 1180\u001b[0;31m                        gridspec_kw=gridspec_kw)\n\u001b[0m\u001b[1;32m   1181\u001b[0m     \u001b[0;32mreturn\u001b[0m \u001b[0mfig\u001b[0m\u001b[0;34m,\u001b[0m \u001b[0maxs\u001b[0m\u001b[0;34m\u001b[0m\u001b[0;34m\u001b[0m\u001b[0m\n\u001b[1;32m   1182\u001b[0m \u001b[0;34m\u001b[0m\u001b[0m\n",
            "\u001b[0;32m/usr/local/lib/python3.7/dist-packages/matplotlib/figure.py\u001b[0m in \u001b[0;36msubplots\u001b[0;34m(self, nrows, ncols, sharex, sharey, squeeze, subplot_kw, gridspec_kw)\u001b[0m\n\u001b[1;32m   1574\u001b[0m                 \u001b[0msubplot_kw\u001b[0m\u001b[0;34m[\u001b[0m\u001b[0;34m\"sharex\"\u001b[0m\u001b[0;34m]\u001b[0m \u001b[0;34m=\u001b[0m \u001b[0mshared_with\u001b[0m\u001b[0;34m[\u001b[0m\u001b[0msharex\u001b[0m\u001b[0;34m]\u001b[0m\u001b[0;34m\u001b[0m\u001b[0;34m\u001b[0m\u001b[0m\n\u001b[1;32m   1575\u001b[0m                 \u001b[0msubplot_kw\u001b[0m\u001b[0;34m[\u001b[0m\u001b[0;34m\"sharey\"\u001b[0m\u001b[0;34m]\u001b[0m \u001b[0;34m=\u001b[0m \u001b[0mshared_with\u001b[0m\u001b[0;34m[\u001b[0m\u001b[0msharey\u001b[0m\u001b[0;34m]\u001b[0m\u001b[0;34m\u001b[0m\u001b[0;34m\u001b[0m\u001b[0m\n\u001b[0;32m-> 1576\u001b[0;31m                 \u001b[0maxarr\u001b[0m\u001b[0;34m[\u001b[0m\u001b[0mrow\u001b[0m\u001b[0;34m,\u001b[0m \u001b[0mcol\u001b[0m\u001b[0;34m]\u001b[0m \u001b[0;34m=\u001b[0m \u001b[0mself\u001b[0m\u001b[0;34m.\u001b[0m\u001b[0madd_subplot\u001b[0m\u001b[0;34m(\u001b[0m\u001b[0mgs\u001b[0m\u001b[0;34m[\u001b[0m\u001b[0mrow\u001b[0m\u001b[0;34m,\u001b[0m \u001b[0mcol\u001b[0m\u001b[0;34m]\u001b[0m\u001b[0;34m,\u001b[0m \u001b[0;34m**\u001b[0m\u001b[0msubplot_kw\u001b[0m\u001b[0;34m)\u001b[0m\u001b[0;34m\u001b[0m\u001b[0;34m\u001b[0m\u001b[0m\n\u001b[0m\u001b[1;32m   1577\u001b[0m \u001b[0;34m\u001b[0m\u001b[0m\n\u001b[1;32m   1578\u001b[0m         \u001b[0;31m# turn off redundant tick labeling\u001b[0m\u001b[0;34m\u001b[0m\u001b[0;34m\u001b[0m\u001b[0;34m\u001b[0m\u001b[0m\n",
            "\u001b[0;32m/usr/local/lib/python3.7/dist-packages/matplotlib/figure.py\u001b[0m in \u001b[0;36madd_subplot\u001b[0;34m(self, *args, **kwargs)\u001b[0m\n\u001b[1;32m   1417\u001b[0m                     \u001b[0mself\u001b[0m\u001b[0;34m.\u001b[0m\u001b[0m_axstack\u001b[0m\u001b[0;34m.\u001b[0m\u001b[0mremove\u001b[0m\u001b[0;34m(\u001b[0m\u001b[0max\u001b[0m\u001b[0;34m)\u001b[0m\u001b[0;34m\u001b[0m\u001b[0;34m\u001b[0m\u001b[0m\n\u001b[1;32m   1418\u001b[0m \u001b[0;34m\u001b[0m\u001b[0m\n\u001b[0;32m-> 1419\u001b[0;31m             \u001b[0ma\u001b[0m \u001b[0;34m=\u001b[0m \u001b[0msubplot_class_factory\u001b[0m\u001b[0;34m(\u001b[0m\u001b[0mprojection_class\u001b[0m\u001b[0;34m)\u001b[0m\u001b[0;34m(\u001b[0m\u001b[0mself\u001b[0m\u001b[0;34m,\u001b[0m \u001b[0;34m*\u001b[0m\u001b[0margs\u001b[0m\u001b[0;34m,\u001b[0m \u001b[0;34m**\u001b[0m\u001b[0mkwargs\u001b[0m\u001b[0;34m)\u001b[0m\u001b[0;34m\u001b[0m\u001b[0;34m\u001b[0m\u001b[0m\n\u001b[0m\u001b[1;32m   1420\u001b[0m \u001b[0;34m\u001b[0m\u001b[0m\n\u001b[1;32m   1421\u001b[0m         \u001b[0;32mreturn\u001b[0m \u001b[0mself\u001b[0m\u001b[0;34m.\u001b[0m\u001b[0m_add_axes_internal\u001b[0m\u001b[0;34m(\u001b[0m\u001b[0mkey\u001b[0m\u001b[0;34m,\u001b[0m \u001b[0ma\u001b[0m\u001b[0;34m)\u001b[0m\u001b[0;34m\u001b[0m\u001b[0;34m\u001b[0m\u001b[0m\n",
            "\u001b[0;32m/usr/local/lib/python3.7/dist-packages/matplotlib/axes/_subplots.py\u001b[0m in \u001b[0;36m__init__\u001b[0;34m(self, fig, *args, **kwargs)\u001b[0m\n\u001b[1;32m     74\u001b[0m \u001b[0;34m\u001b[0m\u001b[0m\n\u001b[1;32m     75\u001b[0m         \u001b[0;31m# _axes_class is set in the subplot_class_factory\u001b[0m\u001b[0;34m\u001b[0m\u001b[0;34m\u001b[0m\u001b[0;34m\u001b[0m\u001b[0m\n\u001b[0;32m---> 76\u001b[0;31m         \u001b[0mself\u001b[0m\u001b[0;34m.\u001b[0m\u001b[0m_axes_class\u001b[0m\u001b[0;34m.\u001b[0m\u001b[0m__init__\u001b[0m\u001b[0;34m(\u001b[0m\u001b[0mself\u001b[0m\u001b[0;34m,\u001b[0m \u001b[0mfig\u001b[0m\u001b[0;34m,\u001b[0m \u001b[0mself\u001b[0m\u001b[0;34m.\u001b[0m\u001b[0mfigbox\u001b[0m\u001b[0;34m,\u001b[0m \u001b[0;34m**\u001b[0m\u001b[0mkwargs\u001b[0m\u001b[0;34m)\u001b[0m\u001b[0;34m\u001b[0m\u001b[0;34m\u001b[0m\u001b[0m\n\u001b[0m\u001b[1;32m     77\u001b[0m         \u001b[0;31m# add a layout box to this, for both the full axis, and the poss\u001b[0m\u001b[0;34m\u001b[0m\u001b[0;34m\u001b[0m\u001b[0;34m\u001b[0m\u001b[0m\n\u001b[1;32m     78\u001b[0m         \u001b[0;31m# of the axis.  We need both because the axes may become smaller\u001b[0m\u001b[0;34m\u001b[0m\u001b[0;34m\u001b[0m\u001b[0;34m\u001b[0m\u001b[0m\n",
            "\u001b[0;32m/usr/local/lib/python3.7/dist-packages/matplotlib/axes/_base.py\u001b[0m in \u001b[0;36m__init__\u001b[0;34m(self, fig, rect, facecolor, frameon, sharex, sharey, label, xscale, yscale, **kwargs)\u001b[0m\n\u001b[1;32m    452\u001b[0m \u001b[0;34m\u001b[0m\u001b[0m\n\u001b[1;32m    453\u001b[0m         \u001b[0mself\u001b[0m\u001b[0;34m.\u001b[0m\u001b[0m_rasterization_zorder\u001b[0m \u001b[0;34m=\u001b[0m \u001b[0;32mNone\u001b[0m\u001b[0;34m\u001b[0m\u001b[0;34m\u001b[0m\u001b[0m\n\u001b[0;32m--> 454\u001b[0;31m         \u001b[0mself\u001b[0m\u001b[0;34m.\u001b[0m\u001b[0mcla\u001b[0m\u001b[0;34m(\u001b[0m\u001b[0;34m)\u001b[0m\u001b[0;34m\u001b[0m\u001b[0;34m\u001b[0m\u001b[0m\n\u001b[0m\u001b[1;32m    455\u001b[0m \u001b[0;34m\u001b[0m\u001b[0m\n\u001b[1;32m    456\u001b[0m         \u001b[0;31m# funcs used to format x and y - fall back on major formatters\u001b[0m\u001b[0;34m\u001b[0m\u001b[0;34m\u001b[0m\u001b[0;34m\u001b[0m\u001b[0m\n",
            "\u001b[0;32m/usr/local/lib/python3.7/dist-packages/matplotlib/axes/_base.py\u001b[0m in \u001b[0;36mcla\u001b[0;34m(self)\u001b[0m\n\u001b[1;32m   1068\u001b[0m         \u001b[0;31m# the other artists.  We use the frame to draw the edges so we are\u001b[0m\u001b[0;34m\u001b[0m\u001b[0;34m\u001b[0m\u001b[0;34m\u001b[0m\u001b[0m\n\u001b[1;32m   1069\u001b[0m         \u001b[0;31m# setting the edgecolor to None.\u001b[0m\u001b[0;34m\u001b[0m\u001b[0;34m\u001b[0m\u001b[0;34m\u001b[0m\u001b[0m\n\u001b[0;32m-> 1070\u001b[0;31m         \u001b[0mself\u001b[0m\u001b[0;34m.\u001b[0m\u001b[0mpatch\u001b[0m \u001b[0;34m=\u001b[0m \u001b[0mself\u001b[0m\u001b[0;34m.\u001b[0m\u001b[0m_gen_axes_patch\u001b[0m\u001b[0;34m(\u001b[0m\u001b[0;34m)\u001b[0m\u001b[0;34m\u001b[0m\u001b[0;34m\u001b[0m\u001b[0m\n\u001b[0m\u001b[1;32m   1071\u001b[0m         \u001b[0mself\u001b[0m\u001b[0;34m.\u001b[0m\u001b[0mpatch\u001b[0m\u001b[0;34m.\u001b[0m\u001b[0mset_figure\u001b[0m\u001b[0;34m(\u001b[0m\u001b[0mself\u001b[0m\u001b[0;34m.\u001b[0m\u001b[0mfigure\u001b[0m\u001b[0;34m)\u001b[0m\u001b[0;34m\u001b[0m\u001b[0;34m\u001b[0m\u001b[0m\n\u001b[1;32m   1072\u001b[0m         \u001b[0mself\u001b[0m\u001b[0;34m.\u001b[0m\u001b[0mpatch\u001b[0m\u001b[0;34m.\u001b[0m\u001b[0mset_facecolor\u001b[0m\u001b[0;34m(\u001b[0m\u001b[0mself\u001b[0m\u001b[0;34m.\u001b[0m\u001b[0m_facecolor\u001b[0m\u001b[0;34m)\u001b[0m\u001b[0;34m\u001b[0m\u001b[0;34m\u001b[0m\u001b[0m\n",
            "\u001b[0;32m/usr/local/lib/python3.7/dist-packages/matplotlib/axes/_base.py\u001b[0m in \u001b[0;36m_gen_axes_patch\u001b[0;34m(self)\u001b[0m\n\u001b[1;32m    926\u001b[0m         \u001b[0mIntended\u001b[0m \u001b[0mto\u001b[0m \u001b[0mbe\u001b[0m \u001b[0moverridden\u001b[0m \u001b[0mby\u001b[0m \u001b[0mnew\u001b[0m \u001b[0mprojection\u001b[0m \u001b[0mtypes\u001b[0m\u001b[0;34m.\u001b[0m\u001b[0;34m\u001b[0m\u001b[0;34m\u001b[0m\u001b[0m\n\u001b[1;32m    927\u001b[0m         \"\"\"\n\u001b[0;32m--> 928\u001b[0;31m         \u001b[0;32mreturn\u001b[0m \u001b[0mmpatches\u001b[0m\u001b[0;34m.\u001b[0m\u001b[0mRectangle\u001b[0m\u001b[0;34m(\u001b[0m\u001b[0;34m(\u001b[0m\u001b[0;36m0.0\u001b[0m\u001b[0;34m,\u001b[0m \u001b[0;36m0.0\u001b[0m\u001b[0;34m)\u001b[0m\u001b[0;34m,\u001b[0m \u001b[0;36m1.0\u001b[0m\u001b[0;34m,\u001b[0m \u001b[0;36m1.0\u001b[0m\u001b[0;34m)\u001b[0m\u001b[0;34m\u001b[0m\u001b[0;34m\u001b[0m\u001b[0m\n\u001b[0m\u001b[1;32m    929\u001b[0m \u001b[0;34m\u001b[0m\u001b[0m\n\u001b[1;32m    930\u001b[0m     \u001b[0;32mdef\u001b[0m \u001b[0m_gen_axes_spines\u001b[0m\u001b[0;34m(\u001b[0m\u001b[0mself\u001b[0m\u001b[0;34m,\u001b[0m \u001b[0mlocations\u001b[0m\u001b[0;34m=\u001b[0m\u001b[0;32mNone\u001b[0m\u001b[0;34m,\u001b[0m \u001b[0moffset\u001b[0m\u001b[0;34m=\u001b[0m\u001b[0;36m0.0\u001b[0m\u001b[0;34m,\u001b[0m \u001b[0munits\u001b[0m\u001b[0;34m=\u001b[0m\u001b[0;34m'inches'\u001b[0m\u001b[0;34m)\u001b[0m\u001b[0;34m:\u001b[0m\u001b[0;34m\u001b[0m\u001b[0;34m\u001b[0m\u001b[0m\n",
            "\u001b[0;32m/usr/local/lib/python3.7/dist-packages/matplotlib/patches.py\u001b[0m in \u001b[0;36m__init__\u001b[0;34m(self, xy, width, height, angle, **kwargs)\u001b[0m\n\u001b[1;32m    725\u001b[0m         \"\"\"\n\u001b[1;32m    726\u001b[0m \u001b[0;34m\u001b[0m\u001b[0m\n\u001b[0;32m--> 727\u001b[0;31m         \u001b[0mPatch\u001b[0m\u001b[0;34m.\u001b[0m\u001b[0m__init__\u001b[0m\u001b[0;34m(\u001b[0m\u001b[0mself\u001b[0m\u001b[0;34m,\u001b[0m \u001b[0;34m**\u001b[0m\u001b[0mkwargs\u001b[0m\u001b[0;34m)\u001b[0m\u001b[0;34m\u001b[0m\u001b[0;34m\u001b[0m\u001b[0m\n\u001b[0m\u001b[1;32m    728\u001b[0m \u001b[0;34m\u001b[0m\u001b[0m\n\u001b[1;32m    729\u001b[0m         \u001b[0mself\u001b[0m\u001b[0;34m.\u001b[0m\u001b[0m_x0\u001b[0m \u001b[0;34m=\u001b[0m \u001b[0mxy\u001b[0m\u001b[0;34m[\u001b[0m\u001b[0;36m0\u001b[0m\u001b[0;34m]\u001b[0m\u001b[0;34m\u001b[0m\u001b[0;34m\u001b[0m\u001b[0m\n",
            "\u001b[0;32m/usr/local/lib/python3.7/dist-packages/matplotlib/patches.py\u001b[0m in \u001b[0;36m__init__\u001b[0;34m(self, edgecolor, facecolor, color, linewidth, linestyle, antialiased, hatch, fill, capstyle, joinstyle, **kwargs)\u001b[0m\n\u001b[1;32m     70\u001b[0m             \u001b[0mantialiased\u001b[0m \u001b[0;34m=\u001b[0m \u001b[0mmpl\u001b[0m\u001b[0;34m.\u001b[0m\u001b[0mrcParams\u001b[0m\u001b[0;34m[\u001b[0m\u001b[0;34m'patch.antialiased'\u001b[0m\u001b[0;34m]\u001b[0m\u001b[0;34m\u001b[0m\u001b[0;34m\u001b[0m\u001b[0m\n\u001b[1;32m     71\u001b[0m \u001b[0;34m\u001b[0m\u001b[0m\n\u001b[0;32m---> 72\u001b[0;31m         \u001b[0mself\u001b[0m\u001b[0;34m.\u001b[0m\u001b[0m_hatch_color\u001b[0m \u001b[0;34m=\u001b[0m \u001b[0mcolors\u001b[0m\u001b[0;34m.\u001b[0m\u001b[0mto_rgba\u001b[0m\u001b[0;34m(\u001b[0m\u001b[0mmpl\u001b[0m\u001b[0;34m.\u001b[0m\u001b[0mrcParams\u001b[0m\u001b[0;34m[\u001b[0m\u001b[0;34m'hatch.color'\u001b[0m\u001b[0;34m]\u001b[0m\u001b[0;34m)\u001b[0m\u001b[0;34m\u001b[0m\u001b[0;34m\u001b[0m\u001b[0m\n\u001b[0m\u001b[1;32m     73\u001b[0m         \u001b[0mself\u001b[0m\u001b[0;34m.\u001b[0m\u001b[0m_fill\u001b[0m \u001b[0;34m=\u001b[0m \u001b[0;32mTrue\u001b[0m  \u001b[0;31m# needed for set_facecolor call\u001b[0m\u001b[0;34m\u001b[0m\u001b[0;34m\u001b[0m\u001b[0m\n\u001b[1;32m     74\u001b[0m         \u001b[0;32mif\u001b[0m \u001b[0mcolor\u001b[0m \u001b[0;32mis\u001b[0m \u001b[0;32mnot\u001b[0m \u001b[0;32mNone\u001b[0m\u001b[0;34m:\u001b[0m\u001b[0;34m\u001b[0m\u001b[0;34m\u001b[0m\u001b[0m\n",
            "\u001b[0;32m/usr/local/lib/python3.7/dist-packages/matplotlib/colors.py\u001b[0m in \u001b[0;36mto_rgba\u001b[0;34m(c, alpha)\u001b[0m\n\u001b[1;32m    173\u001b[0m     \"\"\"\n\u001b[1;32m    174\u001b[0m     \u001b[0;31m# Special-case nth color syntax because it should not be cached.\u001b[0m\u001b[0;34m\u001b[0m\u001b[0;34m\u001b[0m\u001b[0;34m\u001b[0m\u001b[0m\n\u001b[0;32m--> 175\u001b[0;31m     \u001b[0;32mif\u001b[0m \u001b[0m_is_nth_color\u001b[0m\u001b[0;34m(\u001b[0m\u001b[0mc\u001b[0m\u001b[0;34m)\u001b[0m\u001b[0;34m:\u001b[0m\u001b[0;34m\u001b[0m\u001b[0;34m\u001b[0m\u001b[0m\n\u001b[0m\u001b[1;32m    176\u001b[0m         \u001b[0;32mfrom\u001b[0m \u001b[0mmatplotlib\u001b[0m \u001b[0;32mimport\u001b[0m \u001b[0mrcParams\u001b[0m\u001b[0;34m\u001b[0m\u001b[0;34m\u001b[0m\u001b[0m\n\u001b[1;32m    177\u001b[0m         \u001b[0mprop_cycler\u001b[0m \u001b[0;34m=\u001b[0m \u001b[0mrcParams\u001b[0m\u001b[0;34m[\u001b[0m\u001b[0;34m'axes.prop_cycle'\u001b[0m\u001b[0;34m]\u001b[0m\u001b[0;34m\u001b[0m\u001b[0;34m\u001b[0m\u001b[0m\n",
            "\u001b[0;32m/usr/local/lib/python3.7/dist-packages/matplotlib/colors.py\u001b[0m in \u001b[0;36m_is_nth_color\u001b[0;34m(c)\u001b[0m\n\u001b[1;32m    123\u001b[0m \u001b[0;32mdef\u001b[0m \u001b[0m_is_nth_color\u001b[0m\u001b[0;34m(\u001b[0m\u001b[0mc\u001b[0m\u001b[0;34m)\u001b[0m\u001b[0;34m:\u001b[0m\u001b[0;34m\u001b[0m\u001b[0;34m\u001b[0m\u001b[0m\n\u001b[1;32m    124\u001b[0m     \u001b[0;34m\"\"\"Return whether *c* can be interpreted as an item in the color cycle.\"\"\"\u001b[0m\u001b[0;34m\u001b[0m\u001b[0;34m\u001b[0m\u001b[0m\n\u001b[0;32m--> 125\u001b[0;31m     \u001b[0;32mreturn\u001b[0m \u001b[0misinstance\u001b[0m\u001b[0;34m(\u001b[0m\u001b[0mc\u001b[0m\u001b[0;34m,\u001b[0m \u001b[0mstr\u001b[0m\u001b[0;34m)\u001b[0m \u001b[0;32mand\u001b[0m \u001b[0mre\u001b[0m\u001b[0;34m.\u001b[0m\u001b[0mmatch\u001b[0m\u001b[0;34m(\u001b[0m\u001b[0;34mr\"\\AC[0-9]+\\Z\"\u001b[0m\u001b[0;34m,\u001b[0m \u001b[0mc\u001b[0m\u001b[0;34m)\u001b[0m\u001b[0;34m\u001b[0m\u001b[0;34m\u001b[0m\u001b[0m\n\u001b[0m\u001b[1;32m    126\u001b[0m \u001b[0;34m\u001b[0m\u001b[0m\n\u001b[1;32m    127\u001b[0m \u001b[0;34m\u001b[0m\u001b[0m\n",
            "\u001b[0;32m/usr/lib/python3.7/re.py\u001b[0m in \u001b[0;36mmatch\u001b[0;34m(pattern, string, flags)\u001b[0m\n\u001b[1;32m    173\u001b[0m     \"\"\"Try to apply the pattern at the start of the string, returning\n\u001b[1;32m    174\u001b[0m     a Match object, or None if no match was found.\"\"\"\n\u001b[0;32m--> 175\u001b[0;31m     \u001b[0;32mreturn\u001b[0m \u001b[0m_compile\u001b[0m\u001b[0;34m(\u001b[0m\u001b[0mpattern\u001b[0m\u001b[0;34m,\u001b[0m \u001b[0mflags\u001b[0m\u001b[0;34m)\u001b[0m\u001b[0;34m.\u001b[0m\u001b[0mmatch\u001b[0m\u001b[0;34m(\u001b[0m\u001b[0mstring\u001b[0m\u001b[0;34m)\u001b[0m\u001b[0;34m\u001b[0m\u001b[0;34m\u001b[0m\u001b[0m\n\u001b[0m\u001b[1;32m    176\u001b[0m \u001b[0;34m\u001b[0m\u001b[0m\n\u001b[1;32m    177\u001b[0m \u001b[0;32mdef\u001b[0m \u001b[0mfullmatch\u001b[0m\u001b[0;34m(\u001b[0m\u001b[0mpattern\u001b[0m\u001b[0;34m,\u001b[0m \u001b[0mstring\u001b[0m\u001b[0;34m,\u001b[0m \u001b[0mflags\u001b[0m\u001b[0;34m=\u001b[0m\u001b[0;36m0\u001b[0m\u001b[0;34m)\u001b[0m\u001b[0;34m:\u001b[0m\u001b[0;34m\u001b[0m\u001b[0;34m\u001b[0m\u001b[0m\n",
            "\u001b[0;32m/usr/lib/python3.7/re.py\u001b[0m in \u001b[0;36m_compile\u001b[0;34m(pattern, flags)\u001b[0m\n\u001b[1;32m    273\u001b[0m \u001b[0;32mdef\u001b[0m \u001b[0m_compile\u001b[0m\u001b[0;34m(\u001b[0m\u001b[0mpattern\u001b[0m\u001b[0;34m,\u001b[0m \u001b[0mflags\u001b[0m\u001b[0;34m)\u001b[0m\u001b[0;34m:\u001b[0m\u001b[0;34m\u001b[0m\u001b[0;34m\u001b[0m\u001b[0m\n\u001b[1;32m    274\u001b[0m     \u001b[0;31m# internal: compile pattern\u001b[0m\u001b[0;34m\u001b[0m\u001b[0;34m\u001b[0m\u001b[0;34m\u001b[0m\u001b[0m\n\u001b[0;32m--> 275\u001b[0;31m     \u001b[0;32mif\u001b[0m \u001b[0misinstance\u001b[0m\u001b[0;34m(\u001b[0m\u001b[0mflags\u001b[0m\u001b[0;34m,\u001b[0m \u001b[0mRegexFlag\u001b[0m\u001b[0;34m)\u001b[0m\u001b[0;34m:\u001b[0m\u001b[0;34m\u001b[0m\u001b[0;34m\u001b[0m\u001b[0m\n\u001b[0m\u001b[1;32m    276\u001b[0m         \u001b[0mflags\u001b[0m \u001b[0;34m=\u001b[0m \u001b[0mflags\u001b[0m\u001b[0;34m.\u001b[0m\u001b[0mvalue\u001b[0m\u001b[0;34m\u001b[0m\u001b[0;34m\u001b[0m\u001b[0m\n\u001b[1;32m    277\u001b[0m     \u001b[0;32mtry\u001b[0m\u001b[0;34m:\u001b[0m\u001b[0;34m\u001b[0m\u001b[0;34m\u001b[0m\u001b[0m\n",
            "\u001b[0;31mKeyboardInterrupt\u001b[0m: "
          ]
        },
        {
          "output_type": "display_data",
          "data": {
            "image/png": "[encoded data removed]",
            "text/plain": [
              "<Figure size 432x288 with 1 Axes>"
            ]
          },
          "metadata": {
            "tags": [],
            "needs_background": "light"
          }
        }
      ]
    },
    {
      "cell_type": "code",
      "metadata": {
        "id": "42DYeQxnTTqc"
      },
      "source": [
        ""
      ],
      "execution_count": null,
      "outputs": []
    }
  ]
}