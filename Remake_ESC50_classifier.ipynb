{
  "nbformat": 4,
  "nbformat_minor": 0,
  "metadata": {
    "colab": {
      "name": "Remake ESC50 classifier.ipynb",
      "provenance": [],
      "toc_visible": true,
      "mount_file_id": "https://github.com/DanieleFoscarin/HDA2021/blob/main/Remake_ESC50_classifier.ipynb",
      "authorship_tag": "ABX9TyPmHtzLIe2rdU53trDNWhBc",
      "include_colab_link": true
    },
    "kernelspec": {
      "name": "python3",
      "display_name": "Python 3"
    },
    "accelerator": "GPU",
    "widgets": {
      "application/vnd.jupyter.widget-state+json": {
        "d95d4f727b844d4db8c749c49bb13cdc": {
          "model_module": "@jupyter-widgets/controls",
          "model_name": "HBoxModel",
          "state": {
            "_view_name": "HBoxView",
            "_dom_classes": [],
            "_model_name": "HBoxModel",
            "_view_module": "@jupyter-widgets/controls",
            "_model_module_version": "1.5.0",
            "_view_count": null,
            "_view_module_version": "1.5.0",
            "box_style": "",
            "layout": "IPY_MODEL_7f9eafeb0e584f48875d97be97dbc865",
            "_model_module": "@jupyter-widgets/controls",
            "children": [
              "IPY_MODEL_33075b0c4703441b88a49fd149bb77a1",
              "IPY_MODEL_becc0d86fb8f46f098f53a6d912c3c05"
            ]
          }
        },
        "7f9eafeb0e584f48875d97be97dbc865": {
          "model_module": "@jupyter-widgets/base",
          "model_name": "LayoutModel",
          "state": {
            "_view_name": "LayoutView",
            "grid_template_rows": null,
            "right": null,
            "justify_content": null,
            "_view_module": "@jupyter-widgets/base",
            "overflow": null,
            "_model_module_version": "1.2.0",
            "_view_count": null,
            "flex_flow": null,
            "width": null,
            "min_width": null,
            "border": null,
            "align_items": null,
            "bottom": null,
            "_model_module": "@jupyter-widgets/base",
            "top": null,
            "grid_column": null,
            "overflow_y": null,
            "overflow_x": null,
            "grid_auto_flow": null,
            "grid_area": null,
            "grid_template_columns": null,
            "flex": null,
            "_model_name": "LayoutModel",
            "justify_items": null,
            "grid_row": null,
            "max_height": null,
            "align_content": null,
            "visibility": null,
            "align_self": null,
            "height": null,
            "min_height": null,
            "padding": null,
            "grid_auto_rows": null,
            "grid_gap": null,
            "max_width": null,
            "order": null,
            "_view_module_version": "1.2.0",
            "grid_template_areas": null,
            "object_position": null,
            "object_fit": null,
            "grid_auto_columns": null,
            "margin": null,
            "display": null,
            "left": null
          }
        },
        "33075b0c4703441b88a49fd149bb77a1": {
          "model_module": "@jupyter-widgets/controls",
          "model_name": "FloatProgressModel",
          "state": {
            "_view_name": "ProgressView",
            "style": "IPY_MODEL_1da232b9e71c44daae579a7a905f03fc",
            "_dom_classes": [],
            "description": "100%",
            "_model_name": "FloatProgressModel",
            "bar_style": "success",
            "max": 2000,
            "_view_module": "@jupyter-widgets/controls",
            "_model_module_version": "1.5.0",
            "value": 2000,
            "_view_count": null,
            "_view_module_version": "1.5.0",
            "orientation": "horizontal",
            "min": 0,
            "description_tooltip": null,
            "_model_module": "@jupyter-widgets/controls",
            "layout": "IPY_MODEL_51dd0f3e6e2f4d5d9432b492432f58dc"
          }
        },
        "becc0d86fb8f46f098f53a6d912c3c05": {
          "model_module": "@jupyter-widgets/controls",
          "model_name": "HTMLModel",
          "state": {
            "_view_name": "HTMLView",
            "style": "IPY_MODEL_dcb90340de5a4c4c91101cbcaf100811",
            "_dom_classes": [],
            "description": "",
            "_model_name": "HTMLModel",
            "placeholder": "​",
            "_view_module": "@jupyter-widgets/controls",
            "_model_module_version": "1.5.0",
            "value": " 2000/2000 [02:25&lt;00:00, 13.78it/s]",
            "_view_count": null,
            "_view_module_version": "1.5.0",
            "description_tooltip": null,
            "_model_module": "@jupyter-widgets/controls",
            "layout": "IPY_MODEL_a05512e0e35049e98546ce9ece8995fe"
          }
        },
        "1da232b9e71c44daae579a7a905f03fc": {
          "model_module": "@jupyter-widgets/controls",
          "model_name": "ProgressStyleModel",
          "state": {
            "_view_name": "StyleView",
            "_model_name": "ProgressStyleModel",
            "description_width": "initial",
            "_view_module": "@jupyter-widgets/base",
            "_model_module_version": "1.5.0",
            "_view_count": null,
            "_view_module_version": "1.2.0",
            "bar_color": null,
            "_model_module": "@jupyter-widgets/controls"
          }
        },
        "51dd0f3e6e2f4d5d9432b492432f58dc": {
          "model_module": "@jupyter-widgets/base",
          "model_name": "LayoutModel",
          "state": {
            "_view_name": "LayoutView",
            "grid_template_rows": null,
            "right": null,
            "justify_content": null,
            "_view_module": "@jupyter-widgets/base",
            "overflow": null,
            "_model_module_version": "1.2.0",
            "_view_count": null,
            "flex_flow": null,
            "width": null,
            "min_width": null,
            "border": null,
            "align_items": null,
            "bottom": null,
            "_model_module": "@jupyter-widgets/base",
            "top": null,
            "grid_column": null,
            "overflow_y": null,
            "overflow_x": null,
            "grid_auto_flow": null,
            "grid_area": null,
            "grid_template_columns": null,
            "flex": null,
            "_model_name": "LayoutModel",
            "justify_items": null,
            "grid_row": null,
            "max_height": null,
            "align_content": null,
            "visibility": null,
            "align_self": null,
            "height": null,
            "min_height": null,
            "padding": null,
            "grid_auto_rows": null,
            "grid_gap": null,
            "max_width": null,
            "order": null,
            "_view_module_version": "1.2.0",
            "grid_template_areas": null,
            "object_position": null,
            "object_fit": null,
            "grid_auto_columns": null,
            "margin": null,
            "display": null,
            "left": null
          }
        },
        "dcb90340de5a4c4c91101cbcaf100811": {
          "model_module": "@jupyter-widgets/controls",
          "model_name": "DescriptionStyleModel",
          "state": {
            "_view_name": "StyleView",
            "_model_name": "DescriptionStyleModel",
            "description_width": "",
            "_view_module": "@jupyter-widgets/base",
            "_model_module_version": "1.5.0",
            "_view_count": null,
            "_view_module_version": "1.2.0",
            "_model_module": "@jupyter-widgets/controls"
          }
        },
        "a05512e0e35049e98546ce9ece8995fe": {
          "model_module": "@jupyter-widgets/base",
          "model_name": "LayoutModel",
          "state": {
            "_view_name": "LayoutView",
            "grid_template_rows": null,
            "right": null,
            "justify_content": null,
            "_view_module": "@jupyter-widgets/base",
            "overflow": null,
            "_model_module_version": "1.2.0",
            "_view_count": null,
            "flex_flow": null,
            "width": null,
            "min_width": null,
            "border": null,
            "align_items": null,
            "bottom": null,
            "_model_module": "@jupyter-widgets/base",
            "top": null,
            "grid_column": null,
            "overflow_y": null,
            "overflow_x": null,
            "grid_auto_flow": null,
            "grid_area": null,
            "grid_template_columns": null,
            "flex": null,
            "_model_name": "LayoutModel",
            "justify_items": null,
            "grid_row": null,
            "max_height": null,
            "align_content": null,
            "visibility": null,
            "align_self": null,
            "height": null,
            "min_height": null,
            "padding": null,
            "grid_auto_rows": null,
            "grid_gap": null,
            "max_width": null,
            "order": null,
            "_view_module_version": "1.2.0",
            "grid_template_areas": null,
            "object_position": null,
            "object_fit": null,
            "grid_auto_columns": null,
            "margin": null,
            "display": null,
            "left": null
          }
        }
      }
    }
  },
  "cells": [
    {
      "cell_type": "markdown",
      "metadata": {
        "id": "view-in-github",
        "colab_type": "text"
      },
      "source": [
        "<a href=\"https://colab.research.google.com/github/DanieleFoscarin/HDA2021/blob/main/Remake_ESC50_classifier.ipynb\" target=\"_parent\"><img src=\"https://colab.research.google.com/assets/colab-badge.svg\" alt=\"Open In Colab\"/></a>"
      ]
    },
    {
      "cell_type": "markdown",
      "metadata": {
        "id": "A-HHzLIXZY17"
      },
      "source": [
        "Fine tuning reference https://www.kaggle.com/sgcuber24/fine-tune-mobilenet-v2\n",
        "\n",
        "Model choice reference https://towardsdatascience.com/how-to-choose-the-best-keras-pre-trained-model-for-image-classification-b850ca4428d4"
      ]
    },
    {
      "cell_type": "code",
      "metadata": {
        "id": "iiWyliJiBzaE",
        "colab": {
          "base_uri": "https://localhost:8080/"
        },
        "outputId": "93efd1c0-8d48-4204-c9f7-e7e2bc7b371a"
      },
      "source": [
        "# TODO change chromagram with gammatone\n",
        "\n",
        "# ! pip install git+https://github.com/detly/gammatone.git --quiet\n",
        "# import gammatone"
      ],
      "execution_count": null,
      "outputs": [
        {
          "output_type": "stream",
          "text": [
            "  Building wheel for Gammatone (setup.py) ... \u001b[?25l\u001b[?25hdone\n"
          ],
          "name": "stdout"
        }
      ]
    },
    {
      "cell_type": "code",
      "metadata": {
        "id": "4LHBeu3ccRWI"
      },
      "source": [
        "# ! pip install brian2hears --quiet\n",
        "# import brian2 as b2\n",
        "# import brian2hears as b2h"
      ],
      "execution_count": 1,
      "outputs": []
    },
    {
      "cell_type": "code",
      "metadata": {
        "id": "os9gS_6l0dKn"
      },
      "source": [
        "! pip install icecream --quiet\n",
        "from icecream import ic"
      ],
      "execution_count": 2,
      "outputs": []
    },
    {
      "cell_type": "code",
      "metadata": {
        "id": "owTStArCqOyF"
      },
      "source": [
        "from pathlib import Path\n",
        "from scipy.io import wavfile\n",
        "from IPython.display import Audio\n",
        "import pandas as pd\n",
        "import numpy as np\n",
        "from matplotlib import pyplot as plt \n",
        "import librosa\n",
        "from tqdm import tqdm, tqdm_notebook, notebook\n",
        "import gc\n",
        "import time \n",
        "# import numba\n",
        "import os\n",
        "import scipy.fftpack\n",
        "\n",
        "\n",
        "import tensorflow as tf\n",
        "from tensorflow.keras import layers\n",
        "from tensorflow.keras.utils import Sequence, SequenceEnqueuer   # try enquerer that uses parallelism\n",
        "from tensorflow import keras\n",
        "from tensorflow.keras.layers import BatchNormalization\n",
        "\n",
        "#import model \n",
        "from tensorflow.keras.applications.mobilenet_v2 import MobileNetV2\n",
        "\n",
        "sr = 44100"
      ],
      "execution_count": 3,
      "outputs": []
    },
    {
      "cell_type": "code",
      "metadata": {
        "id": "QhlvC6fouj5l",
        "colab": {
          "base_uri": "https://localhost:8080/"
        },
        "outputId": "14653d63-6559-4133-e673-b2e6a122505e"
      },
      "source": [
        "! pip install optuna --quiet\n",
        "import optuna"
      ],
      "execution_count": 4,
      "outputs": [
        {
          "output_type": "stream",
          "text": [
            "\u001b[K     |████████████████████████████████| 296kB 34.4MB/s \n",
            "\u001b[K     |████████████████████████████████| 81kB 11.8MB/s \n",
            "\u001b[K     |████████████████████████████████| 1.2MB 50.5MB/s \n",
            "\u001b[K     |████████████████████████████████| 143kB 49.9MB/s \n",
            "\u001b[K     |████████████████████████████████| 112kB 56.8MB/s \n",
            "\u001b[K     |████████████████████████████████| 51kB 8.0MB/s \n",
            "\u001b[K     |████████████████████████████████| 81kB 12.9MB/s \n",
            "\u001b[?25h  Building wheel for alembic (setup.py) ... \u001b[?25l\u001b[?25hdone\n",
            "  Building wheel for pyperclip (setup.py) ... \u001b[?25l\u001b[?25hdone\n"
          ],
          "name": "stdout"
        }
      ]
    },
    {
      "cell_type": "code",
      "metadata": {
        "id": "1JlJ6V7C3PXj"
      },
      "source": [
        "!pip install livelossplot --quiet\n",
        "from livelossplot import PlotLossesKeras"
      ],
      "execution_count": 5,
      "outputs": []
    },
    {
      "cell_type": "markdown",
      "metadata": {
        "id": "ej2eN-L_p4Nt"
      },
      "source": [
        "# Get Dataset"
      ]
    },
    {
      "cell_type": "code",
      "metadata": {
        "colab": {
          "base_uri": "https://localhost:8080/"
        },
        "id": "2sYgxpk9k3J-",
        "outputId": "7de100f4-a2d6-4c4b-8d36-efeecbcacb91"
      },
      "source": [
        "# Clone the entire repo.\n",
        "!git clone https://github.com/karolpiczak/ESC-50.git\n"
      ],
      "execution_count": 6,
      "outputs": [
        {
          "output_type": "stream",
          "text": [
            "Cloning into 'ESC-50'...\n",
            "remote: Enumerating objects: 4154, done.\u001b[K\n",
            "remote: Counting objects: 100% (18/18), done.\u001b[K\n",
            "remote: Compressing objects: 100% (18/18), done.\u001b[K\n",
            "remote: Total 4154 (delta 10), reused 0 (delta 0), pack-reused 4136\u001b[K\n",
            "Receiving objects: 100% (4154/4154), 878.78 MiB | 37.91 MiB/s, done.\n",
            "Resolving deltas: 100% (257/257), done.\n",
            "Checking out files: 100% (2011/2011), done.\n"
          ],
          "name": "stdout"
        }
      ]
    },
    {
      "cell_type": "code",
      "metadata": {
        "colab": {
          "base_uri": "https://localhost:8080/",
          "height": 419
        },
        "id": "TKGGth680BLt",
        "outputId": "7f3865dc-a446-427e-c72d-cb5117af6799"
      },
      "source": [
        "ROOT = '/content/ESC-50/audio/'\n",
        "\n",
        "data_info = pd.read_csv(ROOT+\"../meta/esc50.csv\")\n",
        "\n",
        "#make a category dictionary\n",
        "category_dict = dict(zip(data_info['target'], data_info['category']))\n",
        "# to_onehot_dict = dict(zip(range(0,50), np.))\n",
        "\n",
        "#remove unused coumn and add other\n",
        "# aug_col = np.zeros((len(data_info),1))\n",
        "# mixup_col = -1 * np.ones((len(data_info),1))\n",
        "# data_info.drop('esc10', axis=1, inplace=True)\n",
        "# data_info.drop('src_file', axis=1, inplace=True)\n",
        "# data_info.drop('take', axis=1, inplace=True)\n",
        "\n",
        "# data_info['augmentation'] = aug_col\n",
        "# data_info['mixup'] = mixup_col\n",
        "\n",
        "# # one hot encoding from category\n",
        "# data_info = pd.get_dummies(data_info, columns=[\"category\"], prefix='', prefix_sep='') \n",
        "\n",
        "\n",
        "data_info"
      ],
      "execution_count": 7,
      "outputs": [
        {
          "output_type": "execute_result",
          "data": {
            "text/html": [
              "<div>\n",
              "<style scoped>\n",
              "    .dataframe tbody tr th:only-of-type {\n",
              "        vertical-align: middle;\n",
              "    }\n",
              "\n",
              "    .dataframe tbody tr th {\n",
              "        vertical-align: top;\n",
              "    }\n",
              "\n",
              "    .dataframe thead th {\n",
              "        text-align: right;\n",
              "    }\n",
              "</style>\n",
              "<table border=\"1\" class=\"dataframe\">\n",
              "  <thead>\n",
              "    <tr style=\"text-align: right;\">\n",
              "      <th></th>\n",
              "      <th>filename</th>\n",
              "      <th>fold</th>\n",
              "      <th>target</th>\n",
              "      <th>category</th>\n",
              "      <th>esc10</th>\n",
              "      <th>src_file</th>\n",
              "      <th>take</th>\n",
              "    </tr>\n",
              "  </thead>\n",
              "  <tbody>\n",
              "    <tr>\n",
              "      <th>0</th>\n",
              "      <td>1-100032-A-0.wav</td>\n",
              "      <td>1</td>\n",
              "      <td>0</td>\n",
              "      <td>dog</td>\n",
              "      <td>True</td>\n",
              "      <td>100032</td>\n",
              "      <td>A</td>\n",
              "    </tr>\n",
              "    <tr>\n",
              "      <th>1</th>\n",
              "      <td>1-100038-A-14.wav</td>\n",
              "      <td>1</td>\n",
              "      <td>14</td>\n",
              "      <td>chirping_birds</td>\n",
              "      <td>False</td>\n",
              "      <td>100038</td>\n",
              "      <td>A</td>\n",
              "    </tr>\n",
              "    <tr>\n",
              "      <th>2</th>\n",
              "      <td>1-100210-A-36.wav</td>\n",
              "      <td>1</td>\n",
              "      <td>36</td>\n",
              "      <td>vacuum_cleaner</td>\n",
              "      <td>False</td>\n",
              "      <td>100210</td>\n",
              "      <td>A</td>\n",
              "    </tr>\n",
              "    <tr>\n",
              "      <th>3</th>\n",
              "      <td>1-100210-B-36.wav</td>\n",
              "      <td>1</td>\n",
              "      <td>36</td>\n",
              "      <td>vacuum_cleaner</td>\n",
              "      <td>False</td>\n",
              "      <td>100210</td>\n",
              "      <td>B</td>\n",
              "    </tr>\n",
              "    <tr>\n",
              "      <th>4</th>\n",
              "      <td>1-101296-A-19.wav</td>\n",
              "      <td>1</td>\n",
              "      <td>19</td>\n",
              "      <td>thunderstorm</td>\n",
              "      <td>False</td>\n",
              "      <td>101296</td>\n",
              "      <td>A</td>\n",
              "    </tr>\n",
              "    <tr>\n",
              "      <th>...</th>\n",
              "      <td>...</td>\n",
              "      <td>...</td>\n",
              "      <td>...</td>\n",
              "      <td>...</td>\n",
              "      <td>...</td>\n",
              "      <td>...</td>\n",
              "      <td>...</td>\n",
              "    </tr>\n",
              "    <tr>\n",
              "      <th>1995</th>\n",
              "      <td>5-263831-B-6.wav</td>\n",
              "      <td>5</td>\n",
              "      <td>6</td>\n",
              "      <td>hen</td>\n",
              "      <td>False</td>\n",
              "      <td>263831</td>\n",
              "      <td>B</td>\n",
              "    </tr>\n",
              "    <tr>\n",
              "      <th>1996</th>\n",
              "      <td>5-263902-A-36.wav</td>\n",
              "      <td>5</td>\n",
              "      <td>36</td>\n",
              "      <td>vacuum_cleaner</td>\n",
              "      <td>False</td>\n",
              "      <td>263902</td>\n",
              "      <td>A</td>\n",
              "    </tr>\n",
              "    <tr>\n",
              "      <th>1997</th>\n",
              "      <td>5-51149-A-25.wav</td>\n",
              "      <td>5</td>\n",
              "      <td>25</td>\n",
              "      <td>footsteps</td>\n",
              "      <td>False</td>\n",
              "      <td>51149</td>\n",
              "      <td>A</td>\n",
              "    </tr>\n",
              "    <tr>\n",
              "      <th>1998</th>\n",
              "      <td>5-61635-A-8.wav</td>\n",
              "      <td>5</td>\n",
              "      <td>8</td>\n",
              "      <td>sheep</td>\n",
              "      <td>False</td>\n",
              "      <td>61635</td>\n",
              "      <td>A</td>\n",
              "    </tr>\n",
              "    <tr>\n",
              "      <th>1999</th>\n",
              "      <td>5-9032-A-0.wav</td>\n",
              "      <td>5</td>\n",
              "      <td>0</td>\n",
              "      <td>dog</td>\n",
              "      <td>True</td>\n",
              "      <td>9032</td>\n",
              "      <td>A</td>\n",
              "    </tr>\n",
              "  </tbody>\n",
              "</table>\n",
              "<p>2000 rows × 7 columns</p>\n",
              "</div>"
            ],
            "text/plain": [
              "               filename  fold  target        category  esc10  src_file take\n",
              "0      1-100032-A-0.wav     1       0             dog   True    100032    A\n",
              "1     1-100038-A-14.wav     1      14  chirping_birds  False    100038    A\n",
              "2     1-100210-A-36.wav     1      36  vacuum_cleaner  False    100210    A\n",
              "3     1-100210-B-36.wav     1      36  vacuum_cleaner  False    100210    B\n",
              "4     1-101296-A-19.wav     1      19    thunderstorm  False    101296    A\n",
              "...                 ...   ...     ...             ...    ...       ...  ...\n",
              "1995   5-263831-B-6.wav     5       6             hen  False    263831    B\n",
              "1996  5-263902-A-36.wav     5      36  vacuum_cleaner  False    263902    A\n",
              "1997   5-51149-A-25.wav     5      25       footsteps  False     51149    A\n",
              "1998    5-61635-A-8.wav     5       8           sheep  False     61635    A\n",
              "1999     5-9032-A-0.wav     5       0             dog   True      9032    A\n",
              "\n",
              "[2000 rows x 7 columns]"
            ]
          },
          "metadata": {
            "tags": []
          },
          "execution_count": 7
        }
      ]
    },
    {
      "cell_type": "code",
      "metadata": {
        "colab": {
          "base_uri": "https://localhost:8080/",
          "height": 316
        },
        "id": "shU46DDMXQ6k",
        "outputId": "78b7f6f3-4353-4769-ec31-06c37dc3685b"
      },
      "source": [
        "class AudioLoader():\n",
        "    def __init__(self, df, root, format1=False):\n",
        "        self.df = df\n",
        "        self.root = root\n",
        "        self.format1 = format1\n",
        "\n",
        "    def __len__(self):\n",
        "        return len(self.df)\n",
        "\n",
        "    def __getitem__(self, idx):\n",
        "        _, this_audio = wavfile.read(os.path.join(self.root, self.df['filename'][idx]))\n",
        "        if self.format1:\n",
        "            this_audio = this_audio / 32768\n",
        "        return this_audio\n",
        "\n",
        "    def get_info(self, idx, list=False):\n",
        "        if list:\n",
        "            out = self.df.iloc[idx].to_list()\n",
        "        else:\n",
        "            out = self.df.iloc[idx]\n",
        "        return out\n",
        "\n",
        "\n",
        "audio_loader = AudioLoader(data_info, ROOT, True)\n",
        "ic(len(audio_loader))\n",
        "plt.plot(audio_loader[123])\n",
        "print(type(audio_loader.get_info(123)))\n",
        "print(audio_loader.get_info(123)['category'])"
      ],
      "execution_count": 8,
      "outputs": [
        {
          "output_type": "stream",
          "text": [
            "ic| len(audio_loader): 2000\n"
          ],
          "name": "stderr"
        },
        {
          "output_type": "stream",
          "text": [
            "<class 'pandas.core.series.Series'>\n",
            "washing_machine\n"
          ],
          "name": "stdout"
        },
        {
          "output_type": "display_data",
          "data": {
            "image/png": "[encoded data removed]",
            "text/plain": [
              "<Figure size 432x288 with 1 Axes>"
            ]
          },
          "metadata": {
            "tags": [],
            "needs_background": "light"
          }
        }
      ]
    },
    {
      "cell_type": "markdown",
      "metadata": {
        "id": "ZPgwQYk9rQcO"
      },
      "source": [
        "# Try first with very basic preprocessing and classification\n",
        "without kfold or slicing"
      ]
    },
    {
      "cell_type": "markdown",
      "metadata": {
        "id": "8XC0hT5PXgkR"
      },
      "source": [
        "Save numpy files on disk in and keep using only filenames"
      ]
    },
    {
      "cell_type": "markdown",
      "metadata": {
        "id": "71jBGkU8smlc"
      },
      "source": [
        "Augmentation"
      ]
    },
    {
      "cell_type": "code",
      "metadata": {
        "id": "jaF0GJapson8"
      },
      "source": [
        ""
      ],
      "execution_count": 8,
      "outputs": []
    },
    {
      "cell_type": "code",
      "metadata": {
        "id": "7s_NDQPBXmsI"
      },
      "source": [
        "# ! mkdir -p mel_storage\n",
        "# path_mel = \"/content/mel_storage/\"\n",
        "\n",
        "# ! mkdir -p mfcc_storage\n",
        "# path_mfcc = \"/content/mfcc_storage/\"\n",
        "\n",
        "# ! mkdir -p chroma_storage\n",
        "# path_chroma = \"/content/chroma_storage/\"\n",
        "\n",
        "# path_list = [path_mel, path_mfcc, path_chroma]\n",
        "\n",
        "!mkdir -p feature_storage\n",
        "path_batch = \"/content/feature_storage/\"\n",
        "\n",
        "path_drive = '/content/drive/MyDrive/UNI_ICT/HDA/data/' "
      ],
      "execution_count": 9,
      "outputs": []
    },
    {
      "cell_type": "code",
      "metadata": {
        "id": "KgCOIm5VajWL"
      },
      "source": [
        ""
      ],
      "execution_count": 9,
      "outputs": []
    },
    {
      "cell_type": "markdown",
      "metadata": {
        "id": "VDPVsPsKsdor"
      },
      "source": [
        "# Preprocessing functions"
      ]
    },
    {
      "cell_type": "markdown",
      "metadata": {
        "id": "WfUcbYBFutY6"
      },
      "source": [
        "remeber to apply augmentation and mixup only on the training samples, foldwise"
      ]
    },
    {
      "cell_type": "markdown",
      "metadata": {
        "id": "f0GyUX7BXKA5"
      },
      "source": [
        "## Removing silence"
      ]
    },
    {
      "cell_type": "markdown",
      "metadata": {
        "id": "4RFf0vvi9Jgq"
      },
      "source": [
        "removing silence at the beginning or at the end of the audio clip"
      ]
    },
    {
      "cell_type": "code",
      "metadata": {
        "id": "Hsfe-JDj9FZb"
      },
      "source": [
        "def removeSilence(signal, fill_silence=False):\n",
        "    \"\"\"\n",
        "    Remove the leading and trailing zeros in an array,\n",
        "    Parameters:\n",
        "        signal: array,\n",
        "        fill_silence: boolean, if True it repeats the non zero part until the \n",
        "            size of the output array is the same as the input array\n",
        "    Return:\n",
        "        an array\n",
        "\n",
        "    \"\"\"\n",
        "    \n",
        "    trimmed = np.trim_zeros(signal)\n",
        "    if not fill_silence:\n",
        "        return trimmed\n",
        "    if fill_silence:\n",
        "        lt = len(trimmed)\n",
        "        ls = len(signal)\n",
        "        # ic(lt,ls)\n",
        "        if lt < ls:\n",
        "          trimmed = np.tile(trimmed, int(np.ceil(ls/lt)))\n",
        "          trimmed = trimmed[:ls]  \n",
        "        return trimmed\n",
        "\n",
        "# ic(len(audio_list[0]))\n",
        "# a = removeSilence(audio_list[0], fill_silence=True)\n",
        "# librosa.display.waveplot(a, sr=SR)\n",
        "# ic(len(audio_list[0]))\n",
        "# ic(len(a))\n",
        "# # IPython.display.Audio(a, rate=sr)"
      ],
      "execution_count": 10,
      "outputs": []
    },
    {
      "cell_type": "markdown",
      "metadata": {
        "id": "fnwKDk_9XPhp"
      },
      "source": [
        "## Segmentation"
      ]
    },
    {
      "cell_type": "code",
      "metadata": {
        "id": "nNKi9PsAHyel"
      },
      "source": [
        "# OBSOLETE\n",
        "\n",
        "# def segmentation(y, seg_len, overlap=0, pad_end='off'):\n",
        "#     \"\"\" \n",
        "#     Returns a list of array with same size, extracted from a signal\n",
        "#     parameters: \n",
        "#         y: array, input signal\n",
        "#         seg_len: int, number of samples of the output segments\n",
        "#         overlap: int, number of samples overlapped between two segments\n",
        "#         pad_end: 'off': no padding,\n",
        "#                  'half': maximum padding is hald of seg_len,\n",
        "#                  'full': allows for the maximum number of segments. \n",
        "#     return:\n",
        "#         a list of arrays.\n",
        "#     \"\"\"\n",
        "#     y_len = len(y)\n",
        "#     # if seg_len > y_len or overlap > seg_len:        \n",
        "#     seg_begin = 0\n",
        "#     seg_end = seg_begin + seg_len\n",
        "#     seg_list = []\n",
        "    \n",
        "\n",
        "#     if pad_end == 'full':\n",
        "#         pad = np.zeros((seg_len - overlap,))\n",
        "#         print(np.shape(pad))\n",
        "#         y = np.concatenate((y, pad)) \n",
        "#         while seg_begin < y_len:\n",
        "#             seg_end = seg_begin + seg_len\n",
        "#             seg_list.append(y[seg_begin:seg_end])\n",
        "#             seg_begin = seg_begin + seg_len - overlap\n",
        "\n",
        "#     if pad_end == 'off':\n",
        "#         while seg_end < y_len:\n",
        "#             seg_end = seg_begin + seg_len\n",
        "#             seg_list.append(y[seg_begin:seg_end])\n",
        "#             seg_begin = seg_begin + seg_len - overlap\n",
        "    \n",
        "#     if pad_end == 'half':\n",
        "#         pad = np.zeros((int(seg_len/2),))\n",
        "#         print(np.shape(pad))\n",
        "#         y = np.concatenate((y, pad)) \n",
        "#         while seg_begin + seg_len < len(y):\n",
        "#             seg_end = seg_begin + seg_len\n",
        "#             seg_list.append(y[seg_begin:seg_end])\n",
        "#             seg_begin = seg_begin + seg_len - overlap\n",
        "#     #TODO more options on padding\n",
        "\n",
        "#     return seg_list\n",
        "\n",
        "\n",
        "# out = segmentation(0.5*np.ones((12,)), 5, 0, pad_end='half')\n",
        "# # print(np.shape(out))\n",
        "# print(out)\n",
        "# print(a)\n"
      ],
      "execution_count": 11,
      "outputs": []
    },
    {
      "cell_type": "markdown",
      "metadata": {
        "id": "BasNEAgvXW7b"
      },
      "source": [
        "## compute spectral features"
      ]
    },
    {
      "cell_type": "code",
      "metadata": {
        "id": "MKxNAlgFEylz"
      },
      "source": [
        "def features(audio, sr, bands=64):\n",
        "    def normalize01(data):\n",
        "        return (data - np.min(data)) / (np.max(data) - np.min(data))\n",
        "\n",
        "    this_mel = librosa.amplitude_to_db(librosa.feature.melspectrogram(audio.astype('float32'), sr=sr, hop_length=int(sr*0.01), n_mels=bands ))\n",
        "    this_mfcc = librosa.feature.mfcc(S=this_mel, sr=sr, n_mfcc=bands)\n",
        "    this_chroma = librosa.feature.chroma_stft(audio.astype('float32'), sr=sr, hop_length=int(sr*0.01), n_chroma=bands)\n",
        "    features = [normalize01(this_mel), normalize01(this_mfcc), normalize01(this_chroma)]\n",
        "    return features"
      ],
      "execution_count": null,
      "outputs": []
    },
    {
      "cell_type": "code",
      "metadata": {
        "colab": {
          "base_uri": "https://localhost:8080/",
          "height": 807
        },
        "id": "drMHKn2jKlMB",
        "outputId": "1d86ee11-4e87-406c-bbe2-31d8346dd4d5"
      },
      "source": [
        "def features2(audio, sr, bands=64,):\n",
        "    def normalize01(data):\n",
        "        return (data - np.min(data)) / (np.max(data) - np.min(data))\n",
        "\n",
        "    def standardize(data):\n",
        "        return (data - np.mean(data))/np.std(data)\n",
        "\n",
        "    diff = 32\n",
        "    this_mel = librosa.amplitude_to_db(librosa.feature.melspectrogram(audio.astype('float32'), sr=sr, hop_length=int(sr*0.01), n_mels=64 ))\n",
        "    this_mel = standardize(this_mel)\n",
        "    # mel_diff = np.concatenate((np.diff(this_mel[:diff,:], n=1, axis=1), np.zeros((diff,1))), axis=1)\n",
        "    # this_mel = np.concatenate((this_mel, mel_diff), axis=0)\n",
        "\n",
        "    this_diff_mel = np.concatenate((np.diff(this_mel, n=1, axis=1), np.zeros((this_mel.shape[0],1))), axis=1)\n",
        "    this_diff_mel = standardize(this_diff_mel)\n",
        "\n",
        "    # this_cont = librosa.feature.spectral_contrast(y=audio, sr=sr, hop_length=int(sr*0.01), n_bands=8, fmin=100)\n",
        "    # this_cont = standardize(this_cont)\n",
        "    \n",
        "    # this_flat =  librosa.amplitude_to_db(librosa.feature.spectral_flatness(y=audio, hop_length=int(sr*0.01)))\n",
        "    # this_flat = standardize(this_flat)\n",
        "\n",
        "    # this_rms = librosa.feature.rms(audio, hop_length=int(sr*0.01))\n",
        "    # this_rms = standardize(this_rms)\n",
        "\n",
        "    # this_multifeature = np.concatenate((this_cont, this_flat, this_zero, this_width, this_rms))\n",
        "    # multifeature_diff1 = np.concatenate((np.diff(this_multifeature, n=1, axis=1), np.zeros((this_multifeature.shape[0],1))), axis=1)\n",
        "    # multifeature_diff2 = np.concatenate((np.diff(multifeature_diff1, n=1, axis=1), np.zeros((multifeature_diff1.shape[0],1))), axis=1)\n",
        "    # this_multifeature = np.concatenate((this_multifeature, multifeature_diff1, multifeature_diff2), axis=0)\n",
        "    # # ic(np.shape(this_multifeature))\n",
        "    # this_multifeature = np.concatenate((this_multifeature, np.zeros((64-39, this_multifeature.shape[1]))))\n",
        "    # # ic(np.shape(this_multifeature))\n",
        "\n",
        "    this_mfcc = librosa.feature.mfcc(S=this_mel, sr=sr, n_mfcc=64)\n",
        "    this_mfcc = standardize(this_mfcc)\n",
        "    # mfcc_diff = np.concatenate((np.diff(this_mfcc[:diff,:], n=1, axis=1), np.zeros((diff,1))), axis=1)\n",
        "    # this_mfcc = np.concatenate((this_mfcc, mfcc_diff), axis=0)\n",
        "\n",
        "    # this_chroma = librosa.feature.chroma_stft(audio.astype('float32'), sr=sr, hop_length=int(sr*0.01), n_chroma=bands)\n",
        "    # this_chroma = scipy.fftpack.dct(this_chroma)\n",
        "    # this_chroma = standardize(this_chroma)\n",
        "    # chroma_diff = np.concatenate((np.diff(this_chroma[:diff,:], n=1, axis=1), np.zeros((diff,1))), axis=1)\n",
        "    # this_chroma = np.concatenate((this_chroma, chroma_diff), axis=0)\n",
        "\n",
        "    features = [normalize01(this_mel), normalize01(this_diff_mel), normalize01(this_mfcc)]\n",
        "    return features\n",
        "\n",
        "\n",
        "feat = features2(audio_loader[0], sr)\n",
        "ic(np.shape(feat))\n",
        "\n",
        "plt.figure()\n",
        "plt.imshow(feat[0], interpolation='nearest', aspect='auto')\n",
        "plt.colorbar()\n",
        "\n",
        "plt.figure()\n",
        "plt.imshow(feat[1], interpolation='nearest', aspect='auto')\n",
        "plt.colorbar()\n",
        "\n",
        "plt.figure()\n",
        "plt.imshow(feat[2], interpolation='nearest', aspect='auto')\n",
        "plt.colorbar()"
      ],
      "execution_count": 12,
      "outputs": [
        {
          "output_type": "stream",
          "text": [
            "ic| np.shape(feat): (3, 64, 501)\n"
          ],
          "name": "stderr"
        },
        {
          "output_type": "execute_result",
          "data": {
            "text/plain": [
              "<matplotlib.colorbar.Colorbar at 0x7f0a886f0d10>"
            ]
          },
          "metadata": {
            "tags": []
          },
          "execution_count": 12
        },
        {
          "output_type": "display_data",
          "data": {
            "image/png": "[encoded data removed]",
            "text/plain": [
              "<Figure size 432x288 with 2 Axes>"
            ]
          },
          "metadata": {
            "tags": [],
            "needs_background": "light"
          }
        },
        {
          "output_type": "display_data",
          "data": {
            "image/png": "[encoded data removed]",
            "text/plain": [
              "<Figure size 432x288 with 2 Axes>"
            ]
          },
          "metadata": {
            "tags": [],
            "needs_background": "light"
          }
        },
        {
          "output_type": "display_data",
          "data": {
            "image/png": "[encoded data removed]",
            "text/plain": [
              "<Figure size 432x288 with 2 Axes>"
            ]
          },
          "metadata": {
            "tags": [],
            "needs_background": "light"
          }
        }
      ]
    },
    {
      "cell_type": "markdown",
      "metadata": {
        "id": "KUyEaNI5XbM5"
      },
      "source": [
        "## Mixup"
      ]
    },
    {
      "cell_type": "markdown",
      "metadata": {
        "id": "6EV4rhWns9LM"
      },
      "source": [
        "Three in one feature extraction function"
      ]
    },
    {
      "cell_type": "code",
      "metadata": {
        "id": "63df07BhtCQE"
      },
      "source": [
        "#write doc for those functions\n",
        "\n",
        "def audio_aug2(y, sr=44100, low_ps=-3.5, high_ps=3.5, low_ts=0.8, high_ts=1):\n",
        "    '''It return a signal with random pitch shift ot time strecth '''\n",
        "\n",
        "    choice = int(np.random.randint(2))\n",
        "    if choice == 0:\n",
        "        step = np.random.uniform(low=low_ps, high=high_ps)\n",
        "        ya = librosa.effects.pitch_shift(y, sr=sr, n_steps=step)\n",
        "    elif choice == 1:\n",
        "        rate = np.random.uniform(low=low_ts, high=high_ts)\n",
        "        ya = librosa.effects.time_stretch(y, rate)\n",
        "\n",
        "    ya = ya[:y.shape[0]]\n",
        "    return ya\n",
        "\n",
        "def features_preprocessor(audio_loader, path, df, augmentation=0):\n",
        "    # mel_names = []\n",
        "    # mfcc_names = []\n",
        "    # chroma_names = []\n",
        "    # data_info_aug = data_info.copy()\n",
        "    # pd_counter = 0\n",
        "\n",
        "\n",
        "    if augmentation==0:\n",
        "        for i in notebook.tqdm(range(len(audio_loader))):\n",
        "            this_audio = audio_loader[i][:sr*5]\n",
        "            this_audio = removeSilence(this_audio, fill_silence=True)\n",
        "            these_features = features2(this_audio, sr)\n",
        "            pack = np.array([these_features, audio_loader.get_info(i)['fold'], audio_loader.get_info(i)['target']], dtype= 'object')\n",
        "            np.save(os.path.join(path, audio_loader.get_info(i)['filename']+'_0'), pack)\n",
        "\n",
        "    if augmentation > 0:\n",
        "        # TODO!!\n",
        "        for i in notebook.tqdm(range(len(audio_loader))):\n",
        "            this_audio = audio_loader[i][:sr*5]\n",
        "            this_audio = removeSilence(this_audio, fill_silence=True)\n",
        "            for aug in range(augmentation):\n",
        "                \n",
        "                if aug == 0:\n",
        "                    these_features = features2(this_audio, sr)\n",
        "                    pack = np.array([these_features, audio_loader.get_info(i)['fold'], audio_loader.get_info(i)['target']], dtype='object')\n",
        "                    np.save(os.path.join(path, audio_loader.get_info(i)['filename']+'_0'), pack)\n",
        "                else:\n",
        "                    this_audio = audio_aug2(this_audio, sr=sr)\n",
        "                    these_features = features2(this_audio, sr)\n",
        "                    pack = np.array([these_features, audio_loader.get_info(i)['fold'], audio_loader.get_info(i)['target']], dtype='object')\n",
        "                    np.save(os.path.join(path, audio_loader.get_info(i)['filename']+'_'+str(aug)), pack)\n",
        "\n",
        "\n",
        "        "
      ],
      "execution_count": 13,
      "outputs": []
    },
    {
      "cell_type": "markdown",
      "metadata": {
        "id": "2NwMQaMTls-Y"
      },
      "source": [
        ""
      ]
    },
    {
      "cell_type": "code",
      "metadata": {
        "colab": {
          "base_uri": "https://localhost:8080/",
          "height": 83,
          "referenced_widgets": [
            "d95d4f727b844d4db8c749c49bb13cdc",
            "7f9eafeb0e584f48875d97be97dbc865",
            "33075b0c4703441b88a49fd149bb77a1",
            "becc0d86fb8f46f098f53a6d912c3c05",
            "1da232b9e71c44daae579a7a905f03fc",
            "51dd0f3e6e2f4d5d9432b492432f58dc",
            "dcb90340de5a4c4c91101cbcaf100811",
            "a05512e0e35049e98546ce9ece8995fe"
          ]
        },
        "id": "Vs889VeYx96U",
        "outputId": "12e8049f-d37c-4738-9e00-661fc95aafa9"
      },
      "source": [
        "# NB need to do augmentation only in the training files!!!\n",
        "# TODO save the numpy with 3 features together with its info\n",
        "# so you can load a file having all the info, and no mismatch errors\n",
        "# then save everything on drive and load from there\n",
        "\n",
        "# mel_names, data_info_aug = features_preprocessor(audio_list, path_list, data_info, augmentation=0)\n",
        "ic(ROOT)\n",
        "audio_loader = AudioLoader(data_info, ROOT, format1=True)\n",
        "features_preprocessor(audio_loader, path_batch, data_info, augmentation=0)"
      ],
      "execution_count": 14,
      "outputs": [
        {
          "output_type": "stream",
          "text": [
            "ic| ROOT: '/content/ESC-50/audio/'\n"
          ],
          "name": "stderr"
        },
        {
          "output_type": "display_data",
          "data": {
            "application/vnd.jupyter.widget-view+json": {
              "model_id": "d95d4f727b844d4db8c749c49bb13cdc",
              "version_minor": 0,
              "version_major": 2
            },
            "text/plain": [
              "HBox(children=(FloatProgress(value=0.0, max=2000.0), HTML(value='')))"
            ]
          },
          "metadata": {
            "tags": []
          }
        },
        {
          "output_type": "stream",
          "text": [
            "\n"
          ],
          "name": "stdout"
        }
      ]
    },
    {
      "cell_type": "code",
      "metadata": {
        "colab": {
          "base_uri": "https://localhost:8080/"
        },
        "id": "-uiDQhgq-2TA",
        "outputId": "dbc0c6e9-c34c-4b7a-9e3e-8a31081a8025"
      },
      "source": [
        "\n",
        "listdir = os.listdir(path_batch)\n",
        "asd = np.load(os.path.join(path_batch, listdir[0]), allow_pickle=True)\n",
        "ic(np.shape(asd[0]))\n",
        "\n",
        "# lol = features_preprocessor(audio_loader[0], path_batch, data_info)"
      ],
      "execution_count": null,
      "outputs": [
        {
          "output_type": "stream",
          "text": [
            "ic| np.shape(asd[0]): (3, 64, 501)\n"
          ],
          "name": "stderr"
        },
        {
          "output_type": "execute_result",
          "data": {
            "text/plain": [
              "(3, 64, 501)"
            ]
          },
          "metadata": {
            "tags": []
          },
          "execution_count": 156
        }
      ]
    },
    {
      "cell_type": "markdown",
      "metadata": {
        "id": "TXjXV7VhB_YD"
      },
      "source": [
        "test with reading feature packs"
      ]
    },
    {
      "cell_type": "code",
      "metadata": {
        "id": "grc9d9GDC7Eg"
      },
      "source": [
        "# this_pack = np.load(os.path.join(path_batch, this_fold_names[20]), allow_pickle=True)\n",
        "# this_feat = np.transpose(this_pack[0], [2,1,0])\n",
        "# print(category_dict[this_pack[1]])\n",
        "\n",
        "# ic(np.shape(this_feat))\n",
        "# plt.figure()\n",
        "# plt.imshow(this_feat, interpolation='nearest', aspect='auto')\n",
        "\n",
        "# plt.figure(figsize=(12,6))\n",
        "# plt.subplot(1,3,1)\n",
        "# plt.imshow(this_feat[:,:,0], interpolation='nearest', aspect='auto')\n",
        "# plt.subplot(1,3,2)\n",
        "# plt.imshow(this_feat[:,:,1], interpolation='nearest', aspect='auto')\n",
        "# plt.subplot(1,3,3)\n",
        "# plt.imshow(this_feat[:,:,2], interpolation='nearest', aspect='auto')"
      ],
      "execution_count": 15,
      "outputs": []
    },
    {
      "cell_type": "markdown",
      "metadata": {
        "id": "copCbfTtOn4u"
      },
      "source": [
        "make Sequence class"
      ]
    },
    {
      "cell_type": "code",
      "metadata": {
        "id": "VgEow3SjG4Mi"
      },
      "source": [
        "def to_onehot(y, classes=50):\n",
        "    y_oh = np.zeros((classes, 1))\n",
        "    y_oh[y] = 1\n",
        "    return y_oh\n",
        "\n",
        "def mixup(x1, x2, y1, y2, alpha):\n",
        "    l = l = np.random.beta(alpha, alpha)\n",
        "    x_mix = l*x1 + (1-l)*x2\n",
        "    y_mix = l*y1 + (1-l)*y2\n",
        "    return x_mix, y_mix\n",
        "\n",
        "class FeatureSequence(Sequence):\n",
        "    def __init__(self, names, path, batch_size, crop=-1, with_mixup=False):\n",
        "        self.names = names\n",
        "        self.batch_size = batch_size\n",
        "        self.path = path\n",
        "        self.crop = crop\n",
        "        self.with_mixup = with_mixup\n",
        "        self.epoch = 0\n",
        "        self.alpha = 0.001\n",
        "\n",
        "    def __len__(self):\n",
        "        return int(np.floor(len(self.names) / self.batch_size))\n",
        "\n",
        "    def on_epoch_end(self):\n",
        "        self.epoch += 1\n",
        "        if self.alpha < 0.1:\n",
        "            self.alpha += 0.1/30\n",
        "\n",
        "    def __getitem__(self, idx):\n",
        "        batch_names = self.names[idx*self.batch_size:(idx + 1)*self.batch_size]\n",
        "\n",
        "        batch_feat = []\n",
        "        batch_target = []\n",
        "        for name in batch_names:\n",
        "            this_pack = np.load(os.path.join(self.path, name), allow_pickle=True)\n",
        "            # NB fix the axes order from the preprocessor\n",
        "            this_feat = this_pack[0]\n",
        "            this_feat = np.transpose(this_feat, [2,1,0])\n",
        "            this_target = to_onehot(this_pack[2])\n",
        "\n",
        "            if self.with_mixup and np.random.uniform(0,1)>0.5:\n",
        "                rand_name = np.random.randint(0, len(self.names))\n",
        "                this_pack2 = np.load(os.path.join(self.path, self.names[rand_name]), allow_pickle=True)\n",
        "                this_feat2 = this_pack2[0]\n",
        "                this_feat2 = np.transpose(this_feat2, [2,1,0])\n",
        "                this_target2 = to_onehot(this_pack[2])\n",
        "                this_feat, this_target = mixup(this_feat, this_feat2, this_target, this_target2, self.alpha)\n",
        "\n",
        "            if self.crop > 0:\n",
        "                start = np.random.randint(0, this_feat.shape[0]-self.crop)\n",
        "                this_feat = this_feat[start:start+self.crop]\n",
        "\n",
        "            batch_feat.append(this_feat)\n",
        "            batch_target.append(this_target)\n",
        "        batch_feat = np.array(batch_feat)\n",
        "        batch_target = np.array(batch_target)\n",
        "\n",
        "        return (batch_feat, batch_target)\n",
        "\n",
        "\n",
        "#test\n",
        "# batch_size = 5\n",
        "# fold = 2\n",
        "# this_fold_names = [x for x in feat_names if x[0]==str(fold) and x.endswith('0.npy')]\n",
        "# feature_sequence = FeatureSequence(this_fold_names, path_batch, batch_size, with_mixup=True)\n",
        "# ic(np.shape(feature_sequence[22][0]))\n",
        "# ic(type(feature_sequence[0][0]))\n",
        "# ic(np.shape(feature_sequence[0][1]))\n",
        "# ic(type(feature_sequence[13]))"
      ],
      "execution_count": 17,
      "outputs": []
    },
    {
      "cell_type": "markdown",
      "metadata": {
        "id": "oQvcUzFGmYV4"
      },
      "source": [
        "# Model classes"
      ]
    },
    {
      "cell_type": "markdown",
      "metadata": {
        "id": "2gnfro7Weumh"
      },
      "source": [
        "Fine tune MobileNetV2"
      ]
    },
    {
      "cell_type": "code",
      "metadata": {
        "id": "FBDrRn0Sexi9",
        "colab": {
          "base_uri": "https://localhost:8080/"
        },
        "outputId": "c28d4456-c181-482f-a32e-171d5e156fbb"
      },
      "source": [
        "# careful with shapes is changing data\n",
        "input_shape = (256,64,3)\n",
        "base_model = MobileNetV2(input_shape=input_shape,\n",
        "                        input_tensor=None,                        \n",
        "                        include_top=False, \n",
        "                        weights='imagenet'\n",
        "                        )\n",
        "base_model.trainable = False\n",
        "# base_model.summary()\n",
        "\n",
        "#define model\n",
        "model = tf.keras.Sequential()\n",
        "# model.add(tf.keras.layers.Conv2D(3, kernel_size=(9,9), padding='same', activation='relu', input_shape=input_shape))\n",
        "model.add(tf.keras.layers.BatchNormalization())\n",
        "# model.add(tf.keras.layers.Conv2D(3, kernel_size=(3,3), padding='same', activation='relu',))\n",
        "model.add(tf.keras.layers.BatchNormalization())\n",
        "model.add(base_model)\n",
        "model.add(tf.keras.layers.GlobalAveragePooling2D())\n",
        "model.add(tf.keras.layers.BatchNormalization())\n",
        "\n",
        "#TODO conv1D here\n",
        "model.add(tf.keras.layers.Dense(50, activation='relu', kernel_regularizer='l2'))\n",
        "# model.add(tf.keras.layers.Dropout(0.2))\n",
        "model.add(tf.keras.layers.BatchNormalization())\n",
        "# model.add(tf.keras.layers.Dense(100, activation='relu'))\n",
        "# model.add(tf.keras.layers.Dropout(0.2))\n",
        "model.add(tf.keras.layers.Dense(50, activation='softmax', kernel_regularizer='l2'))\n",
        "#compile model\n",
        "model.compile(optimizer=tf.keras.optimizers.Adam(lr=0.001), \n",
        "    #   loss = tf.keras.losses.sparse_categorical_crossentropy,\n",
        "      loss = tf.keras.losses.categorical_crossentropy, \n",
        "      metrics=['accuracy'])\n",
        "# print(model.summary())"
      ],
      "execution_count": 18,
      "outputs": [
        {
          "output_type": "stream",
          "text": [
            "WARNING:tensorflow:`input_shape` is undefined or non-square, or `rows` is not in [96, 128, 160, 192, 224]. Weights for input shape (224, 224) will be loaded as the default.\n",
            "Downloading data from https://storage.googleapis.com/tensorflow/keras-applications/mobilenet_v2/mobilenet_v2_weights_tf_dim_ordering_tf_kernels_1.0_224_no_top.h5\n",
            "9412608/9406464 [==============================] - 0s 0us/step\n"
          ],
          "name": "stdout"
        }
      ]
    },
    {
      "cell_type": "code",
      "metadata": {
        "id": "v8U9-zRJPbwG"
      },
      "source": [
        "input_shape = (180,64,3)\n",
        "base_model = MobileNetV2(input_shape=input_shape,\n",
        "                        input_tensor=None,                        \n",
        "                        include_top=False, \n",
        "                        weights='imagenet'\n",
        "                        )\n",
        "base_model.trainable = False"
      ],
      "execution_count": null,
      "outputs": []
    },
    {
      "cell_type": "markdown",
      "metadata": {
        "id": "8KfvmEIgfu8P"
      },
      "source": [
        "training\n"
      ]
    },
    {
      "cell_type": "code",
      "metadata": {
        "id": "28ixaDjtfv2f",
        "colab": {
          "base_uri": "https://localhost:8080/"
        },
        "outputId": "6700bbcd-181d-4d76-cc07-0e4d6fceed31"
      },
      "source": [
        "SOURCE = path_batch\n",
        "\n",
        "batch_size = 50\n",
        "epochs = 100\n",
        "\n",
        "fold = 2\n",
        "# feat_names  = os.listdir(path_drive)\n",
        "feat_names  = os.listdir(SOURCE)\n",
        "ic(len(feat_names))\n",
        "\n",
        "# not using augmentated samples here\n",
        "# val_names = [x for x in feat_names if x[0]==str(fold) and x.endswith('0.npy')]\n",
        "# train_names = [x for x in feat_names if x[0]!=str(fold) and x.endswith('0.npy') or x.endswith('1.npy')]\n",
        "\n",
        "val_names = [x for x in feat_names if x[0]==str(fold) and x.endswith('0.npy')]\n",
        "train_names = [x for x in feat_names if x[0]!=str(fold)]\n",
        "\n",
        "\n",
        "train_dataloader = FeatureSequence(train_names, SOURCE, batch_size, crop=256, with_mixup=True)\n",
        "val_dataloader = FeatureSequence(val_names, SOURCE, batch_size, crop=256)\n",
        "\n",
        "ic(len(train_dataloader))\n",
        "ic(len(val_dataloader))\n",
        "\n",
        "# TODO need to fine tune this\n",
        "reduce_lr = tf.keras.callbacks.ReduceLROnPlateau(monitor='val_loss', factor=0.2,\n",
        "                              patience=3, min_lr=0.0001)"
      ],
      "execution_count": 19,
      "outputs": [
        {
          "output_type": "stream",
          "text": [
            "ic| len(feat_names): 2000\n",
            "ic| len(train_dataloader): 32\n",
            "ic| len(val_dataloader): 8\n"
          ],
          "name": "stderr"
        }
      ]
    },
    {
      "cell_type": "code",
      "metadata": {
        "colab": {
          "base_uri": "https://localhost:8080/"
        },
        "id": "HQA2Qt1e1pbZ",
        "outputId": "d5df7c29-bd14-42d0-c8a6-1530e8f911fe"
      },
      "source": [
        "ic(train_dataloader[0][0].shape)\n",
        "ic(val_dataloader[0][0].shape)"
      ],
      "execution_count": null,
      "outputs": [
        {
          "output_type": "stream",
          "text": [
            "ic| train_dataloader[0][0].shape: (50, 256, 64, 3)\n",
            "ic| val_dataloader[0][0].shape: (50, 256, 64, 3)\n"
          ],
          "name": "stderr"
        },
        {
          "output_type": "execute_result",
          "data": {
            "text/plain": [
              "(50, 256, 64, 3)"
            ]
          },
          "metadata": {
            "tags": []
          },
          "execution_count": 90
        }
      ]
    },
    {
      "cell_type": "code",
      "metadata": {
        "id": "gp36riTlf675",
        "colab": {
          "base_uri": "https://localhost:8080/",
          "height": 687
        },
        "outputId": "1c6acc76-ceae-4caf-8849-ff2bc4bf9929"
      },
      "source": [
        "#fit the model\n",
        "history = model.fit(train_dataloader, \n",
        "                    # steps_per_epoch=int(len(train_dataloader)//batch_size),\n",
        "                    epochs=epochs,\n",
        "                    callbacks=[PlotLossesKeras(), \n",
        "                               reduce_lr],\n",
        "                    validation_data = val_dataloader,\n",
        "                    # validation_steps=int(len(val_dataloader)//batch_size),\n",
        "                    )"
      ],
      "execution_count": 20,
      "outputs": [
        {
          "output_type": "display_data",
          "data": {
            "image/png": "[encoded data removed]",
            "text/plain": [
              "<Figure size 864x576 with 2 Axes>"
            ]
          },
          "metadata": {
            "tags": [],
            "needs_background": "light"
          }
        },
        {
          "output_type": "stream",
          "text": [
            "accuracy\n",
            "\ttraining         \t (min:    0.101, max:    0.733, cur:    0.723)\n",
            "\tvalidation       \t (min:    0.068, max:    0.580, cur:    0.538)\n",
            "Loss\n",
            "\ttraining         \t (min:    2.089, max:    5.218, cur:    2.105)\n",
            "\tvalidation       \t (min:    2.228, max:    5.011, cur:    2.282)\n"
          ],
          "name": "stdout"
        }
      ]
    },
    {
      "cell_type": "code",
      "metadata": {
        "id": "j_VvGNYYkLzB",
        "colab": {
          "base_uri": "https://localhost:8080/",
          "height": 523
        },
        "outputId": "873f5472-cef1-49fe-e5e2-b8f84303855d"
      },
      "source": [
        "#get results\n",
        "acc = history.history['accuracy']\n",
        "val_acc = history.history['val_accuracy']\n",
        "loss = history.history['loss']\n",
        "val_loss = history.history['val_loss']\n",
        "\n",
        "#plot results\n",
        "#accuracy\n",
        "plt.figure(figsize=(8, 8))\n",
        "plt.rcParams['figure.figsize'] = [16, 9]\n",
        "plt.rcParams['font.size'] = 14\n",
        "plt.rcParams['axes.grid'] = True\n",
        "plt.rcParams['figure.facecolor'] = 'white'\n",
        "plt.subplot(2, 1, 1)\n",
        "plt.plot(acc, label='Training Accuracy')\n",
        "plt.plot(val_acc, label='Validation Accuracy')\n",
        "plt.legend(loc='lower right')\n",
        "plt.ylabel('Accuracy')\n",
        "plt.title(f'MobileNetV2 \\nTraining and Validation Accuracy. \\nTrain Accuracy: {str(round(acc[-1],3))}\\nValidation Accuracy: {str(round(val_acc[-1],3))}')\n",
        "\n",
        "#loss\n",
        "plt.subplot(2, 1, 2)\n",
        "plt.plot(loss, label='Training Loss')\n",
        "plt.plot(val_loss, label='Validation Loss')\n",
        "plt.legend(loc='upper right')\n",
        "plt.ylabel('Cross Entropy')\n",
        "plt.title(f'Training and Validation Loss. \\nTrain Loss: {str(round(loss[-1],3))}\\nValidation Loss: {str(round(val_loss[-1],3))}')\n",
        "plt.xlabel('epoch')\n",
        "plt.tight_layout(pad=3.0)\n",
        "plt.show()"
      ],
      "execution_count": null,
      "outputs": [
        {
          "output_type": "display_data",
          "data": {
            "image/png": "[encoded data removed]",
            "text/plain": [
              "<Figure size 576x576 with 2 Axes>"
            ]
          },
          "metadata": {
            "tags": []
          }
        }
      ]
    },
    {
      "cell_type": "markdown",
      "metadata": {
        "id": "SH_VOqwhzCHx"
      },
      "source": [
        ""
      ]
    }
  ]
}